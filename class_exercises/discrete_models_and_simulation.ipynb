{
  "cells": [
    {
      "cell_type": "code",
      "execution_count": 1,
      "metadata": {
        "id": "IO5pVWIhEkbO"
      },
      "outputs": [],
      "source": [
        "import numpy as np\n",
        "import pandas as pd\n",
        "import statsmodels.api as sm\n",
        "import matplotlib.pyplot as plt\n",
        "%config InlineBackend.figure_forgmat = \"svg\"\n",
        "#from pymc3 import *"
      ]
    },
    {
      "cell_type": "markdown",
      "metadata": {
        "id": "C7LblONxoAUn"
      },
      "source": [
        "# Python basics"
      ]
    },
    {
      "cell_type": "markdown",
      "metadata": {
        "id": "F6JlQMfUd-kY"
      },
      "source": [
        "## Arrays"
      ]
    },
    {
      "cell_type": "code",
      "execution_count": 2,
      "metadata": {
        "colab": {
          "base_uri": "https://localhost:8080/"
        },
        "id": "XfX4rkrwEoQx",
        "outputId": "95fce283-1933-40e3-d853-055cf0f247b4"
      },
      "outputs": [
        {
          "name": "stdout",
          "output_type": "stream",
          "text": [
            "[1, 2.0, 3.0, 3, 4]\n"
          ]
        },
        {
          "data": {
            "text/plain": [
              "[1, 2.0, 3.0, 3, 4, 5]"
            ]
          },
          "execution_count": 2,
          "metadata": {},
          "output_type": "execute_result"
        }
      ],
      "source": [
        "a = [1,2.0,3.0,3,4]\n",
        "print(a)\n",
        "a.append(5)\n",
        "a"
      ]
    },
    {
      "cell_type": "code",
      "execution_count": 3,
      "metadata": {
        "colab": {
          "base_uri": "https://localhost:8080/"
        },
        "id": "ctM8wHlMcADZ",
        "outputId": "6002ea79-6bf9-45aa-e83b-6315d575de94"
      },
      "outputs": [
        {
          "data": {
            "text/plain": [
              "[0, 1, 2, 3, 4, 5, 6, 7, 8, 9]"
            ]
          },
          "execution_count": 3,
          "metadata": {},
          "output_type": "execute_result"
        }
      ],
      "source": [
        "list(range(10))"
      ]
    },
    {
      "cell_type": "code",
      "execution_count": 4,
      "metadata": {
        "colab": {
          "base_uri": "https://localhost:8080/"
        },
        "id": "WO0kiTOpDUTW",
        "outputId": "d6d4ebfe-7ecb-4238-8a98-e154c1041059"
      },
      "outputs": [
        {
          "data": {
            "text/plain": [
              "[1, 2.0, 3.0]"
            ]
          },
          "execution_count": 4,
          "metadata": {},
          "output_type": "execute_result"
        }
      ],
      "source": [
        "a[0:3]"
      ]
    },
    {
      "cell_type": "code",
      "execution_count": 5,
      "metadata": {
        "colab": {
          "base_uri": "https://localhost:8080/"
        },
        "id": "111G7rEjoh2M",
        "outputId": "86f5fd6f-7e1a-4e58-9506-12c78477d42c"
      },
      "outputs": [
        {
          "name": "stdout",
          "output_type": "stream",
          "text": [
            "[1, 2, 3, 5]\n",
            "3\n",
            "[1, 2]\n"
          ]
        },
        {
          "data": {
            "text/plain": [
              "[1, 2, 3, 4]"
            ]
          },
          "execution_count": 5,
          "metadata": {},
          "output_type": "execute_result"
        }
      ],
      "source": [
        "# here are some things it will be helpful to know how to do\n",
        "# make an empty python list\n",
        "a = [1,2,3]\n",
        "\n",
        "# append something to the array\n",
        "a.append(5)\n",
        "print(a)\n",
        "# index an array\n",
        "print(a[2])\n",
        "print(a[0:2])\n",
        "\n",
        "# easy way to make an array\n",
        "range(0,5)\n",
        "\n",
        "[1,2,3,4]"
      ]
    },
    {
      "cell_type": "code",
      "execution_count": 6,
      "metadata": {
        "colab": {
          "base_uri": "https://localhost:8080/"
        },
        "id": "lfUWDwH92QqQ",
        "outputId": "3d5b1a93-e1f8-4c9d-a576-65ff274b23c3"
      },
      "outputs": [
        {
          "name": "stdout",
          "output_type": "stream",
          "text": [
            "[6 5 5]\n"
          ]
        },
        {
          "data": {
            "text/plain": [
              "[1, 2, 3, 5, 3, 2]"
            ]
          },
          "execution_count": 6,
          "metadata": {},
          "output_type": "execute_result"
        }
      ],
      "source": [
        "# we can use numpy to make an array\n",
        "a = np.zeros(5)\n",
        "a = np.array([0,0,0,0,0])\n",
        "# advantage of numpy arrays:\n",
        "a = np.array([1,2,3])\n",
        "b = np.array([5,3,2])\n",
        "print(a + b)\n",
        "# compare to\n",
        "[1,2,3] + [5,3,2]"
      ]
    },
    {
      "cell_type": "code",
      "execution_count": 7,
      "metadata": {
        "colab": {
          "base_uri": "https://localhost:8080/"
        },
        "id": "6fObBccVsEhZ",
        "outputId": "1cc1ded8-05b8-45cb-d6b6-b880a5c780a0"
      },
      "outputs": [
        {
          "data": {
            "text/plain": [
              "array([1. , 1.5, 2. , 2.5, 3. ])"
            ]
          },
          "execution_count": 7,
          "metadata": {},
          "output_type": "execute_result"
        }
      ],
      "source": [
        "# can make list with linspace\n",
        "a = np.linspace(1,3,5)\n",
        "a"
      ]
    },
    {
      "cell_type": "code",
      "execution_count": 8,
      "metadata": {
        "colab": {
          "base_uri": "https://localhost:8080/"
        },
        "id": "TH4ZGO-neiCB",
        "outputId": "618faf8f-a8eb-4966-944d-85829e4d99f3"
      },
      "outputs": [
        {
          "data": {
            "text/plain": [
              "array([1.5, 2. , 2.5, 3. ])"
            ]
          },
          "execution_count": 8,
          "metadata": {},
          "output_type": "execute_result"
        }
      ],
      "source": [
        "# we can access part of the array as follows\n",
        "a[a>1.4]"
      ]
    },
    {
      "cell_type": "code",
      "execution_count": 9,
      "metadata": {
        "colab": {
          "base_uri": "https://localhost:8080/",
          "height": 1000
        },
        "id": "tcjPSFXiZj9h",
        "outputId": "2c8e5391-7542-4837-bf87-fb47b79f0d8d"
      },
      "outputs": [
        {
          "data": {
            "text/html": [
              "<div>\n",
              "<style scoped>\n",
              "    .dataframe tbody tr th:only-of-type {\n",
              "        vertical-align: middle;\n",
              "    }\n",
              "\n",
              "    .dataframe tbody tr th {\n",
              "        vertical-align: top;\n",
              "    }\n",
              "\n",
              "    .dataframe thead th {\n",
              "        text-align: right;\n",
              "    }\n",
              "</style>\n",
              "<table border=\"1\" class=\"dataframe\">\n",
              "  <thead>\n",
              "    <tr style=\"text-align: right;\">\n",
              "      <th></th>\n",
              "      <th>Column1</th>\n",
              "      <th>Column2</th>\n",
              "    </tr>\n",
              "  </thead>\n",
              "  <tbody>\n",
              "    <tr>\n",
              "      <th>0</th>\n",
              "      <td>0.000000</td>\n",
              "      <td>A</td>\n",
              "    </tr>\n",
              "    <tr>\n",
              "      <th>1</th>\n",
              "      <td>0.111111</td>\n",
              "      <td>B</td>\n",
              "    </tr>\n",
              "    <tr>\n",
              "      <th>2</th>\n",
              "      <td>0.222222</td>\n",
              "      <td>C</td>\n",
              "    </tr>\n",
              "    <tr>\n",
              "      <th>3</th>\n",
              "      <td>0.333333</td>\n",
              "      <td>D</td>\n",
              "    </tr>\n",
              "    <tr>\n",
              "      <th>4</th>\n",
              "      <td>0.444444</td>\n",
              "      <td>E</td>\n",
              "    </tr>\n",
              "    <tr>\n",
              "      <th>5</th>\n",
              "      <td>0.555556</td>\n",
              "      <td>F</td>\n",
              "    </tr>\n",
              "    <tr>\n",
              "      <th>6</th>\n",
              "      <td>0.666667</td>\n",
              "      <td>G</td>\n",
              "    </tr>\n",
              "    <tr>\n",
              "      <th>7</th>\n",
              "      <td>0.777778</td>\n",
              "      <td>H</td>\n",
              "    </tr>\n",
              "    <tr>\n",
              "      <th>8</th>\n",
              "      <td>0.888889</td>\n",
              "      <td>I</td>\n",
              "    </tr>\n",
              "    <tr>\n",
              "      <th>9</th>\n",
              "      <td>1.000000</td>\n",
              "      <td>J</td>\n",
              "    </tr>\n",
              "  </tbody>\n",
              "</table>\n",
              "</div>"
            ],
            "text/plain": [
              "    Column1 Column2\n",
              "0  0.000000       A\n",
              "1  0.111111       B\n",
              "2  0.222222       C\n",
              "3  0.333333       D\n",
              "4  0.444444       E\n",
              "5  0.555556       F\n",
              "6  0.666667       G\n",
              "7  0.777778       H\n",
              "8  0.888889       I\n",
              "9  1.000000       J"
            ]
          },
          "execution_count": 9,
          "metadata": {},
          "output_type": "execute_result"
        }
      ],
      "source": [
        "# Create the DataFrame\n",
        "x = np.linspace(0,1,10)\n",
        "df = pd.DataFrame({'Column1': x,\n",
        "    'Column2': ['A', 'B', 'C', 'D', 'E','F','G','H','I','J']})\n",
        "df"
      ]
    },
    {
      "cell_type": "code",
      "execution_count": 10,
      "metadata": {
        "colab": {
          "base_uri": "https://localhost:8080/"
        },
        "id": "Wm0ZTqUPdM2D",
        "outputId": "22ede857-7201-4ffc-d53d-f40114f11861"
      },
      "outputs": [
        {
          "data": {
            "text/plain": [
              "array([0.        , 0.11111111, 0.22222222, 0.33333333, 0.44444444,\n",
              "       0.55555556, 0.66666667, 0.77777778, 0.88888889, 1.        ])"
            ]
          },
          "execution_count": 10,
          "metadata": {},
          "output_type": "execute_result"
        }
      ],
      "source": [
        "df.Column1.values"
      ]
    },
    {
      "cell_type": "code",
      "execution_count": 11,
      "metadata": {
        "id": "gM8UaN8wfCnL"
      },
      "outputs": [
        {
          "data": {
            "text/plain": [
              "array([1, 2, 3, 4, 5])"
            ]
          },
          "execution_count": 11,
          "metadata": {},
          "output_type": "execute_result"
        }
      ],
      "source": [
        "# imagine we have an array of times and corresponding tempature measurements:\n",
        "times = np.array([1,2,3,4,5])\n",
        "temps = np.array([72,71,75,75,73])\n",
        "# we can make a 2d numpy array\n",
        "data = np.transpose(np.array([times,temps]))\n",
        "data\n",
        "\n",
        "# the pandas library provides a convenient way organize this data\n",
        "import pandas as pd\n",
        "df = pd.DataFrame(data,columns = [\"time\",\"tempature\"])\n",
        "df[df.time <4]\n",
        "\n",
        "# this is how we get back the numpy array\n",
        "df.time.values"
      ]
    },
    {
      "cell_type": "markdown",
      "metadata": {
        "id": "Pqeu3s-geFq2"
      },
      "source": [
        "## Control"
      ]
    },
    {
      "cell_type": "code",
      "execution_count": 12,
      "metadata": {
        "colab": {
          "base_uri": "https://localhost:8080/"
        },
        "id": "P7zomhqkFTBW",
        "outputId": "07ad9cd2-d6c5-4dfc-bb5c-7611efac0db0"
      },
      "outputs": [
        {
          "name": "stdout",
          "output_type": "stream",
          "text": [
            "1\n",
            "2\n",
            "3\n",
            "4\n"
          ]
        }
      ],
      "source": [
        "for i in [1,2,3,4]:\n",
        "  print(i)"
      ]
    },
    {
      "cell_type": "code",
      "execution_count": 13,
      "metadata": {
        "colab": {
          "base_uri": "https://localhost:8080/"
        },
        "id": "JzVtdl0bFp3U",
        "outputId": "578eec7c-9a1b-4b1f-f199-5073d3d4dc38"
      },
      "outputs": [
        {
          "data": {
            "text/plain": [
              "array([0, 1, 2, 3, 4])"
            ]
          },
          "execution_count": 13,
          "metadata": {},
          "output_type": "execute_result"
        }
      ],
      "source": [
        "np.array(range(5))"
      ]
    },
    {
      "cell_type": "code",
      "execution_count": 14,
      "metadata": {
        "colab": {
          "base_uri": "https://localhost:8080/"
        },
        "id": "Lur09tmTeGt1",
        "outputId": "111bd439-786a-475d-bc2f-ca5b3cf3da92"
      },
      "outputs": [
        {
          "name": "stdout",
          "output_type": "stream",
          "text": [
            "4\n",
            "5\n",
            "7\n",
            "10\n",
            "14\n"
          ]
        }
      ],
      "source": [
        "k = 4\n",
        "for i in range(5):\n",
        "  k = k + i\n",
        "  print(k)"
      ]
    },
    {
      "cell_type": "code",
      "execution_count": 15,
      "metadata": {
        "colab": {
          "base_uri": "https://localhost:8080/"
        },
        "id": "ye9j07mueHrm",
        "outputId": "8308515f-95d1-4e93-8d16-413433496d0f"
      },
      "outputs": [
        {
          "name": "stdout",
          "output_type": "stream",
          "text": [
            "0\n",
            "1\n",
            "2\n",
            "3\n",
            "4\n",
            "5\n",
            "6\n",
            "7\n",
            "8\n",
            "9\n"
          ]
        }
      ],
      "source": [
        "i = 0\n",
        "while i<10:\n",
        "  print(i)\n",
        "  i = i+1\n"
      ]
    },
    {
      "cell_type": "markdown",
      "metadata": {
        "id": "aL4FdReYfbXt"
      },
      "source": [
        "## Functions"
      ]
    },
    {
      "cell_type": "code",
      "execution_count": 16,
      "metadata": {
        "id": "un3_eUxqfays"
      },
      "outputs": [],
      "source": [
        "# sometimes we like to put code in a function to reuse it (for example np.zeros(n) is a function)\n",
        "def myfunction(a,b):\n",
        "  return a + b"
      ]
    },
    {
      "cell_type": "code",
      "execution_count": 17,
      "metadata": {
        "colab": {
          "base_uri": "https://localhost:8080/"
        },
        "id": "lXAgLWXtflvA",
        "outputId": "198e7ba7-ff7b-41f4-da02-4de6975f04ab"
      },
      "outputs": [
        {
          "data": {
            "text/plain": [
              "3"
            ]
          },
          "execution_count": 17,
          "metadata": {},
          "output_type": "execute_result"
        }
      ],
      "source": [
        "myfunction(1,2)"
      ]
    },
    {
      "cell_type": "markdown",
      "metadata": {
        "id": "8Y6jQoU5sOcG"
      },
      "source": [
        "# Statistical modeling with Python"
      ]
    },
    {
      "cell_type": "code",
      "execution_count": 18,
      "metadata": {
        "id": "Igv3y4TShUGT"
      },
      "outputs": [],
      "source": [
        "y = np.random.choice([0,1],1000,p=[0.5,0.5])\n",
        "y = []\n",
        "for j in range(1000):\n",
        "  y.append(np.random.choice([0,1],p=[0.5,0.5]))"
      ]
    },
    {
      "cell_type": "code",
      "execution_count": 19,
      "metadata": {
        "colab": {
          "base_uri": "https://localhost:8080/"
        },
        "id": "xIxD6bX_oJrN",
        "outputId": "1e4ab7e5-d415-462c-b109-717f0e551168"
      },
      "outputs": [
        {
          "data": {
            "text/plain": [
              "array([0, 0, 0, 0, 1, 1, 1, 0, 0, 1, 0, 0, 1, 1, 0, 1, 1, 0, 0, 1, 1, 0,\n",
              "       1, 0, 0, 1, 1, 1, 1, 0, 1, 1, 0, 1, 1, 0, 0, 1, 1, 0, 1, 1, 1, 0,\n",
              "       1, 1, 1, 0, 1, 0, 0, 1, 0, 0, 1, 0, 0, 1, 0, 1, 0, 0, 0, 1, 1, 1,\n",
              "       0, 0, 1, 0, 1, 0, 1, 0, 1, 1, 1, 0, 1, 1, 0, 0, 1, 0, 0, 0, 0, 1,\n",
              "       1, 0, 1, 0, 1, 1, 0, 0, 1, 1, 0, 0])"
            ]
          },
          "execution_count": 19,
          "metadata": {},
          "output_type": "execute_result"
        }
      ],
      "source": [
        "n_samples = 100\n",
        "q = 0.5\n",
        "y = np.random.choice([0,1],n_samples,p=[q,1-q])\n",
        "y\n"
      ]
    },
    {
      "cell_type": "code",
      "execution_count": 20,
      "metadata": {
        "id": "Yfzja6n_fPw8"
      },
      "outputs": [],
      "source": [
        "# here is geometric distribution\n",
        "Y = np.random.geometric(0.3,1000)\n",
        "\n",
        "# this is what it would look like if I wrote this myself\n",
        "def mygeometric(q):\n",
        "  y = 0\n",
        "  flip = 0\n",
        "  while flip ==0:\n",
        "    flip = np.random.choice([0,1],p=[q,1-q])\n",
        "    y = y+1\n",
        "  return y"
      ]
    },
    {
      "cell_type": "code",
      "execution_count": 21,
      "metadata": {
        "colab": {
          "base_uri": "https://localhost:8080/"
        },
        "id": "D7aR8czrgY-Q",
        "outputId": "fb14ba47-35c3-4489-8848-f840de84a822"
      },
      "outputs": [
        {
          "data": {
            "text/plain": [
              "1"
            ]
          },
          "execution_count": 21,
          "metadata": {},
          "output_type": "execute_result"
        }
      ],
      "source": [
        "mygeometric(0.3)"
      ]
    },
    {
      "cell_type": "code",
      "execution_count": 22,
      "metadata": {
        "id": "rBYfB_FJhTe_"
      },
      "outputs": [],
      "source": [
        "def myRV():\n",
        "  y = 0\n",
        "  flip1 = np.random.choice([0,1],p=[0.5,0.5])\n",
        "  if flip1 ==0:\n",
        "    y = 10\n",
        "  else:\n",
        "    flip2 = np.random.choice([0,1],p=[0.5,0.5])\n",
        "    if flip2 ==0:\n",
        "      y = 2\n",
        "    else:\n",
        "      y =0\n",
        "  return y"
      ]
    },
    {
      "cell_type": "code",
      "execution_count": 23,
      "metadata": {
        "colab": {
          "base_uri": "https://localhost:8080/"
        },
        "id": "1QY_aoMJhthu",
        "outputId": "bc3c0882-720d-4973-effd-e7618eb0165a"
      },
      "outputs": [
        {
          "data": {
            "text/plain": [
              "0"
            ]
          },
          "execution_count": 23,
          "metadata": {},
          "output_type": "execute_result"
        }
      ],
      "source": [
        "myRV()"
      ]
    },
    {
      "cell_type": "markdown",
      "metadata": {
        "id": "xCU9OVTijAmC"
      },
      "source": [
        "## Example 3\n",
        "\n",
        "Let $J$ denote a random variable representing the number of times a coin is flipped before two heads appear in a row."
      ]
    },
    {
      "cell_type": "code",
      "execution_count": 24,
      "metadata": {
        "id": "9s2P_IJTjuO3"
      },
      "outputs": [],
      "source": [
        "def flip_until_two():\n",
        "  num_heads = 0\n",
        "  total_flips = 0\n",
        "  while num_heads <2:\n",
        "    y = np.random.choice([0,1])\n",
        "    if y == 0:\n",
        "      num_heads = 0\n",
        "    else:\n",
        "      num_heads = num_heads + 1\n",
        "    total_flips = total_flips + 1\n",
        "  return total_flips"
      ]
    },
    {
      "cell_type": "markdown",
      "metadata": {
        "id": "UkD_oWqXUq_k"
      },
      "source": [
        "# Visualizing data"
      ]
    },
    {
      "cell_type": "code",
      "execution_count": 25,
      "metadata": {
        "colab": {
          "base_uri": "https://localhost:8080/",
          "height": 251
        },
        "id": "VrukLUk2Y2ot",
        "outputId": "d65fe6d3-8e94-4b29-af5b-693271d2fc0c"
      },
      "outputs": [
        {
          "data": {
            "text/plain": [
              "Text(0, 0.5, 'y')"
            ]
          },
          "execution_count": 25,
          "metadata": {},
          "output_type": "execute_result"
        },
        {
          "data": {
            "image/png": "[encoded data removed]",
            "text/plain": [
              "<Figure size 200x200 with 1 Axes>"
            ]
          },
          "metadata": {},
          "output_type": "display_data"
        }
      ],
      "source": [
        "x = np.linspace(0,1,10) # generate 10 numbers between 0 and 1\n",
        "y = np.random.choice(range(100),len(x)) # generate 10 random numbers\n",
        "\n",
        "fig,ax = plt.subplots(figsize=(2,2));# this sets up an axis to plot on\n",
        "ax.plot(x,y,\"o\")\n",
        "ax.set_xlabel(\"x\")\n",
        "ax.set_ylabel(\"y\")"
      ]
    },
    {
      "cell_type": "code",
      "execution_count": 26,
      "metadata": {
        "colab": {
          "base_uri": "https://localhost:8080/",
          "height": 251
        },
        "id": "qZXsTunlZOl_",
        "outputId": "347b5cee-35fe-410e-9c39-a2f0070b8048"
      },
      "outputs": [
        {
          "data": {
            "text/plain": [
              "Text(0, 0.5, 'x^2')"
            ]
          },
          "execution_count": 26,
          "metadata": {},
          "output_type": "execute_result"
        },
        {
          "data": {
            "image/png": "[encoded data removed]",
            "text/plain": [
              "<Figure size 200x200 with 1 Axes>"
            ]
          },
          "metadata": {},
          "output_type": "display_data"
        }
      ],
      "source": [
        "x = np.linspace(0,1,10) # generate 10 numbers between 0 and 1\n",
        "y = x**2 + 1 # generates the square of each number in the list x plus 1\n",
        "\n",
        "fig,ax = plt.subplots(figsize=(2,2));# this sets up an axis to plot on\n",
        "ax.plot(x,y,\"-\")\n",
        "ax.set_xlabel(\"x\")\n",
        "ax.set_ylabel(\"x^2\")"
      ]
    },
    {
      "cell_type": "code",
      "execution_count": 27,
      "metadata": {
        "colab": {
          "base_uri": "https://localhost:8080/",
          "height": 269
        },
        "id": "rUhYUEUXJeZB",
        "outputId": "b7830d10-dac7-4592-e991-c2588160b77f"
      },
      "outputs": [
        {
          "data": {
            "text/plain": [
              "[<matplotlib.axis.XTick at 0x13fe6f8d0>,\n",
              " <matplotlib.axis.XTick at 0x13fe6e0d0>]"
            ]
          },
          "execution_count": 27,
          "metadata": {},
          "output_type": "execute_result"
        },
        {
          "data": {
            "image/png": "[encoded data removed]",
            "text/plain": [
              "<Figure size 200x200 with 1 Axes>"
            ]
          },
          "metadata": {},
          "output_type": "display_data"
        }
      ],
      "source": [
        "fig,ax = plt.subplots(figsize=(2,2));\n",
        "n_samples = 10000\n",
        "q = 0.2\n",
        "y = np.random.choice([0,1],n_samples,p=[q,1-q])\n",
        "plt.hist(y,density=True,bins=[0,1,2]); # the bins are [0,1) and [1,2)\n",
        "ax.set_xlabel(\"y\")\n",
        "ax.set_ylabel(\"frequency\")\n",
        "ax.set_xticks([0,1])"
      ]
    },
    {
      "cell_type": "code",
      "execution_count": 28,
      "metadata": {
        "colab": {
          "base_uri": "https://localhost:8080/",
          "height": 234
        },
        "id": "-luftKB4J957",
        "outputId": "de783f6e-814c-4b60-9ce9-097315a82701"
      },
      "outputs": [
        {
          "data": {
            "image/png": "[encoded data removed]",
            "text/plain": [
              "<Figure size 300x200 with 1 Axes>"
            ]
          },
          "metadata": {},
          "output_type": "display_data"
        }
      ],
      "source": [
        "n_samples = 100000\n",
        "outcomes = list(range(6))\n",
        "# model of a die\n",
        "y = np.random.choice(outcomes,n_samples,p = [1/6,1/6,1/6,1/6,1/6,1/6])\n",
        "\n",
        "fig,ax = plt.subplots(figsize=(3,2));\n",
        "plt.hist(y,bins=[0,1,2,3,4,5,6],density=True);\n",
        "ax.set_xlabel(\"y\")\n",
        "ax.set_ylabel(\"frequency\")\n",
        "ax.set_xticks(outcomes);"
      ]
    },
    {
      "cell_type": "code",
      "execution_count": null,
      "metadata": {
        "colab": {
          "base_uri": "https://localhost:8080/"
        },
        "id": "V7zlATRdhDiN",
        "outputId": "f36db8dd-168e-425c-b663-dbc596d24984"
      },
      "outputs": [],
      "source": []
    },
    {
      "cell_type": "code",
      "execution_count": 29,
      "metadata": {
        "colab": {
          "base_uri": "https://localhost:8080/",
          "height": 143
        },
        "id": "a0vGz7YogS2W",
        "outputId": "2a6c4863-0e41-4fc6-8031-e3d9128b718b"
      },
      "outputs": [
        {
          "data": {
            "text/html": [
              "<div>\n",
              "<style scoped>\n",
              "    .dataframe tbody tr th:only-of-type {\n",
              "        vertical-align: middle;\n",
              "    }\n",
              "\n",
              "    .dataframe tbody tr th {\n",
              "        vertical-align: top;\n",
              "    }\n",
              "\n",
              "    .dataframe thead th {\n",
              "        text-align: right;\n",
              "    }\n",
              "</style>\n",
              "<table border=\"1\" class=\"dataframe\">\n",
              "  <thead>\n",
              "    <tr style=\"text-align: right;\">\n",
              "      <th></th>\n",
              "      <th>time</th>\n",
              "      <th>tempature</th>\n",
              "    </tr>\n",
              "  </thead>\n",
              "  <tbody>\n",
              "    <tr>\n",
              "      <th>0</th>\n",
              "      <td>1</td>\n",
              "      <td>72</td>\n",
              "    </tr>\n",
              "    <tr>\n",
              "      <th>1</th>\n",
              "      <td>2</td>\n",
              "      <td>71</td>\n",
              "    </tr>\n",
              "    <tr>\n",
              "      <th>2</th>\n",
              "      <td>3</td>\n",
              "      <td>75</td>\n",
              "    </tr>\n",
              "  </tbody>\n",
              "</table>\n",
              "</div>"
            ],
            "text/plain": [
              "   time  tempature\n",
              "0     1         72\n",
              "1     2         71\n",
              "2     3         75"
            ]
          },
          "execution_count": 29,
          "metadata": {},
          "output_type": "execute_result"
        }
      ],
      "source": [
        "# imagine we have an array of times and corresponding tempature measurements:\n",
        "times = np.array([1,2,3,4,5])\n",
        "temps = np.array([72,71,75,75,73])\n",
        "# we can make a 2d numpy array\n",
        "data = np.transpose(np.array([times,temps]))\n",
        "data\n",
        "\n",
        "# the pandas library provides a convenient way organize this data\n",
        "import pandas as pd\n",
        "df = pd.DataFrame(data,columns = [\"time\",\"tempature\"])\n",
        "df[df.time <4]"
      ]
    },
    {
      "cell_type": "code",
      "execution_count": null,
      "metadata": {
        "colab": {
          "base_uri": "https://localhost:8080/"
        },
        "id": "7f7xSOT4ho5o",
        "outputId": "29d5afe5-ef94-499a-e3f5-48647da5c21e"
      },
      "outputs": [],
      "source": []
    },
    {
      "cell_type": "code",
      "execution_count": 30,
      "metadata": {
        "id": "006hnGv_fSyo"
      },
      "outputs": [],
      "source": [
        "# let try working with some real data\n",
        "df = pd.read_csv(\"https://raw.githubusercontent.com/avehtari/ROS-Examples/master/KidIQ/data/kidiq.csv\")\n",
        "df.kid_score.values;"
      ]
    },
    {
      "cell_type": "code",
      "execution_count": 31,
      "metadata": {
        "colab": {
          "base_uri": "https://localhost:8080/",
          "height": 246
        },
        "id": "HWizxaewfRPZ",
        "outputId": "0b7b0f61-aed2-40a6-ea89-d5dcac621381"
      },
      "outputs": [
        {
          "data": {
            "text/plain": [
              "Text(0.5, 0, 'score')"
            ]
          },
          "execution_count": 31,
          "metadata": {},
          "output_type": "execute_result"
        },
        {
          "data": {
            "image/png": "[encoded data removed]",
            "text/plain": [
              "<Figure size 300x200 with 1 Axes>"
            ]
          },
          "metadata": {},
          "output_type": "display_data"
        }
      ],
      "source": [
        "fig,ax = plt.subplots(figsize=(3,2));\n",
        "ax.hist(y,density=True,bins = 10);\n",
        "ax.set_xlabel(\"score\")"
      ]
    },
    {
      "cell_type": "code",
      "execution_count": 32,
      "metadata": {
        "colab": {
          "base_uri": "https://localhost:8080/",
          "height": 246
        },
        "id": "7kB4SWvTBm5m",
        "outputId": "d32e82aa-dc60-4809-af20-22e8cea0aa66"
      },
      "outputs": [
        {
          "data": {
            "text/plain": [
              "Text(0.5, 0, 'score')"
            ]
          },
          "execution_count": 32,
          "metadata": {},
          "output_type": "execute_result"
        },
        {
          "data": {
            "image/png": "[encoded data removed]",
            "text/plain": [
              "<Figure size 300x200 with 1 Axes>"
            ]
          },
          "metadata": {},
          "output_type": "display_data"
        }
      ],
      "source": [
        "# the bar heights are NOT probabilities and they may be greater than 1\n",
        "fig,ax = plt.subplots(figsize=(3,2));\n",
        "ax.hist(y/100,density=True,bins = 10);\n",
        "ax.set_xlabel(\"score\")"
      ]
    },
    {
      "cell_type": "markdown",
      "metadata": {
        "id": "UCfgHEFoV7TH"
      },
      "source": [
        "# Monte Carlo simulation"
      ]
    },
    {
      "cell_type": "markdown",
      "metadata": {
        "id": "1DpAgyiljLF-"
      },
      "source": []
    },
    {
      "cell_type": "markdown",
      "metadata": {
        "id": "am6JmNGdZ7lb"
      },
      "source": [
        "## Example 5"
      ]
    },
    {
      "cell_type": "markdown",
      "metadata": {
        "id": "Uyj7Rc0fjLeM"
      },
      "source": [
        "## Example 6"
      ]
    },
    {
      "cell_type": "code",
      "execution_count": 33,
      "metadata": {
        "colab": {
          "base_uri": "https://localhost:8080/",
          "height": 231
        },
        "id": "u7sLwPm6alS0",
        "outputId": "c785deb5-811c-4303-e0a4-b5d7934e4a0a"
      },
      "outputs": [
        {
          "data": {
            "text/plain": [
              "[<matplotlib.lines.Line2D at 0x14a001810>]"
            ]
          },
          "execution_count": 33,
          "metadata": {},
          "output_type": "execute_result"
        },
        {
          "data": {
            "image/png": "[encoded data removed]",
            "text/plain": [
              "<Figure size 300x200 with 1 Axes>"
            ]
          },
          "metadata": {},
          "output_type": "display_data"
        }
      ],
      "source": [
        "q = 1/2\n",
        "Y = np.random.geometric(q,20000)\n",
        "k_range = np.array(range(1,20))\n",
        "\n",
        "fig,ax = plt.subplots(figsize=(3,2));\n",
        "ax.hist(Y,density=True,bins = k_range);\n",
        "ax.plot(k_range,(1-q)**(k_range -1)*q,\".\")"
      ]
    },
    {
      "cell_type": "markdown",
      "metadata": {
        "id": "n7vN0l4PWbbX"
      },
      "source": [
        "## Example\n",
        "\n",
        "Suppose we flip a coin until we get 2 heads in a row, as we implemented above, and let J denote the number of flips.\n",
        "* Use Monte Carlo simulations, estimate the chance that J > 5. Start by generating 10000 samples\n",
        "* Plot a histogram and confirm that the histogram is consistent with you computation"
      ]
    },
    {
      "cell_type": "code",
      "execution_count": 34,
      "metadata": {
        "colab": {
          "base_uri": "https://localhost:8080/"
        },
        "id": "iB7R_wrBqH07",
        "outputId": "bbf4cf9c-99b9-4203-fd3b-41ce7398f721"
      },
      "outputs": [
        {
          "data": {
            "text/plain": [
              "0.4089"
            ]
          },
          "execution_count": 34,
          "metadata": {},
          "output_type": "execute_result"
        }
      ],
      "source": [
        "n_monte = 10000\n",
        "Js = np.zeros(n_monte)\n",
        "for k in range(n_monte):\n",
        "  Js[k] = flip_until_two()\n",
        "len(Js[Js>5])/len(Js)"
      ]
    },
    {
      "cell_type": "code",
      "execution_count": 35,
      "metadata": {
        "colab": {
          "base_uri": "https://localhost:8080/",
          "height": 370
        },
        "id": "0Yao1vejDql5",
        "outputId": "d1cc2a95-787c-42ce-9627-89e443712b5f"
      },
      "outputs": [
        {
          "name": "stdout",
          "output_type": "stream",
          "text": [
            "0.4089\n"
          ]
        },
        {
          "data": {
            "image/png": "[encoded data removed]",
            "text/plain": [
              "<Figure size 640x480 with 1 Axes>"
            ]
          },
          "metadata": {},
          "output_type": "display_data"
        }
      ],
      "source": [
        "print(len(Js[Js>5])/len(Js))\n",
        "plt.hist(Js,bins = range(2,30),density=True);\n"
      ]
    },
    {
      "cell_type": "code",
      "execution_count": 36,
      "metadata": {
        "colab": {
          "base_uri": "https://localhost:8080/"
        },
        "id": "SNpgR3D5rLIs",
        "outputId": "60be42ff-d26b-4cd8-ebf7-b3048b205239"
      },
      "outputs": [
        {
          "data": {
            "text/plain": [
              "0.49"
            ]
          },
          "execution_count": 36,
          "metadata": {},
          "output_type": "execute_result"
        }
      ],
      "source": [
        "1 - (.25 + 2*.13)"
      ]
    },
    {
      "cell_type": "code",
      "execution_count": 37,
      "metadata": {
        "colab": {
          "base_uri": "https://localhost:8080/",
          "height": 389
        },
        "id": "u2KlFqDeWHB1",
        "outputId": "4bd7e56e-68a8-4190-c69c-0b96c5f93c78"
      },
      "outputs": [
        {
          "data": {
            "text/plain": [
              "Text(0, 0.5, 'fraction J<5')"
            ]
          },
          "execution_count": 37,
          "metadata": {},
          "output_type": "execute_result"
        },
        {
          "data": {
            "image/png": "[encoded data removed]",
            "text/plain": [
              "<Figure size 600x400 with 1 Axes>"
            ]
          },
          "metadata": {},
          "output_type": "display_data"
        }
      ],
      "source": [
        "# we should always check we ran them long enough\n",
        "n_range = range(3,500)\n",
        "est = np.zeros(len(n_range))\n",
        "for j in range(len(n_range)):\n",
        "  n_monte = n_range[j]\n",
        "  Js = np.zeros(n_monte)\n",
        "  for k in range(n_monte):\n",
        "    Js[k] = flip_until_two()\n",
        "  est[j] = len(Js[Js>5])/len(Js)\n",
        "\n",
        "fig,ax = plt.subplots(figsize=(6,4))\n",
        "ax.plot(est,\"o\",fillstyle=\"none\")\n",
        "ax.set_xlabel(\"number of samples\")\n",
        "ax.set_ylabel(\"fraction J<5\")"
      ]
    },
    {
      "cell_type": "markdown",
      "metadata": {
        "id": "8UrB3KJIW-nO"
      },
      "source": [
        "# Joint probabilities and independence"
      ]
    },
    {
      "cell_type": "markdown",
      "metadata": {
        "id": "roga82kQRaau"
      },
      "source": [
        "## Example 7 and 8\n",
        "\n",
        "Write python code to generate a sample of $Y_A$ and $Y_B$. Using Monte carlo simulations to show they are not independent?\n",
        "\n",
        "\n"
      ]
    },
    {
      "cell_type": "code",
      "execution_count": 38,
      "metadata": {
        "colab": {
          "base_uri": "https://localhost:8080/"
        },
        "id": "rj4DbyjCHO4j",
        "outputId": "3f913688-393c-4ba5-93d9-ee8c80993ba9"
      },
      "outputs": [
        {
          "data": {
            "text/plain": [
              "0.800525358206044"
            ]
          },
          "execution_count": 38,
          "metadata": {},
          "output_type": "execute_result"
        }
      ],
      "source": [
        "x = np.random.choice([1,2,3,4],1000000,p=[1/2,1/8,1/8,1/4])\n",
        "x_yb0 = x[(x==1)|(x==3)]\n",
        "n_b0 = len(x_yb0) # n(Y_B = 0)\n",
        "n_both0 = len(x[x==1])\n",
        "n_both0/n_b0"
      ]
    },
    {
      "cell_type": "markdown",
      "metadata": {
        "id": "MHiQXY5hXPWh"
      },
      "source": [
        "## Example\n",
        "\n",
        "We can also condition on events, rather than the value of a variable. Using the following data on kids test scores\n",
        "* what is the chance a test score is greater than $75$ among students whose mothers attended high school?\n",
        "* Based on the data, do the test scores seem independent of mother education?"
      ]
    },
    {
      "cell_type": "code",
      "execution_count": 39,
      "metadata": {
        "colab": {
          "base_uri": "https://localhost:8080/",
          "height": 423
        },
        "id": "CXeJcTMWJtJP",
        "outputId": "63cccfef-c0d9-4d10-b638-112ee77b5f06"
      },
      "outputs": [
        {
          "data": {
            "text/html": [
              "<div>\n",
              "<style scoped>\n",
              "    .dataframe tbody tr th:only-of-type {\n",
              "        vertical-align: middle;\n",
              "    }\n",
              "\n",
              "    .dataframe tbody tr th {\n",
              "        vertical-align: top;\n",
              "    }\n",
              "\n",
              "    .dataframe thead th {\n",
              "        text-align: right;\n",
              "    }\n",
              "</style>\n",
              "<table border=\"1\" class=\"dataframe\">\n",
              "  <thead>\n",
              "    <tr style=\"text-align: right;\">\n",
              "      <th></th>\n",
              "      <th>kid_score</th>\n",
              "      <th>mom_hs</th>\n",
              "      <th>mom_iq</th>\n",
              "      <th>mom_work</th>\n",
              "      <th>mom_age</th>\n",
              "    </tr>\n",
              "  </thead>\n",
              "  <tbody>\n",
              "    <tr>\n",
              "      <th>0</th>\n",
              "      <td>65</td>\n",
              "      <td>1</td>\n",
              "      <td>121.117529</td>\n",
              "      <td>4</td>\n",
              "      <td>27</td>\n",
              "    </tr>\n",
              "    <tr>\n",
              "      <th>1</th>\n",
              "      <td>98</td>\n",
              "      <td>1</td>\n",
              "      <td>89.361882</td>\n",
              "      <td>4</td>\n",
              "      <td>25</td>\n",
              "    </tr>\n",
              "    <tr>\n",
              "      <th>2</th>\n",
              "      <td>85</td>\n",
              "      <td>1</td>\n",
              "      <td>115.443165</td>\n",
              "      <td>4</td>\n",
              "      <td>27</td>\n",
              "    </tr>\n",
              "    <tr>\n",
              "      <th>3</th>\n",
              "      <td>83</td>\n",
              "      <td>1</td>\n",
              "      <td>99.449639</td>\n",
              "      <td>3</td>\n",
              "      <td>25</td>\n",
              "    </tr>\n",
              "    <tr>\n",
              "      <th>4</th>\n",
              "      <td>115</td>\n",
              "      <td>1</td>\n",
              "      <td>92.745710</td>\n",
              "      <td>4</td>\n",
              "      <td>27</td>\n",
              "    </tr>\n",
              "    <tr>\n",
              "      <th>...</th>\n",
              "      <td>...</td>\n",
              "      <td>...</td>\n",
              "      <td>...</td>\n",
              "      <td>...</td>\n",
              "      <td>...</td>\n",
              "    </tr>\n",
              "    <tr>\n",
              "      <th>429</th>\n",
              "      <td>94</td>\n",
              "      <td>0</td>\n",
              "      <td>84.877412</td>\n",
              "      <td>4</td>\n",
              "      <td>21</td>\n",
              "    </tr>\n",
              "    <tr>\n",
              "      <th>430</th>\n",
              "      <td>76</td>\n",
              "      <td>1</td>\n",
              "      <td>92.990392</td>\n",
              "      <td>4</td>\n",
              "      <td>23</td>\n",
              "    </tr>\n",
              "    <tr>\n",
              "      <th>431</th>\n",
              "      <td>50</td>\n",
              "      <td>0</td>\n",
              "      <td>94.859708</td>\n",
              "      <td>2</td>\n",
              "      <td>24</td>\n",
              "    </tr>\n",
              "    <tr>\n",
              "      <th>432</th>\n",
              "      <td>88</td>\n",
              "      <td>1</td>\n",
              "      <td>96.856624</td>\n",
              "      <td>2</td>\n",
              "      <td>21</td>\n",
              "    </tr>\n",
              "    <tr>\n",
              "      <th>433</th>\n",
              "      <td>70</td>\n",
              "      <td>1</td>\n",
              "      <td>91.253336</td>\n",
              "      <td>2</td>\n",
              "      <td>25</td>\n",
              "    </tr>\n",
              "  </tbody>\n",
              "</table>\n",
              "<p>434 rows × 5 columns</p>\n",
              "</div>"
            ],
            "text/plain": [
              "     kid_score  mom_hs      mom_iq  mom_work  mom_age\n",
              "0           65       1  121.117529         4       27\n",
              "1           98       1   89.361882         4       25\n",
              "2           85       1  115.443165         4       27\n",
              "3           83       1   99.449639         3       25\n",
              "4          115       1   92.745710         4       27\n",
              "..         ...     ...         ...       ...      ...\n",
              "429         94       0   84.877412         4       21\n",
              "430         76       1   92.990392         4       23\n",
              "431         50       0   94.859708         2       24\n",
              "432         88       1   96.856624         2       21\n",
              "433         70       1   91.253336         2       25\n",
              "\n",
              "[434 rows x 5 columns]"
            ]
          },
          "execution_count": 39,
          "metadata": {},
          "output_type": "execute_result"
        }
      ],
      "source": [
        "# let try working with some real data\n",
        "df = pd.read_csv(\"https://raw.githubusercontent.com/avehtari/ROS-Examples/master/KidIQ/data/kidiq.csv\")\n",
        "y = df.kid_score.values\n",
        "df"
      ]
    },
    {
      "cell_type": "code",
      "execution_count": 40,
      "metadata": {
        "colab": {
          "base_uri": "https://localhost:8080/"
        },
        "id": "MELbvDpGKThC",
        "outputId": "754aa4f3-fb89-4abe-f207-a12ffc0add6e"
      },
      "outputs": [
        {
          "name": "stdout",
          "output_type": "stream",
          "text": [
            "0.41348973607038125\n",
            "0.3778801843317972\n"
          ]
        }
      ],
      "source": [
        "y_hs = df[df.mom_hs ==1].kid_score.values\n",
        "print(len(y_hs[y_hs > 95])/len(y_hs))\n",
        "\n",
        "\n",
        "y = df.kid_score.values\n",
        "print(len(y[y>95])/len(y))"
      ]
    },
    {
      "cell_type": "code",
      "execution_count": 41,
      "metadata": {
        "id": "OJondY7-KwAc"
      },
      "outputs": [],
      "source": [
        "y_nohs = df[df.mom_hs !=1].kid_score.values\n",
        "len(y_nohs[y_nohs > 95])/len(y_nohs)\n",
        "\n",
        "y_all = df.kid_score.values"
      ]
    },
    {
      "cell_type": "code",
      "execution_count": 42,
      "metadata": {
        "colab": {
          "base_uri": "https://localhost:8080/",
          "height": 316
        },
        "id": "u4fLt3joYxNF",
        "outputId": "dbb934ed-2a05-4354-b34f-c547b6c5c6e3"
      },
      "outputs": [
        {
          "data": {
            "text/plain": [
              "Text(0, 0.5, 'P(score>z|mom_hs)')"
            ]
          },
          "execution_count": 42,
          "metadata": {},
          "output_type": "execute_result"
        },
        {
          "data": {
            "image/png": "[encoded data removed]",
            "text/plain": [
              "<Figure size 500x300 with 1 Axes>"
            ]
          },
          "metadata": {},
          "output_type": "display_data"
        }
      ],
      "source": [
        "fig,ax = plt.subplots(figsize=(5,3))\n",
        "plt.plot([len(y_hs[y_hs > z])/len(y_hs) for z in range(100)],label=\"mothers attended hs\")\n",
        "plt.plot([len(y_nohs[y_nohs > z])/len(y_nohs) for z in range(100)],label=\"mothers did not attended hs\")\n",
        "plt.plot([len(y_all[y_all > z])/len(y_all) for z in range(100)],label=\"all students\")\n",
        "ax.legend()\n",
        "ax.set_xlabel(\"z\")\n",
        "ax.set_ylabel(\"P(score>z|mom_hs)\")"
      ]
    },
    {
      "cell_type": "markdown",
      "metadata": {
        "id": "JfKXqajtWkqg"
      },
      "source": [
        "# Mean and variances"
      ]
    },
    {
      "cell_type": "markdown",
      "metadata": {
        "id": "36vlB9r1Wts5"
      },
      "source": [
        "## Example\n",
        "\n",
        "Verify that the formula for the mean of bernoulli distribution and standard deviations with Monte Carlo simulations\n",
        "\\begin{equation}\n",
        "\\mathbb{E}[Y] = q\n",
        "\\end{equation}"
      ]
    },
    {
      "cell_type": "code",
      "execution_count": 43,
      "metadata": {
        "id": "bmsLW4xLtmC4"
      },
      "outputs": [],
      "source": [
        "# define function to draw samples anand compute mean and standard deviation of bernoulli random variable\n",
        "def mean_bern(q):\n",
        "  sample = np.random.choice([0,1],500,p=[1-q,q])\n",
        "  return np.mean(sample)"
      ]
    },
    {
      "cell_type": "code",
      "execution_count": 44,
      "metadata": {
        "id": "BYoB70ZCtrYf"
      },
      "outputs": [],
      "source": [
        "q_range = np.linspace(0,1,100)"
      ]
    },
    {
      "cell_type": "code",
      "execution_count": 45,
      "metadata": {
        "colab": {
          "base_uri": "https://localhost:8080/",
          "height": 251
        },
        "id": "qw5W0ppRD4DJ",
        "outputId": "24c4cdd0-8763-41bb-b4cc-93534cbe5c9d"
      },
      "outputs": [
        {
          "data": {
            "text/plain": [
              "Text(0, 0.5, 'average')"
            ]
          },
          "execution_count": 45,
          "metadata": {},
          "output_type": "execute_result"
        },
        {
          "data": {
            "image/png": "[encoded data removed]",
            "text/plain": [
              "<Figure size 500x200 with 1 Axes>"
            ]
          },
          "metadata": {},
          "output_type": "display_data"
        }
      ],
      "source": [
        "\n",
        "\n",
        "q_range = np.linspace(0,1,100) # generates one hundred evenly spaced numbers between 0 and 1\n",
        "means = np.zeros(len(q_range))\n",
        "for j in range(len(q_range)):\n",
        "  means[j] = mean_bern(q_range[j])\n",
        "# another way to do this is\n",
        "means = [mean_bern(q_range[j]) for j in range(len(q_range))]\n",
        "# make the plot\n",
        "fig,ax = plt.subplots(figsize=(5,2))\n",
        "# plot q_range vs. means\n",
        "ax.plot(q_range,means,\"+\")\n",
        "ax.plot(q_range,q_range,\"k--\")\n",
        "ax.set_xlabel(\"q\")\n",
        "ax.set_ylabel(\"average\")"
      ]
    }
  ],
  "metadata": {
    "colab": {
      "provenance": [],
      "toc_visible": true
    },
    "kernelspec": {
      "display_name": "Python 3",
      "name": "python3"
    },
    "language_info": {
      "codemirror_mode": {
        "name": "ipython",
        "version": 3
      },
      "file_extension": ".py",
      "mimetype": "text/x-python",
      "name": "python",
      "nbconvert_exporter": "python",
      "pygments_lexer": "ipython3",
      "version": "3.11.3"
    }
  },
  "nbformat": 4,
  "nbformat_minor": 0
}
