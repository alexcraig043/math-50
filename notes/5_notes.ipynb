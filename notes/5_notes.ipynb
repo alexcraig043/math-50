{
  "nbformat": 4,
  "nbformat_minor": 0,
  "metadata": {
    "colab": {
      "provenance": [],
      "toc_visible": true
    },
    "kernelspec": {
      "name": "python3",
      "display_name": "Python 3"
    },
    "language_info": {
      "name": "python"
    }
  },
  "cells": [
    {
      "cell_type": "code",
      "execution_count": null,
      "metadata": {
        "id": "J5TDPmmWfCFe"
      },
      "outputs": [],
      "source": [
        "import numpy as np\n",
        "import pandas as pd\n",
        "import statsmodels.api as sm\n",
        "import matplotlib.pyplot as plt\n",
        "%config InlineBackend.figure_format = \"svg\"\n",
        "#from pymc3 import *"
      ]
    },
    {
      "cell_type": "markdown",
      "source": [
        "# Introduction to regression with multiple predictors"
      ],
      "metadata": {
        "id": "KgJGC9uis-jZ"
      }
    },
    {
      "cell_type": "markdown",
      "source": [
        "## Example 1 (simulating and fitting multiple predictor regression)\n",
        "\n"
      ],
      "metadata": {
        "id": "G2INIFmYkave"
      }
    },
    {
      "cell_type": "code",
      "source": [
        "# generate values for predictor variables\n",
        "n = 100\n",
        "x1 = np.random.normal(0,.5,n)\n",
        "x2 = np.random.normal(0,1,n)\n",
        "\n",
        "# set parameter values\n",
        "b1 = 1 # beta1\n",
        "b2 = 2 # beta2\n",
        "b0 = 0 # beta0\n",
        "sigma = 0.1\n",
        "\n",
        "# generate noise\n",
        "y = np.random.normal(b0 + b1*x1+b2*x2,sigma)\n",
        "\n",
        "# plot\n",
        "fig,axs = plt.subplots(figsize=(5,2),ncols=2,sharey=True)\n",
        "\n",
        "ax = axs[0]\n",
        "ax.set_title(\"$Y\\,\\, {\\\\rm vs.} \\,\\,X_1$\")\n",
        "ax.plot(x1,y,\".\")\n",
        "#ax.plot(x1,a1*x1)\n",
        "ax.set_ylabel(\"$Y$\")\n",
        "ax.set_xlabel(\"$X_1$\")\n",
        "\n",
        "ax = axs[1]\n",
        "ax.set_title(\"$Y\\,\\, {\\\\rm vs.} \\,\\,X_2$\")\n",
        "ax.plot(x2,y,\".\")\n",
        "#ax.plot(x2,a2*x2)\n",
        "ax.set_xlabel(\"$X_2$\");"
      ],
      "metadata": {
        "colab": {
          "base_uri": "https://localhost:8080/",
          "height": 249
        },
        "id": "IMHoPaLJkAZh",
        "outputId": "f85ef999-fb13-4a4e-8faa-a36971ea232d"
      },
      "execution_count": null,
      "outputs": [
        {
          "output_type": "display_data",
          "data": {
            "text/plain": [
              "<Figure size 500x200 with 2 Axes>"
            ],
            "image/svg+xml": "<?xml version=\"1.0\" encoding=\"utf-8\" standalone=\"no\"?>\n<!DOCTYPE svg PUBLIC \"-//W3C//DTD SVG 1.1//EN\"\n  \"http://www.w3.org/Graphics/SVG/1.1/DTD/svg11.dtd\">\n<svg xmlns:xlink=\"http://www.w3.org/1999/xlink\" width=\"338.360937pt\" height=\"170.754375pt\" viewBox=\"0 0 338.360937 170.754375\" xmlns=\"http://www.w3.org/2000/svg\" version=\"1.1\">\n <metadata>\n  <rdf:RDF xmlns:dc=\"http://purl.org/dc/elements/1.1/\" xmlns:cc=\"http://creativecommons.org/ns#\" xmlns:rdf=\"http://www.w3.org/1999/02/22-rdf-syntax-ns#\">\n   <cc:Work>\n    <dc:type rdf:resource=\"http://purl.org/dc/dcmitype/StillImage\"/>\n    <dc:date>2023-10-12T11:57:12.068648</dc:date>\n    <dc:format>image/svg+xml</dc:format>\n    <dc:creator>\n     <cc:Agent>\n      <dc:title>Matplotlib v3.7.1, https://matplotlib.org/</dc:title>\n     </cc:Agent>\n    </dc:creator>\n   </cc:Work>\n  </rdf:RDF>\n </metadata>\n <defs>\n  <style type=\"text/css\">*{stroke-linejoin: round; stroke-linecap: butt}</style>\n </defs>\n <g id=\"figure_1\">\n  <g id=\"patch_1\">\n   <path d=\"M 0 170.754375 \nL 338.360937 170.754375 \nL 338.360937 0 \nL 0 0 \nz\n\" style=\"fill: #ffffff\"/>\n  </g>\n  <g id=\"axes_1\">\n   <g id=\"patch_2\">\n    <path d=\"M 52.160938 133.198125 \nL 178.979119 133.198125 \nL 178.979119 22.318125 \nL 52.160938 22.318125 \nz\n\" style=\"fill: #ffffff\"/>\n   </g>\n   <g id=\"matplotlib.axis_1\">\n    <g id=\"xtick_1\">\n     <g id=\"line2d_1\">\n      <defs>\n       <path id=\"m4a0fd141d1\" d=\"M 0 0 \nL 0 3.5 \n\" style=\"stroke: #000000; stroke-width: 0.8\"/>\n      </defs>\n      <g>\n       <use xlink:href=\"#m4a0fd141d1\" x=\"79.457424\" y=\"133.198125\" style=\"stroke: #000000; stroke-width: 0.8\"/>\n      </g>\n     </g>\n     <g id=\"text_1\">\n      <!-- −1 -->\n      <g transform=\"translate(72.086331 147.796563) scale(0.1 -0.1)\">\n       <defs>\n        <path id=\"DejaVuSans-2212\" d=\"M 678 2272 \nL 4684 2272 \nL 4684 1741 \nL 678 1741 \nL 678 2272 \nz\n\" transform=\"scale(0.015625)\"/>\n        <path id=\"DejaVuSans-31\" d=\"M 794 531 \nL 1825 531 \nL 1825 4091 \nL 703 3866 \nL 703 4441 \nL 1819 4666 \nL 2450 4666 \nL 2450 531 \nL 3481 531 \nL 3481 0 \nL 794 0 \nL 794 531 \nz\n\" transform=\"scale(0.015625)\"/>\n       </defs>\n       <use xlink:href=\"#DejaVuSans-2212\"/>\n       <use xlink:href=\"#DejaVuSans-31\" x=\"83.789062\"/>\n      </g>\n     </g>\n    </g>\n    <g id=\"xtick_2\">\n     <g id=\"line2d_2\">\n      <g>\n       <use xlink:href=\"#m4a0fd141d1\" x=\"128.696941\" y=\"133.198125\" style=\"stroke: #000000; stroke-width: 0.8\"/>\n      </g>\n     </g>\n     <g id=\"text_2\">\n      <!-- 0 -->\n      <g transform=\"translate(125.515691 147.796563) scale(0.1 -0.1)\">\n       <defs>\n        <path id=\"DejaVuSans-30\" d=\"M 2034 4250 \nQ 1547 4250 1301 3770 \nQ 1056 3291 1056 2328 \nQ 1056 1369 1301 889 \nQ 1547 409 2034 409 \nQ 2525 409 2770 889 \nQ 3016 1369 3016 2328 \nQ 3016 3291 2770 3770 \nQ 2525 4250 2034 4250 \nz\nM 2034 4750 \nQ 2819 4750 3233 4129 \nQ 3647 3509 3647 2328 \nQ 3647 1150 3233 529 \nQ 2819 -91 2034 -91 \nQ 1250 -91 836 529 \nQ 422 1150 422 2328 \nQ 422 3509 836 4129 \nQ 1250 4750 2034 4750 \nz\n\" transform=\"scale(0.015625)\"/>\n       </defs>\n       <use xlink:href=\"#DejaVuSans-30\"/>\n      </g>\n     </g>\n    </g>\n    <g id=\"xtick_3\">\n     <g id=\"line2d_3\">\n      <g>\n       <use xlink:href=\"#m4a0fd141d1\" x=\"177.936457\" y=\"133.198125\" style=\"stroke: #000000; stroke-width: 0.8\"/>\n      </g>\n     </g>\n     <g id=\"text_3\">\n      <!-- 1 -->\n      <g transform=\"translate(174.755207 147.796563) scale(0.1 -0.1)\">\n       <use xlink:href=\"#DejaVuSans-31\"/>\n      </g>\n     </g>\n    </g>\n    <g id=\"text_4\">\n     <!-- $X_1$ -->\n     <g transform=\"translate(109.770028 161.474688) scale(0.1 -0.1)\">\n      <defs>\n       <path id=\"DejaVuSans-Oblique-58\" d=\"M 878 4666 \nL 1516 4666 \nL 2316 2981 \nL 3763 4666 \nL 4500 4666 \nL 2578 2438 \nL 3738 0 \nL 3103 0 \nL 2163 1966 \nL 459 0 \nL -275 0 \nL 1906 2509 \nL 878 4666 \nz\n\" transform=\"scale(0.015625)\"/>\n      </defs>\n      <use xlink:href=\"#DejaVuSans-Oblique-58\" transform=\"translate(0 0.09375)\"/>\n      <use xlink:href=\"#DejaVuSans-31\" transform=\"translate(68.505859 -16.3125) scale(0.7)\"/>\n     </g>\n    </g>\n   </g>\n   <g id=\"matplotlib.axis_2\">\n    <g id=\"ytick_1\">\n     <g id=\"line2d_4\">\n      <defs>\n       <path id=\"mb8bda50637\" d=\"M 0 0 \nL -3.5 0 \n\" style=\"stroke: #000000; stroke-width: 0.8\"/>\n      </defs>\n      <g>\n       <use xlink:href=\"#mb8bda50637\" x=\"52.160938\" y=\"123.999154\" style=\"stroke: #000000; stroke-width: 0.8\"/>\n      </g>\n     </g>\n     <g id=\"text_5\">\n      <!-- −5.0 -->\n      <g transform=\"translate(20.878125 127.798373) scale(0.1 -0.1)\">\n       <defs>\n        <path id=\"DejaVuSans-35\" d=\"M 691 4666 \nL 3169 4666 \nL 3169 4134 \nL 1269 4134 \nL 1269 2991 \nQ 1406 3038 1543 3061 \nQ 1681 3084 1819 3084 \nQ 2600 3084 3056 2656 \nQ 3513 2228 3513 1497 \nQ 3513 744 3044 326 \nQ 2575 -91 1722 -91 \nQ 1428 -91 1123 -41 \nQ 819 9 494 109 \nL 494 744 \nQ 775 591 1075 516 \nQ 1375 441 1709 441 \nQ 2250 441 2565 725 \nQ 2881 1009 2881 1497 \nQ 2881 1984 2565 2268 \nQ 2250 2553 1709 2553 \nQ 1456 2553 1204 2497 \nQ 953 2441 691 2322 \nL 691 4666 \nz\n\" transform=\"scale(0.015625)\"/>\n        <path id=\"DejaVuSans-2e\" d=\"M 684 794 \nL 1344 794 \nL 1344 0 \nL 684 0 \nL 684 794 \nz\n\" transform=\"scale(0.015625)\"/>\n       </defs>\n       <use xlink:href=\"#DejaVuSans-2212\"/>\n       <use xlink:href=\"#DejaVuSans-35\" x=\"83.789062\"/>\n       <use xlink:href=\"#DejaVuSans-2e\" x=\"147.412109\"/>\n       <use xlink:href=\"#DejaVuSans-30\" x=\"179.199219\"/>\n      </g>\n     </g>\n    </g>\n    <g id=\"ytick_2\">\n     <g id=\"line2d_5\">\n      <g>\n       <use xlink:href=\"#mb8bda50637\" x=\"52.160938\" y=\"97.256402\" style=\"stroke: #000000; stroke-width: 0.8\"/>\n      </g>\n     </g>\n     <g id=\"text_6\">\n      <!-- −2.5 -->\n      <g transform=\"translate(20.878125 101.055621) scale(0.1 -0.1)\">\n       <defs>\n        <path id=\"DejaVuSans-32\" d=\"M 1228 531 \nL 3431 531 \nL 3431 0 \nL 469 0 \nL 469 531 \nQ 828 903 1448 1529 \nQ 2069 2156 2228 2338 \nQ 2531 2678 2651 2914 \nQ 2772 3150 2772 3378 \nQ 2772 3750 2511 3984 \nQ 2250 4219 1831 4219 \nQ 1534 4219 1204 4116 \nQ 875 4013 500 3803 \nL 500 4441 \nQ 881 4594 1212 4672 \nQ 1544 4750 1819 4750 \nQ 2544 4750 2975 4387 \nQ 3406 4025 3406 3419 \nQ 3406 3131 3298 2873 \nQ 3191 2616 2906 2266 \nQ 2828 2175 2409 1742 \nQ 1991 1309 1228 531 \nz\n\" transform=\"scale(0.015625)\"/>\n       </defs>\n       <use xlink:href=\"#DejaVuSans-2212\"/>\n       <use xlink:href=\"#DejaVuSans-32\" x=\"83.789062\"/>\n       <use xlink:href=\"#DejaVuSans-2e\" x=\"147.412109\"/>\n       <use xlink:href=\"#DejaVuSans-35\" x=\"179.199219\"/>\n      </g>\n     </g>\n    </g>\n    <g id=\"ytick_3\">\n     <g id=\"line2d_6\">\n      <g>\n       <use xlink:href=\"#mb8bda50637\" x=\"52.160938\" y=\"70.51365\" style=\"stroke: #000000; stroke-width: 0.8\"/>\n      </g>\n     </g>\n     <g id=\"text_7\">\n      <!-- 0.0 -->\n      <g transform=\"translate(29.257812 74.312868) scale(0.1 -0.1)\">\n       <use xlink:href=\"#DejaVuSans-30\"/>\n       <use xlink:href=\"#DejaVuSans-2e\" x=\"63.623047\"/>\n       <use xlink:href=\"#DejaVuSans-30\" x=\"95.410156\"/>\n      </g>\n     </g>\n    </g>\n    <g id=\"ytick_4\">\n     <g id=\"line2d_7\">\n      <g>\n       <use xlink:href=\"#mb8bda50637\" x=\"52.160938\" y=\"43.770897\" style=\"stroke: #000000; stroke-width: 0.8\"/>\n      </g>\n     </g>\n     <g id=\"text_8\">\n      <!-- 2.5 -->\n      <g transform=\"translate(29.257812 47.570116) scale(0.1 -0.1)\">\n       <use xlink:href=\"#DejaVuSans-32\"/>\n       <use xlink:href=\"#DejaVuSans-2e\" x=\"63.623047\"/>\n       <use xlink:href=\"#DejaVuSans-35\" x=\"95.410156\"/>\n      </g>\n     </g>\n    </g>\n    <g id=\"text_9\">\n     <!-- $Y$ -->\n     <g transform=\"translate(14.798438 80.858125) rotate(-90) scale(0.1 -0.1)\">\n      <defs>\n       <path id=\"DejaVuSans-Oblique-59\" d=\"M 403 4666 \nL 1081 4666 \nL 1953 2747 \nL 3616 4666 \nL 4325 4666 \nL 2209 2222 \nL 1778 0 \nL 1147 0 \nL 1575 2222 \nL 403 4666 \nz\n\" transform=\"scale(0.015625)\"/>\n      </defs>\n      <use xlink:href=\"#DejaVuSans-Oblique-59\" transform=\"translate(0 0.09375)\"/>\n     </g>\n    </g>\n   </g>\n   <g id=\"line2d_8\">\n    <defs>\n     <path id=\"m75d3a65383\" d=\"M 0 1.5 \nC 0.397805 1.5 0.77937 1.341951 1.06066 1.06066 \nC 1.341951 0.77937 1.5 0.397805 1.5 0 \nC 1.5 -0.397805 1.341951 -0.77937 1.06066 -1.06066 \nC 0.77937 -1.341951 0.397805 -1.5 0 -1.5 \nC -0.397805 -1.5 -0.77937 -1.341951 -1.06066 -1.06066 \nC -1.341951 -0.77937 -1.5 -0.397805 -1.5 0 \nC -1.5 0.397805 -1.341951 0.77937 -1.06066 1.06066 \nC -0.77937 1.341951 -0.397805 1.5 0 1.5 \nz\n\" style=\"stroke: #1f77b4\"/>\n    </defs>\n    <g clip-path=\"url(#p5a03fa657f)\">\n     <use xlink:href=\"#m75d3a65383\" x=\"124.041458\" y=\"59.553414\" style=\"fill: #1f77b4; stroke: #1f77b4\"/>\n     <use xlink:href=\"#m75d3a65383\" x=\"101.613176\" y=\"74.59319\" style=\"fill: #1f77b4; stroke: #1f77b4\"/>\n     <use xlink:href=\"#m75d3a65383\" x=\"133.322856\" y=\"85.891619\" style=\"fill: #1f77b4; stroke: #1f77b4\"/>\n     <use xlink:href=\"#m75d3a65383\" x=\"134.565429\" y=\"62.434564\" style=\"fill: #1f77b4; stroke: #1f77b4\"/>\n     <use xlink:href=\"#m75d3a65383\" x=\"132.810046\" y=\"67.771415\" style=\"fill: #1f77b4; stroke: #1f77b4\"/>\n     <use xlink:href=\"#m75d3a65383\" x=\"129.896876\" y=\"112.584529\" style=\"fill: #1f77b4; stroke: #1f77b4\"/>\n     <use xlink:href=\"#m75d3a65383\" x=\"116.399066\" y=\"108.346577\" style=\"fill: #1f77b4; stroke: #1f77b4\"/>\n     <use xlink:href=\"#m75d3a65383\" x=\"125.546687\" y=\"115.3961\" style=\"fill: #1f77b4; stroke: #1f77b4\"/>\n     <use xlink:href=\"#m75d3a65383\" x=\"106.011051\" y=\"44.559436\" style=\"fill: #1f77b4; stroke: #1f77b4\"/>\n     <use xlink:href=\"#m75d3a65383\" x=\"121.224747\" y=\"58.26014\" style=\"fill: #1f77b4; stroke: #1f77b4\"/>\n     <use xlink:href=\"#m75d3a65383\" x=\"109.505246\" y=\"43.035928\" style=\"fill: #1f77b4; stroke: #1f77b4\"/>\n     <use xlink:href=\"#m75d3a65383\" x=\"105.957961\" y=\"64.255364\" style=\"fill: #1f77b4; stroke: #1f77b4\"/>\n     <use xlink:href=\"#m75d3a65383\" x=\"156.060203\" y=\"73.866787\" style=\"fill: #1f77b4; stroke: #1f77b4\"/>\n     <use xlink:href=\"#m75d3a65383\" x=\"117.383142\" y=\"75.520705\" style=\"fill: #1f77b4; stroke: #1f77b4\"/>\n     <use xlink:href=\"#m75d3a65383\" x=\"106.320635\" y=\"98.695086\" style=\"fill: #1f77b4; stroke: #1f77b4\"/>\n     <use xlink:href=\"#m75d3a65383\" x=\"133.551528\" y=\"58.676991\" style=\"fill: #1f77b4; stroke: #1f77b4\"/>\n     <use xlink:href=\"#m75d3a65383\" x=\"151.640136\" y=\"71.655386\" style=\"fill: #1f77b4; stroke: #1f77b4\"/>\n     <use xlink:href=\"#m75d3a65383\" x=\"111.019355\" y=\"77.241005\" style=\"fill: #1f77b4; stroke: #1f77b4\"/>\n     <use xlink:href=\"#m75d3a65383\" x=\"156.95461\" y=\"54.672591\" style=\"fill: #1f77b4; stroke: #1f77b4\"/>\n     <use xlink:href=\"#m75d3a65383\" x=\"129.514908\" y=\"69.018502\" style=\"fill: #1f77b4; stroke: #1f77b4\"/>\n     <use xlink:href=\"#m75d3a65383\" x=\"106.232448\" y=\"67.117573\" style=\"fill: #1f77b4; stroke: #1f77b4\"/>\n     <use xlink:href=\"#m75d3a65383\" x=\"151.197186\" y=\"93.411444\" style=\"fill: #1f77b4; stroke: #1f77b4\"/>\n     <use xlink:href=\"#m75d3a65383\" x=\"141.585544\" y=\"69.525933\" style=\"fill: #1f77b4; stroke: #1f77b4\"/>\n     <use xlink:href=\"#m75d3a65383\" x=\"117.735724\" y=\"53.675444\" style=\"fill: #1f77b4; stroke: #1f77b4\"/>\n     <use xlink:href=\"#m75d3a65383\" x=\"154.939707\" y=\"60.665667\" style=\"fill: #1f77b4; stroke: #1f77b4\"/>\n     <use xlink:href=\"#m75d3a65383\" x=\"111.720355\" y=\"74.615278\" style=\"fill: #1f77b4; stroke: #1f77b4\"/>\n     <use xlink:href=\"#m75d3a65383\" x=\"132.007553\" y=\"83.973982\" style=\"fill: #1f77b4; stroke: #1f77b4\"/>\n     <use xlink:href=\"#m75d3a65383\" x=\"119.849743\" y=\"100.617401\" style=\"fill: #1f77b4; stroke: #1f77b4\"/>\n     <use xlink:href=\"#m75d3a65383\" x=\"152.503599\" y=\"64.127737\" style=\"fill: #1f77b4; stroke: #1f77b4\"/>\n     <use xlink:href=\"#m75d3a65383\" x=\"107.221505\" y=\"86.485195\" style=\"fill: #1f77b4; stroke: #1f77b4\"/>\n     <use xlink:href=\"#m75d3a65383\" x=\"111.057889\" y=\"37.115618\" style=\"fill: #1f77b4; stroke: #1f77b4\"/>\n     <use xlink:href=\"#m75d3a65383\" x=\"104.225342\" y=\"73.416917\" style=\"fill: #1f77b4; stroke: #1f77b4\"/>\n     <use xlink:href=\"#m75d3a65383\" x=\"96.974788\" y=\"77.727198\" style=\"fill: #1f77b4; stroke: #1f77b4\"/>\n     <use xlink:href=\"#m75d3a65383\" x=\"73.902688\" y=\"99.232025\" style=\"fill: #1f77b4; stroke: #1f77b4\"/>\n     <use xlink:href=\"#m75d3a65383\" x=\"143.988216\" y=\"80.373468\" style=\"fill: #1f77b4; stroke: #1f77b4\"/>\n     <use xlink:href=\"#m75d3a65383\" x=\"161.670838\" y=\"103.79382\" style=\"fill: #1f77b4; stroke: #1f77b4\"/>\n     <use xlink:href=\"#m75d3a65383\" x=\"94.450126\" y=\"83.536476\" style=\"fill: #1f77b4; stroke: #1f77b4\"/>\n     <use xlink:href=\"#m75d3a65383\" x=\"122.202206\" y=\"95.586797\" style=\"fill: #1f77b4; stroke: #1f77b4\"/>\n     <use xlink:href=\"#m75d3a65383\" x=\"98.088694\" y=\"128.158125\" style=\"fill: #1f77b4; stroke: #1f77b4\"/>\n     <use xlink:href=\"#m75d3a65383\" x=\"139.758349\" y=\"27.358125\" style=\"fill: #1f77b4; stroke: #1f77b4\"/>\n     <use xlink:href=\"#m75d3a65383\" x=\"122.721114\" y=\"43.304927\" style=\"fill: #1f77b4; stroke: #1f77b4\"/>\n     <use xlink:href=\"#m75d3a65383\" x=\"108.568729\" y=\"81.715925\" style=\"fill: #1f77b4; stroke: #1f77b4\"/>\n     <use xlink:href=\"#m75d3a65383\" x=\"124.372971\" y=\"68.904682\" style=\"fill: #1f77b4; stroke: #1f77b4\"/>\n     <use xlink:href=\"#m75d3a65383\" x=\"118.186391\" y=\"29.874582\" style=\"fill: #1f77b4; stroke: #1f77b4\"/>\n     <use xlink:href=\"#m75d3a65383\" x=\"144.591109\" y=\"58.961594\" style=\"fill: #1f77b4; stroke: #1f77b4\"/>\n     <use xlink:href=\"#m75d3a65383\" x=\"162.014387\" y=\"82.83597\" style=\"fill: #1f77b4; stroke: #1f77b4\"/>\n     <use xlink:href=\"#m75d3a65383\" x=\"136.033265\" y=\"88.636695\" style=\"fill: #1f77b4; stroke: #1f77b4\"/>\n     <use xlink:href=\"#m75d3a65383\" x=\"96.639754\" y=\"98.846991\" style=\"fill: #1f77b4; stroke: #1f77b4\"/>\n     <use xlink:href=\"#m75d3a65383\" x=\"145.060786\" y=\"43.726407\" style=\"fill: #1f77b4; stroke: #1f77b4\"/>\n     <use xlink:href=\"#m75d3a65383\" x=\"57.9254\" y=\"100.548431\" style=\"fill: #1f77b4; stroke: #1f77b4\"/>\n     <use xlink:href=\"#m75d3a65383\" x=\"145.651982\" y=\"50.913359\" style=\"fill: #1f77b4; stroke: #1f77b4\"/>\n     <use xlink:href=\"#m75d3a65383\" x=\"137.567068\" y=\"90.216264\" style=\"fill: #1f77b4; stroke: #1f77b4\"/>\n     <use xlink:href=\"#m75d3a65383\" x=\"127.57637\" y=\"75.347627\" style=\"fill: #1f77b4; stroke: #1f77b4\"/>\n     <use xlink:href=\"#m75d3a65383\" x=\"126.639818\" y=\"86.959021\" style=\"fill: #1f77b4; stroke: #1f77b4\"/>\n     <use xlink:href=\"#m75d3a65383\" x=\"83.687302\" y=\"102.11819\" style=\"fill: #1f77b4; stroke: #1f77b4\"/>\n     <use xlink:href=\"#m75d3a65383\" x=\"94.909598\" y=\"71.865139\" style=\"fill: #1f77b4; stroke: #1f77b4\"/>\n     <use xlink:href=\"#m75d3a65383\" x=\"86.291078\" y=\"105.963961\" style=\"fill: #1f77b4; stroke: #1f77b4\"/>\n     <use xlink:href=\"#m75d3a65383\" x=\"117.887685\" y=\"61.601532\" style=\"fill: #1f77b4; stroke: #1f77b4\"/>\n     <use xlink:href=\"#m75d3a65383\" x=\"126.016023\" y=\"92.695842\" style=\"fill: #1f77b4; stroke: #1f77b4\"/>\n     <use xlink:href=\"#m75d3a65383\" x=\"129.853172\" y=\"74.019794\" style=\"fill: #1f77b4; stroke: #1f77b4\"/>\n     <use xlink:href=\"#m75d3a65383\" x=\"159.957307\" y=\"51.851611\" style=\"fill: #1f77b4; stroke: #1f77b4\"/>\n     <use xlink:href=\"#m75d3a65383\" x=\"149.237002\" y=\"56.540112\" style=\"fill: #1f77b4; stroke: #1f77b4\"/>\n     <use xlink:href=\"#m75d3a65383\" x=\"115.704899\" y=\"85.158478\" style=\"fill: #1f77b4; stroke: #1f77b4\"/>\n     <use xlink:href=\"#m75d3a65383\" x=\"129.21012\" y=\"78.064398\" style=\"fill: #1f77b4; stroke: #1f77b4\"/>\n     <use xlink:href=\"#m75d3a65383\" x=\"88.718969\" y=\"98.582184\" style=\"fill: #1f77b4; stroke: #1f77b4\"/>\n     <use xlink:href=\"#m75d3a65383\" x=\"134.249156\" y=\"85.028715\" style=\"fill: #1f77b4; stroke: #1f77b4\"/>\n     <use xlink:href=\"#m75d3a65383\" x=\"118.969438\" y=\"85.598862\" style=\"fill: #1f77b4; stroke: #1f77b4\"/>\n     <use xlink:href=\"#m75d3a65383\" x=\"96.755974\" y=\"88.120875\" style=\"fill: #1f77b4; stroke: #1f77b4\"/>\n     <use xlink:href=\"#m75d3a65383\" x=\"114.511362\" y=\"71.26601\" style=\"fill: #1f77b4; stroke: #1f77b4\"/>\n     <use xlink:href=\"#m75d3a65383\" x=\"173.214657\" y=\"71.20746\" style=\"fill: #1f77b4; stroke: #1f77b4\"/>\n     <use xlink:href=\"#m75d3a65383\" x=\"130.025717\" y=\"48.181576\" style=\"fill: #1f77b4; stroke: #1f77b4\"/>\n     <use xlink:href=\"#m75d3a65383\" x=\"103.708171\" y=\"104.951934\" style=\"fill: #1f77b4; stroke: #1f77b4\"/>\n     <use xlink:href=\"#m75d3a65383\" x=\"112.708016\" y=\"75.230498\" style=\"fill: #1f77b4; stroke: #1f77b4\"/>\n     <use xlink:href=\"#m75d3a65383\" x=\"86.097135\" y=\"96.716245\" style=\"fill: #1f77b4; stroke: #1f77b4\"/>\n     <use xlink:href=\"#m75d3a65383\" x=\"104.98357\" y=\"84.595081\" style=\"fill: #1f77b4; stroke: #1f77b4\"/>\n     <use xlink:href=\"#m75d3a65383\" x=\"93.315141\" y=\"61.809385\" style=\"fill: #1f77b4; stroke: #1f77b4\"/>\n     <use xlink:href=\"#m75d3a65383\" x=\"114.875141\" y=\"104.721189\" style=\"fill: #1f77b4; stroke: #1f77b4\"/>\n     <use xlink:href=\"#m75d3a65383\" x=\"160.963525\" y=\"80.495993\" style=\"fill: #1f77b4; stroke: #1f77b4\"/>\n     <use xlink:href=\"#m75d3a65383\" x=\"147.644579\" y=\"72.857594\" style=\"fill: #1f77b4; stroke: #1f77b4\"/>\n     <use xlink:href=\"#m75d3a65383\" x=\"98.798723\" y=\"80.553971\" style=\"fill: #1f77b4; stroke: #1f77b4\"/>\n     <use xlink:href=\"#m75d3a65383\" x=\"121.289773\" y=\"65.500368\" style=\"fill: #1f77b4; stroke: #1f77b4\"/>\n     <use xlink:href=\"#m75d3a65383\" x=\"109.031259\" y=\"56.480887\" style=\"fill: #1f77b4; stroke: #1f77b4\"/>\n     <use xlink:href=\"#m75d3a65383\" x=\"97.074742\" y=\"110.49538\" style=\"fill: #1f77b4; stroke: #1f77b4\"/>\n     <use xlink:href=\"#m75d3a65383\" x=\"123.755939\" y=\"81.396629\" style=\"fill: #1f77b4; stroke: #1f77b4\"/>\n     <use xlink:href=\"#m75d3a65383\" x=\"130.775004\" y=\"75.879438\" style=\"fill: #1f77b4; stroke: #1f77b4\"/>\n     <use xlink:href=\"#m75d3a65383\" x=\"111.574464\" y=\"82.927746\" style=\"fill: #1f77b4; stroke: #1f77b4\"/>\n     <use xlink:href=\"#m75d3a65383\" x=\"168.01024\" y=\"54.452989\" style=\"fill: #1f77b4; stroke: #1f77b4\"/>\n     <use xlink:href=\"#m75d3a65383\" x=\"111.189218\" y=\"68.607232\" style=\"fill: #1f77b4; stroke: #1f77b4\"/>\n     <use xlink:href=\"#m75d3a65383\" x=\"120.643284\" y=\"73.414535\" style=\"fill: #1f77b4; stroke: #1f77b4\"/>\n     <use xlink:href=\"#m75d3a65383\" x=\"112.947148\" y=\"90.674715\" style=\"fill: #1f77b4; stroke: #1f77b4\"/>\n     <use xlink:href=\"#m75d3a65383\" x=\"78.556496\" y=\"49.377897\" style=\"fill: #1f77b4; stroke: #1f77b4\"/>\n     <use xlink:href=\"#m75d3a65383\" x=\"161.739809\" y=\"89.334067\" style=\"fill: #1f77b4; stroke: #1f77b4\"/>\n     <use xlink:href=\"#m75d3a65383\" x=\"87.476511\" y=\"54.945534\" style=\"fill: #1f77b4; stroke: #1f77b4\"/>\n     <use xlink:href=\"#m75d3a65383\" x=\"130.908871\" y=\"46.825603\" style=\"fill: #1f77b4; stroke: #1f77b4\"/>\n     <use xlink:href=\"#m75d3a65383\" x=\"131.814052\" y=\"62.348134\" style=\"fill: #1f77b4; stroke: #1f77b4\"/>\n     <use xlink:href=\"#m75d3a65383\" x=\"141.433677\" y=\"81.060815\" style=\"fill: #1f77b4; stroke: #1f77b4\"/>\n     <use xlink:href=\"#m75d3a65383\" x=\"139.735496\" y=\"56.672986\" style=\"fill: #1f77b4; stroke: #1f77b4\"/>\n     <use xlink:href=\"#m75d3a65383\" x=\"109.491653\" y=\"76.821963\" style=\"fill: #1f77b4; stroke: #1f77b4\"/>\n     <use xlink:href=\"#m75d3a65383\" x=\"138.533815\" y=\"108.571231\" style=\"fill: #1f77b4; stroke: #1f77b4\"/>\n     <use xlink:href=\"#m75d3a65383\" x=\"116.200036\" y=\"29.01549\" style=\"fill: #1f77b4; stroke: #1f77b4\"/>\n    </g>\n   </g>\n   <g id=\"patch_3\">\n    <path d=\"M 52.160938 133.198125 \nL 52.160938 22.318125 \n\" style=\"fill: none; stroke: #000000; stroke-width: 0.8; stroke-linejoin: miter; stroke-linecap: square\"/>\n   </g>\n   <g id=\"patch_4\">\n    <path d=\"M 178.979119 133.198125 \nL 178.979119 22.318125 \n\" style=\"fill: none; stroke: #000000; stroke-width: 0.8; stroke-linejoin: miter; stroke-linecap: square\"/>\n   </g>\n   <g id=\"patch_5\">\n    <path d=\"M 52.160938 133.198125 \nL 178.979119 133.198125 \n\" style=\"fill: none; stroke: #000000; stroke-width: 0.8; stroke-linejoin: miter; stroke-linecap: square\"/>\n   </g>\n   <g id=\"patch_6\">\n    <path d=\"M 52.160938 22.318125 \nL 178.979119 22.318125 \n\" style=\"fill: none; stroke: #000000; stroke-width: 0.8; stroke-linejoin: miter; stroke-linecap: square\"/>\n   </g>\n   <g id=\"text_10\">\n    <!-- $Y\\,\\, {\\rm vs.} \\,\\,X_1$ -->\n    <g transform=\"translate(91.270028 16.318125) scale(0.12 -0.12)\">\n     <defs>\n      <path id=\"DejaVuSans-76\" d=\"M 191 3500 \nL 800 3500 \nL 1894 563 \nL 2988 3500 \nL 3597 3500 \nL 2284 0 \nL 1503 0 \nL 191 3500 \nz\n\" transform=\"scale(0.015625)\"/>\n      <path id=\"DejaVuSans-73\" d=\"M 2834 3397 \nL 2834 2853 \nQ 2591 2978 2328 3040 \nQ 2066 3103 1784 3103 \nQ 1356 3103 1142 2972 \nQ 928 2841 928 2578 \nQ 928 2378 1081 2264 \nQ 1234 2150 1697 2047 \nL 1894 2003 \nQ 2506 1872 2764 1633 \nQ 3022 1394 3022 966 \nQ 3022 478 2636 193 \nQ 2250 -91 1575 -91 \nQ 1294 -91 989 -36 \nQ 684 19 347 128 \nL 347 722 \nQ 666 556 975 473 \nQ 1284 391 1588 391 \nQ 1994 391 2212 530 \nQ 2431 669 2431 922 \nQ 2431 1156 2273 1281 \nQ 2116 1406 1581 1522 \nL 1381 1569 \nQ 847 1681 609 1914 \nQ 372 2147 372 2553 \nQ 372 3047 722 3315 \nQ 1072 3584 1716 3584 \nQ 2034 3584 2315 3537 \nQ 2597 3491 2834 3397 \nz\n\" transform=\"scale(0.015625)\"/>\n     </defs>\n     <use xlink:href=\"#DejaVuSans-Oblique-59\" transform=\"translate(0 0.09375)\"/>\n     <use xlink:href=\"#DejaVuSans-76\" transform=\"translate(93.555337 0.09375)\"/>\n     <use xlink:href=\"#DejaVuSans-73\" transform=\"translate(152.735024 0.09375)\"/>\n     <use xlink:href=\"#DejaVuSans-2e\" transform=\"translate(204.834634 0.09375)\"/>\n     <use xlink:href=\"#DejaVuSans-Oblique-58\" transform=\"translate(288.575518 0.09375)\"/>\n     <use xlink:href=\"#DejaVuSans-31\" transform=\"translate(357.081377 -16.3125) scale(0.7)\"/>\n    </g>\n   </g>\n  </g>\n  <g id=\"axes_2\">\n   <g id=\"patch_7\">\n    <path d=\"M 204.342756 133.198125 \nL 331.160937 133.198125 \nL 331.160937 22.318125 \nL 204.342756 22.318125 \nz\n\" style=\"fill: #ffffff\"/>\n   </g>\n   <g id=\"matplotlib.axis_3\">\n    <g id=\"xtick_4\">\n     <g id=\"line2d_9\">\n      <g>\n       <use xlink:href=\"#m4a0fd141d1\" x=\"217.983084\" y=\"133.198125\" style=\"stroke: #000000; stroke-width: 0.8\"/>\n      </g>\n     </g>\n     <g id=\"text_11\">\n      <!-- −2 -->\n      <g transform=\"translate(210.611991 147.796563) scale(0.1 -0.1)\">\n       <use xlink:href=\"#DejaVuSans-2212\"/>\n       <use xlink:href=\"#DejaVuSans-32\" x=\"83.789062\"/>\n      </g>\n     </g>\n    </g>\n    <g id=\"xtick_5\">\n     <g id=\"line2d_10\">\n      <g>\n       <use xlink:href=\"#m4a0fd141d1\" x=\"270.817872\" y=\"133.198125\" style=\"stroke: #000000; stroke-width: 0.8\"/>\n      </g>\n     </g>\n     <g id=\"text_12\">\n      <!-- 0 -->\n      <g transform=\"translate(267.636622 147.796563) scale(0.1 -0.1)\">\n       <use xlink:href=\"#DejaVuSans-30\"/>\n      </g>\n     </g>\n    </g>\n    <g id=\"xtick_6\">\n     <g id=\"line2d_11\">\n      <g>\n       <use xlink:href=\"#m4a0fd141d1\" x=\"323.65266\" y=\"133.198125\" style=\"stroke: #000000; stroke-width: 0.8\"/>\n      </g>\n     </g>\n     <g id=\"text_13\">\n      <!-- 2 -->\n      <g transform=\"translate(320.47141 147.796563) scale(0.1 -0.1)\">\n       <use xlink:href=\"#DejaVuSans-32\"/>\n      </g>\n     </g>\n    </g>\n    <g id=\"text_14\">\n     <!-- $X_2$ -->\n     <g transform=\"translate(261.951847 161.474688) scale(0.1 -0.1)\">\n      <use xlink:href=\"#DejaVuSans-Oblique-58\" transform=\"translate(0 0.09375)\"/>\n      <use xlink:href=\"#DejaVuSans-32\" transform=\"translate(68.505859 -16.3125) scale(0.7)\"/>\n     </g>\n    </g>\n   </g>\n   <g id=\"matplotlib.axis_4\">\n    <g id=\"ytick_5\">\n     <g id=\"line2d_12\">\n      <g>\n       <use xlink:href=\"#mb8bda50637\" x=\"204.342756\" y=\"123.999154\" style=\"stroke: #000000; stroke-width: 0.8\"/>\n      </g>\n     </g>\n    </g>\n    <g id=\"ytick_6\">\n     <g id=\"line2d_13\">\n      <g>\n       <use xlink:href=\"#mb8bda50637\" x=\"204.342756\" y=\"97.256402\" style=\"stroke: #000000; stroke-width: 0.8\"/>\n      </g>\n     </g>\n    </g>\n    <g id=\"ytick_7\">\n     <g id=\"line2d_14\">\n      <g>\n       <use xlink:href=\"#mb8bda50637\" x=\"204.342756\" y=\"70.51365\" style=\"stroke: #000000; stroke-width: 0.8\"/>\n      </g>\n     </g>\n    </g>\n    <g id=\"ytick_8\">\n     <g id=\"line2d_15\">\n      <g>\n       <use xlink:href=\"#mb8bda50637\" x=\"204.342756\" y=\"43.770897\" style=\"stroke: #000000; stroke-width: 0.8\"/>\n      </g>\n     </g>\n    </g>\n   </g>\n   <g id=\"line2d_16\">\n    <g clip-path=\"url(#pc0ffb89131)\">\n     <use xlink:href=\"#m75d3a65383\" x=\"284.592988\" y=\"59.553414\" style=\"fill: #1f77b4; stroke: #1f77b4\"/>\n     <use xlink:href=\"#m75d3a65383\" x=\"274.630926\" y=\"74.59319\" style=\"fill: #1f77b4; stroke: #1f77b4\"/>\n     <use xlink:href=\"#m75d3a65383\" x=\"254.962489\" y=\"85.891619\" style=\"fill: #1f77b4; stroke: #1f77b4\"/>\n     <use xlink:href=\"#m75d3a65383\" x=\"280.424513\" y=\"62.434564\" style=\"fill: #1f77b4; stroke: #1f77b4\"/>\n     <use xlink:href=\"#m75d3a65383\" x=\"273.751315\" y=\"67.771415\" style=\"fill: #1f77b4; stroke: #1f77b4\"/>\n     <use xlink:href=\"#m75d3a65383\" x=\"216.564539\" y=\"112.584529\" style=\"fill: #1f77b4; stroke: #1f77b4\"/>\n     <use xlink:href=\"#m75d3a65383\" x=\"226.557165\" y=\"108.346577\" style=\"fill: #1f77b4; stroke: #1f77b4\"/>\n     <use xlink:href=\"#m75d3a65383\" x=\"216.119026\" y=\"115.3961\" style=\"fill: #1f77b4; stroke: #1f77b4\"/>\n     <use xlink:href=\"#m75d3a65383\" x=\"306.970604\" y=\"44.559436\" style=\"fill: #1f77b4; stroke: #1f77b4\"/>\n     <use xlink:href=\"#m75d3a65383\" x=\"288.369436\" y=\"58.26014\" style=\"fill: #1f77b4; stroke: #1f77b4\"/>\n     <use xlink:href=\"#m75d3a65383\" x=\"310.926365\" y=\"43.035928\" style=\"fill: #1f77b4; stroke: #1f77b4\"/>\n     <use xlink:href=\"#m75d3a65383\" x=\"284.29058\" y=\"64.255364\" style=\"fill: #1f77b4; stroke: #1f77b4\"/>\n     <use xlink:href=\"#m75d3a65383\" x=\"258.037136\" y=\"73.866787\" style=\"fill: #1f77b4; stroke: #1f77b4\"/>\n     <use xlink:href=\"#m75d3a65383\" x=\"267.183573\" y=\"75.520705\" style=\"fill: #1f77b4; stroke: #1f77b4\"/>\n     <use xlink:href=\"#m75d3a65383\" x=\"241.241574\" y=\"98.695086\" style=\"fill: #1f77b4; stroke: #1f77b4\"/>\n     <use xlink:href=\"#m75d3a65383\" x=\"283.554045\" y=\"58.676991\" style=\"fill: #1f77b4; stroke: #1f77b4\"/>\n     <use xlink:href=\"#m75d3a65383\" x=\"262.941391\" y=\"71.655386\" style=\"fill: #1f77b4; stroke: #1f77b4\"/>\n     <use xlink:href=\"#m75d3a65383\" x=\"266.581481\" y=\"77.241005\" style=\"fill: #1f77b4; stroke: #1f77b4\"/>\n     <use xlink:href=\"#m75d3a65383\" x=\"283.529081\" y=\"54.672591\" style=\"fill: #1f77b4; stroke: #1f77b4\"/>\n     <use xlink:href=\"#m75d3a65383\" x=\"272.384841\" y=\"69.018502\" style=\"fill: #1f77b4; stroke: #1f77b4\"/>\n     <use xlink:href=\"#m75d3a65383\" x=\"281.799026\" y=\"67.117573\" style=\"fill: #1f77b4; stroke: #1f77b4\"/>\n     <use xlink:href=\"#m75d3a65383\" x=\"234.82958\" y=\"93.411444\" style=\"fill: #1f77b4; stroke: #1f77b4\"/>\n     <use xlink:href=\"#m75d3a65383\" x=\"268.811198\" y=\"69.525933\" style=\"fill: #1f77b4; stroke: #1f77b4\"/>\n     <use xlink:href=\"#m75d3a65383\" x=\"293.100342\" y=\"53.675444\" style=\"fill: #1f77b4; stroke: #1f77b4\"/>\n     <use xlink:href=\"#m75d3a65383\" x=\"274.328472\" y=\"60.665667\" style=\"fill: #1f77b4; stroke: #1f77b4\"/>\n     <use xlink:href=\"#m75d3a65383\" x=\"269.264976\" y=\"74.615278\" style=\"fill: #1f77b4; stroke: #1f77b4\"/>\n     <use xlink:href=\"#m75d3a65383\" x=\"252.90395\" y=\"83.973982\" style=\"fill: #1f77b4; stroke: #1f77b4\"/>\n     <use xlink:href=\"#m75d3a65383\" x=\"234.56061\" y=\"100.617401\" style=\"fill: #1f77b4; stroke: #1f77b4\"/>\n     <use xlink:href=\"#m75d3a65383\" x=\"270.205571\" y=\"64.127737\" style=\"fill: #1f77b4; stroke: #1f77b4\"/>\n     <use xlink:href=\"#m75d3a65383\" x=\"255.311082\" y=\"86.485195\" style=\"fill: #1f77b4; stroke: #1f77b4\"/>\n     <use xlink:href=\"#m75d3a65383\" x=\"315.084968\" y=\"37.115618\" style=\"fill: #1f77b4; stroke: #1f77b4\"/>\n     <use xlink:href=\"#m75d3a65383\" x=\"275.689666\" y=\"73.416917\" style=\"fill: #1f77b4; stroke: #1f77b4\"/>\n     <use xlink:href=\"#m75d3a65383\" x=\"270.302578\" y=\"77.727198\" style=\"fill: #1f77b4; stroke: #1f77b4\"/>\n     <use xlink:href=\"#m75d3a65383\" x=\"249.413237\" y=\"99.232025\" style=\"fill: #1f77b4; stroke: #1f77b4\"/>\n     <use xlink:href=\"#m75d3a65383\" x=\"256.376057\" y=\"80.373468\" style=\"fill: #1f77b4; stroke: #1f77b4\"/>\n     <use xlink:href=\"#m75d3a65383\" x=\"221.887719\" y=\"103.79382\" style=\"fill: #1f77b4; stroke: #1f77b4\"/>\n     <use xlink:href=\"#m75d3a65383\" x=\"263.750763\" y=\"83.536476\" style=\"fill: #1f77b4; stroke: #1f77b4\"/>\n     <use xlink:href=\"#m75d3a65383\" x=\"241.746126\" y=\"95.586797\" style=\"fill: #1f77b4; stroke: #1f77b4\"/>\n     <use xlink:href=\"#m75d3a65383\" x=\"210.107218\" y=\"128.158125\" style=\"fill: #1f77b4; stroke: #1f77b4\"/>\n     <use xlink:href=\"#m75d3a65383\" x=\"322.447224\" y=\"27.358125\" style=\"fill: #1f77b4; stroke: #1f77b4\"/>\n     <use xlink:href=\"#m75d3a65383\" x=\"303.935612\" y=\"43.304927\" style=\"fill: #1f77b4; stroke: #1f77b4\"/>\n     <use xlink:href=\"#m75d3a65383\" x=\"263.227047\" y=\"81.715925\" style=\"fill: #1f77b4; stroke: #1f77b4\"/>\n     <use xlink:href=\"#m75d3a65383\" x=\"274.833375\" y=\"68.904682\" style=\"fill: #1f77b4; stroke: #1f77b4\"/>\n     <use xlink:href=\"#m75d3a65383\" x=\"325.396475\" y=\"29.874582\" style=\"fill: #1f77b4; stroke: #1f77b4\"/>\n     <use xlink:href=\"#m75d3a65383\" x=\"280.493435\" y=\"58.961594\" style=\"fill: #1f77b4; stroke: #1f77b4\"/>\n     <use xlink:href=\"#m75d3a65383\" x=\"246.785548\" y=\"82.83597\" style=\"fill: #1f77b4; stroke: #1f77b4\"/>\n     <use xlink:href=\"#m75d3a65383\" x=\"247.676321\" y=\"88.636695\" style=\"fill: #1f77b4; stroke: #1f77b4\"/>\n     <use xlink:href=\"#m75d3a65383\" x=\"242.466686\" y=\"98.846991\" style=\"fill: #1f77b4; stroke: #1f77b4\"/>\n     <use xlink:href=\"#m75d3a65383\" x=\"301.399372\" y=\"43.726407\" style=\"fill: #1f77b4; stroke: #1f77b4\"/>\n     <use xlink:href=\"#m75d3a65383\" x=\"253.019611\" y=\"100.548431\" style=\"fill: #1f77b4; stroke: #1f77b4\"/>\n     <use xlink:href=\"#m75d3a65383\" x=\"290.348917\" y=\"50.913359\" style=\"fill: #1f77b4; stroke: #1f77b4\"/>\n     <use xlink:href=\"#m75d3a65383\" x=\"243.7403\" y=\"90.216264\" style=\"fill: #1f77b4; stroke: #1f77b4\"/>\n     <use xlink:href=\"#m75d3a65383\" x=\"264.19298\" y=\"75.347627\" style=\"fill: #1f77b4; stroke: #1f77b4\"/>\n     <use xlink:href=\"#m75d3a65383\" x=\"250.781167\" y=\"86.959021\" style=\"fill: #1f77b4; stroke: #1f77b4\"/>\n     <use xlink:href=\"#m75d3a65383\" x=\"243.138116\" y=\"102.11819\" style=\"fill: #1f77b4; stroke: #1f77b4\"/>\n     <use xlink:href=\"#m75d3a65383\" x=\"278.747943\" y=\"71.865139\" style=\"fill: #1f77b4; stroke: #1f77b4\"/>\n     <use xlink:href=\"#m75d3a65383\" x=\"238.166648\" y=\"105.963961\" style=\"fill: #1f77b4; stroke: #1f77b4\"/>\n     <use xlink:href=\"#m75d3a65383\" x=\"282.6254\" y=\"61.601532\" style=\"fill: #1f77b4; stroke: #1f77b4\"/>\n     <use xlink:href=\"#m75d3a65383\" x=\"248.090893\" y=\"92.695842\" style=\"fill: #1f77b4; stroke: #1f77b4\"/>\n     <use xlink:href=\"#m75d3a65383\" x=\"264.563157\" y=\"74.019794\" style=\"fill: #1f77b4; stroke: #1f77b4\"/>\n     <use xlink:href=\"#m75d3a65383\" x=\"284.286517\" y=\"51.851611\" style=\"fill: #1f77b4; stroke: #1f77b4\"/>\n     <use xlink:href=\"#m75d3a65383\" x=\"284.72128\" y=\"56.540112\" style=\"fill: #1f77b4; stroke: #1f77b4\"/>\n     <use xlink:href=\"#m75d3a65383\" x=\"257.180981\" y=\"85.158478\" style=\"fill: #1f77b4; stroke: #1f77b4\"/>\n     <use xlink:href=\"#m75d3a65383\" x=\"261.830873\" y=\"78.064398\" style=\"fill: #1f77b4; stroke: #1f77b4\"/>\n     <use xlink:href=\"#m75d3a65383\" x=\"246.965973\" y=\"98.582184\" style=\"fill: #1f77b4; stroke: #1f77b4\"/>\n     <use xlink:href=\"#m75d3a65383\" x=\"252.601097\" y=\"85.028715\" style=\"fill: #1f77b4; stroke: #1f77b4\"/>\n     <use xlink:href=\"#m75d3a65383\" x=\"254.427976\" y=\"85.598862\" style=\"fill: #1f77b4; stroke: #1f77b4\"/>\n     <use xlink:href=\"#m75d3a65383\" x=\"257.328935\" y=\"88.120875\" style=\"fill: #1f77b4; stroke: #1f77b4\"/>\n     <use xlink:href=\"#m75d3a65383\" x=\"272.274443\" y=\"71.26601\" style=\"fill: #1f77b4; stroke: #1f77b4\"/>\n     <use xlink:href=\"#m75d3a65383\" x=\"258.008931\" y=\"71.20746\" style=\"fill: #1f77b4; stroke: #1f77b4\"/>\n     <use xlink:href=\"#m75d3a65383\" x=\"296.615738\" y=\"48.181576\" style=\"fill: #1f77b4; stroke: #1f77b4\"/>\n     <use xlink:href=\"#m75d3a65383\" x=\"234.460724\" y=\"104.951934\" style=\"fill: #1f77b4; stroke: #1f77b4\"/>\n     <use xlink:href=\"#m75d3a65383\" x=\"268.35884\" y=\"75.230498\" style=\"fill: #1f77b4; stroke: #1f77b4\"/>\n     <use xlink:href=\"#m75d3a65383\" x=\"249.598023\" y=\"96.716245\" style=\"fill: #1f77b4; stroke: #1f77b4\"/>\n     <use xlink:href=\"#m75d3a65383\" x=\"258.222205\" y=\"84.595081\" style=\"fill: #1f77b4; stroke: #1f77b4\"/>\n     <use xlink:href=\"#m75d3a65383\" x=\"291.751763\" y=\"61.809385\" style=\"fill: #1f77b4; stroke: #1f77b4\"/>\n     <use xlink:href=\"#m75d3a65383\" x=\"230.007047\" y=\"104.721189\" style=\"fill: #1f77b4; stroke: #1f77b4\"/>\n     <use xlink:href=\"#m75d3a65383\" x=\"250.265364\" y=\"80.495993\" style=\"fill: #1f77b4; stroke: #1f77b4\"/>\n     <use xlink:href=\"#m75d3a65383\" x=\"262.728283\" y=\"72.857594\" style=\"fill: #1f77b4; stroke: #1f77b4\"/>\n     <use xlink:href=\"#m75d3a65383\" x=\"266.946482\" y=\"80.553971\" style=\"fill: #1f77b4; stroke: #1f77b4\"/>\n     <use xlink:href=\"#m75d3a65383\" x=\"277.780824\" y=\"65.500368\" style=\"fill: #1f77b4; stroke: #1f77b4\"/>\n     <use xlink:href=\"#m75d3a65383\" x=\"293.989801\" y=\"56.480887\" style=\"fill: #1f77b4; stroke: #1f77b4\"/>\n     <use xlink:href=\"#m75d3a65383\" x=\"230.147969\" y=\"110.49538\" style=\"fill: #1f77b4; stroke: #1f77b4\"/>\n     <use xlink:href=\"#m75d3a65383\" x=\"258.685485\" y=\"81.396629\" style=\"fill: #1f77b4; stroke: #1f77b4\"/>\n     <use xlink:href=\"#m75d3a65383\" x=\"262.187712\" y=\"75.879438\" style=\"fill: #1f77b4; stroke: #1f77b4\"/>\n     <use xlink:href=\"#m75d3a65383\" x=\"261.319737\" y=\"82.927746\" style=\"fill: #1f77b4; stroke: #1f77b4\"/>\n     <use xlink:href=\"#m75d3a65383\" x=\"279.224248\" y=\"54.452989\" style=\"fill: #1f77b4; stroke: #1f77b4\"/>\n     <use xlink:href=\"#m75d3a65383\" x=\"275.001676\" y=\"68.607232\" style=\"fill: #1f77b4; stroke: #1f77b4\"/>\n     <use xlink:href=\"#m75d3a65383\" x=\"269.422594\" y=\"73.414535\" style=\"fill: #1f77b4; stroke: #1f77b4\"/>\n     <use xlink:href=\"#m75d3a65383\" x=\"248.190388\" y=\"90.674715\" style=\"fill: #1f77b4; stroke: #1f77b4\"/>\n     <use xlink:href=\"#m75d3a65383\" x=\"311.780697\" y=\"49.377897\" style=\"fill: #1f77b4; stroke: #1f77b4\"/>\n     <use xlink:href=\"#m75d3a65383\" x=\"238.796781\" y=\"89.334067\" style=\"fill: #1f77b4; stroke: #1f77b4\"/>\n     <use xlink:href=\"#m75d3a65383\" x=\"301.041322\" y=\"54.945534\" style=\"fill: #1f77b4; stroke: #1f77b4\"/>\n     <use xlink:href=\"#m75d3a65383\" x=\"297.53483\" y=\"46.825603\" style=\"fill: #1f77b4; stroke: #1f77b4\"/>\n     <use xlink:href=\"#m75d3a65383\" x=\"281.431925\" y=\"62.348134\" style=\"fill: #1f77b4; stroke: #1f77b4\"/>\n     <use xlink:href=\"#m75d3a65383\" x=\"256.910085\" y=\"81.060815\" style=\"fill: #1f77b4; stroke: #1f77b4\"/>\n     <use xlink:href=\"#m75d3a65383\" x=\"285.415151\" y=\"56.672986\" style=\"fill: #1f77b4; stroke: #1f77b4\"/>\n     <use xlink:href=\"#m75d3a65383\" x=\"265.879658\" y=\"76.821963\" style=\"fill: #1f77b4; stroke: #1f77b4\"/>\n     <use xlink:href=\"#m75d3a65383\" x=\"220.254163\" y=\"108.571231\" style=\"fill: #1f77b4; stroke: #1f77b4\"/>\n     <use xlink:href=\"#m75d3a65383\" x=\"323.773448\" y=\"29.01549\" style=\"fill: #1f77b4; stroke: #1f77b4\"/>\n    </g>\n   </g>\n   <g id=\"patch_8\">\n    <path d=\"M 204.342756 133.198125 \nL 204.342756 22.318125 \n\" style=\"fill: none; stroke: #000000; stroke-width: 0.8; stroke-linejoin: miter; stroke-linecap: square\"/>\n   </g>\n   <g id=\"patch_9\">\n    <path d=\"M 331.160937 133.198125 \nL 331.160937 22.318125 \n\" style=\"fill: none; stroke: #000000; stroke-width: 0.8; stroke-linejoin: miter; stroke-linecap: square\"/>\n   </g>\n   <g id=\"patch_10\">\n    <path d=\"M 204.342756 133.198125 \nL 331.160937 133.198125 \n\" style=\"fill: none; stroke: #000000; stroke-width: 0.8; stroke-linejoin: miter; stroke-linecap: square\"/>\n   </g>\n   <g id=\"patch_11\">\n    <path d=\"M 204.342756 22.318125 \nL 331.160937 22.318125 \n\" style=\"fill: none; stroke: #000000; stroke-width: 0.8; stroke-linejoin: miter; stroke-linecap: square\"/>\n   </g>\n   <g id=\"text_15\">\n    <!-- $Y\\,\\, {\\rm vs.} \\,\\,X_2$ -->\n    <g transform=\"translate(243.451847 16.318125) scale(0.12 -0.12)\">\n     <use xlink:href=\"#DejaVuSans-Oblique-59\" transform=\"translate(0 0.09375)\"/>\n     <use xlink:href=\"#DejaVuSans-76\" transform=\"translate(93.555337 0.09375)\"/>\n     <use xlink:href=\"#DejaVuSans-73\" transform=\"translate(152.735024 0.09375)\"/>\n     <use xlink:href=\"#DejaVuSans-2e\" transform=\"translate(204.834634 0.09375)\"/>\n     <use xlink:href=\"#DejaVuSans-Oblique-58\" transform=\"translate(288.575518 0.09375)\"/>\n     <use xlink:href=\"#DejaVuSans-32\" transform=\"translate(357.081377 -16.3125) scale(0.7)\"/>\n    </g>\n   </g>\n  </g>\n </g>\n <defs>\n  <clipPath id=\"p5a03fa657f\">\n   <rect x=\"52.160938\" y=\"22.318125\" width=\"126.818182\" height=\"110.88\"/>\n  </clipPath>\n  <clipPath id=\"pc0ffb89131\">\n   <rect x=\"204.342756\" y=\"22.318125\" width=\"126.818182\" height=\"110.88\"/>\n  </clipPath>\n </defs>\n</svg>\n"
          },
          "metadata": {}
        }
      ]
    },
    {
      "cell_type": "code",
      "source": [
        "# another way to plot the data is using colorbar\n",
        "fig,ax = plt.subplots(figsize=(5,3))\n",
        "\n",
        "sc = ax.scatter(x1, x2, c=y, cmap='viridis')  # 'viridis' is a colormap for color mapping\n",
        "\n",
        "# Add labels and a colorbar\n",
        "ax.set_xlabel(\"$X_1$\")\n",
        "ax.set_ylabel(\"$X_2$\")\n",
        "fig.colorbar(sc,label=\"Y\")\n"
      ],
      "metadata": {
        "colab": {
          "base_uri": "https://localhost:8080/",
          "height": 325
        },
        "id": "p3C_uDboy0f3",
        "outputId": "3a626f70-998e-4a4e-fd02-8d50a15b53e7"
      },
      "execution_count": null,
      "outputs": [
        {
          "output_type": "execute_result",
          "data": {
            "text/plain": [
              "<matplotlib.colorbar.Colorbar at 0x792468d77dc0>"
            ]
          },
          "metadata": {},
          "execution_count": 3
        },
        {
          "output_type": "display_data",
          "data": {
            "text/plain": [
              "<Figure size 500x300 with 2 Axes>"
            ],
            "image/svg+xml": "<?xml version=\"1.0\" encoding=\"utf-8\" standalone=\"no\"?>\n<!DOCTYPE svg PUBLIC \"-//W3C//DTD SVG 1.1//EN\"\n  \"http://www.w3.org/Graphics/SVG/1.1/DTD/svg11.dtd\">\n<svg xmlns:xlink=\"http://www.w3.org/1999/xlink\" width=\"330.706625pt\" height=\"214.269719pt\" viewBox=\"0 0 330.706625 214.269719\" xmlns=\"http://www.w3.org/2000/svg\" version=\"1.1\">\n <metadata>\n  <rdf:RDF xmlns:dc=\"http://purl.org/dc/elements/1.1/\" xmlns:cc=\"http://creativecommons.org/ns#\" xmlns:rdf=\"http://www.w3.org/1999/02/22-rdf-syntax-ns#\">\n   <cc:Work>\n    <dc:type rdf:resource=\"http://purl.org/dc/dcmitype/StillImage\"/>\n    <dc:date>2023-10-12T11:57:15.920576</dc:date>\n    <dc:format>image/svg+xml</dc:format>\n    <dc:creator>\n     <cc:Agent>\n      <dc:title>Matplotlib v3.7.1, https://matplotlib.org/</dc:title>\n     </cc:Agent>\n    </dc:creator>\n   </cc:Work>\n  </rdf:RDF>\n </metadata>\n <defs>\n  <style type=\"text/css\">*{stroke-linejoin: round; stroke-linecap: butt}</style>\n </defs>\n <g id=\"figure_1\">\n  <g id=\"patch_1\">\n   <path d=\"M 0 214.269719 \nL 330.706625 214.269719 \nL 330.706625 0 \nL 0 0 \nz\n\" style=\"fill: #ffffff\"/>\n  </g>\n  <g id=\"axes_1\">\n   <g id=\"patch_2\">\n    <path d=\"M 42.620313 176.713469 \nL 265.820313 176.713469 \nL 265.820313 10.393469 \nL 42.620313 10.393469 \nz\n\" style=\"fill: #ffffff\"/>\n   </g>\n   <g id=\"PathCollection_1\">\n    <defs>\n     <path id=\"C0_0_7248c8893c\" d=\"M 0 3 \nC 0.795609 3 1.55874 2.683901 2.12132 2.12132 \nC 2.683901 1.55874 3 0.795609 3 -0 \nC 3 -0.795609 2.683901 -1.55874 2.12132 -2.12132 \nC 1.55874 -2.683901 0.795609 -3 0 -3 \nC -0.795609 -3 -1.55874 -2.683901 -2.12132 -2.12132 \nC -2.683901 -1.55874 -3 -0.795609 -3 0 \nC -3 0.795609 -2.683901 1.55874 -2.12132 2.12132 \nC -1.55874 2.683901 -0.795609 3 0 3 \nz\n\"/>\n    </defs>\n    <g clip-path=\"url(#p809b4398da)\">\n     <use xlink:href=\"#C0_0_7248c8893c\" x=\"169.130029\" y=\"71.466583\" style=\"fill: #3bbb75; stroke: #3bbb75\"/>\n    </g>\n    <g clip-path=\"url(#p809b4398da)\">\n     <use xlink:href=\"#C0_0_7248c8893c\" x=\"129.656252\" y=\"84.531668\" style=\"fill: #1f988b; stroke: #1f988b\"/>\n    </g>\n    <g clip-path=\"url(#p809b4398da)\">\n     <use xlink:href=\"#C0_0_7248c8893c\" x=\"185.46529\" y=\"110.326505\" style=\"fill: #287d8e; stroke: #287d8e\"/>\n    </g>\n    <g clip-path=\"url(#p809b4398da)\">\n     <use xlink:href=\"#C0_0_7248c8893c\" x=\"187.652217\" y=\"76.933472\" style=\"fill: #2fb47c; stroke: #2fb47c\"/>\n    </g>\n    <g clip-path=\"url(#p809b4398da)\">\n     <use xlink:href=\"#C0_0_7248c8893c\" x=\"184.562744\" y=\"85.685263\" style=\"fill: #22a884; stroke: #22a884\"/>\n    </g>\n    <g clip-path=\"url(#p809b4398da)\">\n     <use xlink:href=\"#C0_0_7248c8893c\" x=\"179.435564\" y=\"160.684797\" style=\"fill: #453581; stroke: #453581\"/>\n    </g>\n    <g clip-path=\"url(#p809b4398da)\">\n     <use xlink:href=\"#C0_0_7248c8893c\" x=\"155.679418\" y=\"147.57963\" style=\"fill: #414287; stroke: #414287\"/>\n    </g>\n    <g clip-path=\"url(#p809b4398da)\">\n     <use xlink:href=\"#C0_0_7248c8893c\" x=\"171.779231\" y=\"161.26908\" style=\"fill: #472d7b; stroke: #472d7b\"/>\n    </g>\n    <g clip-path=\"url(#p809b4398da)\">\n     <use xlink:href=\"#C0_0_7248c8893c\" x=\"137.396512\" y=\"42.118702\" style=\"fill: #8ed645; stroke: #8ed645\"/>\n    </g>\n    <g clip-path=\"url(#p809b4398da)\">\n     <use xlink:href=\"#C0_0_7248c8893c\" x=\"164.172618\" y=\"66.513833\" style=\"fill: #40bd72; stroke: #40bd72\"/>\n    </g>\n    <g clip-path=\"url(#p809b4398da)\">\n     <use xlink:href=\"#C0_0_7248c8893c\" x=\"143.546295\" y=\"36.930784\" style=\"fill: #98d83e; stroke: #98d83e\"/>\n    </g>\n    <g clip-path=\"url(#p809b4398da)\">\n     <use xlink:href=\"#C0_0_7248c8893c\" x=\"137.303074\" y=\"71.863187\" style=\"fill: #2ab07f; stroke: #2ab07f\"/>\n    </g>\n    <g clip-path=\"url(#p809b4398da)\">\n     <use xlink:href=\"#C0_0_7248c8893c\" x=\"225.48302\" y=\"106.294155\" style=\"fill: #1f998a; stroke: #1f998a\"/>\n    </g>\n    <g clip-path=\"url(#p809b4398da)\">\n     <use xlink:href=\"#C0_0_7248c8893c\" x=\"157.411393\" y=\"94.298751\" style=\"fill: #1f958b; stroke: #1f958b\"/>\n    </g>\n    <g clip-path=\"url(#p809b4398da)\">\n     <use xlink:href=\"#C0_0_7248c8893c\" x=\"137.94138\" y=\"128.321264\" style=\"fill: #365d8d; stroke: #365d8d\"/>\n    </g>\n    <g clip-path=\"url(#p809b4398da)\">\n     <use xlink:href=\"#C0_0_7248c8893c\" x=\"185.867752\" y=\"72.829141\" style=\"fill: #3fbc73; stroke: #3fbc73\"/>\n    </g>\n    <g clip-path=\"url(#p809b4398da)\">\n     <use xlink:href=\"#C0_0_7248c8893c\" x=\"217.703703\" y=\"99.862304\" style=\"fill: #1f9f88; stroke: #1f9f88\"/>\n    </g>\n    <g clip-path=\"url(#p809b4398da)\">\n     <use xlink:href=\"#C0_0_7248c8893c\" x=\"146.211127\" y=\"95.088385\" style=\"fill: #20928c; stroke: #20928c\"/>\n    </g>\n    <g clip-path=\"url(#p809b4398da)\">\n     <use xlink:href=\"#C0_0_7248c8893c\" x=\"227.057177\" y=\"72.861881\" style=\"fill: #52c569; stroke: #52c569\"/>\n    </g>\n    <g clip-path=\"url(#p809b4398da)\">\n     <use xlink:href=\"#C0_0_7248c8893c\" x=\"178.7633\" y=\"87.477371\" style=\"fill: #21a585; stroke: #21a585\"/>\n    </g>\n    <g clip-path=\"url(#p809b4398da)\">\n     <use xlink:href=\"#C0_0_7248c8893c\" x=\"137.78617\" y=\"75.130819\" style=\"fill: #24aa83; stroke: #24aa83\"/>\n    </g>\n    <g clip-path=\"url(#p809b4398da)\">\n     <use xlink:href=\"#C0_0_7248c8893c\" x=\"216.92411\" y=\"136.730491\" style=\"fill: #2f6b8e; stroke: #2f6b8e\"/>\n    </g>\n    <g clip-path=\"url(#p809b4398da)\">\n     <use xlink:href=\"#C0_0_7248c8893c\" x=\"200.00762\" y=\"92.164146\" style=\"fill: #20a386; stroke: #20a386\"/>\n    </g>\n    <g clip-path=\"url(#p809b4398da)\">\n     <use xlink:href=\"#C0_0_7248c8893c\" x=\"158.031937\" y=\"60.309326\" style=\"fill: #58c765; stroke: #58c765\"/>\n    </g>\n    <g clip-path=\"url(#p809b4398da)\">\n     <use xlink:href=\"#C0_0_7248c8893c\" x=\"223.510946\" y=\"84.928331\" style=\"fill: #37b878; stroke: #37b878\"/>\n    </g>\n    <g clip-path=\"url(#p809b4398da)\">\n     <use xlink:href=\"#C0_0_7248c8893c\" x=\"147.444888\" y=\"91.569024\" style=\"fill: #1f978b; stroke: #1f978b\"/>\n    </g>\n    <g clip-path=\"url(#p809b4398da)\">\n     <use xlink:href=\"#C0_0_7248c8893c\" x=\"183.150355\" y=\"113.026246\" style=\"fill: #26828e; stroke: #26828e\"/>\n    </g>\n    <g clip-path=\"url(#p809b4398da)\">\n     <use xlink:href=\"#C0_0_7248c8893c\" x=\"161.752611\" y=\"137.083241\" style=\"fill: #38588c; stroke: #38588c\"/>\n    </g>\n    <g clip-path=\"url(#p809b4398da)\">\n     <use xlink:href=\"#C0_0_7248c8893c\" x=\"219.223396\" y=\"90.335449\" style=\"fill: #2ab07f; stroke: #2ab07f\"/>\n    </g>\n    <g clip-path=\"url(#p809b4398da)\">\n     <use xlink:href=\"#C0_0_7248c8893c\" x=\"139.526911\" y=\"109.869331\" style=\"fill: #297b8e; stroke: #297b8e\"/>\n    </g>\n    <g clip-path=\"url(#p809b4398da)\">\n     <use xlink:href=\"#C0_0_7248c8893c\" x=\"146.278947\" y=\"31.476844\" style=\"fill: #c0df25; stroke: #c0df25\"/>\n    </g>\n    <g clip-path=\"url(#p809b4398da)\">\n     <use xlink:href=\"#C0_0_7248c8893c\" x=\"134.253664\" y=\"83.143147\" style=\"fill: #1e9b8a; stroke: #1e9b8a\"/>\n    </g>\n    <g clip-path=\"url(#p809b4398da)\">\n     <use xlink:href=\"#C0_0_7248c8893c\" x=\"121.49269\" y=\"90.208226\" style=\"fill: #21918c; stroke: #21918c\"/>\n    </g>\n    <g clip-path=\"url(#p809b4398da)\">\n     <use xlink:href=\"#C0_0_7248c8893c\" x=\"80.885793\" y=\"117.60426\" style=\"fill: #365c8d; stroke: #365c8d\"/>\n    </g>\n    <g clip-path=\"url(#p809b4398da)\">\n     <use xlink:href=\"#C0_0_7248c8893c\" x=\"204.236322\" y=\"108.472634\" style=\"fill: #238a8d; stroke: #238a8d\"/>\n    </g>\n    <g clip-path=\"url(#p809b4398da)\">\n     <use xlink:href=\"#C0_0_7248c8893c\" x=\"235.357738\" y=\"153.703532\" style=\"fill: #3c4f8a; stroke: #3c4f8a\"/>\n    </g>\n    <g clip-path=\"url(#p809b4398da)\">\n     <use xlink:href=\"#C0_0_7248c8893c\" x=\"117.049285\" y=\"98.800826\" style=\"fill: #26828e; stroke: #26828e\"/>\n    </g>\n    <g clip-path=\"url(#p809b4398da)\">\n     <use xlink:href=\"#C0_0_7248c8893c\" x=\"165.892945\" y=\"127.659552\" style=\"fill: #32658e; stroke: #32658e\"/>\n    </g>\n    <g clip-path=\"url(#p809b4398da)\">\n     <use xlink:href=\"#C0_0_7248c8893c\" x=\"123.453163\" y=\"169.153469\" style=\"fill: #440154; stroke: #440154\"/>\n    </g>\n    <g clip-path=\"url(#p809b4398da)\">\n     <use xlink:href=\"#C0_0_7248c8893c\" x=\"196.791756\" y=\"21.821364\" style=\"fill: #fde725; stroke: #fde725\"/>\n    </g>\n    <g clip-path=\"url(#p809b4398da)\">\n     <use xlink:href=\"#C0_0_7248c8893c\" x=\"166.806223\" y=\"46.099045\" style=\"fill: #95d840; stroke: #95d840\"/>\n    </g>\n    <g clip-path=\"url(#p809b4398da)\">\n     <use xlink:href=\"#C0_0_7248c8893c\" x=\"141.898026\" y=\"99.48767\" style=\"fill: #24868e; stroke: #24868e\"/>\n    </g>\n    <g clip-path=\"url(#p809b4398da)\">\n     <use xlink:href=\"#C0_0_7248c8893c\" x=\"169.713491\" y=\"84.266158\" style=\"fill: #21a585; stroke: #21a585\"/>\n    </g>\n    <g clip-path=\"url(#p809b4398da)\">\n     <use xlink:href=\"#C0_0_7248c8893c\" x=\"158.825111\" y=\"17.953469\" style=\"fill: #efe51c; stroke: #efe51c\"/>\n    </g>\n    <g clip-path=\"url(#p809b4398da)\">\n     <use xlink:href=\"#C0_0_7248c8893c\" x=\"205.297414\" y=\"76.843081\" style=\"fill: #3dbc74; stroke: #3dbc74\"/>\n    </g>\n    <g clip-path=\"url(#p809b4398da)\">\n     <use xlink:href=\"#C0_0_7248c8893c\" x=\"235.962383\" y=\"121.050431\" style=\"fill: #25848e; stroke: #25848e\"/>\n    </g>\n    <g clip-path=\"url(#p809b4398da)\">\n     <use xlink:href=\"#C0_0_7248c8893c\" x=\"190.235608\" y=\"119.882197\" style=\"fill: #2a768e; stroke: #2a768e\"/>\n    </g>\n    <g clip-path=\"url(#p809b4398da)\">\n     <use xlink:href=\"#C0_0_7248c8893c\" x=\"120.90303\" y=\"126.71455\" style=\"fill: #365d8d; stroke: #365d8d\"/>\n    </g>\n    <g clip-path=\"url(#p809b4398da)\">\n     <use xlink:href=\"#C0_0_7248c8893c\" x=\"206.124046\" y=\"49.425282\" style=\"fill: #93d741; stroke: #93d741\"/>\n    </g>\n    <g clip-path=\"url(#p809b4398da)\">\n     <use xlink:href=\"#C0_0_7248c8893c\" x=\"52.765767\" y=\"112.874559\" style=\"fill: #38598c; stroke: #38598c\"/>\n    </g>\n    <g clip-path=\"url(#p809b4398da)\">\n     <use xlink:href=\"#C0_0_7248c8893c\" x=\"207.16455\" y=\"63.917776\" style=\"fill: #67cc5c; stroke: #67cc5c\"/>\n    </g>\n    <g clip-path=\"url(#p809b4398da)\">\n     <use xlink:href=\"#C0_0_7248c8893c\" x=\"192.935103\" y=\"125.044225\" style=\"fill: #2c728e; stroke: #2c728e\"/>\n    </g>\n    <g clip-path=\"url(#p809b4398da)\">\n     <use xlink:href=\"#C0_0_7248c8893c\" x=\"175.351474\" y=\"98.220865\" style=\"fill: #1f968b; stroke: #1f968b\"/>\n    </g>\n    <g clip-path=\"url(#p809b4398da)\">\n     <use xlink:href=\"#C0_0_7248c8893c\" x=\"173.703141\" y=\"115.810241\" style=\"fill: #297a8e; stroke: #297a8e\"/>\n    </g>\n    <g clip-path=\"url(#p809b4398da)\">\n     <use xlink:href=\"#C0_0_7248c8893c\" x=\"98.106714\" y=\"125.833979\" style=\"fill: #3a548c; stroke: #3a548c\"/>\n    </g>\n    <g clip-path=\"url(#p809b4398da)\">\n     <use xlink:href=\"#C0_0_7248c8893c\" x=\"117.857955\" y=\"79.132266\" style=\"fill: #1f9e89; stroke: #1f9e89\"/>\n    </g>\n    <g clip-path=\"url(#p809b4398da)\">\n     <use xlink:href=\"#C0_0_7248c8893c\" x=\"102.689361\" y=\"132.35398\" style=\"fill: #3e4989; stroke: #3e4989\"/>\n    </g>\n    <g clip-path=\"url(#p809b4398da)\">\n     <use xlink:href=\"#C0_0_7248c8893c\" x=\"158.299388\" y=\"74.047044\" style=\"fill: #34b679; stroke: #34b679\"/>\n    </g>\n    <g clip-path=\"url(#p809b4398da)\">\n     <use xlink:href=\"#C0_0_7248c8893c\" x=\"172.605262\" y=\"119.338493\" style=\"fill: #2e6d8e; stroke: #2e6d8e\"/>\n    </g>\n    <g clip-path=\"url(#p809b4398da)\">\n     <use xlink:href=\"#C0_0_7248c8893c\" x=\"179.358645\" y=\"97.735384\" style=\"fill: #1f998a; stroke: #1f998a\"/>\n    </g>\n    <g clip-path=\"url(#p809b4398da)\">\n     <use xlink:href=\"#C0_0_7248c8893c\" x=\"232.341922\" y=\"71.868516\" style=\"fill: #60ca60; stroke: #60ca60\"/>\n    </g>\n    <g clip-path=\"url(#p809b4398da)\">\n     <use xlink:href=\"#C0_0_7248c8893c\" x=\"213.474186\" y=\"71.298331\" style=\"fill: #48c16e; stroke: #48c16e\"/>\n    </g>\n    <g clip-path=\"url(#p809b4398da)\">\n     <use xlink:href=\"#C0_0_7248c8893c\" x=\"154.457684\" y=\"107.416989\" style=\"fill: #277f8e; stroke: #277f8e\"/>\n    </g>\n    <g clip-path=\"url(#p809b4398da)\">\n     <use xlink:href=\"#C0_0_7248c8893c\" x=\"178.226874\" y=\"101.318731\" style=\"fill: #21908d; stroke: #21908d\"/>\n    </g>\n    <g clip-path=\"url(#p809b4398da)\">\n     <use xlink:href=\"#C0_0_7248c8893c\" x=\"106.962449\" y=\"120.813807\" style=\"fill: #355e8d; stroke: #355e8d\"/>\n    </g>\n    <g clip-path=\"url(#p809b4398da)\">\n     <use xlink:href=\"#C0_0_7248c8893c\" x=\"187.095577\" y=\"113.423433\" style=\"fill: #277f8e; stroke: #277f8e\"/>\n    </g>\n    <g clip-path=\"url(#p809b4398da)\">\n     <use xlink:href=\"#C0_0_7248c8893c\" x=\"160.203274\" y=\"111.027511\" style=\"fill: #277e8e; stroke: #277e8e\"/>\n    </g>\n    <g clip-path=\"url(#p809b4398da)\">\n     <use xlink:href=\"#C0_0_7248c8893c\" x=\"121.107576\" y=\"107.22295\" style=\"fill: #2a778e; stroke: #2a778e\"/>\n    </g>\n    <g clip-path=\"url(#p809b4398da)\">\n     <use xlink:href=\"#C0_0_7248c8893c\" x=\"152.35706\" y=\"87.622156\" style=\"fill: #1fa088; stroke: #1fa088\"/>\n    </g>\n    <g clip-path=\"url(#p809b4398da)\">\n     <use xlink:href=\"#C0_0_7248c8893c\" x=\"255.674858\" y=\"106.331146\" style=\"fill: #1fa088; stroke: #1fa088\"/>\n    </g>\n    <g clip-path=\"url(#p809b4398da)\">\n     <use xlink:href=\"#C0_0_7248c8893c\" x=\"179.662325\" y=\"55.69894\" style=\"fill: #77d153; stroke: #77d153\"/>\n    </g>\n    <g clip-path=\"url(#p809b4398da)\">\n     <use xlink:href=\"#C0_0_7248c8893c\" x=\"133.343443\" y=\"137.214239\" style=\"fill: #3e4c8a; stroke: #3e4c8a\"/>\n    </g>\n    <g clip-path=\"url(#p809b4398da)\">\n     <use xlink:href=\"#C0_0_7248c8893c\" x=\"149.183171\" y=\"92.757407\" style=\"fill: #1f968b; stroke: #1f968b\"/>\n    </g>\n    <g clip-path=\"url(#p809b4398da)\">\n     <use xlink:href=\"#C0_0_7248c8893c\" x=\"102.348019\" y=\"117.361915\" style=\"fill: #33628d; stroke: #33628d\"/>\n    </g>\n    <g clip-path=\"url(#p809b4398da)\">\n     <use xlink:href=\"#C0_0_7248c8893c\" x=\"135.588146\" y=\"106.051441\" style=\"fill: #27808e; stroke: #27808e\"/>\n    </g>\n    <g clip-path=\"url(#p809b4398da)\">\n     <use xlink:href=\"#C0_0_7248c8893c\" x=\"115.051711\" y=\"62.077965\" style=\"fill: #32b67a; stroke: #32b67a\"/>\n    </g>\n    <g clip-path=\"url(#p809b4398da)\">\n     <use xlink:href=\"#C0_0_7248c8893c\" x=\"152.997311\" y=\"143.055165\" style=\"fill: #3d4d8a; stroke: #3d4d8a\"/>\n    </g>\n    <g clip-path=\"url(#p809b4398da)\">\n     <use xlink:href=\"#C0_0_7248c8893c\" x=\"234.112866\" y=\"116.486709\" style=\"fill: #238a8d; stroke: #238a8d\"/>\n    </g>\n    <g clip-path=\"url(#p809b4398da)\">\n     <use xlink:href=\"#C0_0_7248c8893c\" x=\"210.671522\" y=\"100.141792\" style=\"fill: #1e9c89; stroke: #1e9c89\"/>\n    </g>\n    <g clip-path=\"url(#p809b4398da)\">\n     <use xlink:href=\"#C0_0_7248c8893c\" x=\"124.702815\" y=\"94.609691\" style=\"fill: #23898e; stroke: #23898e\"/>\n    </g>\n    <g clip-path=\"url(#p809b4398da)\">\n     <use xlink:href=\"#C0_0_7248c8893c\" x=\"164.287063\" y=\"80.400627\" style=\"fill: #27ad81; stroke: #27ad81\"/>\n    </g>\n    <g clip-path=\"url(#p809b4398da)\">\n     <use xlink:href=\"#C0_0_7248c8893c\" x=\"142.712078\" y=\"59.142815\" style=\"fill: #4ac16d; stroke: #4ac16d\"/>\n    </g>\n    <g clip-path=\"url(#p809b4398da)\">\n     <use xlink:href=\"#C0_0_7248c8893c\" x=\"121.668609\" y=\"142.870348\" style=\"fill: #443b84; stroke: #443b84\"/>\n    </g>\n    <g clip-path=\"url(#p809b4398da)\">\n     <use xlink:href=\"#C0_0_7248c8893c\" x=\"168.627516\" y=\"105.443856\" style=\"fill: #24878e; stroke: #24878e\"/>\n    </g>\n    <g clip-path=\"url(#p809b4398da)\">\n     <use xlink:href=\"#C0_0_7248c8893c\" x=\"180.98107\" y=\"100.850741\" style=\"fill: #1f948c; stroke: #1f948c\"/>\n    </g>\n    <g clip-path=\"url(#p809b4398da)\">\n     <use xlink:href=\"#C0_0_7248c8893c\" x=\"147.18812\" y=\"101.989077\" style=\"fill: #25838e; stroke: #25838e\"/>\n    </g>\n    <g clip-path=\"url(#p809b4398da)\">\n     <use xlink:href=\"#C0_0_7248c8893c\" x=\"246.515085\" y=\"78.507599\" style=\"fill: #54c568; stroke: #54c568\"/>\n    </g>\n    <g clip-path=\"url(#p809b4398da)\">\n     <use xlink:href=\"#C0_0_7248c8893c\" x=\"146.510087\" y=\"84.045434\" style=\"fill: #21a685; stroke: #21a685\"/>\n    </g>\n    <g clip-path=\"url(#p809b4398da)\">\n     <use xlink:href=\"#C0_0_7248c8893c\" x=\"163.149242\" y=\"91.362311\" style=\"fill: #1e9b8a; stroke: #1e9b8a\"/>\n    </g>\n    <g clip-path=\"url(#p809b4398da)\">\n     <use xlink:href=\"#C0_0_7248c8893c\" x=\"149.604043\" y=\"119.208006\" style=\"fill: #2c718e; stroke: #2c718e\"/>\n    </g>\n    <g clip-path=\"url(#p809b4398da)\">\n     <use xlink:href=\"#C0_0_7248c8893c\" x=\"89.076495\" y=\"35.810342\" style=\"fill: #70cf57; stroke: #70cf57\"/>\n    </g>\n    <g clip-path=\"url(#p809b4398da)\">\n     <use xlink:href=\"#C0_0_7248c8893c\" x=\"235.479127\" y=\"131.527571\" style=\"fill: #2b748e; stroke: #2b748e\"/>\n    </g>\n    <g clip-path=\"url(#p809b4398da)\">\n     <use xlink:href=\"#C0_0_7248c8893c\" x=\"104.775721\" y=\"49.894859\" style=\"fill: #50c46a; stroke: #50c46a\"/>\n    </g>\n    <g clip-path=\"url(#p809b4398da)\">\n     <use xlink:href=\"#C0_0_7248c8893c\" x=\"181.216675\" y=\"54.493567\" style=\"fill: #7fd34e; stroke: #7fd34e\"/>\n    </g>\n    <g clip-path=\"url(#p809b4398da)\">\n     <use xlink:href=\"#C0_0_7248c8893c\" x=\"182.809793\" y=\"75.612267\" style=\"fill: #31b57b; stroke: #31b57b\"/>\n    </g>\n    <g clip-path=\"url(#p809b4398da)\">\n     <use xlink:href=\"#C0_0_7248c8893c\" x=\"199.740334\" y=\"107.772264\" style=\"fill: #23888e; stroke: #23888e\"/>\n    </g>\n    <g clip-path=\"url(#p809b4398da)\">\n     <use xlink:href=\"#C0_0_7248c8893c\" x=\"196.751535\" y=\"70.38833\" style=\"fill: #48c16e; stroke: #48c16e\"/>\n    </g>\n    <g clip-path=\"url(#p809b4398da)\">\n     <use xlink:href=\"#C0_0_7248c8893c\" x=\"143.522372\" y=\"96.008815\" style=\"fill: #20928c; stroke: #20928c\"/>\n    </g>\n    <g clip-path=\"url(#p809b4398da)\">\n     <use xlink:href=\"#C0_0_7248c8893c\" x=\"194.636577\" y=\"155.845914\" style=\"fill: #424186; stroke: #424186\"/>\n    </g>\n    <g clip-path=\"url(#p809b4398da)\">\n     <use xlink:href=\"#C0_0_7248c8893c\" x=\"155.329126\" y=\"20.082043\" style=\"fill: #f4e61e; stroke: #f4e61e\"/>\n    </g>\n   </g>\n   <g id=\"matplotlib.axis_1\">\n    <g id=\"xtick_1\">\n     <g id=\"line2d_1\">\n      <defs>\n       <path id=\"ma1ca444132\" d=\"M 0 0 \nL 0 3.5 \n\" style=\"stroke: #000000; stroke-width: 0.8\"/>\n      </defs>\n      <g>\n       <use xlink:href=\"#ma1ca444132\" x=\"47.331355\" y=\"176.713469\" style=\"stroke: #000000; stroke-width: 0.8\"/>\n      </g>\n     </g>\n     <g id=\"text_1\">\n      <!-- −1.5 -->\n      <g transform=\"translate(35.189949 191.311906) scale(0.1 -0.1)\">\n       <defs>\n        <path id=\"DejaVuSans-2212\" d=\"M 678 2272 \nL 4684 2272 \nL 4684 1741 \nL 678 1741 \nL 678 2272 \nz\n\" transform=\"scale(0.015625)\"/>\n        <path id=\"DejaVuSans-31\" d=\"M 794 531 \nL 1825 531 \nL 1825 4091 \nL 703 3866 \nL 703 4441 \nL 1819 4666 \nL 2450 4666 \nL 2450 531 \nL 3481 531 \nL 3481 0 \nL 794 0 \nL 794 531 \nz\n\" transform=\"scale(0.015625)\"/>\n        <path id=\"DejaVuSans-2e\" d=\"M 684 794 \nL 1344 794 \nL 1344 0 \nL 684 0 \nL 684 794 \nz\n\" transform=\"scale(0.015625)\"/>\n        <path id=\"DejaVuSans-35\" d=\"M 691 4666 \nL 3169 4666 \nL 3169 4134 \nL 1269 4134 \nL 1269 2991 \nQ 1406 3038 1543 3061 \nQ 1681 3084 1819 3084 \nQ 2600 3084 3056 2656 \nQ 3513 2228 3513 1497 \nQ 3513 744 3044 326 \nQ 2575 -91 1722 -91 \nQ 1428 -91 1123 -41 \nQ 819 9 494 109 \nL 494 744 \nQ 775 591 1075 516 \nQ 1375 441 1709 441 \nQ 2250 441 2565 725 \nQ 2881 1009 2881 1497 \nQ 2881 1984 2565 2268 \nQ 2250 2553 1709 2553 \nQ 1456 2553 1204 2497 \nQ 953 2441 691 2322 \nL 691 4666 \nz\n\" transform=\"scale(0.015625)\"/>\n       </defs>\n       <use xlink:href=\"#DejaVuSans-2212\"/>\n       <use xlink:href=\"#DejaVuSans-31\" x=\"83.789062\"/>\n       <use xlink:href=\"#DejaVuSans-2e\" x=\"147.412109\"/>\n       <use xlink:href=\"#DejaVuSans-35\" x=\"179.199219\"/>\n      </g>\n     </g>\n    </g>\n    <g id=\"xtick_2\">\n     <g id=\"line2d_2\">\n      <g>\n       <use xlink:href=\"#ma1ca444132\" x=\"90.66213\" y=\"176.713469\" style=\"stroke: #000000; stroke-width: 0.8\"/>\n      </g>\n     </g>\n     <g id=\"text_2\">\n      <!-- −1.0 -->\n      <g transform=\"translate(78.520723 191.311906) scale(0.1 -0.1)\">\n       <defs>\n        <path id=\"DejaVuSans-30\" d=\"M 2034 4250 \nQ 1547 4250 1301 3770 \nQ 1056 3291 1056 2328 \nQ 1056 1369 1301 889 \nQ 1547 409 2034 409 \nQ 2525 409 2770 889 \nQ 3016 1369 3016 2328 \nQ 3016 3291 2770 3770 \nQ 2525 4250 2034 4250 \nz\nM 2034 4750 \nQ 2819 4750 3233 4129 \nQ 3647 3509 3647 2328 \nQ 3647 1150 3233 529 \nQ 2819 -91 2034 -91 \nQ 1250 -91 836 529 \nQ 422 1150 422 2328 \nQ 422 3509 836 4129 \nQ 1250 4750 2034 4750 \nz\n\" transform=\"scale(0.015625)\"/>\n       </defs>\n       <use xlink:href=\"#DejaVuSans-2212\"/>\n       <use xlink:href=\"#DejaVuSans-31\" x=\"83.789062\"/>\n       <use xlink:href=\"#DejaVuSans-2e\" x=\"147.412109\"/>\n       <use xlink:href=\"#DejaVuSans-30\" x=\"179.199219\"/>\n      </g>\n     </g>\n    </g>\n    <g id=\"xtick_3\">\n     <g id=\"line2d_3\">\n      <g>\n       <use xlink:href=\"#ma1ca444132\" x=\"133.992904\" y=\"176.713469\" style=\"stroke: #000000; stroke-width: 0.8\"/>\n      </g>\n     </g>\n     <g id=\"text_3\">\n      <!-- −0.5 -->\n      <g transform=\"translate(121.851498 191.311906) scale(0.1 -0.1)\">\n       <use xlink:href=\"#DejaVuSans-2212\"/>\n       <use xlink:href=\"#DejaVuSans-30\" x=\"83.789062\"/>\n       <use xlink:href=\"#DejaVuSans-2e\" x=\"147.412109\"/>\n       <use xlink:href=\"#DejaVuSans-35\" x=\"179.199219\"/>\n      </g>\n     </g>\n    </g>\n    <g id=\"xtick_4\">\n     <g id=\"line2d_4\">\n      <g>\n       <use xlink:href=\"#ma1ca444132\" x=\"177.323678\" y=\"176.713469\" style=\"stroke: #000000; stroke-width: 0.8\"/>\n      </g>\n     </g>\n     <g id=\"text_4\">\n      <!-- 0.0 -->\n      <g transform=\"translate(169.372116 191.311906) scale(0.1 -0.1)\">\n       <use xlink:href=\"#DejaVuSans-30\"/>\n       <use xlink:href=\"#DejaVuSans-2e\" x=\"63.623047\"/>\n       <use xlink:href=\"#DejaVuSans-30\" x=\"95.410156\"/>\n      </g>\n     </g>\n    </g>\n    <g id=\"xtick_5\">\n     <g id=\"line2d_5\">\n      <g>\n       <use xlink:href=\"#ma1ca444132\" x=\"220.654453\" y=\"176.713469\" style=\"stroke: #000000; stroke-width: 0.8\"/>\n      </g>\n     </g>\n     <g id=\"text_5\">\n      <!-- 0.5 -->\n      <g transform=\"translate(212.70289 191.311906) scale(0.1 -0.1)\">\n       <use xlink:href=\"#DejaVuSans-30\"/>\n       <use xlink:href=\"#DejaVuSans-2e\" x=\"63.623047\"/>\n       <use xlink:href=\"#DejaVuSans-35\" x=\"95.410156\"/>\n      </g>\n     </g>\n    </g>\n    <g id=\"xtick_6\">\n     <g id=\"line2d_6\">\n      <g>\n       <use xlink:href=\"#ma1ca444132\" x=\"263.985227\" y=\"176.713469\" style=\"stroke: #000000; stroke-width: 0.8\"/>\n      </g>\n     </g>\n     <g id=\"text_6\">\n      <!-- 1.0 -->\n      <g transform=\"translate(256.033665 191.311906) scale(0.1 -0.1)\">\n       <use xlink:href=\"#DejaVuSans-31\"/>\n       <use xlink:href=\"#DejaVuSans-2e\" x=\"63.623047\"/>\n       <use xlink:href=\"#DejaVuSans-30\" x=\"95.410156\"/>\n      </g>\n     </g>\n    </g>\n    <g id=\"text_7\">\n     <!-- $X_1$ -->\n     <g transform=\"translate(148.420313 204.990031) scale(0.1 -0.1)\">\n      <defs>\n       <path id=\"DejaVuSans-Oblique-58\" d=\"M 878 4666 \nL 1516 4666 \nL 2316 2981 \nL 3763 4666 \nL 4500 4666 \nL 2578 2438 \nL 3738 0 \nL 3103 0 \nL 2163 1966 \nL 459 0 \nL -275 0 \nL 1906 2509 \nL 878 4666 \nz\n\" transform=\"scale(0.015625)\"/>\n      </defs>\n      <use xlink:href=\"#DejaVuSans-Oblique-58\" transform=\"translate(0 0.09375)\"/>\n      <use xlink:href=\"#DejaVuSans-31\" transform=\"translate(68.505859 -16.3125) scale(0.7)\"/>\n     </g>\n    </g>\n   </g>\n   <g id=\"matplotlib.axis_2\">\n    <g id=\"ytick_1\">\n     <g id=\"line2d_7\">\n      <defs>\n       <path id=\"m906184bb97\" d=\"M 0 0 \nL -3.5 0 \n\" style=\"stroke: #000000; stroke-width: 0.8\"/>\n      </defs>\n      <g>\n       <use xlink:href=\"#m906184bb97\" x=\"42.620313\" y=\"158.824398\" style=\"stroke: #000000; stroke-width: 0.8\"/>\n      </g>\n     </g>\n     <g id=\"text_8\">\n      <!-- −2 -->\n      <g transform=\"translate(20.878125 162.623617) scale(0.1 -0.1)\">\n       <defs>\n        <path id=\"DejaVuSans-32\" d=\"M 1228 531 \nL 3431 531 \nL 3431 0 \nL 469 0 \nL 469 531 \nQ 828 903 1448 1529 \nQ 2069 2156 2228 2338 \nQ 2531 2678 2651 2914 \nQ 2772 3150 2772 3378 \nQ 2772 3750 2511 3984 \nQ 2250 4219 1831 4219 \nQ 1534 4219 1204 4116 \nQ 875 4013 500 3803 \nL 500 4441 \nQ 881 4594 1212 4672 \nQ 1544 4750 1819 4750 \nQ 2544 4750 2975 4387 \nQ 3406 4025 3406 3419 \nQ 3406 3131 3298 2873 \nQ 3191 2616 2906 2266 \nQ 2828 2175 2409 1742 \nQ 1991 1309 1228 531 \nz\n\" transform=\"scale(0.015625)\"/>\n       </defs>\n       <use xlink:href=\"#DejaVuSans-2212\"/>\n       <use xlink:href=\"#DejaVuSans-32\" x=\"83.789062\"/>\n      </g>\n     </g>\n    </g>\n    <g id=\"ytick_2\">\n     <g id=\"line2d_8\">\n      <g>\n       <use xlink:href=\"#m906184bb97\" x=\"42.620313\" y=\"124.178412\" style=\"stroke: #000000; stroke-width: 0.8\"/>\n      </g>\n     </g>\n     <g id=\"text_9\">\n      <!-- −1 -->\n      <g transform=\"translate(20.878125 127.977631) scale(0.1 -0.1)\">\n       <use xlink:href=\"#DejaVuSans-2212\"/>\n       <use xlink:href=\"#DejaVuSans-31\" x=\"83.789062\"/>\n      </g>\n     </g>\n    </g>\n    <g id=\"ytick_3\">\n     <g id=\"line2d_9\">\n      <g>\n       <use xlink:href=\"#m906184bb97\" x=\"42.620313\" y=\"89.532426\" style=\"stroke: #000000; stroke-width: 0.8\"/>\n      </g>\n     </g>\n     <g id=\"text_10\">\n      <!-- 0 -->\n      <g transform=\"translate(29.257813 93.331645) scale(0.1 -0.1)\">\n       <use xlink:href=\"#DejaVuSans-30\"/>\n      </g>\n     </g>\n    </g>\n    <g id=\"ytick_4\">\n     <g id=\"line2d_10\">\n      <g>\n       <use xlink:href=\"#m906184bb97\" x=\"42.620313\" y=\"54.88644\" style=\"stroke: #000000; stroke-width: 0.8\"/>\n      </g>\n     </g>\n     <g id=\"text_11\">\n      <!-- 1 -->\n      <g transform=\"translate(29.257813 58.685659) scale(0.1 -0.1)\">\n       <use xlink:href=\"#DejaVuSans-31\"/>\n      </g>\n     </g>\n    </g>\n    <g id=\"ytick_5\">\n     <g id=\"line2d_11\">\n      <g>\n       <use xlink:href=\"#m906184bb97\" x=\"42.620313\" y=\"20.240454\" style=\"stroke: #000000; stroke-width: 0.8\"/>\n      </g>\n     </g>\n     <g id=\"text_12\">\n      <!-- 2 -->\n      <g transform=\"translate(29.257813 24.039673) scale(0.1 -0.1)\">\n       <use xlink:href=\"#DejaVuSans-32\"/>\n      </g>\n     </g>\n    </g>\n    <g id=\"text_13\">\n     <!-- $X_2$ -->\n     <g transform=\"translate(14.798438 99.353469) rotate(-90) scale(0.1 -0.1)\">\n      <use xlink:href=\"#DejaVuSans-Oblique-58\" transform=\"translate(0 0.09375)\"/>\n      <use xlink:href=\"#DejaVuSans-32\" transform=\"translate(68.505859 -16.3125) scale(0.7)\"/>\n     </g>\n    </g>\n   </g>\n   <g id=\"patch_3\">\n    <path d=\"M 42.620313 176.713469 \nL 42.620313 10.393469 \n\" style=\"fill: none; stroke: #000000; stroke-width: 0.8; stroke-linejoin: miter; stroke-linecap: square\"/>\n   </g>\n   <g id=\"patch_4\">\n    <path d=\"M 265.820313 176.713469 \nL 265.820313 10.393469 \n\" style=\"fill: none; stroke: #000000; stroke-width: 0.8; stroke-linejoin: miter; stroke-linecap: square\"/>\n   </g>\n   <g id=\"patch_5\">\n    <path d=\"M 42.620313 176.713469 \nL 265.820312 176.713469 \n\" style=\"fill: none; stroke: #000000; stroke-width: 0.8; stroke-linejoin: miter; stroke-linecap: square\"/>\n   </g>\n   <g id=\"patch_6\">\n    <path d=\"M 42.620313 10.393469 \nL 265.820312 10.393469 \n\" style=\"fill: none; stroke: #000000; stroke-width: 0.8; stroke-linejoin: miter; stroke-linecap: square\"/>\n   </g>\n  </g>\n  <g id=\"axes_2\">\n   <g id=\"patch_7\">\n    <path d=\"M 279.770313 176.713469 \nL 288.086313 176.713469 \nL 288.086313 10.393469 \nL 279.770313 10.393469 \nz\n\" style=\"fill: #ffffff\"/>\n   </g>\n   <image xlink:href=\"data:image/png;base64,\niVBORw0KGgoAAAANSUhEUgAAAAsAAADnCAYAAADIKqzfAAABW0lEQVR4nO2a2w0CMQwEnThHZZRA/5UAoQXPx0gOwLe1Gu/Gvgc37uOxo/hbMWa1NtaYo17cRDkSYRDlQZhFZVA8kHUsFK04swWG6MaJoVjnebNQyrWqG00aJEumic8Mo15LMbwG2cACDC9BL5TtJYiUU1M+0Y0DmXf9puDMBk1mSxluUYTRZCNZxWKCbPNbGF3cqNeqDf5D6YfBlFskCCB+IkF2Aaovg++3Dha3sA4qA2bTOlRsMe9pKYM7tT6hhOeGpkwS9EJBDSIM0TrEXBeONeebYBBlMRQrQY95koFNNikEw2tQc0PEIMWLTApq0GMWi8UGic8oQaYMilO0znIje2Bc4yUpZ2jWITfQ5veOKMGAoSAM7zyjge2RIGG+9QgF7jorFHaQtAThWD0lZXFSRAzvalWujXWxswGUEzzjLfJidCX5d2kSDMhMlAnzCvANVZLvkSZ4Bf0BQOaFoBDZYkUAAAAASUVORK5CYII=\" id=\"imagef4978de9fe\" transform=\"scale(1 -1) translate(0 -166.32)\" x=\"280.08\" y=\"-10.08\" width=\"7.92\" height=\"166.32\"/>\n   <g id=\"matplotlib.axis_3\"/>\n   <g id=\"matplotlib.axis_4\">\n    <g id=\"ytick_6\">\n     <g id=\"line2d_12\">\n      <defs>\n       <path id=\"m14309ce946\" d=\"M 0 0 \nL 3.5 0 \n\" style=\"stroke: #000000; stroke-width: 0.8\"/>\n      </defs>\n      <g>\n       <use xlink:href=\"#m14309ce946\" x=\"288.086313\" y=\"152.200951\" style=\"stroke: #000000; stroke-width: 0.8\"/>\n      </g>\n     </g>\n     <g id=\"text_14\">\n      <!-- −4 -->\n      <g transform=\"translate(295.086313 156.000169) scale(0.1 -0.1)\">\n       <defs>\n        <path id=\"DejaVuSans-34\" d=\"M 2419 4116 \nL 825 1625 \nL 2419 1625 \nL 2419 4116 \nz\nM 2253 4666 \nL 3047 4666 \nL 3047 1625 \nL 3713 1625 \nL 3713 1100 \nL 3047 1100 \nL 3047 0 \nL 2419 0 \nL 2419 1100 \nL 313 1100 \nL 313 1709 \nL 2253 4666 \nz\n\" transform=\"scale(0.015625)\"/>\n       </defs>\n       <use xlink:href=\"#DejaVuSans-2212\"/>\n       <use xlink:href=\"#DejaVuSans-34\" x=\"83.789062\"/>\n      </g>\n     </g>\n    </g>\n    <g id=\"ytick_7\">\n     <g id=\"line2d_13\">\n      <g>\n       <use xlink:href=\"#m14309ce946\" x=\"288.086313\" y=\"116.900518\" style=\"stroke: #000000; stroke-width: 0.8\"/>\n      </g>\n     </g>\n     <g id=\"text_15\">\n      <!-- −2 -->\n      <g transform=\"translate(295.086313 120.699736) scale(0.1 -0.1)\">\n       <use xlink:href=\"#DejaVuSans-2212\"/>\n       <use xlink:href=\"#DejaVuSans-32\" x=\"83.789062\"/>\n      </g>\n     </g>\n    </g>\n    <g id=\"ytick_8\">\n     <g id=\"line2d_14\">\n      <g>\n       <use xlink:href=\"#m14309ce946\" x=\"288.086313\" y=\"81.600085\" style=\"stroke: #000000; stroke-width: 0.8\"/>\n      </g>\n     </g>\n     <g id=\"text_16\">\n      <!-- 0 -->\n      <g transform=\"translate(295.086313 85.399303) scale(0.1 -0.1)\">\n       <use xlink:href=\"#DejaVuSans-30\"/>\n      </g>\n     </g>\n    </g>\n    <g id=\"ytick_9\">\n     <g id=\"line2d_15\">\n      <g>\n       <use xlink:href=\"#m14309ce946\" x=\"288.086313\" y=\"46.299652\" style=\"stroke: #000000; stroke-width: 0.8\"/>\n      </g>\n     </g>\n     <g id=\"text_17\">\n      <!-- 2 -->\n      <g transform=\"translate(295.086313 50.09887) scale(0.1 -0.1)\">\n       <use xlink:href=\"#DejaVuSans-32\"/>\n      </g>\n     </g>\n    </g>\n    <g id=\"ytick_10\">\n     <g id=\"line2d_16\">\n      <g>\n       <use xlink:href=\"#m14309ce946\" x=\"288.086313\" y=\"10.999219\" style=\"stroke: #000000; stroke-width: 0.8\"/>\n      </g>\n     </g>\n     <g id=\"text_18\">\n      <!-- 4 -->\n      <g transform=\"translate(295.086313 14.798438) scale(0.1 -0.1)\">\n       <use xlink:href=\"#DejaVuSans-34\"/>\n      </g>\n     </g>\n    </g>\n    <g id=\"text_19\">\n     <!-- Y -->\n     <g transform=\"translate(321.426938 96.607375) rotate(-90) scale(0.1 -0.1)\">\n      <defs>\n       <path id=\"DejaVuSans-59\" d=\"M -13 4666 \nL 666 4666 \nL 1959 2747 \nL 3244 4666 \nL 3922 4666 \nL 2272 2222 \nL 2272 0 \nL 1638 0 \nL 1638 2222 \nL -13 4666 \nz\n\" transform=\"scale(0.015625)\"/>\n      </defs>\n      <use xlink:href=\"#DejaVuSans-59\"/>\n     </g>\n    </g>\n   </g>\n   <g id=\"LineCollection_1\"/>\n   <g id=\"patch_8\">\n    <path d=\"M 279.770313 176.713469 \nL 283.928313 176.713469 \nL 288.086313 176.713469 \nL 288.086313 10.393469 \nL 283.928313 10.393469 \nL 279.770313 10.393469 \nL 279.770313 176.713469 \nz\n\" style=\"fill: none; stroke: #000000; stroke-width: 0.8; stroke-linejoin: miter; stroke-linecap: square\"/>\n   </g>\n  </g>\n </g>\n <defs>\n  <clipPath id=\"p809b4398da\">\n   <rect x=\"42.620313\" y=\"10.393469\" width=\"223.2\" height=\"166.32\"/>\n  </clipPath>\n </defs>\n</svg>\n"
          },
          "metadata": {}
        }
      ]
    },
    {
      "cell_type": "markdown",
      "source": [
        "## Fitting the model"
      ],
      "metadata": {
        "id": "m9DZpo5GzvE9"
      }
    },
    {
      "cell_type": "markdown",
      "source": [
        " Statsmodels wants us to input a multidimensional arrray\n",
        "\\begin{equation}\n",
        "X = \\left[\\begin{array}{ccc}\n",
        "1 &X_{1,1}& X_{1,2}\\\\\n",
        "1 &X_{2,1}& X_{2,2}\\\\\n",
        "\\vdots & \\vdots & \\vdots\\\\\n",
        "1 &X_{n,1}& X_{n,2}\\\\\n",
        "\\end{array} \\right]\n",
        "\\end{equation}\n",
        "\n",
        "The $i$th column contains the predictors that go with our $i$th observation $y$. We also include a column of ones, which correspond to a predictor $x_0$ that is one for every observation. This will tell statsmodels to also include a constant term (the intercept) $\\beta_0$ in our regression.\n",
        "\n",
        "The following code will get our data in this format:"
      ],
      "metadata": {
        "id": "_Q2ZhUmdWuI6"
      }
    },
    {
      "cell_type": "code",
      "source": [
        "np.transpose(np.array([x1,x2]))\n",
        "\n",
        "X = sm.add_constant(np.transpose(np.array([x1,x2])))"
      ],
      "metadata": {
        "id": "qZtpEAFZMxQD"
      },
      "execution_count": null,
      "outputs": []
    },
    {
      "cell_type": "code",
      "source": [
        "\n",
        "\n",
        "X = sm.add_constant(np.transpose(np.array([x1,x2])))\n",
        "\n",
        "# perform the regression\n",
        "model = sm.OLS(y,X)\n",
        "results = model.fit()\n",
        "print(results.summary())"
      ],
      "metadata": {
        "colab": {
          "base_uri": "https://localhost:8080/"
        },
        "id": "lPhaeZQ_m6pf",
        "outputId": "ff510f6b-e905-40e5-b156-a4350c3a2157"
      },
      "execution_count": null,
      "outputs": [
        {
          "output_type": "stream",
          "name": "stdout",
          "text": [
            "                            OLS Regression Results                            \n",
            "==============================================================================\n",
            "Dep. Variable:                      y   R-squared:                       0.997\n",
            "Model:                            OLS   Adj. R-squared:                  0.997\n",
            "Method:                 Least Squares   F-statistic:                 1.481e+04\n",
            "Date:                Tue, 10 Oct 2023   Prob (F-statistic):          2.65e-121\n",
            "Time:                        15:28:36   Log-Likelihood:                 74.804\n",
            "No. Observations:                 100   AIC:                            -143.6\n",
            "Df Residuals:                      97   BIC:                            -135.8\n",
            "Df Model:                           2                                         \n",
            "Covariance Type:            nonrobust                                         \n",
            "==============================================================================\n",
            "                 coef    std err          t      P>|t|      [0.025      0.975]\n",
            "------------------------------------------------------------------------------\n",
            "const         -0.0053      0.012     -0.448      0.655      -0.029       0.018\n",
            "x1             0.9967      0.025     40.266      0.000       0.948       1.046\n",
            "x2             2.0113      0.012    166.224      0.000       1.987       2.035\n",
            "==============================================================================\n",
            "Omnibus:                        1.030   Durbin-Watson:                   1.946\n",
            "Prob(Omnibus):                  0.598   Jarque-Bera (JB):                1.115\n",
            "Skew:                          -0.224   Prob(JB):                        0.573\n",
            "Kurtosis:                       2.740   Cond. No.                         2.31\n",
            "==============================================================================\n",
            "\n",
            "Notes:\n",
            "[1] Standard Errors assume that the covariance matrix of the errors is correctly specified.\n"
          ]
        }
      ]
    },
    {
      "cell_type": "code",
      "source": [
        "1-0.1**2/np.var(y)"
      ],
      "metadata": {
        "colab": {
          "base_uri": "https://localhost:8080/"
        },
        "id": "gh9wE1ls8BRB",
        "outputId": "2a09da74-f77d-4264-e14f-6ec79b3a79a4"
      },
      "execution_count": null,
      "outputs": [
        {
          "output_type": "execute_result",
          "data": {
            "text/plain": [
              "0.9975106578662745"
            ]
          },
          "metadata": {},
          "execution_count": 16
        }
      ]
    },
    {
      "cell_type": "code",
      "source": [
        "# another way to plot the data is using colorbar\n",
        "fig,ax = plt.subplots(figsize=(5,3))\n",
        "\n",
        "sc = ax.scatter(x1, x2, c=y, cmap='viridis')  # 'viridis' is a colormap for color mapping\n",
        "\n",
        "\n",
        "\n",
        "# this adds a contour plot\n",
        "x1_range = np.linspace(-3,3,100)\n",
        "x2_range = np.linspace(-4,4,100)\n",
        "\n",
        "# Create a meshgrid from x1 and x2\n",
        "x1_grid, x2_grid = np.meshgrid(x1_range, x2_range)\n",
        "\n",
        "betas = results.params\n",
        "y_pred = results.params[0] + x1_grid*results.params[1] + x2_grid*results.params[2]\n",
        "\n",
        "# Create a contour plot\n",
        "contour_plot = plt.contour(x1_grid, x2_grid, y_pred, levels=20, cmap='viridis')\n",
        "\n",
        "\n",
        "# Add labels and a colorbar\n",
        "ax.set_xlabel(\"$X_1$\")\n",
        "ax.set_ylabel(\"$X_2$\")\n",
        "ax.set_xlim([-2,2])\n",
        "ax.set_ylim([-2,2])\n",
        "fig.colorbar(sc,label=\"Y\")\n"
      ],
      "metadata": {
        "colab": {
          "base_uri": "https://localhost:8080/",
          "height": 325
        },
        "id": "Wqgn3AWQz_pt",
        "outputId": "df721fbb-f23c-491a-fd5b-2647c586b4e8"
      },
      "execution_count": null,
      "outputs": [
        {
          "output_type": "execute_result",
          "data": {
            "text/plain": [
              "<matplotlib.colorbar.Colorbar at 0x7e51b8310550>"
            ]
          },
          "metadata": {},
          "execution_count": 49
        },
        {
          "output_type": "display_data",
          "data": {
            "text/plain": [
              "<Figure size 500x300 with 2 Axes>"
            ],
            "image/svg+xml": "<?xml version=\"1.0\" encoding=\"utf-8\" standalone=\"no\"?>\n<!DOCTYPE svg PUBLIC \"-//W3C//DTD SVG 1.1//EN\"\n  \"http://www.w3.org/Graphics/SVG/1.1/DTD/svg11.dtd\">\n<svg xmlns:xlink=\"http://www.w3.org/1999/xlink\" width=\"340.24725pt\" height=\"214.875469pt\" viewBox=\"0 0 340.24725 214.875469\" xmlns=\"http://www.w3.org/2000/svg\" version=\"1.1\">\n <metadata>\n  <rdf:RDF xmlns:dc=\"http://purl.org/dc/elements/1.1/\" xmlns:cc=\"http://creativecommons.org/ns#\" xmlns:rdf=\"http://www.w3.org/1999/02/22-rdf-syntax-ns#\">\n   <cc:Work>\n    <dc:type rdf:resource=\"http://purl.org/dc/dcmitype/StillImage\"/>\n    <dc:date>2023-10-09T14:27:52.776764</dc:date>\n    <dc:format>image/svg+xml</dc:format>\n    <dc:creator>\n     <cc:Agent>\n      <dc:title>Matplotlib v3.7.1, https://matplotlib.org/</dc:title>\n     </cc:Agent>\n    </dc:creator>\n   </cc:Work>\n  </rdf:RDF>\n </metadata>\n <defs>\n  <style type=\"text/css\">*{stroke-linejoin: round; stroke-linecap: butt}</style>\n </defs>\n <g id=\"figure_1\">\n  <g id=\"patch_1\">\n   <path d=\"M 0 214.875469 \nL 340.24725 214.875469 \nL 340.24725 0 \nL 0 0 \nz\n\" style=\"fill: #ffffff\"/>\n  </g>\n  <g id=\"axes_1\">\n   <g id=\"patch_2\">\n    <path d=\"M 52.160938 177.319219 \nL 275.360938 177.319219 \nL 275.360938 10.999219 \nL 52.160938 10.999219 \nz\n\" style=\"fill: #ffffff\"/>\n   </g>\n   <g id=\"PathCollection_1\">\n    <defs>\n     <path id=\"C0_0_f56d808deb\" d=\"M 0 3 \nC 0.795609 3 1.55874 2.683901 2.12132 2.12132 \nC 2.683901 1.55874 3 0.795609 3 -0 \nC 3 -0.795609 2.683901 -1.55874 2.12132 -2.12132 \nC 1.55874 -2.683901 0.795609 -3 0 -3 \nC -0.795609 -3 -1.55874 -2.683901 -2.12132 -2.12132 \nC -2.683901 -1.55874 -3 -0.795609 -3 0 \nC -3 0.795609 -2.683901 1.55874 -2.12132 2.12132 \nC -1.55874 2.683901 -0.795609 3 0 3 \nz\n\"/>\n    </defs>\n    <g clip-path=\"url(#pdb99bfd5ab)\">\n     <use xlink:href=\"#C0_0_f56d808deb\" x=\"127.441686\" y=\"61.98046\" style=\"fill: #20a486; stroke: #20a486\"/>\n    </g>\n    <g clip-path=\"url(#pdb99bfd5ab)\">\n     <use xlink:href=\"#C0_0_f56d808deb\" x=\"213.903178\" y=\"100.801027\" style=\"fill: #1e9c89; stroke: #1e9c89\"/>\n    </g>\n    <g clip-path=\"url(#pdb99bfd5ab)\">\n     <use xlink:href=\"#C0_0_f56d808deb\" x=\"193.054968\" y=\"96.151385\" style=\"fill: #1f9a8a; stroke: #1f9a8a\"/>\n    </g>\n    <g clip-path=\"url(#pdb99bfd5ab)\">\n     <use xlink:href=\"#C0_0_f56d808deb\" x=\"170.495388\" y=\"76.417048\" style=\"fill: #20a486; stroke: #20a486\"/>\n    </g>\n    <g clip-path=\"url(#pdb99bfd5ab)\">\n     <use xlink:href=\"#C0_0_f56d808deb\" x=\"159.01916\" y=\"102.074687\" style=\"fill: #26818e; stroke: #26818e\"/>\n    </g>\n    <g clip-path=\"url(#pdb99bfd5ab)\">\n     <use xlink:href=\"#C0_0_f56d808deb\" x=\"178.574908\" y=\"73.474674\" style=\"fill: #24aa83; stroke: #24aa83\"/>\n    </g>\n    <g clip-path=\"url(#pdb99bfd5ab)\">\n     <use xlink:href=\"#C0_0_f56d808deb\" x=\"164.819158\" y=\"153.286666\" style=\"fill: #404588; stroke: #404588\"/>\n    </g>\n    <g clip-path=\"url(#pdb99bfd5ab)\">\n     <use xlink:href=\"#C0_0_f56d808deb\" x=\"210.743446\" y=\"123.191777\" style=\"fill: #27808e; stroke: #27808e\"/>\n    </g>\n    <g clip-path=\"url(#pdb99bfd5ab)\">\n     <use xlink:href=\"#C0_0_f56d808deb\" x=\"128.878155\" y=\"112.230303\" style=\"fill: #2f6b8e; stroke: #2f6b8e\"/>\n    </g>\n    <g clip-path=\"url(#pdb99bfd5ab)\">\n     <use xlink:href=\"#C0_0_f56d808deb\" x=\"201.989185\" y=\"21.66554\" style=\"fill: #b2dd2d; stroke: #b2dd2d\"/>\n    </g>\n    <g clip-path=\"url(#pdb99bfd5ab)\">\n     <use xlink:href=\"#C0_0_f56d808deb\" x=\"180.228999\" y=\"168.668375\" style=\"fill: #453581; stroke: #453581\"/>\n    </g>\n    <g clip-path=\"url(#pdb99bfd5ab)\">\n     <use xlink:href=\"#C0_0_f56d808deb\" x=\"158.0404\" y=\"106.910021\" style=\"fill: #277f8e; stroke: #277f8e\"/>\n    </g>\n    <g clip-path=\"url(#pdb99bfd5ab)\">\n     <use xlink:href=\"#C0_0_f56d808deb\" x=\"149.811744\" y=\"80.334331\" style=\"fill: #1f9a8a; stroke: #1f9a8a\"/>\n    </g>\n    <g clip-path=\"url(#pdb99bfd5ab)\">\n     <use xlink:href=\"#C0_0_f56d808deb\" x=\"153.808285\" y=\"124.868826\" style=\"fill: #2e6f8e; stroke: #2e6f8e\"/>\n    </g>\n    <g clip-path=\"url(#pdb99bfd5ab)\">\n     <use xlink:href=\"#C0_0_f56d808deb\" x=\"184.327989\" y=\"132.53136\" style=\"fill: #306a8e; stroke: #306a8e\"/>\n    </g>\n    <g clip-path=\"url(#pdb99bfd5ab)\">\n     <use xlink:href=\"#C0_0_f56d808deb\" x=\"192.405646\" y=\"22.45464\" style=\"fill: #bddf26; stroke: #bddf26\"/>\n    </g>\n    <g clip-path=\"url(#pdb99bfd5ab)\">\n     <use xlink:href=\"#C0_0_f56d808deb\" x=\"132.913766\" y=\"32.226528\" style=\"fill: #50c46a; stroke: #50c46a\"/>\n    </g>\n    <g clip-path=\"url(#pdb99bfd5ab)\">\n     <use xlink:href=\"#C0_0_f56d808deb\" x=\"166.579501\" y=\"19.162918\" style=\"fill: #a0da39; stroke: #a0da39\"/>\n    </g>\n    <g clip-path=\"url(#pdb99bfd5ab)\">\n     <use xlink:href=\"#C0_0_f56d808deb\" x=\"176.470051\" y=\"101.397789\" style=\"fill: #21918c; stroke: #21918c\"/>\n    </g>\n    <g clip-path=\"url(#pdb99bfd5ab)\">\n     <use xlink:href=\"#C0_0_f56d808deb\" x=\"156.958069\" y=\"108.079583\" style=\"fill: #277e8e; stroke: #277e8e\"/>\n    </g>\n    <g clip-path=\"url(#pdb99bfd5ab)\">\n     <use xlink:href=\"#C0_0_f56d808deb\" x=\"199.929852\" y=\"124.616676\" style=\"fill: #2a778e; stroke: #2a778e\"/>\n    </g>\n    <g clip-path=\"url(#pdb99bfd5ab)\">\n     <use xlink:href=\"#C0_0_f56d808deb\" x=\"184.130955\" y=\"122.500219\" style=\"fill: #2c728e; stroke: #2c728e\"/>\n    </g>\n    <g clip-path=\"url(#pdb99bfd5ab)\">\n     <use xlink:href=\"#C0_0_f56d808deb\" x=\"186.110601\" y=\"121.288288\" style=\"fill: #29798e; stroke: #29798e\"/>\n    </g>\n    <g clip-path=\"url(#pdb99bfd5ab)\">\n     <use xlink:href=\"#C0_0_f56d808deb\" x=\"185.597282\" y=\"-0.198518\" style=\"fill: #f1e51d; stroke: #f1e51d\"/>\n    </g>\n    <g clip-path=\"url(#pdb99bfd5ab)\">\n     <use xlink:href=\"#C0_0_f56d808deb\" x=\"204.10748\" y=\"124.866313\" style=\"fill: #287c8e; stroke: #287c8e\"/>\n    </g>\n    <g clip-path=\"url(#pdb99bfd5ab)\">\n     <use xlink:href=\"#C0_0_f56d808deb\" x=\"126.484383\" y=\"51.950915\" style=\"fill: #26ad81; stroke: #26ad81\"/>\n    </g>\n    <g clip-path=\"url(#pdb99bfd5ab)\">\n     <use xlink:href=\"#C0_0_f56d808deb\" x=\"145.574795\" y=\"84.379136\" style=\"fill: #20928c; stroke: #20928c\"/>\n    </g>\n    <g clip-path=\"url(#pdb99bfd5ab)\">\n     <use xlink:href=\"#C0_0_f56d808deb\" x=\"160.524703\" y=\"77.451536\" style=\"fill: #1fa188; stroke: #1fa188\"/>\n    </g>\n    <g clip-path=\"url(#pdb99bfd5ab)\">\n     <use xlink:href=\"#C0_0_f56d808deb\" x=\"182.784149\" y=\"138.562538\" style=\"fill: #32648e; stroke: #32648e\"/>\n    </g>\n    <g clip-path=\"url(#pdb99bfd5ab)\">\n     <use xlink:href=\"#C0_0_f56d808deb\" x=\"165.887309\" y=\"94.97352\" style=\"fill: #21908d; stroke: #21908d\"/>\n    </g>\n    <g clip-path=\"url(#pdb99bfd5ab)\">\n     <use xlink:href=\"#C0_0_f56d808deb\" x=\"180.473315\" y=\"174.789527\" style=\"fill: #472f7d; stroke: #472f7d\"/>\n    </g>\n    <g clip-path=\"url(#pdb99bfd5ab)\">\n     <use xlink:href=\"#C0_0_f56d808deb\" x=\"176.5137\" y=\"121.579891\" style=\"fill: #2c728e; stroke: #2c728e\"/>\n    </g>\n    <g clip-path=\"url(#pdb99bfd5ab)\">\n     <use xlink:href=\"#C0_0_f56d808deb\" x=\"156.447903\" y=\"134.350397\" style=\"fill: #375a8c; stroke: #375a8c\"/>\n    </g>\n    <g clip-path=\"url(#pdb99bfd5ab)\">\n     <use xlink:href=\"#C0_0_f56d808deb\" x=\"188.02192\" y=\"66.645869\" style=\"fill: #3aba76; stroke: #3aba76\"/>\n    </g>\n    <g clip-path=\"url(#pdb99bfd5ab)\">\n     <use xlink:href=\"#C0_0_f56d808deb\" x=\"181.915642\" y=\"9.058583\" style=\"fill: #cde11d; stroke: #cde11d\"/>\n    </g>\n    <g clip-path=\"url(#pdb99bfd5ab)\">\n     <use xlink:href=\"#C0_0_f56d808deb\" x=\"157.017686\" y=\"106.539927\" style=\"fill: #287d8e; stroke: #287d8e\"/>\n    </g>\n    <g clip-path=\"url(#pdb99bfd5ab)\">\n     <use xlink:href=\"#C0_0_f56d808deb\" x=\"115.335279\" y=\"57.08379\" style=\"fill: #1fa188; stroke: #1fa188\"/>\n    </g>\n    <g clip-path=\"url(#pdb99bfd5ab)\">\n     <use xlink:href=\"#C0_0_f56d808deb\" x=\"150.315675\" y=\"60.422044\" style=\"fill: #2ab07f; stroke: #2ab07f\"/>\n    </g>\n    <g clip-path=\"url(#pdb99bfd5ab)\">\n     <use xlink:href=\"#C0_0_f56d808deb\" x=\"176.157451\" y=\"-4.991714\" style=\"fill: #f6e620; stroke: #f6e620\"/>\n    </g>\n    <g clip-path=\"url(#pdb99bfd5ab)\">\n     <use xlink:href=\"#C0_0_f56d808deb\" x=\"147.752273\" y=\"56.839498\" style=\"fill: #2fb47c; stroke: #2fb47c\"/>\n    </g>\n    <g clip-path=\"url(#pdb99bfd5ab)\">\n     <use xlink:href=\"#C0_0_f56d808deb\" x=\"177.429923\" y=\"61.194643\" style=\"fill: #3bbb75; stroke: #3bbb75\"/>\n    </g>\n    <g clip-path=\"url(#pdb99bfd5ab)\">\n     <use xlink:href=\"#C0_0_f56d808deb\" x=\"124.747083\" y=\"104.582469\" style=\"fill: #2d708e; stroke: #2d708e\"/>\n    </g>\n    <g clip-path=\"url(#pdb99bfd5ab)\">\n     <use xlink:href=\"#C0_0_f56d808deb\" x=\"141.805674\" y=\"42.381477\" style=\"fill: #3bbb75; stroke: #3bbb75\"/>\n    </g>\n    <g clip-path=\"url(#pdb99bfd5ab)\">\n     <use xlink:href=\"#C0_0_f56d808deb\" x=\"223.758156\" y=\"100.373621\" style=\"fill: #1f9f88; stroke: #1f9f88\"/>\n    </g>\n    <g clip-path=\"url(#pdb99bfd5ab)\">\n     <use xlink:href=\"#C0_0_f56d808deb\" x=\"196.998437\" y=\"69.772569\" style=\"fill: #2fb47c; stroke: #2fb47c\"/>\n    </g>\n    <g clip-path=\"url(#pdb99bfd5ab)\">\n     <use xlink:href=\"#C0_0_f56d808deb\" x=\"107.777522\" y=\"68.318163\" style=\"fill: #20928c; stroke: #20928c\"/>\n    </g>\n    <g clip-path=\"url(#pdb99bfd5ab)\">\n     <use xlink:href=\"#C0_0_f56d808deb\" x=\"222.733562\" y=\"102.103805\" style=\"fill: #1e9d89; stroke: #1e9d89\"/>\n    </g>\n    <g clip-path=\"url(#pdb99bfd5ab)\">\n     <use xlink:href=\"#C0_0_f56d808deb\" x=\"135.18428\" y=\"116.276035\" style=\"fill: #2e6d8e; stroke: #2e6d8e\"/>\n    </g>\n    <g clip-path=\"url(#pdb99bfd5ab)\">\n     <use xlink:href=\"#C0_0_f56d808deb\" x=\"166.331804\" y=\"91.845492\" style=\"fill: #21908d; stroke: #21908d\"/>\n    </g>\n    <g clip-path=\"url(#pdb99bfd5ab)\">\n     <use xlink:href=\"#C0_0_f56d808deb\" x=\"156.883747\" y=\"176.107888\" style=\"fill: #482475; stroke: #482475\"/>\n    </g>\n    <g clip-path=\"url(#pdb99bfd5ab)\">\n     <use xlink:href=\"#C0_0_f56d808deb\" x=\"146.662467\" y=\"2.906987\" style=\"fill: #aadc32; stroke: #aadc32\"/>\n    </g>\n    <g clip-path=\"url(#pdb99bfd5ab)\">\n     <use xlink:href=\"#C0_0_f56d808deb\" x=\"138.950014\" y=\"84.634927\" style=\"fill: #218f8d; stroke: #218f8d\"/>\n    </g>\n    <g clip-path=\"url(#pdb99bfd5ab)\">\n     <use xlink:href=\"#C0_0_f56d808deb\" x=\"121.056672\" y=\"152.303702\" style=\"fill: #46327e; stroke: #46327e\"/>\n    </g>\n    <g clip-path=\"url(#pdb99bfd5ab)\">\n     <use xlink:href=\"#C0_0_f56d808deb\" x=\"182.221829\" y=\"109.430967\" style=\"fill: #25838e; stroke: #25838e\"/>\n    </g>\n    <g clip-path=\"url(#pdb99bfd5ab)\">\n     <use xlink:href=\"#C0_0_f56d808deb\" x=\"120.925937\" y=\"135.288669\" style=\"fill: #3e4c8a; stroke: #3e4c8a\"/>\n    </g>\n    <g clip-path=\"url(#pdb99bfd5ab)\">\n     <use xlink:href=\"#C0_0_f56d808deb\" x=\"161.099524\" y=\"57.473953\" style=\"fill: #2fb47c; stroke: #2fb47c\"/>\n    </g>\n    <g clip-path=\"url(#pdb99bfd5ab)\">\n     <use xlink:href=\"#C0_0_f56d808deb\" x=\"234.901384\" y=\"99.903882\" style=\"fill: #20a486; stroke: #20a486\"/>\n    </g>\n    <g clip-path=\"url(#pdb99bfd5ab)\">\n     <use xlink:href=\"#C0_0_f56d808deb\" x=\"162.838356\" y=\"51.155882\" style=\"fill: #3dbc74; stroke: #3dbc74\"/>\n    </g>\n    <g clip-path=\"url(#pdb99bfd5ab)\">\n     <use xlink:href=\"#C0_0_f56d808deb\" x=\"183.48123\" y=\"-9.093504\" style=\"fill: #fde725; stroke: #fde725\"/>\n    </g>\n    <g clip-path=\"url(#pdb99bfd5ab)\">\n     <use xlink:href=\"#C0_0_f56d808deb\" x=\"149.735581\" y=\"91.972186\" style=\"fill: #24878e; stroke: #24878e\"/>\n    </g>\n    <g clip-path=\"url(#pdb99bfd5ab)\">\n     <use xlink:href=\"#C0_0_f56d808deb\" x=\"174.380587\" y=\"124.482592\" style=\"fill: #2c718e; stroke: #2c718e\"/>\n    </g>\n    <g clip-path=\"url(#pdb99bfd5ab)\">\n     <use xlink:href=\"#C0_0_f56d808deb\" x=\"117.800275\" y=\"76.520302\" style=\"fill: #21918c; stroke: #21918c\"/>\n    </g>\n    <g clip-path=\"url(#pdb99bfd5ab)\">\n     <use xlink:href=\"#C0_0_f56d808deb\" x=\"148.3433\" y=\"55.022129\" style=\"fill: #28ae80; stroke: #28ae80\"/>\n    </g>\n    <g clip-path=\"url(#pdb99bfd5ab)\">\n     <use xlink:href=\"#C0_0_f56d808deb\" x=\"170.24395\" y=\"54.201957\" style=\"fill: #40bd72; stroke: #40bd72\"/>\n    </g>\n    <g clip-path=\"url(#pdb99bfd5ab)\">\n     <use xlink:href=\"#C0_0_f56d808deb\" x=\"170.980268\" y=\"156.219297\" style=\"fill: #3f4889; stroke: #3f4889\"/>\n    </g>\n    <g clip-path=\"url(#pdb99bfd5ab)\">\n     <use xlink:href=\"#C0_0_f56d808deb\" x=\"160.29044\" y=\"119.498027\" style=\"fill: #2c718e; stroke: #2c718e\"/>\n    </g>\n    <g clip-path=\"url(#pdb99bfd5ab)\">\n     <use xlink:href=\"#C0_0_f56d808deb\" x=\"149.464729\" y=\"161.258393\" style=\"fill: #453581; stroke: #453581\"/>\n    </g>\n    <g clip-path=\"url(#pdb99bfd5ab)\">\n     <use xlink:href=\"#C0_0_f56d808deb\" x=\"154.298425\" y=\"46.763346\" style=\"fill: #46c06f; stroke: #46c06f\"/>\n    </g>\n    <g clip-path=\"url(#pdb99bfd5ab)\">\n     <use xlink:href=\"#C0_0_f56d808deb\" x=\"138.356598\" y=\"191.456129\" style=\"fill: #440154; stroke: #440154\"/>\n    </g>\n    <g clip-path=\"url(#pdb99bfd5ab)\">\n     <use xlink:href=\"#C0_0_f56d808deb\" x=\"188.333371\" y=\"99.127762\" style=\"fill: #20928c; stroke: #20928c\"/>\n    </g>\n    <g clip-path=\"url(#pdb99bfd5ab)\">\n     <use xlink:href=\"#C0_0_f56d808deb\" x=\"199.351275\" y=\"89.753302\" style=\"fill: #1fa187; stroke: #1fa187\"/>\n    </g>\n    <g clip-path=\"url(#pdb99bfd5ab)\">\n     <use xlink:href=\"#C0_0_f56d808deb\" x=\"163.182094\" y=\"138.389077\" style=\"fill: #365d8d; stroke: #365d8d\"/>\n    </g>\n    <g clip-path=\"url(#pdb99bfd5ab)\">\n     <use xlink:href=\"#C0_0_f56d808deb\" x=\"137.468313\" y=\"101.161791\" style=\"fill: #2a788e; stroke: #2a788e\"/>\n    </g>\n    <g clip-path=\"url(#pdb99bfd5ab)\">\n     <use xlink:href=\"#C0_0_f56d808deb\" x=\"166.718942\" y=\"43.782784\" style=\"fill: #5cc863; stroke: #5cc863\"/>\n    </g>\n    <g clip-path=\"url(#pdb99bfd5ab)\">\n     <use xlink:href=\"#C0_0_f56d808deb\" x=\"131.737203\" y=\"47.686943\" style=\"fill: #32b67a; stroke: #32b67a\"/>\n    </g>\n    <g clip-path=\"url(#pdb99bfd5ab)\">\n     <use xlink:href=\"#C0_0_f56d808deb\" x=\"173.712989\" y=\"170.450794\" style=\"fill: #46337f; stroke: #46337f\"/>\n    </g>\n    <g clip-path=\"url(#pdb99bfd5ab)\">\n     <use xlink:href=\"#C0_0_f56d808deb\" x=\"180.773229\" y=\"70.604691\" style=\"fill: #27ad81; stroke: #27ad81\"/>\n    </g>\n    <g clip-path=\"url(#pdb99bfd5ab)\">\n     <use xlink:href=\"#C0_0_f56d808deb\" x=\"126.187363\" y=\"40.909914\" style=\"fill: #3bbb75; stroke: #3bbb75\"/>\n    </g>\n    <g clip-path=\"url(#pdb99bfd5ab)\">\n     <use xlink:href=\"#C0_0_f56d808deb\" x=\"112.256205\" y=\"5.773595\" style=\"fill: #86d549; stroke: #86d549\"/>\n    </g>\n    <g clip-path=\"url(#pdb99bfd5ab)\">\n     <use xlink:href=\"#C0_0_f56d808deb\" x=\"179.085171\" y=\"124.205051\" style=\"fill: #2b748e; stroke: #2b748e\"/>\n    </g>\n    <g clip-path=\"url(#pdb99bfd5ab)\">\n     <use xlink:href=\"#C0_0_f56d808deb\" x=\"170.985143\" y=\"16.982976\" style=\"fill: #9bd93c; stroke: #9bd93c\"/>\n    </g>\n    <g clip-path=\"url(#pdb99bfd5ab)\">\n     <use xlink:href=\"#C0_0_f56d808deb\" x=\"157.853923\" y=\"40.765428\" style=\"fill: #56c667; stroke: #56c667\"/>\n    </g>\n    <g clip-path=\"url(#pdb99bfd5ab)\">\n     <use xlink:href=\"#C0_0_f56d808deb\" x=\"150.58002\" y=\"55.403819\" style=\"fill: #2fb47c; stroke: #2fb47c\"/>\n    </g>\n    <g clip-path=\"url(#pdb99bfd5ab)\">\n     <use xlink:href=\"#C0_0_f56d808deb\" x=\"142.731738\" y=\"86.988672\" style=\"fill: #218f8d; stroke: #218f8d\"/>\n    </g>\n    <g clip-path=\"url(#pdb99bfd5ab)\">\n     <use xlink:href=\"#C0_0_f56d808deb\" x=\"171.370754\" y=\"92.895475\" style=\"fill: #1f948c; stroke: #1f948c\"/>\n    </g>\n    <g clip-path=\"url(#pdb99bfd5ab)\">\n     <use xlink:href=\"#C0_0_f56d808deb\" x=\"75.913245\" y=\"154.50883\" style=\"fill: #471164; stroke: #471164\"/>\n    </g>\n    <g clip-path=\"url(#pdb99bfd5ab)\">\n     <use xlink:href=\"#C0_0_f56d808deb\" x=\"185.051984\" y=\"71.757835\" style=\"fill: #2ab07f; stroke: #2ab07f\"/>\n    </g>\n    <g clip-path=\"url(#pdb99bfd5ab)\">\n     <use xlink:href=\"#C0_0_f56d808deb\" x=\"190.326339\" y=\"89.252441\" style=\"fill: #1f9e89; stroke: #1f9e89\"/>\n    </g>\n    <g clip-path=\"url(#pdb99bfd5ab)\">\n     <use xlink:href=\"#C0_0_f56d808deb\" x=\"167.829611\" y=\"145.179507\" style=\"fill: #3a548c; stroke: #3a548c\"/>\n    </g>\n    <g clip-path=\"url(#pdb99bfd5ab)\">\n     <use xlink:href=\"#C0_0_f56d808deb\" x=\"180.934982\" y=\"102.906286\" style=\"fill: #218e8d; stroke: #218e8d\"/>\n    </g>\n    <g clip-path=\"url(#pdb99bfd5ab)\">\n     <use xlink:href=\"#C0_0_f56d808deb\" x=\"153.366038\" y=\"34.953905\" style=\"fill: #69cd5b; stroke: #69cd5b\"/>\n    </g>\n    <g clip-path=\"url(#pdb99bfd5ab)\">\n     <use xlink:href=\"#C0_0_f56d808deb\" x=\"151.644334\" y=\"66.969206\" style=\"fill: #25ab82; stroke: #25ab82\"/>\n    </g>\n    <g clip-path=\"url(#pdb99bfd5ab)\">\n     <use xlink:href=\"#C0_0_f56d808deb\" x=\"200.714079\" y=\"80.182716\" style=\"fill: #29af7f; stroke: #29af7f\"/>\n    </g>\n    <g clip-path=\"url(#pdb99bfd5ab)\">\n     <use xlink:href=\"#C0_0_f56d808deb\" x=\"140.386774\" y=\"175.291738\" style=\"fill: #48186a; stroke: #48186a\"/>\n    </g>\n    <g clip-path=\"url(#pdb99bfd5ab)\">\n     <use xlink:href=\"#C0_0_f56d808deb\" x=\"189.027182\" y=\"107.280473\" style=\"fill: #228c8d; stroke: #228c8d\"/>\n    </g>\n    <g clip-path=\"url(#pdb99bfd5ab)\">\n     <use xlink:href=\"#C0_0_f56d808deb\" x=\"133.273457\" y=\"135.040052\" style=\"fill: #3b518b; stroke: #3b518b\"/>\n    </g>\n    <g clip-path=\"url(#pdb99bfd5ab)\">\n     <use xlink:href=\"#C0_0_f56d808deb\" x=\"146.455248\" y=\"95.976437\" style=\"fill: #26828e; stroke: #26828e\"/>\n    </g>\n    <g clip-path=\"url(#pdb99bfd5ab)\">\n     <use xlink:href=\"#C0_0_f56d808deb\" x=\"166.388356\" y=\"55.853646\" style=\"fill: #3bbb75; stroke: #3bbb75\"/>\n    </g>\n    <g clip-path=\"url(#pdb99bfd5ab)\">\n     <use xlink:href=\"#C0_0_f56d808deb\" x=\"128.762519\" y=\"160.176365\" style=\"fill: #472c7a; stroke: #472c7a\"/>\n    </g>\n    <g clip-path=\"url(#pdb99bfd5ab)\">\n     <use xlink:href=\"#C0_0_f56d808deb\" x=\"165.246634\" y=\"63.466715\" style=\"fill: #2ab07f; stroke: #2ab07f\"/>\n    </g>\n   </g>\n   <g id=\"matplotlib.axis_1\">\n    <g id=\"xtick_1\">\n     <g id=\"line2d_1\">\n      <defs>\n       <path id=\"m292b02d9fd\" d=\"M 0 0 \nL 0 3.5 \n\" style=\"stroke: #000000; stroke-width: 0.8\"/>\n      </defs>\n      <g>\n       <use xlink:href=\"#m292b02d9fd\" x=\"52.160937\" y=\"177.319219\" style=\"stroke: #000000; stroke-width: 0.8\"/>\n      </g>\n     </g>\n     <g id=\"text_1\">\n      <!-- −2 -->\n      <g transform=\"translate(44.789844 191.917656) scale(0.1 -0.1)\">\n       <defs>\n        <path id=\"DejaVuSans-2212\" d=\"M 678 2272 \nL 4684 2272 \nL 4684 1741 \nL 678 1741 \nL 678 2272 \nz\n\" transform=\"scale(0.015625)\"/>\n        <path id=\"DejaVuSans-32\" d=\"M 1228 531 \nL 3431 531 \nL 3431 0 \nL 469 0 \nL 469 531 \nQ 828 903 1448 1529 \nQ 2069 2156 2228 2338 \nQ 2531 2678 2651 2914 \nQ 2772 3150 2772 3378 \nQ 2772 3750 2511 3984 \nQ 2250 4219 1831 4219 \nQ 1534 4219 1204 4116 \nQ 875 4013 500 3803 \nL 500 4441 \nQ 881 4594 1212 4672 \nQ 1544 4750 1819 4750 \nQ 2544 4750 2975 4387 \nQ 3406 4025 3406 3419 \nQ 3406 3131 3298 2873 \nQ 3191 2616 2906 2266 \nQ 2828 2175 2409 1742 \nQ 1991 1309 1228 531 \nz\n\" transform=\"scale(0.015625)\"/>\n       </defs>\n       <use xlink:href=\"#DejaVuSans-2212\"/>\n       <use xlink:href=\"#DejaVuSans-32\" x=\"83.789062\"/>\n      </g>\n     </g>\n    </g>\n    <g id=\"xtick_2\">\n     <g id=\"line2d_2\">\n      <g>\n       <use xlink:href=\"#m292b02d9fd\" x=\"107.960938\" y=\"177.319219\" style=\"stroke: #000000; stroke-width: 0.8\"/>\n      </g>\n     </g>\n     <g id=\"text_2\">\n      <!-- −1 -->\n      <g transform=\"translate(100.589844 191.917656) scale(0.1 -0.1)\">\n       <defs>\n        <path id=\"DejaVuSans-31\" d=\"M 794 531 \nL 1825 531 \nL 1825 4091 \nL 703 3866 \nL 703 4441 \nL 1819 4666 \nL 2450 4666 \nL 2450 531 \nL 3481 531 \nL 3481 0 \nL 794 0 \nL 794 531 \nz\n\" transform=\"scale(0.015625)\"/>\n       </defs>\n       <use xlink:href=\"#DejaVuSans-2212\"/>\n       <use xlink:href=\"#DejaVuSans-31\" x=\"83.789062\"/>\n      </g>\n     </g>\n    </g>\n    <g id=\"xtick_3\">\n     <g id=\"line2d_3\">\n      <g>\n       <use xlink:href=\"#m292b02d9fd\" x=\"163.760938\" y=\"177.319219\" style=\"stroke: #000000; stroke-width: 0.8\"/>\n      </g>\n     </g>\n     <g id=\"text_3\">\n      <!-- 0 -->\n      <g transform=\"translate(160.579688 191.917656) scale(0.1 -0.1)\">\n       <defs>\n        <path id=\"DejaVuSans-30\" d=\"M 2034 4250 \nQ 1547 4250 1301 3770 \nQ 1056 3291 1056 2328 \nQ 1056 1369 1301 889 \nQ 1547 409 2034 409 \nQ 2525 409 2770 889 \nQ 3016 1369 3016 2328 \nQ 3016 3291 2770 3770 \nQ 2525 4250 2034 4250 \nz\nM 2034 4750 \nQ 2819 4750 3233 4129 \nQ 3647 3509 3647 2328 \nQ 3647 1150 3233 529 \nQ 2819 -91 2034 -91 \nQ 1250 -91 836 529 \nQ 422 1150 422 2328 \nQ 422 3509 836 4129 \nQ 1250 4750 2034 4750 \nz\n\" transform=\"scale(0.015625)\"/>\n       </defs>\n       <use xlink:href=\"#DejaVuSans-30\"/>\n      </g>\n     </g>\n    </g>\n    <g id=\"xtick_4\">\n     <g id=\"line2d_4\">\n      <g>\n       <use xlink:href=\"#m292b02d9fd\" x=\"219.560938\" y=\"177.319219\" style=\"stroke: #000000; stroke-width: 0.8\"/>\n      </g>\n     </g>\n     <g id=\"text_4\">\n      <!-- 1 -->\n      <g transform=\"translate(216.379688 191.917656) scale(0.1 -0.1)\">\n       <use xlink:href=\"#DejaVuSans-31\"/>\n      </g>\n     </g>\n    </g>\n    <g id=\"xtick_5\">\n     <g id=\"line2d_5\">\n      <g>\n       <use xlink:href=\"#m292b02d9fd\" x=\"275.360938\" y=\"177.319219\" style=\"stroke: #000000; stroke-width: 0.8\"/>\n      </g>\n     </g>\n     <g id=\"text_5\">\n      <!-- 2 -->\n      <g transform=\"translate(272.179688 191.917656) scale(0.1 -0.1)\">\n       <use xlink:href=\"#DejaVuSans-32\"/>\n      </g>\n     </g>\n    </g>\n    <g id=\"text_6\">\n     <!-- $X_1$ -->\n     <g transform=\"translate(157.960938 205.595781) scale(0.1 -0.1)\">\n      <defs>\n       <path id=\"DejaVuSans-Oblique-58\" d=\"M 878 4666 \nL 1516 4666 \nL 2316 2981 \nL 3763 4666 \nL 4500 4666 \nL 2578 2438 \nL 3738 0 \nL 3103 0 \nL 2163 1966 \nL 459 0 \nL -275 0 \nL 1906 2509 \nL 878 4666 \nz\n\" transform=\"scale(0.015625)\"/>\n      </defs>\n      <use xlink:href=\"#DejaVuSans-Oblique-58\" transform=\"translate(0 0.09375)\"/>\n      <use xlink:href=\"#DejaVuSans-31\" transform=\"translate(68.505859 -16.3125) scale(0.7)\"/>\n     </g>\n    </g>\n   </g>\n   <g id=\"matplotlib.axis_2\">\n    <g id=\"ytick_1\">\n     <g id=\"line2d_6\">\n      <defs>\n       <path id=\"mb839a71d15\" d=\"M 0 0 \nL -3.5 0 \n\" style=\"stroke: #000000; stroke-width: 0.8\"/>\n      </defs>\n      <g>\n       <use xlink:href=\"#mb839a71d15\" x=\"52.160938\" y=\"177.319219\" style=\"stroke: #000000; stroke-width: 0.8\"/>\n      </g>\n     </g>\n     <g id=\"text_7\">\n      <!-- −2.0 -->\n      <g transform=\"translate(20.878125 181.118438) scale(0.1 -0.1)\">\n       <defs>\n        <path id=\"DejaVuSans-2e\" d=\"M 684 794 \nL 1344 794 \nL 1344 0 \nL 684 0 \nL 684 794 \nz\n\" transform=\"scale(0.015625)\"/>\n       </defs>\n       <use xlink:href=\"#DejaVuSans-2212\"/>\n       <use xlink:href=\"#DejaVuSans-32\" x=\"83.789062\"/>\n       <use xlink:href=\"#DejaVuSans-2e\" x=\"147.412109\"/>\n       <use xlink:href=\"#DejaVuSans-30\" x=\"179.199219\"/>\n      </g>\n     </g>\n    </g>\n    <g id=\"ytick_2\">\n     <g id=\"line2d_7\">\n      <g>\n       <use xlink:href=\"#mb839a71d15\" x=\"52.160938\" y=\"156.529219\" style=\"stroke: #000000; stroke-width: 0.8\"/>\n      </g>\n     </g>\n     <g id=\"text_8\">\n      <!-- −1.5 -->\n      <g transform=\"translate(20.878125 160.328438) scale(0.1 -0.1)\">\n       <defs>\n        <path id=\"DejaVuSans-35\" d=\"M 691 4666 \nL 3169 4666 \nL 3169 4134 \nL 1269 4134 \nL 1269 2991 \nQ 1406 3038 1543 3061 \nQ 1681 3084 1819 3084 \nQ 2600 3084 3056 2656 \nQ 3513 2228 3513 1497 \nQ 3513 744 3044 326 \nQ 2575 -91 1722 -91 \nQ 1428 -91 1123 -41 \nQ 819 9 494 109 \nL 494 744 \nQ 775 591 1075 516 \nQ 1375 441 1709 441 \nQ 2250 441 2565 725 \nQ 2881 1009 2881 1497 \nQ 2881 1984 2565 2268 \nQ 2250 2553 1709 2553 \nQ 1456 2553 1204 2497 \nQ 953 2441 691 2322 \nL 691 4666 \nz\n\" transform=\"scale(0.015625)\"/>\n       </defs>\n       <use xlink:href=\"#DejaVuSans-2212\"/>\n       <use xlink:href=\"#DejaVuSans-31\" x=\"83.789062\"/>\n       <use xlink:href=\"#DejaVuSans-2e\" x=\"147.412109\"/>\n       <use xlink:href=\"#DejaVuSans-35\" x=\"179.199219\"/>\n      </g>\n     </g>\n    </g>\n    <g id=\"ytick_3\">\n     <g id=\"line2d_8\">\n      <g>\n       <use xlink:href=\"#mb839a71d15\" x=\"52.160938\" y=\"135.739219\" style=\"stroke: #000000; stroke-width: 0.8\"/>\n      </g>\n     </g>\n     <g id=\"text_9\">\n      <!-- −1.0 -->\n      <g transform=\"translate(20.878125 139.538438) scale(0.1 -0.1)\">\n       <use xlink:href=\"#DejaVuSans-2212\"/>\n       <use xlink:href=\"#DejaVuSans-31\" x=\"83.789062\"/>\n       <use xlink:href=\"#DejaVuSans-2e\" x=\"147.412109\"/>\n       <use xlink:href=\"#DejaVuSans-30\" x=\"179.199219\"/>\n      </g>\n     </g>\n    </g>\n    <g id=\"ytick_4\">\n     <g id=\"line2d_9\">\n      <g>\n       <use xlink:href=\"#mb839a71d15\" x=\"52.160938\" y=\"114.949219\" style=\"stroke: #000000; stroke-width: 0.8\"/>\n      </g>\n     </g>\n     <g id=\"text_10\">\n      <!-- −0.5 -->\n      <g transform=\"translate(20.878125 118.748438) scale(0.1 -0.1)\">\n       <use xlink:href=\"#DejaVuSans-2212\"/>\n       <use xlink:href=\"#DejaVuSans-30\" x=\"83.789062\"/>\n       <use xlink:href=\"#DejaVuSans-2e\" x=\"147.412109\"/>\n       <use xlink:href=\"#DejaVuSans-35\" x=\"179.199219\"/>\n      </g>\n     </g>\n    </g>\n    <g id=\"ytick_5\">\n     <g id=\"line2d_10\">\n      <g>\n       <use xlink:href=\"#mb839a71d15\" x=\"52.160938\" y=\"94.159219\" style=\"stroke: #000000; stroke-width: 0.8\"/>\n      </g>\n     </g>\n     <g id=\"text_11\">\n      <!-- 0.0 -->\n      <g transform=\"translate(29.257812 97.958438) scale(0.1 -0.1)\">\n       <use xlink:href=\"#DejaVuSans-30\"/>\n       <use xlink:href=\"#DejaVuSans-2e\" x=\"63.623047\"/>\n       <use xlink:href=\"#DejaVuSans-30\" x=\"95.410156\"/>\n      </g>\n     </g>\n    </g>\n    <g id=\"ytick_6\">\n     <g id=\"line2d_11\">\n      <g>\n       <use xlink:href=\"#mb839a71d15\" x=\"52.160938\" y=\"73.369219\" style=\"stroke: #000000; stroke-width: 0.8\"/>\n      </g>\n     </g>\n     <g id=\"text_12\">\n      <!-- 0.5 -->\n      <g transform=\"translate(29.257812 77.168438) scale(0.1 -0.1)\">\n       <use xlink:href=\"#DejaVuSans-30\"/>\n       <use xlink:href=\"#DejaVuSans-2e\" x=\"63.623047\"/>\n       <use xlink:href=\"#DejaVuSans-35\" x=\"95.410156\"/>\n      </g>\n     </g>\n    </g>\n    <g id=\"ytick_7\">\n     <g id=\"line2d_12\">\n      <g>\n       <use xlink:href=\"#mb839a71d15\" x=\"52.160938\" y=\"52.579219\" style=\"stroke: #000000; stroke-width: 0.8\"/>\n      </g>\n     </g>\n     <g id=\"text_13\">\n      <!-- 1.0 -->\n      <g transform=\"translate(29.257812 56.378438) scale(0.1 -0.1)\">\n       <use xlink:href=\"#DejaVuSans-31\"/>\n       <use xlink:href=\"#DejaVuSans-2e\" x=\"63.623047\"/>\n       <use xlink:href=\"#DejaVuSans-30\" x=\"95.410156\"/>\n      </g>\n     </g>\n    </g>\n    <g id=\"ytick_8\">\n     <g id=\"line2d_13\">\n      <g>\n       <use xlink:href=\"#mb839a71d15\" x=\"52.160938\" y=\"31.789219\" style=\"stroke: #000000; stroke-width: 0.8\"/>\n      </g>\n     </g>\n     <g id=\"text_14\">\n      <!-- 1.5 -->\n      <g transform=\"translate(29.257812 35.588438) scale(0.1 -0.1)\">\n       <use xlink:href=\"#DejaVuSans-31\"/>\n       <use xlink:href=\"#DejaVuSans-2e\" x=\"63.623047\"/>\n       <use xlink:href=\"#DejaVuSans-35\" x=\"95.410156\"/>\n      </g>\n     </g>\n    </g>\n    <g id=\"ytick_9\">\n     <g id=\"line2d_14\">\n      <g>\n       <use xlink:href=\"#mb839a71d15\" x=\"52.160938\" y=\"10.999219\" style=\"stroke: #000000; stroke-width: 0.8\"/>\n      </g>\n     </g>\n     <g id=\"text_15\">\n      <!-- 2.0 -->\n      <g transform=\"translate(29.257812 14.798438) scale(0.1 -0.1)\">\n       <use xlink:href=\"#DejaVuSans-32\"/>\n       <use xlink:href=\"#DejaVuSans-2e\" x=\"63.623047\"/>\n       <use xlink:href=\"#DejaVuSans-30\" x=\"95.410156\"/>\n      </g>\n     </g>\n    </g>\n    <g id=\"text_16\">\n     <!-- $X_2$ -->\n     <g transform=\"translate(14.798438 99.959219) rotate(-90) scale(0.1 -0.1)\">\n      <use xlink:href=\"#DejaVuSans-Oblique-58\" transform=\"translate(0 0.09375)\"/>\n      <use xlink:href=\"#DejaVuSans-32\" transform=\"translate(68.505859 -16.3125) scale(0.7)\"/>\n     </g>\n    </g>\n   </g>\n   <g id=\"PathCollection_2\"/>\n   <g id=\"PathCollection_3\">\n    <path clip-path=\"url(#pdb99bfd5ab)\" style=\"fill: none; stroke: #48186a; stroke-width: 1.5\"/>\n   </g>\n   <g id=\"PathCollection_4\">\n    <path clip-path=\"url(#pdb99bfd5ab)\" style=\"fill: none; stroke: #472d7b; stroke-width: 1.5\"/>\n   </g>\n   <g id=\"PathCollection_5\">\n    <path d=\"M -1 188.566073 \nL -0.257244 188.840454 \nL 2.662991 189.919219 \nL 3.124574 190.089732 \nL 6.506392 191.33901 \nL 9.88821 192.588288 \nL 11.758574 193.279219 \nL 13.270028 193.837565 \nL 16.651847 195.086843 \nL 20.033665 196.336121 \nL 20.854157 196.639219 \nL 23.415483 197.585398 \nL 26.797301 198.834676 \nL 29.94974 199.999219 \nL 30.179119 200.083954 \nL 33.560937 201.333232 \nL 36.942756 202.582509 \nL 39.045323 203.359219 \nL 40.324574 203.831787 \nL 43.706392 205.081065 \nL 47.08821 206.330342 \nL 48.140906 206.719219 \nL 50.470028 207.57962 \nL 53.851847 208.828898 \nL 57.233665 210.078176 \nL 57.236489 210.079219 \nL 60.615483 211.327453 \nL 63.997301 212.576731 \nL 66.332072 213.439219 \nL 67.379119 213.826009 \nL 70.760937 215.075286 \nL 72.927046 215.875469 \n\" clip-path=\"url(#pdb99bfd5ab)\" style=\"fill: none; stroke: #424086; stroke-width: 1.5\"/>\n   </g>\n   <g id=\"PathCollection_6\">\n    <path d=\"M -1 157.494021 \nL -0.257244 157.768402 \nL 3.124574 159.01768 \nL 4.915372 159.679219 \nL 6.506392 160.266958 \nL 9.88821 161.516235 \nL 13.270028 162.765513 \nL 14.010955 163.039219 \nL 16.651847 164.014791 \nL 20.033665 165.264068 \nL 23.106538 166.399219 \nL 23.415483 166.513346 \nL 26.797301 167.762624 \nL 30.179119 169.011902 \nL 32.202121 169.759219 \nL 33.560937 170.261179 \nL 36.942756 171.510457 \nL 40.324574 172.759735 \nL 41.297704 173.119219 \nL 43.706392 174.009012 \nL 47.08821 175.25829 \nL 50.393287 176.479219 \nL 50.470028 176.507568 \nL 53.851847 177.756845 \nL 57.233665 179.006123 \nL 59.48887 179.839219 \nL 60.615483 180.255401 \nL 63.997301 181.504679 \nL 67.379119 182.753956 \nL 68.584453 183.199219 \nL 70.760937 184.003234 \nL 74.142756 185.252512 \nL 77.524574 186.501789 \nL 77.680036 186.559219 \nL 80.906392 187.751067 \nL 84.28821 189.000345 \nL 86.775619 189.919219 \nL 87.670028 190.249623 \nL 91.051847 191.4989 \nL 94.433665 192.748178 \nL 95.871202 193.279219 \nL 97.815483 193.997456 \nL 101.197301 195.246733 \nL 104.579119 196.496011 \nL 104.966785 196.639219 \nL 107.960938 197.745289 \nL 111.342756 198.994567 \nL 114.062368 199.999219 \nL 114.724574 200.243844 \nL 118.106392 201.493122 \nL 121.48821 202.7424 \nL 123.157951 203.359219 \nL 124.870028 203.991677 \nL 128.251847 205.240955 \nL 131.633665 206.490233 \nL 132.253534 206.719219 \nL 135.015483 207.739511 \nL 138.397301 208.988788 \nL 141.349117 210.079219 \nL 141.779119 210.238066 \nL 145.160938 211.487344 \nL 148.542756 212.736621 \nL 150.4447 213.439219 \nL 151.924574 213.985899 \nL 155.306392 215.235177 \nL 157.039674 215.875469 \n\" clip-path=\"url(#pdb99bfd5ab)\" style=\"fill: none; stroke: #3b528b; stroke-width: 1.5\"/>\n   </g>\n   <g id=\"PathCollection_7\">\n    <path d=\"M -1 126.421968 \nL 241.152302 215.875469 \nL 241.152302 215.875469 \n\" clip-path=\"url(#pdb99bfd5ab)\" style=\"fill: none; stroke: #33638d; stroke-width: 1.5\"/>\n   </g>\n   <g id=\"PathCollection_8\">\n    <path d=\"M -1 95.349916 \nL 325.26493 215.875469 \nL 325.26493 215.875469 \n\" clip-path=\"url(#pdb99bfd5ab)\" style=\"fill: none; stroke: #2c728e; stroke-width: 1.5\"/>\n   </g>\n   <g id=\"PathCollection_9\">\n    <path d=\"M -1 64.277864 \nL 331.160938 186.981461 \nL 331.160938 186.981461 \n\" clip-path=\"url(#pdb99bfd5ab)\" style=\"fill: none; stroke: #26828e; stroke-width: 1.5\"/>\n   </g>\n   <g id=\"PathCollection_10\">\n    <path d=\"M -1 33.205811 \nL 331.160938 155.909409 \nL 331.160938 155.909409 \n\" clip-path=\"url(#pdb99bfd5ab)\" style=\"fill: none; stroke: #21918c; stroke-width: 1.5\"/>\n   </g>\n   <g id=\"PathCollection_11\">\n    <path d=\"M -1 2.133759 \nL 331.160938 124.837357 \nL 331.160938 124.837357 \n\" clip-path=\"url(#pdb99bfd5ab)\" style=\"fill: none; stroke: #1fa088; stroke-width: 1.5\"/>\n   </g>\n   <g id=\"PathCollection_12\">\n    <path d=\"M 74.629483 -1 \nL 331.160938 93.765304 \nL 331.160938 93.765304 \n\" clip-path=\"url(#pdb99bfd5ab)\" style=\"fill: none; stroke: #28ae80; stroke-width: 1.5\"/>\n   </g>\n   <g id=\"PathCollection_13\">\n    <path d=\"M 158.742111 -1 \nL 331.160938 62.693252 \nL 331.160938 62.693252 \n\" clip-path=\"url(#pdb99bfd5ab)\" style=\"fill: none; stroke: #3fbc73; stroke-width: 1.5\"/>\n   </g>\n   <g id=\"PathCollection_14\">\n    <path d=\"M 242.854739 -1 \nL 243.233665 -0.860021 \nL 246.615483 0.389257 \nL 249.997301 1.638535 \nL 250.323996 1.759219 \nL 253.379119 2.887812 \nL 256.760938 4.13709 \nL 259.419579 5.119219 \nL 260.142756 5.386368 \nL 263.524574 6.635645 \nL 266.906392 7.884923 \nL 268.515161 8.479219 \nL 270.28821 9.134201 \nL 273.670028 10.383479 \nL 277.051847 11.632756 \nL 277.610744 11.839219 \nL 280.433665 12.882034 \nL 283.815483 14.131312 \nL 286.706327 15.199219 \nL 287.197301 15.380589 \nL 290.579119 16.629867 \nL 293.960938 17.879145 \nL 295.80191 18.559219 \nL 297.342756 19.128423 \nL 300.724574 20.3777 \nL 304.106392 21.626978 \nL 304.897493 21.919219 \nL 307.48821 22.876256 \nL 310.870028 24.125533 \nL 313.993076 25.279219 \nL 314.251847 25.374811 \nL 317.633665 26.624089 \nL 321.015483 27.873367 \nL 323.088659 28.639219 \nL 324.397301 29.122644 \nL 327.779119 30.371922 \nL 331.160938 31.6212 \n\" clip-path=\"url(#pdb99bfd5ab)\" style=\"fill: none; stroke: #5ec962; stroke-width: 1.5\"/>\n   </g>\n   <g id=\"PathCollection_15\">\n    <path d=\"M 326.967367 -1 \nL 327.779119 -0.70013 \nL 331.160938 0.549147 \n\" clip-path=\"url(#pdb99bfd5ab)\" style=\"fill: none; stroke: #84d44b; stroke-width: 1.5\"/>\n   </g>\n   <g id=\"PathCollection_16\">\n    <path clip-path=\"url(#pdb99bfd5ab)\" style=\"fill: none; stroke: #addc30; stroke-width: 1.5\"/>\n   </g>\n   <g id=\"PathCollection_17\">\n    <path clip-path=\"url(#pdb99bfd5ab)\" style=\"fill: none; stroke: #d8e219; stroke-width: 1.5\"/>\n   </g>\n   <g id=\"PathCollection_18\"/>\n   <g id=\"patch_3\">\n    <path d=\"M 52.160938 177.319219 \nL 52.160938 10.999219 \n\" style=\"fill: none; stroke: #000000; stroke-width: 0.8; stroke-linejoin: miter; stroke-linecap: square\"/>\n   </g>\n   <g id=\"patch_4\">\n    <path d=\"M 275.360938 177.319219 \nL 275.360938 10.999219 \n\" style=\"fill: none; stroke: #000000; stroke-width: 0.8; stroke-linejoin: miter; stroke-linecap: square\"/>\n   </g>\n   <g id=\"patch_5\">\n    <path d=\"M 52.160937 177.319219 \nL 275.360938 177.319219 \n\" style=\"fill: none; stroke: #000000; stroke-width: 0.8; stroke-linejoin: miter; stroke-linecap: square\"/>\n   </g>\n   <g id=\"patch_6\">\n    <path d=\"M 52.160937 10.999219 \nL 275.360938 10.999219 \n\" style=\"fill: none; stroke: #000000; stroke-width: 0.8; stroke-linejoin: miter; stroke-linecap: square\"/>\n   </g>\n  </g>\n  <g id=\"axes_2\">\n   <g id=\"patch_7\">\n    <path d=\"M 289.310938 177.319219 \nL 297.626938 177.319219 \nL 297.626938 10.999219 \nL 289.310938 10.999219 \nz\n\" style=\"fill: #ffffff\"/>\n   </g>\n   <image xlink:href=\"data:image/png;base64,\niVBORw0KGgoAAAANSUhEUgAAAAsAAADnCAYAAADIKqzfAAABW0lEQVR4nO2a2w0CMQwEnThHZZRA/5UAoQXPx0gOwLe1Gu/Gvgc37uOxo/hbMWa1NtaYo17cRDkSYRDlQZhFZVA8kHUsFK04swWG6MaJoVjnebNQyrWqG00aJEumic8Mo15LMbwG2cACDC9BL5TtJYiUU1M+0Y0DmXf9puDMBk1mSxluUYTRZCNZxWKCbPNbGF3cqNeqDf5D6YfBlFskCCB+IkF2Aaovg++3Dha3sA4qA2bTOlRsMe9pKYM7tT6hhOeGpkwS9EJBDSIM0TrEXBeONeebYBBlMRQrQY95koFNNikEw2tQc0PEIMWLTApq0GMWi8UGic8oQaYMilO0znIje2Bc4yUpZ2jWITfQ5veOKMGAoSAM7zyjge2RIGG+9QgF7jorFHaQtAThWD0lZXFSRAzvalWujXWxswGUEzzjLfJidCX5d2kSDMhMlAnzCvANVZLvkSZ4Bf0BQOaFoBDZYkUAAAAASUVORK5CYII=\" id=\"image4926d001e0\" transform=\"scale(1 -1) translate(0 -166.32)\" x=\"289.44\" y=\"-10.8\" width=\"7.92\" height=\"166.32\"/>\n   <g id=\"matplotlib.axis_3\"/>\n   <g id=\"matplotlib.axis_4\">\n    <g id=\"ytick_10\">\n     <g id=\"line2d_15\">\n      <defs>\n       <path id=\"m61bfa05f08\" d=\"M 0 0 \nL 3.5 0 \n\" style=\"stroke: #000000; stroke-width: 0.8\"/>\n      </defs>\n      <g>\n       <use xlink:href=\"#m61bfa05f08\" x=\"297.626938\" y=\"160.306972\" style=\"stroke: #000000; stroke-width: 0.8\"/>\n      </g>\n     </g>\n     <g id=\"text_17\">\n      <!-- −4 -->\n      <g transform=\"translate(304.626938 164.106191) scale(0.1 -0.1)\">\n       <defs>\n        <path id=\"DejaVuSans-34\" d=\"M 2419 4116 \nL 825 1625 \nL 2419 1625 \nL 2419 4116 \nz\nM 2253 4666 \nL 3047 4666 \nL 3047 1625 \nL 3713 1625 \nL 3713 1100 \nL 3047 1100 \nL 3047 0 \nL 2419 0 \nL 2419 1100 \nL 313 1100 \nL 313 1709 \nL 2253 4666 \nz\n\" transform=\"scale(0.015625)\"/>\n       </defs>\n       <use xlink:href=\"#DejaVuSans-2212\"/>\n       <use xlink:href=\"#DejaVuSans-34\" x=\"83.789062\"/>\n      </g>\n     </g>\n    </g>\n    <g id=\"ytick_11\">\n     <g id=\"line2d_16\">\n      <g>\n       <use xlink:href=\"#m61bfa05f08\" x=\"297.626938\" y=\"127.894302\" style=\"stroke: #000000; stroke-width: 0.8\"/>\n      </g>\n     </g>\n     <g id=\"text_18\">\n      <!-- −2 -->\n      <g transform=\"translate(304.626938 131.69352) scale(0.1 -0.1)\">\n       <use xlink:href=\"#DejaVuSans-2212\"/>\n       <use xlink:href=\"#DejaVuSans-32\" x=\"83.789062\"/>\n      </g>\n     </g>\n    </g>\n    <g id=\"ytick_12\">\n     <g id=\"line2d_17\">\n      <g>\n       <use xlink:href=\"#m61bfa05f08\" x=\"297.626938\" y=\"95.481631\" style=\"stroke: #000000; stroke-width: 0.8\"/>\n      </g>\n     </g>\n     <g id=\"text_19\">\n      <!-- 0 -->\n      <g transform=\"translate(304.626938 99.28085) scale(0.1 -0.1)\">\n       <use xlink:href=\"#DejaVuSans-30\"/>\n      </g>\n     </g>\n    </g>\n    <g id=\"ytick_13\">\n     <g id=\"line2d_18\">\n      <g>\n       <use xlink:href=\"#m61bfa05f08\" x=\"297.626938\" y=\"63.06896\" style=\"stroke: #000000; stroke-width: 0.8\"/>\n      </g>\n     </g>\n     <g id=\"text_20\">\n      <!-- 2 -->\n      <g transform=\"translate(304.626938 66.868179) scale(0.1 -0.1)\">\n       <use xlink:href=\"#DejaVuSans-32\"/>\n      </g>\n     </g>\n    </g>\n    <g id=\"ytick_14\">\n     <g id=\"line2d_19\">\n      <g>\n       <use xlink:href=\"#m61bfa05f08\" x=\"297.626938\" y=\"30.65629\" style=\"stroke: #000000; stroke-width: 0.8\"/>\n      </g>\n     </g>\n     <g id=\"text_21\">\n      <!-- 4 -->\n      <g transform=\"translate(304.626938 34.455508) scale(0.1 -0.1)\">\n       <use xlink:href=\"#DejaVuSans-34\"/>\n      </g>\n     </g>\n    </g>\n    <g id=\"text_22\">\n     <!-- Y -->\n     <g transform=\"translate(330.967563 97.213125) rotate(-90) scale(0.1 -0.1)\">\n      <defs>\n       <path id=\"DejaVuSans-59\" d=\"M -13 4666 \nL 666 4666 \nL 1959 2747 \nL 3244 4666 \nL 3922 4666 \nL 2272 2222 \nL 2272 0 \nL 1638 0 \nL 1638 2222 \nL -13 4666 \nz\n\" transform=\"scale(0.015625)\"/>\n      </defs>\n      <use xlink:href=\"#DejaVuSans-59\"/>\n     </g>\n    </g>\n   </g>\n   <g id=\"LineCollection_1\"/>\n   <g id=\"patch_8\">\n    <path d=\"M 289.310938 177.319219 \nL 293.468938 177.319219 \nL 297.626938 177.319219 \nL 297.626938 10.999219 \nL 293.468938 10.999219 \nL 289.310938 10.999219 \nL 289.310938 177.319219 \nz\n\" style=\"fill: none; stroke: #000000; stroke-width: 0.8; stroke-linejoin: miter; stroke-linecap: square\"/>\n   </g>\n  </g>\n </g>\n <defs>\n  <clipPath id=\"pdb99bfd5ab\">\n   <rect x=\"52.160938\" y=\"10.999219\" width=\"223.2\" height=\"166.32\"/>\n  </clipPath>\n </defs>\n</svg>\n"
          },
          "metadata": {}
        }
      ]
    },
    {
      "cell_type": "markdown",
      "source": [
        "## Example 2 (test scores)\n",
        "\n"
      ],
      "metadata": {
        "id": "PZ5vOl153Lx5"
      }
    },
    {
      "cell_type": "code",
      "source": [
        "sm.add_constant(df[[\"mom_hs\",\"mom_iq\"]])"
      ],
      "metadata": {
        "colab": {
          "base_uri": "https://localhost:8080/",
          "height": 423
        },
        "id": "SSVLNxqPP91O",
        "outputId": "cc4d8441-94dc-4551-dc14-07a53cd9508c"
      },
      "execution_count": null,
      "outputs": [
        {
          "output_type": "execute_result",
          "data": {
            "text/plain": [
              "     const  mom_hs      mom_iq\n",
              "0      1.0       1  121.117529\n",
              "1      1.0       1   89.361882\n",
              "2      1.0       1  115.443165\n",
              "3      1.0       1   99.449639\n",
              "4      1.0       1   92.745710\n",
              "..     ...     ...         ...\n",
              "429    1.0       0   84.877412\n",
              "430    1.0       1   92.990392\n",
              "431    1.0       0   94.859708\n",
              "432    1.0       1   96.856624\n",
              "433    1.0       1   91.253336\n",
              "\n",
              "[434 rows x 3 columns]"
            ],
            "text/html": [
              "\n",
              "  <div id=\"df-d50f4626-1184-4fbe-bdcb-e903ae0f735d\" class=\"colab-df-container\">\n",
              "    <div>\n",
              "<style scoped>\n",
              "    .dataframe tbody tr th:only-of-type {\n",
              "        vertical-align: middle;\n",
              "    }\n",
              "\n",
              "    .dataframe tbody tr th {\n",
              "        vertical-align: top;\n",
              "    }\n",
              "\n",
              "    .dataframe thead th {\n",
              "        text-align: right;\n",
              "    }\n",
              "</style>\n",
              "<table border=\"1\" class=\"dataframe\">\n",
              "  <thead>\n",
              "    <tr style=\"text-align: right;\">\n",
              "      <th></th>\n",
              "      <th>const</th>\n",
              "      <th>mom_hs</th>\n",
              "      <th>mom_iq</th>\n",
              "    </tr>\n",
              "  </thead>\n",
              "  <tbody>\n",
              "    <tr>\n",
              "      <th>0</th>\n",
              "      <td>1.0</td>\n",
              "      <td>1</td>\n",
              "      <td>121.117529</td>\n",
              "    </tr>\n",
              "    <tr>\n",
              "      <th>1</th>\n",
              "      <td>1.0</td>\n",
              "      <td>1</td>\n",
              "      <td>89.361882</td>\n",
              "    </tr>\n",
              "    <tr>\n",
              "      <th>2</th>\n",
              "      <td>1.0</td>\n",
              "      <td>1</td>\n",
              "      <td>115.443165</td>\n",
              "    </tr>\n",
              "    <tr>\n",
              "      <th>3</th>\n",
              "      <td>1.0</td>\n",
              "      <td>1</td>\n",
              "      <td>99.449639</td>\n",
              "    </tr>\n",
              "    <tr>\n",
              "      <th>4</th>\n",
              "      <td>1.0</td>\n",
              "      <td>1</td>\n",
              "      <td>92.745710</td>\n",
              "    </tr>\n",
              "    <tr>\n",
              "      <th>...</th>\n",
              "      <td>...</td>\n",
              "      <td>...</td>\n",
              "      <td>...</td>\n",
              "    </tr>\n",
              "    <tr>\n",
              "      <th>429</th>\n",
              "      <td>1.0</td>\n",
              "      <td>0</td>\n",
              "      <td>84.877412</td>\n",
              "    </tr>\n",
              "    <tr>\n",
              "      <th>430</th>\n",
              "      <td>1.0</td>\n",
              "      <td>1</td>\n",
              "      <td>92.990392</td>\n",
              "    </tr>\n",
              "    <tr>\n",
              "      <th>431</th>\n",
              "      <td>1.0</td>\n",
              "      <td>0</td>\n",
              "      <td>94.859708</td>\n",
              "    </tr>\n",
              "    <tr>\n",
              "      <th>432</th>\n",
              "      <td>1.0</td>\n",
              "      <td>1</td>\n",
              "      <td>96.856624</td>\n",
              "    </tr>\n",
              "    <tr>\n",
              "      <th>433</th>\n",
              "      <td>1.0</td>\n",
              "      <td>1</td>\n",
              "      <td>91.253336</td>\n",
              "    </tr>\n",
              "  </tbody>\n",
              "</table>\n",
              "<p>434 rows × 3 columns</p>\n",
              "</div>\n",
              "    <div class=\"colab-df-buttons\">\n",
              "\n",
              "  <div class=\"colab-df-container\">\n",
              "    <button class=\"colab-df-convert\" onclick=\"convertToInteractive('df-d50f4626-1184-4fbe-bdcb-e903ae0f735d')\"\n",
              "            title=\"Convert this dataframe to an interactive table.\"\n",
              "            style=\"display:none;\">\n",
              "\n",
              "  <svg xmlns=\"http://www.w3.org/2000/svg\" height=\"24px\" viewBox=\"0 -960 960 960\">\n",
              "    <path d=\"M120-120v-720h720v720H120Zm60-500h600v-160H180v160Zm220 220h160v-160H400v160Zm0 220h160v-160H400v160ZM180-400h160v-160H180v160Zm440 0h160v-160H620v160ZM180-180h160v-160H180v160Zm440 0h160v-160H620v160Z\"/>\n",
              "  </svg>\n",
              "    </button>\n",
              "\n",
              "  <style>\n",
              "    .colab-df-container {\n",
              "      display:flex;\n",
              "      gap: 12px;\n",
              "    }\n",
              "\n",
              "    .colab-df-convert {\n",
              "      background-color: #E8F0FE;\n",
              "      border: none;\n",
              "      border-radius: 50%;\n",
              "      cursor: pointer;\n",
              "      display: none;\n",
              "      fill: #1967D2;\n",
              "      height: 32px;\n",
              "      padding: 0 0 0 0;\n",
              "      width: 32px;\n",
              "    }\n",
              "\n",
              "    .colab-df-convert:hover {\n",
              "      background-color: #E2EBFA;\n",
              "      box-shadow: 0px 1px 2px rgba(60, 64, 67, 0.3), 0px 1px 3px 1px rgba(60, 64, 67, 0.15);\n",
              "      fill: #174EA6;\n",
              "    }\n",
              "\n",
              "    .colab-df-buttons div {\n",
              "      margin-bottom: 4px;\n",
              "    }\n",
              "\n",
              "    [theme=dark] .colab-df-convert {\n",
              "      background-color: #3B4455;\n",
              "      fill: #D2E3FC;\n",
              "    }\n",
              "\n",
              "    [theme=dark] .colab-df-convert:hover {\n",
              "      background-color: #434B5C;\n",
              "      box-shadow: 0px 1px 3px 1px rgba(0, 0, 0, 0.15);\n",
              "      filter: drop-shadow(0px 1px 2px rgba(0, 0, 0, 0.3));\n",
              "      fill: #FFFFFF;\n",
              "    }\n",
              "  </style>\n",
              "\n",
              "    <script>\n",
              "      const buttonEl =\n",
              "        document.querySelector('#df-d50f4626-1184-4fbe-bdcb-e903ae0f735d button.colab-df-convert');\n",
              "      buttonEl.style.display =\n",
              "        google.colab.kernel.accessAllowed ? 'block' : 'none';\n",
              "\n",
              "      async function convertToInteractive(key) {\n",
              "        const element = document.querySelector('#df-d50f4626-1184-4fbe-bdcb-e903ae0f735d');\n",
              "        const dataTable =\n",
              "          await google.colab.kernel.invokeFunction('convertToInteractive',\n",
              "                                                    [key], {});\n",
              "        if (!dataTable) return;\n",
              "\n",
              "        const docLinkHtml = 'Like what you see? Visit the ' +\n",
              "          '<a target=\"_blank\" href=https://colab.research.google.com/notebooks/data_table.ipynb>data table notebook</a>'\n",
              "          + ' to learn more about interactive tables.';\n",
              "        element.innerHTML = '';\n",
              "        dataTable['output_type'] = 'display_data';\n",
              "        await google.colab.output.renderOutput(dataTable, element);\n",
              "        const docLink = document.createElement('div');\n",
              "        docLink.innerHTML = docLinkHtml;\n",
              "        element.appendChild(docLink);\n",
              "      }\n",
              "    </script>\n",
              "  </div>\n",
              "\n",
              "\n",
              "<div id=\"df-b8a6fc0b-0b29-4b09-a99f-ce69c2537385\">\n",
              "  <button class=\"colab-df-quickchart\" onclick=\"quickchart('df-b8a6fc0b-0b29-4b09-a99f-ce69c2537385')\"\n",
              "            title=\"Suggest charts.\"\n",
              "            style=\"display:none;\">\n",
              "\n",
              "<svg xmlns=\"http://www.w3.org/2000/svg\" height=\"24px\"viewBox=\"0 0 24 24\"\n",
              "     width=\"24px\">\n",
              "    <g>\n",
              "        <path d=\"M19 3H5c-1.1 0-2 .9-2 2v14c0 1.1.9 2 2 2h14c1.1 0 2-.9 2-2V5c0-1.1-.9-2-2-2zM9 17H7v-7h2v7zm4 0h-2V7h2v10zm4 0h-2v-4h2v4z\"/>\n",
              "    </g>\n",
              "</svg>\n",
              "  </button>\n",
              "\n",
              "<style>\n",
              "  .colab-df-quickchart {\n",
              "      --bg-color: #E8F0FE;\n",
              "      --fill-color: #1967D2;\n",
              "      --hover-bg-color: #E2EBFA;\n",
              "      --hover-fill-color: #174EA6;\n",
              "      --disabled-fill-color: #AAA;\n",
              "      --disabled-bg-color: #DDD;\n",
              "  }\n",
              "\n",
              "  [theme=dark] .colab-df-quickchart {\n",
              "      --bg-color: #3B4455;\n",
              "      --fill-color: #D2E3FC;\n",
              "      --hover-bg-color: #434B5C;\n",
              "      --hover-fill-color: #FFFFFF;\n",
              "      --disabled-bg-color: #3B4455;\n",
              "      --disabled-fill-color: #666;\n",
              "  }\n",
              "\n",
              "  .colab-df-quickchart {\n",
              "    background-color: var(--bg-color);\n",
              "    border: none;\n",
              "    border-radius: 50%;\n",
              "    cursor: pointer;\n",
              "    display: none;\n",
              "    fill: var(--fill-color);\n",
              "    height: 32px;\n",
              "    padding: 0;\n",
              "    width: 32px;\n",
              "  }\n",
              "\n",
              "  .colab-df-quickchart:hover {\n",
              "    background-color: var(--hover-bg-color);\n",
              "    box-shadow: 0 1px 2px rgba(60, 64, 67, 0.3), 0 1px 3px 1px rgba(60, 64, 67, 0.15);\n",
              "    fill: var(--button-hover-fill-color);\n",
              "  }\n",
              "\n",
              "  .colab-df-quickchart-complete:disabled,\n",
              "  .colab-df-quickchart-complete:disabled:hover {\n",
              "    background-color: var(--disabled-bg-color);\n",
              "    fill: var(--disabled-fill-color);\n",
              "    box-shadow: none;\n",
              "  }\n",
              "\n",
              "  .colab-df-spinner {\n",
              "    border: 2px solid var(--fill-color);\n",
              "    border-color: transparent;\n",
              "    border-bottom-color: var(--fill-color);\n",
              "    animation:\n",
              "      spin 1s steps(1) infinite;\n",
              "  }\n",
              "\n",
              "  @keyframes spin {\n",
              "    0% {\n",
              "      border-color: transparent;\n",
              "      border-bottom-color: var(--fill-color);\n",
              "      border-left-color: var(--fill-color);\n",
              "    }\n",
              "    20% {\n",
              "      border-color: transparent;\n",
              "      border-left-color: var(--fill-color);\n",
              "      border-top-color: var(--fill-color);\n",
              "    }\n",
              "    30% {\n",
              "      border-color: transparent;\n",
              "      border-left-color: var(--fill-color);\n",
              "      border-top-color: var(--fill-color);\n",
              "      border-right-color: var(--fill-color);\n",
              "    }\n",
              "    40% {\n",
              "      border-color: transparent;\n",
              "      border-right-color: var(--fill-color);\n",
              "      border-top-color: var(--fill-color);\n",
              "    }\n",
              "    60% {\n",
              "      border-color: transparent;\n",
              "      border-right-color: var(--fill-color);\n",
              "    }\n",
              "    80% {\n",
              "      border-color: transparent;\n",
              "      border-right-color: var(--fill-color);\n",
              "      border-bottom-color: var(--fill-color);\n",
              "    }\n",
              "    90% {\n",
              "      border-color: transparent;\n",
              "      border-bottom-color: var(--fill-color);\n",
              "    }\n",
              "  }\n",
              "</style>\n",
              "\n",
              "  <script>\n",
              "    async function quickchart(key) {\n",
              "      const quickchartButtonEl =\n",
              "        document.querySelector('#' + key + ' button');\n",
              "      quickchartButtonEl.disabled = true;  // To prevent multiple clicks.\n",
              "      quickchartButtonEl.classList.add('colab-df-spinner');\n",
              "      try {\n",
              "        const charts = await google.colab.kernel.invokeFunction(\n",
              "            'suggestCharts', [key], {});\n",
              "      } catch (error) {\n",
              "        console.error('Error during call to suggestCharts:', error);\n",
              "      }\n",
              "      quickchartButtonEl.classList.remove('colab-df-spinner');\n",
              "      quickchartButtonEl.classList.add('colab-df-quickchart-complete');\n",
              "    }\n",
              "    (() => {\n",
              "      let quickchartButtonEl =\n",
              "        document.querySelector('#df-b8a6fc0b-0b29-4b09-a99f-ce69c2537385 button');\n",
              "      quickchartButtonEl.style.display =\n",
              "        google.colab.kernel.accessAllowed ? 'block' : 'none';\n",
              "    })();\n",
              "  </script>\n",
              "</div>\n",
              "    </div>\n",
              "  </div>\n"
            ]
          },
          "metadata": {},
          "execution_count": 19
        }
      ]
    },
    {
      "cell_type": "code",
      "source": [
        "# let try working with some real data\n",
        "df = pd.read_csv(\"https://raw.githubusercontent.com/avehtari/ROS-Examples/master/KidIQ/data/kidiq.csv\")\n",
        "y = df.kid_score.values\n",
        "x_hs = df.mom_hs.values\n",
        "x_iq = df.mom_iq.values\n",
        "\n",
        "\n",
        "X = sm.add_constant(df[[\"mom_hs\",\"mom_iq\"]])\n",
        "\n",
        "model = sm.OLS(y,X)\n",
        "results = model.fit()\n",
        "print(results.summary())"
      ],
      "metadata": {
        "id": "JlGtwy3Bp9Ci",
        "colab": {
          "base_uri": "https://localhost:8080/"
        },
        "outputId": "808058bc-a383-4b3c-8c48-1b6def7a340c"
      },
      "execution_count": null,
      "outputs": [
        {
          "output_type": "stream",
          "name": "stdout",
          "text": [
            "                            OLS Regression Results                            \n",
            "==============================================================================\n",
            "Dep. Variable:                      y   R-squared:                       0.214\n",
            "Model:                            OLS   Adj. R-squared:                  0.210\n",
            "Method:                 Least Squares   F-statistic:                     58.72\n",
            "Date:                Tue, 10 Oct 2023   Prob (F-statistic):           2.79e-23\n",
            "Time:                        15:41:49   Log-Likelihood:                -1872.0\n",
            "No. Observations:                 434   AIC:                             3750.\n",
            "Df Residuals:                     431   BIC:                             3762.\n",
            "Df Model:                           2                                         \n",
            "Covariance Type:            nonrobust                                         \n",
            "==============================================================================\n",
            "                 coef    std err          t      P>|t|      [0.025      0.975]\n",
            "------------------------------------------------------------------------------\n",
            "const         25.7315      5.875      4.380      0.000      14.184      37.279\n",
            "mom_hs         5.9501      2.212      2.690      0.007       1.603      10.297\n",
            "mom_iq         0.5639      0.061      9.309      0.000       0.445       0.683\n",
            "==============================================================================\n",
            "Omnibus:                        7.327   Durbin-Watson:                   1.625\n",
            "Prob(Omnibus):                  0.026   Jarque-Bera (JB):                7.530\n",
            "Skew:                          -0.313   Prob(JB):                       0.0232\n",
            "Kurtosis:                       2.845   Cond. No.                         683.\n",
            "==============================================================================\n",
            "\n",
            "Notes:\n",
            "[1] Standard Errors assume that the covariance matrix of the errors is correctly specified.\n"
          ]
        }
      ]
    },
    {
      "cell_type": "code",
      "source": [
        "# another way to plot the data is using colorbar\n",
        "fig,ax = plt.subplots(figsize=(5,3))\n",
        "\n",
        "sc = ax.scatter(x_hs + np.random.normal(0,0.01,len(x_hs)), x_iq, c=y, cmap='viridis')  # 'viridis' is a colormap for color mapping\n",
        "\n",
        "# this adds a contour plot\n",
        "x1_range = np.linspace(-0.5,1.5,100)\n",
        "x2_range = np.linspace(60,150,100)\n",
        "\n",
        "# Create a meshgrid from x1 and x2\n",
        "x1_grid, x2_grid = np.meshgrid(x1_range, x2_range)\n",
        "\n",
        "betas = results.params\n",
        "y_pred = results.params[0] + x1_grid*results.params[1] + x2_grid*results.params[2]\n",
        "\n",
        "# Create a contour plot\n",
        "contour_plot = plt.contour(x1_grid, x2_grid, y_pred, levels=20, cmap='viridis')\n",
        "\n",
        "\n",
        "\n",
        "# Add labels and a colorbar\n",
        "ax.set_xlabel(\"$hs$\")\n",
        "ax.set_ylabel(\"$iq$\")\n",
        "ax.set_xticks([0,1])\n",
        "ax.set_xlim([-0.1,1.1])\n",
        "fig.colorbar(sc,label=\"Y\")"
      ],
      "metadata": {
        "colab": {
          "base_uri": "https://localhost:8080/",
          "height": 320
        },
        "id": "d6xVCu422wmr",
        "outputId": "cf62c8de-1de9-4339-a5f7-aa0510de6b8f"
      },
      "execution_count": null,
      "outputs": [
        {
          "output_type": "execute_result",
          "data": {
            "text/plain": [
              "<matplotlib.colorbar.Colorbar at 0x7e51b5bcc7f0>"
            ]
          },
          "metadata": {},
          "execution_count": 70
        },
        {
          "output_type": "display_data",
          "data": {
            "text/plain": [
              "<Figure size 500x300 with 2 Axes>"
            ],
            "image/svg+xml": "<?xml version=\"1.0\" encoding=\"utf-8\" standalone=\"no\"?>\n<!DOCTYPE svg PUBLIC \"-//W3C//DTD SVG 1.1//EN\"\n  \"http://www.w3.org/Graphics/SVG/1.1/DTD/svg11.dtd\">\n<svg xmlns:xlink=\"http://www.w3.org/1999/xlink\" width=\"339.419125pt\" height=\"211.07625pt\" viewBox=\"0 0 339.419125 211.07625\" xmlns=\"http://www.w3.org/2000/svg\" version=\"1.1\">\n <metadata>\n  <rdf:RDF xmlns:dc=\"http://purl.org/dc/elements/1.1/\" xmlns:cc=\"http://creativecommons.org/ns#\" xmlns:rdf=\"http://www.w3.org/1999/02/22-rdf-syntax-ns#\">\n   <cc:Work>\n    <dc:type rdf:resource=\"http://purl.org/dc/dcmitype/StillImage\"/>\n    <dc:date>2023-10-09T14:48:24.852829</dc:date>\n    <dc:format>image/svg+xml</dc:format>\n    <dc:creator>\n     <cc:Agent>\n      <dc:title>Matplotlib v3.7.1, https://matplotlib.org/</dc:title>\n     </cc:Agent>\n    </dc:creator>\n   </cc:Work>\n  </rdf:RDF>\n </metadata>\n <defs>\n  <style type=\"text/css\">*{stroke-linejoin: round; stroke-linecap: butt}</style>\n </defs>\n <g id=\"figure_1\">\n  <g id=\"patch_1\">\n   <path d=\"M 0 211.07625 \nL 339.419125 211.07625 \nL 339.419125 0 \nL 0 0 \nz\n\" style=\"fill: #ffffff\"/>\n  </g>\n  <g id=\"axes_1\">\n   <g id=\"patch_2\">\n    <path d=\"M 46.9875 173.52 \nL 270.1875 173.52 \nL 270.1875 7.2 \nL 46.9875 7.2 \nz\n\" style=\"fill: #ffffff\"/>\n   </g>\n   <g id=\"PathCollection_1\">\n    <defs>\n     <path id=\"C0_0_15f4784583\" d=\"M 0 3 \nC 0.795609 3 1.55874 2.683901 2.12132 2.12132 \nC 2.683901 1.55874 3 0.795609 3 -0 \nC 3 -0.795609 2.683901 -1.55874 2.12132 -2.12132 \nC 1.55874 -2.683901 0.795609 -3 0 -3 \nC -0.795609 -3 -1.55874 -2.683901 -2.12132 -2.12132 \nC -2.683901 -1.55874 -3 -0.795609 -3 0 \nC -3 0.795609 -2.683901 1.55874 -2.12132 2.12132 \nC -1.55874 2.683901 -0.795609 3 0 3 \nz\n\"/>\n    </defs>\n    <g clip-path=\"url(#p75e93b2ba8)\">\n     <use xlink:href=\"#C0_0_15f4784583\" x=\"251.559013\" y=\"60.574807\" style=\"fill: #2e6f8e; stroke: #2e6f8e\"/>\n    </g>\n    <g clip-path=\"url(#p75e93b2ba8)\">\n     <use xlink:href=\"#C0_0_15f4784583\" x=\"251.690631\" y=\"119.259243\" style=\"fill: #29af7f; stroke: #29af7f\"/>\n    </g>\n    <g clip-path=\"url(#p75e93b2ba8)\">\n     <use xlink:href=\"#C0_0_15f4784583\" x=\"248.462881\" y=\"71.061031\" style=\"fill: #1f968b; stroke: #1f968b\"/>\n    </g>\n    <g clip-path=\"url(#p75e93b2ba8)\">\n     <use xlink:href=\"#C0_0_15f4784583\" x=\"250.108756\" y=\"100.617066\" style=\"fill: #20928c; stroke: #20928c\"/>\n    </g>\n    <g clip-path=\"url(#p75e93b2ba8)\">\n     <use xlink:href=\"#C0_0_15f4784583\" x=\"252.647776\" y=\"113.005928\" style=\"fill: #67cc5c; stroke: #67cc5c\"/>\n    </g>\n    <g clip-path=\"url(#p75e93b2ba8)\">\n     <use xlink:href=\"#C0_0_15f4784583\" x=\"68.360861\" y=\"84.997404\" style=\"fill: #29af7f; stroke: #29af7f\"/>\n    </g>\n    <g clip-path=\"url(#p75e93b2ba8)\">\n     <use xlink:href=\"#C0_0_15f4784583\" x=\"250.366679\" y=\"27.72554\" style=\"fill: #2a778e; stroke: #2a778e\"/>\n    </g>\n    <g clip-path=\"url(#p75e93b2ba8)\">\n     <use xlink:href=\"#C0_0_15f4784583\" x=\"251.472363\" y=\"53.131819\" style=\"fill: #40bd72; stroke: #40bd72\"/>\n    </g>\n    <g clip-path=\"url(#p75e93b2ba8)\">\n     <use xlink:href=\"#C0_0_15f4784583\" x=\"252.41914\" y=\"133.567116\" style=\"fill: #34b679; stroke: #34b679\"/>\n    </g>\n    <g clip-path=\"url(#p75e93b2ba8)\">\n     <use xlink:href=\"#C0_0_15f4784583\" x=\"255.29558\" y=\"108.704969\" style=\"fill: #23a983; stroke: #23a983\"/>\n    </g>\n    <g clip-path=\"url(#p75e93b2ba8)\">\n     <use xlink:href=\"#C0_0_15f4784583\" x=\"251.632243\" y=\"120.709708\" style=\"fill: #1fa187; stroke: #1fa187\"/>\n    </g>\n    <g clip-path=\"url(#p75e93b2ba8)\">\n     <use xlink:href=\"#C0_0_15f4784583\" x=\"247.475364\" y=\"109.099259\" style=\"fill: #34618d; stroke: #34618d\"/>\n    </g>\n    <g clip-path=\"url(#p75e93b2ba8)\">\n     <use xlink:href=\"#C0_0_15f4784583\" x=\"251.720092\" y=\"119.996744\" style=\"fill: #1f948c; stroke: #1f948c\"/>\n    </g>\n    <g clip-path=\"url(#p75e93b2ba8)\">\n     <use xlink:href=\"#C0_0_15f4784583\" x=\"250.199533\" y=\"73.516779\" style=\"fill: #23888e; stroke: #23888e\"/>\n    </g>\n    <g clip-path=\"url(#p75e93b2ba8)\">\n     <use xlink:href=\"#C0_0_15f4784583\" x=\"64.52943\" y=\"98.613035\" style=\"fill: #34b679; stroke: #34b679\"/>\n    </g>\n    <g clip-path=\"url(#p75e93b2ba8)\">\n     <use xlink:href=\"#C0_0_15f4784583\" x=\"255.36041\" y=\"61.865419\" style=\"fill: #50c46a; stroke: #50c46a\"/>\n    </g>\n    <g clip-path=\"url(#p75e93b2ba8)\">\n     <use xlink:href=\"#C0_0_15f4784583\" x=\"252.664727\" y=\"72.939132\" style=\"fill: #34b679; stroke: #34b679\"/>\n    </g>\n    <g clip-path=\"url(#p75e93b2ba8)\">\n     <use xlink:href=\"#C0_0_15f4784583\" x=\"252.990783\" y=\"78.177323\" style=\"fill: #2cb17e; stroke: #2cb17e\"/>\n    </g>\n    <g clip-path=\"url(#p75e93b2ba8)\">\n     <use xlink:href=\"#C0_0_15f4784583\" x=\"256.738427\" y=\"37.046628\" style=\"fill: #3dbc74; stroke: #3dbc74\"/>\n    </g>\n    <g clip-path=\"url(#p75e93b2ba8)\">\n     <use xlink:href=\"#C0_0_15f4784583\" x=\"64.971193\" y=\"104.654648\" style=\"fill: #31b57b; stroke: #31b57b\"/>\n    </g>\n    <g clip-path=\"url(#p75e93b2ba8)\">\n     <use xlink:href=\"#C0_0_15f4784583\" x=\"252.598917\" y=\"80.941102\" style=\"fill: #34b679; stroke: #34b679\"/>\n    </g>\n    <g clip-path=\"url(#p75e93b2ba8)\">\n     <use xlink:href=\"#C0_0_15f4784583\" x=\"254.49481\" y=\"50.214059\" style=\"fill: #67cc5c; stroke: #67cc5c\"/>\n    </g>\n    <g clip-path=\"url(#p75e93b2ba8)\">\n     <use xlink:href=\"#C0_0_15f4784583\" x=\"255.045113\" y=\"103.459381\" style=\"fill: #2eb37c; stroke: #2eb37c\"/>\n    </g>\n    <g clip-path=\"url(#p75e93b2ba8)\">\n     <use xlink:href=\"#C0_0_15f4784583\" x=\"251.484774\" y=\"99.73726\" style=\"fill: #1f9a8a; stroke: #1f9a8a\"/>\n    </g>\n    <g clip-path=\"url(#p75e93b2ba8)\">\n     <use xlink:href=\"#C0_0_15f4784583\" x=\"64.70604\" y=\"104.044425\" style=\"fill: #2cb17e; stroke: #2cb17e\"/>\n    </g>\n    <g clip-path=\"url(#p75e93b2ba8)\">\n     <use xlink:href=\"#C0_0_15f4784583\" x=\"247.002018\" y=\"59.409671\" style=\"fill: #25ab82; stroke: #25ab82\"/>\n    </g>\n    <g clip-path=\"url(#p75e93b2ba8)\">\n     <use xlink:href=\"#C0_0_15f4784583\" x=\"249.451684\" y=\"101.913551\" style=\"fill: #287d8e; stroke: #287d8e\"/>\n    </g>\n    <g clip-path=\"url(#p75e93b2ba8)\">\n     <use xlink:href=\"#C0_0_15f4784583\" x=\"252.691539\" y=\"103.45261\" style=\"fill: #23888e; stroke: #23888e\"/>\n    </g>\n    <g clip-path=\"url(#p75e93b2ba8)\">\n     <use xlink:href=\"#C0_0_15f4784583\" x=\"246.207791\" y=\"135.897388\" style=\"fill: #24868e; stroke: #24868e\"/>\n    </g>\n    <g clip-path=\"url(#p75e93b2ba8)\">\n     <use xlink:href=\"#C0_0_15f4784583\" x=\"251.726242\" y=\"73.159074\" style=\"fill: #29af7f; stroke: #29af7f\"/>\n    </g>\n    <g clip-path=\"url(#p75e93b2ba8)\">\n     <use xlink:href=\"#C0_0_15f4784583\" x=\"254.262385\" y=\"82.712391\" style=\"fill: #2a778e; stroke: #2a778e\"/>\n    </g>\n    <g clip-path=\"url(#p75e93b2ba8)\">\n     <use xlink:href=\"#C0_0_15f4784583\" x=\"251.958589\" y=\"96.241852\" style=\"fill: #b5de2b; stroke: #b5de2b\"/>\n    </g>\n    <g clip-path=\"url(#p75e93b2ba8)\">\n     <use xlink:href=\"#C0_0_15f4784583\" x=\"251.114354\" y=\"66.400487\" style=\"fill: #4cc26c; stroke: #4cc26c\"/>\n    </g>\n    <g clip-path=\"url(#p75e93b2ba8)\">\n     <use xlink:href=\"#C0_0_15f4784583\" x=\"65.944894\" y=\"83.645298\" style=\"fill: #40bd72; stroke: #40bd72\"/>\n    </g>\n    <g clip-path=\"url(#p75e93b2ba8)\">\n     <use xlink:href=\"#C0_0_15f4784583\" x=\"249.881276\" y=\"106.015112\" style=\"fill: #20a386; stroke: #20a386\"/>\n    </g>\n    <g clip-path=\"url(#p75e93b2ba8)\">\n     <use xlink:href=\"#C0_0_15f4784583\" x=\"251.919256\" y=\"112.773698\" style=\"fill: #2eb37c; stroke: #2eb37c\"/>\n    </g>\n    <g clip-path=\"url(#p75e93b2ba8)\">\n     <use xlink:href=\"#C0_0_15f4784583\" x=\"250.573294\" y=\"107.180248\" style=\"fill: #44bf70; stroke: #44bf70\"/>\n    </g>\n    <g clip-path=\"url(#p75e93b2ba8)\">\n     <use xlink:href=\"#C0_0_15f4784583\" x=\"252.366959\" y=\"86.635434\" style=\"fill: #1f988b; stroke: #1f988b\"/>\n    </g>\n    <g clip-path=\"url(#p75e93b2ba8)\">\n     <use xlink:href=\"#C0_0_15f4784583\" x=\"250.789643\" y=\"123.259922\" style=\"fill: #1fa088; stroke: #1fa088\"/>\n    </g>\n    <g clip-path=\"url(#p75e93b2ba8)\">\n     <use xlink:href=\"#C0_0_15f4784583\" x=\"251.045625\" y=\"119.259243\" style=\"fill: #50c46a; stroke: #50c46a\"/>\n    </g>\n    <g clip-path=\"url(#p75e93b2ba8)\">\n     <use xlink:href=\"#C0_0_15f4784583\" x=\"249.607367\" y=\"94.922734\" style=\"fill: #44bf70; stroke: #44bf70\"/>\n    </g>\n    <g clip-path=\"url(#p75e93b2ba8)\">\n     <use xlink:href=\"#C0_0_15f4784583\" x=\"251.705349\" y=\"43.851642\" style=\"fill: #5ec962; stroke: #5ec962\"/>\n    </g>\n    <g clip-path=\"url(#p75e93b2ba8)\">\n     <use xlink:href=\"#C0_0_15f4784583\" x=\"246.389937\" y=\"130.250738\" style=\"fill: #2e6f8e; stroke: #2e6f8e\"/>\n    </g>\n    <g clip-path=\"url(#p75e93b2ba8)\">\n     <use xlink:href=\"#C0_0_15f4784583\" x=\"251.010689\" y=\"52.007594\" style=\"fill: #34b679; stroke: #34b679\"/>\n    </g>\n    <g clip-path=\"url(#p75e93b2ba8)\">\n     <use xlink:href=\"#C0_0_15f4784583\" x=\"70.138331\" y=\"125.822424\" style=\"fill: #37b878; stroke: #37b878\"/>\n    </g>\n    <g clip-path=\"url(#p75e93b2ba8)\">\n     <use xlink:href=\"#C0_0_15f4784583\" x=\"252.539691\" y=\"50.590906\" style=\"fill: #54c568; stroke: #54c568\"/>\n    </g>\n    <g clip-path=\"url(#p75e93b2ba8)\">\n     <use xlink:href=\"#C0_0_15f4784583\" x=\"253.969664\" y=\"138.032767\" style=\"fill: #433d84; stroke: #433d84\"/>\n    </g>\n    <g clip-path=\"url(#p75e93b2ba8)\">\n     <use xlink:href=\"#C0_0_15f4784583\" x=\"251.437743\" y=\"75.269404\" style=\"fill: #2eb37c; stroke: #2eb37c\"/>\n    </g>\n    <g clip-path=\"url(#p75e93b2ba8)\">\n     <use xlink:href=\"#C0_0_15f4784583\" x=\"249.509811\" y=\"80.507595\" style=\"fill: #2c738e; stroke: #2c738e\"/>\n    </g>\n    <g clip-path=\"url(#p75e93b2ba8)\">\n     <use xlink:href=\"#C0_0_15f4784583\" x=\"252.696094\" y=\"100.691755\" style=\"fill: #20a386; stroke: #20a386\"/>\n    </g>\n    <g clip-path=\"url(#p75e93b2ba8)\">\n     <use xlink:href=\"#C0_0_15f4784583\" x=\"254.176457\" y=\"95.117627\" style=\"fill: #2eb37c; stroke: #2eb37c\"/>\n    </g>\n    <g clip-path=\"url(#p75e93b2ba8)\">\n     <use xlink:href=\"#C0_0_15f4784583\" x=\"251.788465\" y=\"53.583991\" style=\"fill: #50c46a; stroke: #50c46a\"/>\n    </g>\n    <g clip-path=\"url(#p75e93b2ba8)\">\n     <use xlink:href=\"#C0_0_15f4784583\" x=\"252.314479\" y=\"109.099259\" style=\"fill: #365d8d; stroke: #365d8d\"/>\n    </g>\n    <g clip-path=\"url(#p75e93b2ba8)\">\n     <use xlink:href=\"#C0_0_15f4784583\" x=\"249.152708\" y=\"113.702893\" style=\"fill: #44bf70; stroke: #44bf70\"/>\n    </g>\n    <g clip-path=\"url(#p75e93b2ba8)\">\n     <use xlink:href=\"#C0_0_15f4784583\" x=\"253.456892\" y=\"96.241852\" style=\"fill: #26ad81; stroke: #26ad81\"/>\n    </g>\n    <g clip-path=\"url(#p75e93b2ba8)\">\n     <use xlink:href=\"#C0_0_15f4784583\" x=\"69.946716\" y=\"136.867631\" style=\"fill: #365d8d; stroke: #365d8d\"/>\n    </g>\n    <g clip-path=\"url(#p75e93b2ba8)\">\n     <use xlink:href=\"#C0_0_15f4784583\" x=\"253.655859\" y=\"106.574095\" style=\"fill: #23a983; stroke: #23a983\"/>\n    </g>\n    <g clip-path=\"url(#p75e93b2ba8)\">\n     <use xlink:href=\"#C0_0_15f4784583\" x=\"68.103869\" y=\"132.207087\" style=\"fill: #23888e; stroke: #23888e\"/>\n    </g>\n    <g clip-path=\"url(#p75e93b2ba8)\">\n     <use xlink:href=\"#C0_0_15f4784583\" x=\"64.705642\" y=\"142.888204\" style=\"fill: #25848e; stroke: #25848e\"/>\n    </g>\n    <g clip-path=\"url(#p75e93b2ba8)\">\n     <use xlink:href=\"#C0_0_15f4784583\" x=\"251.685919\" y=\"81.095084\" style=\"fill: #1f988b; stroke: #1f988b\"/>\n    </g>\n    <g clip-path=\"url(#p75e93b2ba8)\">\n     <use xlink:href=\"#C0_0_15f4784583\" x=\"251.999716\" y=\"78.177323\" style=\"fill: #238a8d; stroke: #238a8d\"/>\n    </g>\n    <g clip-path=\"url(#p75e93b2ba8)\">\n     <use xlink:href=\"#C0_0_15f4784583\" x=\"256.028109\" y=\"74.361111\" style=\"fill: #218e8d; stroke: #218e8d\"/>\n    </g>\n    <g clip-path=\"url(#p75e93b2ba8)\">\n     <use xlink:href=\"#C0_0_15f4784583\" x=\"66.014201\" y=\"97.447899\" style=\"fill: #238a8d; stroke: #238a8d\"/>\n    </g>\n    <g clip-path=\"url(#p75e93b2ba8)\">\n     <use xlink:href=\"#C0_0_15f4784583\" x=\"250.471878\" y=\"97.121658\" style=\"fill: #238a8d; stroke: #238a8d\"/>\n    </g>\n    <g clip-path=\"url(#p75e93b2ba8)\">\n     <use xlink:href=\"#C0_0_15f4784583\" x=\"255.024937\" y=\"96.461794\" style=\"fill: #365d8d; stroke: #365d8d\"/>\n    </g>\n    <g clip-path=\"url(#p75e93b2ba8)\">\n     <use xlink:href=\"#C0_0_15f4784583\" x=\"251.750749\" y=\"101.782202\" style=\"fill: #3a548c; stroke: #3a548c\"/>\n    </g>\n    <g clip-path=\"url(#p75e93b2ba8)\">\n     <use xlink:href=\"#C0_0_15f4784583\" x=\"249.352729\" y=\"111.615333\" style=\"fill: #2f6b8e; stroke: #2f6b8e\"/>\n    </g>\n    <g clip-path=\"url(#p75e93b2ba8)\">\n     <use xlink:href=\"#C0_0_15f4784583\" x=\"250.533246\" y=\"123.080891\" style=\"fill: #228c8d; stroke: #228c8d\"/>\n    </g>\n    <g clip-path=\"url(#p75e93b2ba8)\">\n     <use xlink:href=\"#C0_0_15f4784583\" x=\"252.690062\" y=\"123.03998\" style=\"fill: #1f9a8a; stroke: #1f9a8a\"/>\n    </g>\n    <g clip-path=\"url(#p75e93b2ba8)\">\n     <use xlink:href=\"#C0_0_15f4784583\" x=\"246.385005\" y=\"125.084923\" style=\"fill: #1e9c89; stroke: #1e9c89\"/>\n    </g>\n    <g clip-path=\"url(#p75e93b2ba8)\">\n     <use xlink:href=\"#C0_0_15f4784583\" x=\"254.37496\" y=\"118.379436\" style=\"fill: #20a386; stroke: #20a386\"/>\n    </g>\n    <g clip-path=\"url(#p75e93b2ba8)\">\n     <use xlink:href=\"#C0_0_15f4784583\" x=\"62.959341\" y=\"59.184212\" style=\"fill: #2eb37c; stroke: #2eb37c\"/>\n    </g>\n    <g clip-path=\"url(#p75e93b2ba8)\">\n     <use xlink:href=\"#C0_0_15f4784583\" x=\"67.901978\" y=\"48.697988\" style=\"fill: #22a785; stroke: #22a785\"/>\n    </g>\n    <g clip-path=\"url(#p75e93b2ba8)\">\n     <use xlink:href=\"#C0_0_15f4784583\" x=\"251.50457\" y=\"81.135995\" style=\"fill: #70cf57; stroke: #70cf57\"/>\n    </g>\n    <g clip-path=\"url(#p75e93b2ba8)\">\n     <use xlink:href=\"#C0_0_15f4784583\" x=\"254.192708\" y=\"117.255211\" style=\"fill: #34b679; stroke: #34b679\"/>\n    </g>\n    <g clip-path=\"url(#p75e93b2ba8)\">\n     <use xlink:href=\"#C0_0_15f4784583\" x=\"249.053108\" y=\"120.12222\" style=\"fill: #44bf70; stroke: #44bf70\"/>\n    </g>\n    <g clip-path=\"url(#p75e93b2ba8)\">\n     <use xlink:href=\"#C0_0_15f4784583\" x=\"252.804156\" y=\"75.489346\" style=\"fill: #2cb17e; stroke: #2cb17e\"/>\n    </g>\n    <g clip-path=\"url(#p75e93b2ba8)\">\n     <use xlink:href=\"#C0_0_15f4784583\" x=\"66.41392\" y=\"140.231691\" style=\"fill: #277f8e; stroke: #277f8e\"/>\n    </g>\n    <g clip-path=\"url(#p75e93b2ba8)\">\n     <use xlink:href=\"#C0_0_15f4784583\" x=\"251.374079\" y=\"108.119925\" style=\"fill: #365d8d; stroke: #365d8d\"/>\n    </g>\n    <g clip-path=\"url(#p75e93b2ba8)\">\n     <use xlink:href=\"#C0_0_15f4784583\" x=\"63.679764\" y=\"129.876815\" style=\"fill: #23888e; stroke: #23888e\"/>\n    </g>\n    <g clip-path=\"url(#p75e93b2ba8)\">\n     <use xlink:href=\"#C0_0_15f4784583\" x=\"63.127108\" y=\"125.016873\" style=\"fill: #22a785; stroke: #22a785\"/>\n    </g>\n    <g clip-path=\"url(#p75e93b2ba8)\">\n     <use xlink:href=\"#C0_0_15f4784583\" x=\"252.332389\" y=\"108.119925\" style=\"fill: #50c46a; stroke: #50c46a\"/>\n    </g>\n    <g clip-path=\"url(#p75e93b2ba8)\">\n     <use xlink:href=\"#C0_0_15f4784583\" x=\"250.951639\" y=\"78.805723\" style=\"fill: #4cc26c; stroke: #4cc26c\"/>\n    </g>\n    <g clip-path=\"url(#p75e93b2ba8)\">\n     <use xlink:href=\"#C0_0_15f4784583\" x=\"253.395907\" y=\"49.677322\" style=\"fill: #1f988b; stroke: #1f988b\"/>\n    </g>\n    <g clip-path=\"url(#p75e93b2ba8)\">\n     <use xlink:href=\"#C0_0_15f4784583\" x=\"251.367921\" y=\"118.168795\" style=\"fill: #20a386; stroke: #20a386\"/>\n    </g>\n    <g clip-path=\"url(#p75e93b2ba8)\">\n     <use xlink:href=\"#C0_0_15f4784583\" x=\"248.128413\" y=\"100.943307\" style=\"fill: #1fa187; stroke: #1fa187\"/>\n    </g>\n    <g clip-path=\"url(#p75e93b2ba8)\">\n     <use xlink:href=\"#C0_0_15f4784583\" x=\"248.771502\" y=\"134.406011\" style=\"fill: #8ed645; stroke: #8ed645\"/>\n    </g>\n    <g clip-path=\"url(#p75e93b2ba8)\">\n     <use xlink:href=\"#C0_0_15f4784583\" x=\"250.587773\" y=\"80.156661\" style=\"fill: #34b679; stroke: #34b679\"/>\n    </g>\n    <g clip-path=\"url(#p75e93b2ba8)\">\n     <use xlink:href=\"#C0_0_15f4784583\" x=\"253.960225\" y=\"32.159371\" style=\"fill: #3dbc74; stroke: #3dbc74\"/>\n    </g>\n    <g clip-path=\"url(#p75e93b2ba8)\">\n     <use xlink:href=\"#C0_0_15f4784583\" x=\"252.59908\" y=\"55.503002\" style=\"fill: #63cb5f; stroke: #63cb5f\"/>\n    </g>\n    <g clip-path=\"url(#p75e93b2ba8)\">\n     <use xlink:href=\"#C0_0_15f4784583\" x=\"251.812585\" y=\"35.654779\" style=\"fill: #25ab82; stroke: #25ab82\"/>\n    </g>\n    <g clip-path=\"url(#p75e93b2ba8)\">\n     <use xlink:href=\"#C0_0_15f4784583\" x=\"251.889647\" y=\"116.049164\" style=\"fill: #2d718e; stroke: #2d718e\"/>\n    </g>\n    <g clip-path=\"url(#p75e93b2ba8)\">\n     <use xlink:href=\"#C0_0_15f4784583\" x=\"250.885051\" y=\"93.558201\" style=\"fill: #3aba76; stroke: #3aba76\"/>\n    </g>\n    <g clip-path=\"url(#p75e93b2ba8)\">\n     <use xlink:href=\"#C0_0_15f4784583\" x=\"249.537069\" y=\"51.021489\" style=\"fill: #48c16e; stroke: #48c16e\"/>\n    </g>\n    <g clip-path=\"url(#p75e93b2ba8)\">\n     <use xlink:href=\"#C0_0_15f4784583\" x=\"254.337648\" y=\"48.697988\" style=\"fill: #1f948c; stroke: #1f948c\"/>\n    </g>\n    <g clip-path=\"url(#p75e93b2ba8)\">\n     <use xlink:href=\"#C0_0_15f4784583\" x=\"61.511559\" y=\"113.508251\" style=\"fill: #20928c; stroke: #20928c\"/>\n    </g>\n    <g clip-path=\"url(#p75e93b2ba8)\">\n     <use xlink:href=\"#C0_0_15f4784583\" x=\"253.470831\" y=\"127.700524\" style=\"fill: #20928c; stroke: #20928c\"/>\n    </g>\n    <g clip-path=\"url(#p75e93b2ba8)\">\n     <use xlink:href=\"#C0_0_15f4784583\" x=\"64.534703\" y=\"98.613035\" style=\"fill: #20a386; stroke: #20a386\"/>\n    </g>\n    <g clip-path=\"url(#p75e93b2ba8)\">\n     <use xlink:href=\"#C0_0_15f4784583\" x=\"70.215688\" y=\"84.810434\" style=\"fill: #4cc26c; stroke: #4cc26c\"/>\n    </g>\n    <g clip-path=\"url(#p75e93b2ba8)\">\n     <use xlink:href=\"#C0_0_15f4784583\" x=\"65.642411\" y=\"138.764396\" style=\"fill: #23a983; stroke: #23a983\"/>\n    </g>\n    <g clip-path=\"url(#p75e93b2ba8)\">\n     <use xlink:href=\"#C0_0_15f4784583\" x=\"255.140195\" y=\"60.574807\" style=\"fill: #21a585; stroke: #21a585\"/>\n    </g>\n    <g clip-path=\"url(#p75e93b2ba8)\">\n     <use xlink:href=\"#C0_0_15f4784583\" x=\"253.578588\" y=\"93.952491\" style=\"fill: #63cb5f; stroke: #63cb5f\"/>\n    </g>\n    <g clip-path=\"url(#p75e93b2ba8)\">\n     <use xlink:href=\"#C0_0_15f4784583\" x=\"250.015658\" y=\"98.792066\" style=\"fill: #40bd72; stroke: #40bd72\"/>\n    </g>\n    <g clip-path=\"url(#p75e93b2ba8)\">\n     <use xlink:href=\"#C0_0_15f4784583\" x=\"251.934455\" y=\"120.750619\" style=\"fill: #1f9a8a; stroke: #1f9a8a\"/>\n    </g>\n    <g clip-path=\"url(#p75e93b2ba8)\">\n     <use xlink:href=\"#C0_0_15f4784583\" x=\"251.470552\" y=\"126.75533\" style=\"fill: #2e6f8e; stroke: #2e6f8e\"/>\n    </g>\n    <g clip-path=\"url(#p75e93b2ba8)\">\n     <use xlink:href=\"#C0_0_15f4784583\" x=\"249.982257\" y=\"63.658955\" style=\"fill: #23a983; stroke: #23a983\"/>\n    </g>\n    <g clip-path=\"url(#p75e93b2ba8)\">\n     <use xlink:href=\"#C0_0_15f4784583\" x=\"253.750747\" y=\"117.060319\" style=\"fill: #31678e; stroke: #31678e\"/>\n    </g>\n    <g clip-path=\"url(#p75e93b2ba8)\">\n     <use xlink:href=\"#C0_0_15f4784583\" x=\"251.316448\" y=\"106.374697\" style=\"fill: #277f8e; stroke: #277f8e\"/>\n    </g>\n    <g clip-path=\"url(#p75e93b2ba8)\">\n     <use xlink:href=\"#C0_0_15f4784583\" x=\"251.555364\" y=\"48.512186\" style=\"fill: #58c765; stroke: #58c765\"/>\n    </g>\n    <g clip-path=\"url(#p75e93b2ba8)\">\n     <use xlink:href=\"#C0_0_15f4784583\" x=\"254.696328\" y=\"62.905079\" style=\"fill: #5ec962; stroke: #5ec962\"/>\n    </g>\n    <g clip-path=\"url(#p75e93b2ba8)\">\n     <use xlink:href=\"#C0_0_15f4784583\" x=\"62.908897\" y=\"77.389034\" style=\"fill: #3d4d8a; stroke: #3d4d8a\"/>\n    </g>\n    <g clip-path=\"url(#p75e93b2ba8)\">\n     <use xlink:href=\"#C0_0_15f4784583\" x=\"252.416299\" y=\"113.433563\" style=\"fill: #3dbc74; stroke: #3dbc74\"/>\n    </g>\n    <g clip-path=\"url(#p75e93b2ba8)\">\n     <use xlink:href=\"#C0_0_15f4784583\" x=\"251.717362\" y=\"106.948018\" style=\"fill: #89d548; stroke: #89d548\"/>\n    </g>\n    <g clip-path=\"url(#p75e93b2ba8)\">\n     <use xlink:href=\"#C0_0_15f4784583\" x=\"251.011303\" y=\"115.461676\" style=\"fill: #25ab82; stroke: #25ab82\"/>\n    </g>\n    <g clip-path=\"url(#p75e93b2ba8)\">\n     <use xlink:href=\"#C0_0_15f4784583\" x=\"245.443875\" y=\"93.91158\" style=\"fill: #26ad81; stroke: #26ad81\"/>\n    </g>\n    <g clip-path=\"url(#p75e93b2ba8)\">\n     <use xlink:href=\"#C0_0_15f4784583\" x=\"250.106226\" y=\"99.149772\" style=\"fill: #22a785; stroke: #22a785\"/>\n    </g>\n    <g clip-path=\"url(#p75e93b2ba8)\">\n     <use xlink:href=\"#C0_0_15f4784583\" x=\"250.120865\" y=\"118.420347\" style=\"fill: #70cf57; stroke: #70cf57\"/>\n    </g>\n    <g clip-path=\"url(#p75e93b2ba8)\">\n     <use xlink:href=\"#C0_0_15f4784583\" x=\"251.702629\" y=\"71.773995\" style=\"fill: #d5e21a; stroke: #d5e21a\"/>\n    </g>\n    <g clip-path=\"url(#p75e93b2ba8)\">\n     <use xlink:href=\"#C0_0_15f4784583\" x=\"66.0212\" y=\"105.789653\" style=\"fill: #1f968b; stroke: #1f968b\"/>\n    </g>\n    <g clip-path=\"url(#p75e93b2ba8)\">\n     <use xlink:href=\"#C0_0_15f4784583\" x=\"251.059201\" y=\"89.291947\" style=\"fill: #6ccd5a; stroke: #6ccd5a\"/>\n    </g>\n    <g clip-path=\"url(#p75e93b2ba8)\">\n     <use xlink:href=\"#C0_0_15f4784583\" x=\"249.776041\" y=\"103.810316\" style=\"fill: #40bd72; stroke: #40bd72\"/>\n    </g>\n    <g clip-path=\"url(#p75e93b2ba8)\">\n     <use xlink:href=\"#C0_0_15f4784583\" x=\"252.759547\" y=\"40.767495\" style=\"fill: #2cb17e; stroke: #2cb17e\"/>\n    </g>\n    <g clip-path=\"url(#p75e93b2ba8)\">\n     <use xlink:href=\"#C0_0_15f4784583\" x=\"251.535958\" y=\"96.241852\" style=\"fill: #22a785; stroke: #22a785\"/>\n    </g>\n    <g clip-path=\"url(#p75e93b2ba8)\">\n     <use xlink:href=\"#C0_0_15f4784583\" x=\"250.83082\" y=\"111.615333\" style=\"fill: #1f9e89; stroke: #1f9e89\"/>\n    </g>\n    <g clip-path=\"url(#p75e93b2ba8)\">\n     <use xlink:href=\"#C0_0_15f4784583\" x=\"247.668935\" y=\"92.158955\" style=\"fill: #7ad151; stroke: #7ad151\"/>\n    </g>\n    <g clip-path=\"url(#p75e93b2ba8)\">\n     <use xlink:href=\"#C0_0_15f4784583\" x=\"250.164994\" y=\"92.746444\" style=\"fill: #58c765; stroke: #58c765\"/>\n    </g>\n    <g clip-path=\"url(#p75e93b2ba8)\">\n     <use xlink:href=\"#C0_0_15f4784583\" x=\"64.468771\" y=\"85.982341\" style=\"fill: #3aba76; stroke: #3aba76\"/>\n    </g>\n    <g clip-path=\"url(#p75e93b2ba8)\">\n     <use xlink:href=\"#C0_0_15f4784583\" x=\"252.141745\" y=\"113.365513\" style=\"fill: #20a386; stroke: #20a386\"/>\n    </g>\n    <g clip-path=\"url(#p75e93b2ba8)\">\n     <use xlink:href=\"#C0_0_15f4784583\" x=\"252.363688\" y=\"109.870105\" style=\"fill: #1f988b; stroke: #1f988b\"/>\n    </g>\n    <g clip-path=\"url(#p75e93b2ba8)\">\n     <use xlink:href=\"#C0_0_15f4784583\" x=\"248.438848\" y=\"112.268426\" style=\"fill: #2a778e; stroke: #2a778e\"/>\n    </g>\n    <g clip-path=\"url(#p75e93b2ba8)\">\n     <use xlink:href=\"#C0_0_15f4784583\" x=\"253.979448\" y=\"130.250738\" style=\"fill: #414487; stroke: #414487\"/>\n    </g>\n    <g clip-path=\"url(#p75e93b2ba8)\">\n     <use xlink:href=\"#C0_0_15f4784583\" x=\"249.695509\" y=\"153.122875\" style=\"fill: #355f8d; stroke: #355f8d\"/>\n    </g>\n    <g clip-path=\"url(#p75e93b2ba8)\">\n     <use xlink:href=\"#C0_0_15f4784583\" x=\"251.244861\" y=\"48.471275\" style=\"fill: #22a785; stroke: #22a785\"/>\n    </g>\n    <g clip-path=\"url(#p75e93b2ba8)\">\n     <use xlink:href=\"#C0_0_15f4784583\" x=\"253.791222\" y=\"70.608859\" style=\"fill: #3aba76; stroke: #3aba76\"/>\n    </g>\n    <g clip-path=\"url(#p75e93b2ba8)\">\n     <use xlink:href=\"#C0_0_15f4784583\" x=\"64.354031\" y=\"116.275877\" style=\"fill: #1f9e89; stroke: #1f9e89\"/>\n    </g>\n    <g clip-path=\"url(#p75e93b2ba8)\">\n     <use xlink:href=\"#C0_0_15f4784583\" x=\"253.26957\" y=\"38.864857\" style=\"fill: #fde725; stroke: #fde725\"/>\n    </g>\n    <g clip-path=\"url(#p75e93b2ba8)\">\n     <use xlink:href=\"#C0_0_15f4784583\" x=\"253.509341\" y=\"150.415756\" style=\"fill: #3a548c; stroke: #3a548c\"/>\n    </g>\n    <g clip-path=\"url(#p75e93b2ba8)\">\n     <use xlink:href=\"#C0_0_15f4784583\" x=\"254.131341\" y=\"98.286794\" style=\"fill: #34b679; stroke: #34b679\"/>\n    </g>\n    <g clip-path=\"url(#p75e93b2ba8)\">\n     <use xlink:href=\"#C0_0_15f4784583\" x=\"251.028997\" y=\"39.191098\" style=\"fill: #40bd72; stroke: #40bd72\"/>\n    </g>\n    <g clip-path=\"url(#p75e93b2ba8)\">\n     <use xlink:href=\"#C0_0_15f4784583\" x=\"253.207594\" y=\"102.287474\" style=\"fill: #29af7f; stroke: #29af7f\"/>\n    </g>\n    <g clip-path=\"url(#p75e93b2ba8)\">\n     <use xlink:href=\"#C0_0_15f4784583\" x=\"248.77777\" y=\"70.649771\" style=\"fill: #26ad81; stroke: #26ad81\"/>\n    </g>\n    <g clip-path=\"url(#p75e93b2ba8)\">\n     <use xlink:href=\"#C0_0_15f4784583\" x=\"251.233924\" y=\"68.067946\" style=\"fill: #22a785; stroke: #22a785\"/>\n    </g>\n    <g clip-path=\"url(#p75e93b2ba8)\">\n     <use xlink:href=\"#C0_0_15f4784583\" x=\"251.121987\" y=\"32.159371\" style=\"fill: #54c568; stroke: #54c568\"/>\n    </g>\n    <g clip-path=\"url(#p75e93b2ba8)\">\n     <use xlink:href=\"#C0_0_15f4784583\" x=\"249.477854\" y=\"87.498411\" style=\"fill: #2eb37c; stroke: #2eb37c\"/>\n    </g>\n    <g clip-path=\"url(#p75e93b2ba8)\">\n     <use xlink:href=\"#C0_0_15f4784583\" x=\"250.509562\" y=\"36.534585\" style=\"fill: #3dbc74; stroke: #3dbc74\"/>\n    </g>\n    <g clip-path=\"url(#p75e93b2ba8)\">\n     <use xlink:href=\"#C0_0_15f4784583\" x=\"250.415351\" y=\"90.993819\" style=\"fill: #1fa088; stroke: #1fa088\"/>\n    </g>\n    <g clip-path=\"url(#p75e93b2ba8)\">\n     <use xlink:href=\"#C0_0_15f4784583\" x=\"250.885482\" y=\"100.748415\" style=\"fill: #29af7f; stroke: #29af7f\"/>\n    </g>\n    <g clip-path=\"url(#p75e93b2ba8)\">\n     <use xlink:href=\"#C0_0_15f4784583\" x=\"251.00167\" y=\"98.792066\" style=\"fill: #84d44b; stroke: #84d44b\"/>\n    </g>\n    <g clip-path=\"url(#p75e93b2ba8)\">\n     <use xlink:href=\"#C0_0_15f4784583\" x=\"251.110754\" y=\"118.957084\" style=\"fill: #40bd72; stroke: #40bd72\"/>\n    </g>\n    <g clip-path=\"url(#p75e93b2ba8)\">\n     <use xlink:href=\"#C0_0_15f4784583\" x=\"251.447729\" y=\"60.934392\" style=\"fill: #84d44b; stroke: #84d44b\"/>\n    </g>\n    <g clip-path=\"url(#p75e93b2ba8)\">\n     <use xlink:href=\"#C0_0_15f4784583\" x=\"250.733292\" y=\"75.310315\" style=\"fill: #34b679; stroke: #34b679\"/>\n    </g>\n    <g clip-path=\"url(#p75e93b2ba8)\">\n     <use xlink:href=\"#C0_0_15f4784583\" x=\"253.541681\" y=\"50.785548\" style=\"fill: #2e6d8e; stroke: #2e6d8e\"/>\n    </g>\n    <g clip-path=\"url(#p75e93b2ba8)\">\n     <use xlink:href=\"#C0_0_15f4784583\" x=\"252.801328\" y=\"57.581722\" style=\"fill: #2cb17e; stroke: #2cb17e\"/>\n    </g>\n    <g clip-path=\"url(#p75e93b2ba8)\">\n     <use xlink:href=\"#C0_0_15f4784583\" x=\"252.406355\" y=\"71.186507\" style=\"fill: #218e8d; stroke: #218e8d\"/>\n    </g>\n    <g clip-path=\"url(#p75e93b2ba8)\">\n     <use xlink:href=\"#C0_0_15f4784583\" x=\"254.109705\" y=\"115.110741\" style=\"fill: #2a778e; stroke: #2a778e\"/>\n    </g>\n    <g clip-path=\"url(#p75e93b2ba8)\">\n     <use xlink:href=\"#C0_0_15f4784583\" x=\"249.26051\" y=\"120.555727\" style=\"fill: #1f948c; stroke: #1f948c\"/>\n    </g>\n    <g clip-path=\"url(#p75e93b2ba8)\">\n     <use xlink:href=\"#C0_0_15f4784583\" x=\"251.118029\" y=\"86.333275\" style=\"fill: #3aba76; stroke: #3aba76\"/>\n    </g>\n    <g clip-path=\"url(#p75e93b2ba8)\">\n     <use xlink:href=\"#C0_0_15f4784583\" x=\"250.815999\" y=\"90.416172\" style=\"fill: #3aba76; stroke: #3aba76\"/>\n    </g>\n    <g clip-path=\"url(#p75e93b2ba8)\">\n     <use xlink:href=\"#C0_0_15f4784583\" x=\"248.949448\" y=\"92.461114\" style=\"fill: #44bf70; stroke: #44bf70\"/>\n    </g>\n    <g clip-path=\"url(#p75e93b2ba8)\">\n     <use xlink:href=\"#C0_0_15f4784583\" x=\"249.841603\" y=\"80.941102\" style=\"fill: #1e9c89; stroke: #1e9c89\"/>\n    </g>\n    <g clip-path=\"url(#p75e93b2ba8)\">\n     <use xlink:href=\"#C0_0_15f4784583\" x=\"67.146087\" y=\"120.936421\" style=\"fill: #2c738e; stroke: #2c738e\"/>\n    </g>\n    <g clip-path=\"url(#p75e93b2ba8)\">\n     <use xlink:href=\"#C0_0_15f4784583\" x=\"68.702451\" y=\"68.124606\" style=\"fill: #37b878; stroke: #37b878\"/>\n    </g>\n    <g clip-path=\"url(#p75e93b2ba8)\">\n     <use xlink:href=\"#C0_0_15f4784583\" x=\"252.043192\" y=\"52.186625\" style=\"fill: #22a785; stroke: #22a785\"/>\n    </g>\n    <g clip-path=\"url(#p75e93b2ba8)\">\n     <use xlink:href=\"#C0_0_15f4784583\" x=\"248.652664\" y=\"57.833274\" style=\"fill: #4cc26c; stroke: #4cc26c\"/>\n    </g>\n    <g clip-path=\"url(#p75e93b2ba8)\">\n     <use xlink:href=\"#C0_0_15f4784583\" x=\"253.476238\" y=\"60.700283\" style=\"fill: #22a785; stroke: #22a785\"/>\n    </g>\n    <g clip-path=\"url(#p75e93b2ba8)\">\n     <use xlink:href=\"#C0_0_15f4784583\" x=\"252.617054\" y=\"112.268426\" style=\"fill: #29af7f; stroke: #29af7f\"/>\n    </g>\n    <g clip-path=\"url(#p75e93b2ba8)\">\n     <use xlink:href=\"#C0_0_15f4784583\" x=\"252.235375\" y=\"100.748415\" style=\"fill: #34b679; stroke: #34b679\"/>\n    </g>\n    <g clip-path=\"url(#p75e93b2ba8)\">\n     <use xlink:href=\"#C0_0_15f4784583\" x=\"253.547048\" y=\"55.446092\" style=\"fill: #3aba76; stroke: #3aba76\"/>\n    </g>\n    <g clip-path=\"url(#p75e93b2ba8)\">\n     <use xlink:href=\"#C0_0_15f4784583\" x=\"64.35736\" y=\"75.496117\" style=\"fill: #63cb5f; stroke: #63cb5f\"/>\n    </g>\n    <g clip-path=\"url(#p75e93b2ba8)\">\n     <use xlink:href=\"#C0_0_15f4784583\" x=\"254.487095\" y=\"70.454878\" style=\"fill: #1f9a8a; stroke: #1f9a8a\"/>\n    </g>\n    <g clip-path=\"url(#p75e93b2ba8)\">\n     <use xlink:href=\"#C0_0_15f4784583\" x=\"251.499021\" y=\"71.993938\" style=\"fill: #34b679; stroke: #34b679\"/>\n    </g>\n    <g clip-path=\"url(#p75e93b2ba8)\">\n     <use xlink:href=\"#C0_0_15f4784583\" x=\"254.330205\" y=\"111.38862\" style=\"fill: #24868e; stroke: #24868e\"/>\n    </g>\n    <g clip-path=\"url(#p75e93b2ba8)\">\n     <use xlink:href=\"#C0_0_15f4784583\" x=\"256.649007\" y=\"59.409671\" style=\"fill: #4cc26c; stroke: #4cc26c\"/>\n    </g>\n    <g clip-path=\"url(#p75e93b2ba8)\">\n     <use xlink:href=\"#C0_0_15f4784583\" x=\"250.210392\" y=\"117.434242\" style=\"fill: #22a785; stroke: #22a785\"/>\n    </g>\n    <g clip-path=\"url(#p75e93b2ba8)\">\n     <use xlink:href=\"#C0_0_15f4784583\" x=\"63.792462\" y=\"130.25751\" style=\"fill: #21a585; stroke: #21a585\"/>\n    </g>\n    <g clip-path=\"url(#p75e93b2ba8)\">\n     <use xlink:href=\"#C0_0_15f4784583\" x=\"250.143697\" y=\"100.549017\" style=\"fill: #1f988b; stroke: #1f988b\"/>\n    </g>\n    <g clip-path=\"url(#p75e93b2ba8)\">\n     <use xlink:href=\"#C0_0_15f4784583\" x=\"249.847255\" y=\"73.893626\" style=\"fill: #26ad81; stroke: #26ad81\"/>\n    </g>\n    <g clip-path=\"url(#p75e93b2ba8)\">\n     <use xlink:href=\"#C0_0_15f4784583\" x=\"247.732867\" y=\"104.044425\" style=\"fill: #26ad81; stroke: #26ad81\"/>\n    </g>\n    <g clip-path=\"url(#p75e93b2ba8)\">\n     <use xlink:href=\"#C0_0_15f4784583\" x=\"251.900656\" y=\"118.420347\" style=\"fill: #1e9c89; stroke: #1e9c89\"/>\n    </g>\n    <g clip-path=\"url(#p75e93b2ba8)\">\n     <use xlink:href=\"#C0_0_15f4784583\" x=\"253.140603\" y=\"63.407402\" style=\"fill: #37b878; stroke: #37b878\"/>\n    </g>\n    <g clip-path=\"url(#p75e93b2ba8)\">\n     <use xlink:href=\"#C0_0_15f4784583\" x=\"67.553832\" y=\"104.438715\" style=\"fill: #1f9a8a; stroke: #1f9a8a\"/>\n    </g>\n    <g clip-path=\"url(#p75e93b2ba8)\">\n     <use xlink:href=\"#C0_0_15f4784583\" x=\"251.635972\" y=\"127.546543\" style=\"fill: #1f9a8a; stroke: #1f9a8a\"/>\n    </g>\n    <g clip-path=\"url(#p75e93b2ba8)\">\n     <use xlink:href=\"#C0_0_15f4784583\" x=\"251.979289\" y=\"95.296658\" style=\"fill: #1fa088; stroke: #1fa088\"/>\n    </g>\n    <g clip-path=\"url(#p75e93b2ba8)\">\n     <use xlink:href=\"#C0_0_15f4784583\" x=\"253.429892\" y=\"100.943307\" style=\"fill: #2e6f8e; stroke: #2e6f8e\"/>\n    </g>\n    <g clip-path=\"url(#p75e93b2ba8)\">\n     <use xlink:href=\"#C0_0_15f4784583\" x=\"64.200107\" y=\"101.309308\" style=\"fill: #54c568; stroke: #54c568\"/>\n    </g>\n    <g clip-path=\"url(#p75e93b2ba8)\">\n     <use xlink:href=\"#C0_0_15f4784583\" x=\"250.784951\" y=\"105.27761\" style=\"fill: #4cc26c; stroke: #4cc26c\"/>\n    </g>\n    <g clip-path=\"url(#p75e93b2ba8)\">\n     <use xlink:href=\"#C0_0_15f4784583\" x=\"250.290503\" y=\"84.237113\" style=\"fill: #1f9a8a; stroke: #1f9a8a\"/>\n    </g>\n    <g clip-path=\"url(#p75e93b2ba8)\">\n     <use xlink:href=\"#C0_0_15f4784583\" x=\"252.035053\" y=\"98.613035\" style=\"fill: #34618d; stroke: #34618d\"/>\n    </g>\n    <g clip-path=\"url(#p75e93b2ba8)\">\n     <use xlink:href=\"#C0_0_15f4784583\" x=\"252.739067\" y=\"100.549017\" style=\"fill: #1f9a8a; stroke: #1f9a8a\"/>\n    </g>\n    <g clip-path=\"url(#p75e93b2ba8)\">\n     <use xlink:href=\"#C0_0_15f4784583\" x=\"249.354572\" y=\"73.750889\" style=\"fill: #5ec962; stroke: #5ec962\"/>\n    </g>\n    <g clip-path=\"url(#p75e93b2ba8)\">\n     <use xlink:href=\"#C0_0_15f4784583\" x=\"66.342745\" y=\"112.960668\" style=\"fill: #2e6d8e; stroke: #2e6d8e\"/>\n    </g>\n    <g clip-path=\"url(#p75e93b2ba8)\">\n     <use xlink:href=\"#C0_0_15f4784583\" x=\"63.780938\" y=\"121.720863\" style=\"fill: #23888e; stroke: #23888e\"/>\n    </g>\n    <g clip-path=\"url(#p75e93b2ba8)\">\n     <use xlink:href=\"#C0_0_15f4784583\" x=\"66.259167\" y=\"88.305842\" style=\"fill: #26ad81; stroke: #26ad81\"/>\n    </g>\n    <g clip-path=\"url(#p75e93b2ba8)\">\n     <use xlink:href=\"#C0_0_15f4784583\" x=\"65.996111\" y=\"93.62625\" style=\"fill: #23a983; stroke: #23a983\"/>\n    </g>\n    <g clip-path=\"url(#p75e93b2ba8)\">\n     <use xlink:href=\"#C0_0_15f4784583\" x=\"253.250464\" y=\"100.902396\" style=\"fill: #26828e; stroke: #26828e\"/>\n    </g>\n    <g clip-path=\"url(#p75e93b2ba8)\">\n     <use xlink:href=\"#C0_0_15f4784583\" x=\"66.096817\" y=\"87.140706\" style=\"fill: #1fa187; stroke: #1fa187\"/>\n    </g>\n    <g clip-path=\"url(#p75e93b2ba8)\">\n     <use xlink:href=\"#C0_0_15f4784583\" x=\"251.251524\" y=\"101.129109\" style=\"fill: #2cb17e; stroke: #2cb17e\"/>\n    </g>\n    <g clip-path=\"url(#p75e93b2ba8)\">\n     <use xlink:href=\"#C0_0_15f4784583\" x=\"254.783669\" y=\"95.076716\" style=\"fill: #48c16e; stroke: #48c16e\"/>\n    </g>\n    <g clip-path=\"url(#p75e93b2ba8)\">\n     <use xlink:href=\"#C0_0_15f4784583\" x=\"249.179766\" y=\"112.780469\" style=\"fill: #23a983; stroke: #23a983\"/>\n    </g>\n    <g clip-path=\"url(#p75e93b2ba8)\">\n     <use xlink:href=\"#C0_0_15f4784583\" x=\"252.70176\" y=\"68.505301\" style=\"fill: #2eb37c; stroke: #2eb37c\"/>\n    </g>\n    <g clip-path=\"url(#p75e93b2ba8)\">\n     <use xlink:href=\"#C0_0_15f4784583\" x=\"251.563306\" y=\"126.535388\" style=\"fill: #1f968b; stroke: #1f968b\"/>\n    </g>\n    <g clip-path=\"url(#p75e93b2ba8)\">\n     <use xlink:href=\"#C0_0_15f4784583\" x=\"65.137899\" y=\"70.835573\" style=\"fill: #26ad81; stroke: #26ad81\"/>\n    </g>\n    <g clip-path=\"url(#p75e93b2ba8)\">\n     <use xlink:href=\"#C0_0_15f4784583\" x=\"250.023586\" y=\"75.253404\" style=\"fill: #48c16e; stroke: #48c16e\"/>\n    </g>\n    <g clip-path=\"url(#p75e93b2ba8)\">\n     <use xlink:href=\"#C0_0_15f4784583\" x=\"251.616937\" y=\"86.920764\" style=\"fill: #1fa088; stroke: #1fa088\"/>\n    </g>\n    <g clip-path=\"url(#p75e93b2ba8)\">\n     <use xlink:href=\"#C0_0_15f4784583\" x=\"250.930621\" y=\"107.305724\" style=\"fill: #2eb37c; stroke: #2eb37c\"/>\n    </g>\n    <g clip-path=\"url(#p75e93b2ba8)\">\n     <use xlink:href=\"#C0_0_15f4784583\" x=\"68.975562\" y=\"141.902099\" style=\"fill: #21918c; stroke: #21918c\"/>\n    </g>\n    <g clip-path=\"url(#p75e93b2ba8)\">\n     <use xlink:href=\"#C0_0_15f4784583\" x=\"255.128169\" y=\"119.390591\" style=\"fill: #22a785; stroke: #22a785\"/>\n    </g>\n    <g clip-path=\"url(#p75e93b2ba8)\">\n     <use xlink:href=\"#C0_0_15f4784583\" x=\"251.815884\" y=\"76.661253\" style=\"fill: #23a983; stroke: #23a983\"/>\n    </g>\n    <g clip-path=\"url(#p75e93b2ba8)\">\n     <use xlink:href=\"#C0_0_15f4784583\" x=\"249.332543\" y=\"79.929948\" style=\"fill: #7ad151; stroke: #7ad151\"/>\n    </g>\n    <g clip-path=\"url(#p75e93b2ba8)\">\n     <use xlink:href=\"#C0_0_15f4784583\" x=\"253.036208\" y=\"81.97489\" style=\"fill: #29af7f; stroke: #29af7f\"/>\n    </g>\n    <g clip-path=\"url(#p75e93b2ba8)\">\n     <use xlink:href=\"#C0_0_15f4784583\" x=\"63.938694\" y=\"84.997404\" style=\"fill: #2eb37c; stroke: #2eb37c\"/>\n    </g>\n    <g clip-path=\"url(#p75e93b2ba8)\">\n     <use xlink:href=\"#C0_0_15f4784583\" x=\"254.672245\" y=\"90.416172\" style=\"fill: #58c765; stroke: #58c765\"/>\n    </g>\n    <g clip-path=\"url(#p75e93b2ba8)\">\n     <use xlink:href=\"#C0_0_15f4784583\" x=\"62.971047\" y=\"85.402249\" style=\"fill: #d5e21a; stroke: #d5e21a\"/>\n    </g>\n    <g clip-path=\"url(#p75e93b2ba8)\">\n     <use xlink:href=\"#C0_0_15f4784583\" x=\"252.267335\" y=\"82.106238\" style=\"fill: #89d548; stroke: #89d548\"/>\n    </g>\n    <g clip-path=\"url(#p75e93b2ba8)\">\n     <use xlink:href=\"#C0_0_15f4784583\" x=\"250.473329\" y=\"37.631672\" style=\"fill: #9dd93b; stroke: #9dd93b\"/>\n    </g>\n    <g clip-path=\"url(#p75e93b2ba8)\">\n     <use xlink:href=\"#C0_0_15f4784583\" x=\"250.965657\" y=\"46.360945\" style=\"fill: #6ccd5a; stroke: #6ccd5a\"/>\n    </g>\n    <g clip-path=\"url(#p75e93b2ba8)\">\n     <use xlink:href=\"#C0_0_15f4784583\" x=\"252.43919\" y=\"97.253006\" style=\"fill: #29af7f; stroke: #29af7f\"/>\n    </g>\n    <g clip-path=\"url(#p75e93b2ba8)\">\n     <use xlink:href=\"#C0_0_15f4784583\" x=\"250.932893\" y=\"123.03998\" style=\"fill: #22a785; stroke: #22a785\"/>\n    </g>\n    <g clip-path=\"url(#p75e93b2ba8)\">\n     <use xlink:href=\"#C0_0_15f4784583\" x=\"254.804273\" y=\"66.168257\" style=\"fill: #21a585; stroke: #21a585\"/>\n    </g>\n    <g clip-path=\"url(#p75e93b2ba8)\">\n     <use xlink:href=\"#C0_0_15f4784583\" x=\"250.544433\" y=\"62.167578\" style=\"fill: #1fa088; stroke: #1fa088\"/>\n    </g>\n    <g clip-path=\"url(#p75e93b2ba8)\">\n     <use xlink:href=\"#C0_0_15f4784583\" x=\"251.262479\" y=\"117.441013\" style=\"fill: #29798e; stroke: #29798e\"/>\n    </g>\n    <g clip-path=\"url(#p75e93b2ba8)\">\n     <use xlink:href=\"#C0_0_15f4784583\" x=\"251.651221\" y=\"136.736283\" style=\"fill: #50c46a; stroke: #50c46a\"/>\n    </g>\n    <g clip-path=\"url(#p75e93b2ba8)\">\n     <use xlink:href=\"#C0_0_15f4784583\" x=\"251.270793\" y=\"32.00539\" style=\"fill: #3aba76; stroke: #3aba76\"/>\n    </g>\n    <g clip-path=\"url(#p75e93b2ba8)\">\n     <use xlink:href=\"#C0_0_15f4784583\" x=\"253.194056\" y=\"95.117627\" style=\"fill: #20928c; stroke: #20928c\"/>\n    </g>\n    <g clip-path=\"url(#p75e93b2ba8)\">\n     <use xlink:href=\"#C0_0_15f4784583\" x=\"252.023212\" y=\"39.191098\" style=\"fill: #2cb17e; stroke: #2cb17e\"/>\n    </g>\n    <g clip-path=\"url(#p75e93b2ba8)\">\n     <use xlink:href=\"#C0_0_15f4784583\" x=\"252.804748\" y=\"106.442746\" style=\"fill: #218e8d; stroke: #218e8d\"/>\n    </g>\n    <g clip-path=\"url(#p75e93b2ba8)\">\n     <use xlink:href=\"#C0_0_15f4784583\" x=\"255.192281\" y=\"65.948315\" style=\"fill: #3aba76; stroke: #3aba76\"/>\n    </g>\n    <g clip-path=\"url(#p75e93b2ba8)\">\n     <use xlink:href=\"#C0_0_15f4784583\" x=\"253.294296\" y=\"66.168257\" style=\"fill: #4cc26c; stroke: #4cc26c\"/>\n    </g>\n    <g clip-path=\"url(#p75e93b2ba8)\">\n     <use xlink:href=\"#C0_0_15f4784583\" x=\"253.94559\" y=\"96.819499\" style=\"fill: #5ec962; stroke: #5ec962\"/>\n    </g>\n    <g clip-path=\"url(#p75e93b2ba8)\">\n     <use xlink:href=\"#C0_0_15f4784583\" x=\"60.898443\" y=\"110.069503\" style=\"fill: #23a983; stroke: #23a983\"/>\n    </g>\n    <g clip-path=\"url(#p75e93b2ba8)\">\n     <use xlink:href=\"#C0_0_15f4784583\" x=\"251.593524\" y=\"127.927237\" style=\"fill: #26818e; stroke: #26818e\"/>\n    </g>\n    <g clip-path=\"url(#p75e93b2ba8)\">\n     <use xlink:href=\"#C0_0_15f4784583\" x=\"249.630553\" y=\"124.051135\" style=\"fill: #218e8d; stroke: #218e8d\"/>\n    </g>\n    <g clip-path=\"url(#p75e93b2ba8)\">\n     <use xlink:href=\"#C0_0_15f4784583\" x=\"251.40442\" y=\"45.553515\" style=\"fill: #1f9e89; stroke: #1f9e89\"/>\n    </g>\n    <g clip-path=\"url(#p75e93b2ba8)\">\n     <use xlink:href=\"#C0_0_15f4784583\" x=\"251.890308\" y=\"48.260634\" style=\"fill: #21a585; stroke: #21a585\"/>\n    </g>\n    <g clip-path=\"url(#p75e93b2ba8)\">\n     <use xlink:href=\"#C0_0_15f4784583\" x=\"253.990877\" y=\"86.920764\" style=\"fill: #34b679; stroke: #34b679\"/>\n    </g>\n    <g clip-path=\"url(#p75e93b2ba8)\">\n     <use xlink:href=\"#C0_0_15f4784583\" x=\"250.606269\" y=\"88.965706\" style=\"fill: #23a983; stroke: #23a983\"/>\n    </g>\n    <g clip-path=\"url(#p75e93b2ba8)\">\n     <use xlink:href=\"#C0_0_15f4784583\" x=\"250.731694\" y=\"68.124606\" style=\"fill: #1f968b; stroke: #1f968b\"/>\n    </g>\n    <g clip-path=\"url(#p75e93b2ba8)\">\n     <use xlink:href=\"#C0_0_15f4784583\" x=\"253.891659\" y=\"63.837985\" style=\"fill: #26ad81; stroke: #26ad81\"/>\n    </g>\n    <g clip-path=\"url(#p75e93b2ba8)\">\n     <use xlink:href=\"#C0_0_15f4784583\" x=\"252.086707\" y=\"94.489227\" style=\"fill: #20a386; stroke: #20a386\"/>\n    </g>\n    <g clip-path=\"url(#p75e93b2ba8)\">\n     <use xlink:href=\"#C0_0_15f4784583\" x=\"64.974467\" y=\"84.43651\" style=\"fill: #23888e; stroke: #23888e\"/>\n    </g>\n    <g clip-path=\"url(#p75e93b2ba8)\">\n     <use xlink:href=\"#C0_0_15f4784583\" x=\"252.884179\" y=\"50.785548\" style=\"fill: #3aba76; stroke: #3aba76\"/>\n    </g>\n    <g clip-path=\"url(#p75e93b2ba8)\">\n     <use xlink:href=\"#C0_0_15f4784583\" x=\"253.797285\" y=\"96.08787\" style=\"fill: #7fd34e; stroke: #7fd34e\"/>\n    </g>\n    <g clip-path=\"url(#p75e93b2ba8)\">\n     <use xlink:href=\"#C0_0_15f4784583\" x=\"66.333789\" y=\"101.15924\" style=\"fill: #20928c; stroke: #20928c\"/>\n    </g>\n    <g clip-path=\"url(#p75e93b2ba8)\">\n     <use xlink:href=\"#C0_0_15f4784583\" x=\"252.396373\" y=\"114.730047\" style=\"fill: #3dbc74; stroke: #3dbc74\"/>\n    </g>\n    <g clip-path=\"url(#p75e93b2ba8)\">\n     <use xlink:href=\"#C0_0_15f4784583\" x=\"249.489768\" y=\"128.906572\" style=\"fill: #2b758e; stroke: #2b758e\"/>\n    </g>\n    <g clip-path=\"url(#p75e93b2ba8)\">\n     <use xlink:href=\"#C0_0_15f4784583\" x=\"251.560912\" y=\"128.512281\" style=\"fill: #3aba76; stroke: #3aba76\"/>\n    </g>\n    <g clip-path=\"url(#p75e93b2ba8)\">\n     <use xlink:href=\"#C0_0_15f4784583\" x=\"252.405663\" y=\"138.186748\" style=\"fill: #228c8d; stroke: #228c8d\"/>\n    </g>\n    <g clip-path=\"url(#p75e93b2ba8)\">\n     <use xlink:href=\"#C0_0_15f4784583\" x=\"250.583218\" y=\"115.461676\" style=\"fill: #7fd34e; stroke: #7fd34e\"/>\n    </g>\n    <g clip-path=\"url(#p75e93b2ba8)\">\n     <use xlink:href=\"#C0_0_15f4784583\" x=\"253.488516\" y=\"117.255211\" style=\"fill: #22a785; stroke: #22a785\"/>\n    </g>\n    <g clip-path=\"url(#p75e93b2ba8)\">\n     <use xlink:href=\"#C0_0_15f4784583\" x=\"249.555577\" y=\"138.406691\" style=\"fill: #218e8d; stroke: #218e8d\"/>\n    </g>\n    <g clip-path=\"url(#p75e93b2ba8)\">\n     <use xlink:href=\"#C0_0_15f4784583\" x=\"254.038738\" y=\"82.480162\" style=\"fill: #31b57b; stroke: #31b57b\"/>\n    </g>\n    <g clip-path=\"url(#p75e93b2ba8)\">\n     <use xlink:href=\"#C0_0_15f4784583\" x=\"250.104932\" y=\"142.561963\" style=\"fill: #31678e; stroke: #31678e\"/>\n    </g>\n    <g clip-path=\"url(#p75e93b2ba8)\">\n     <use xlink:href=\"#C0_0_15f4784583\" x=\"251.915518\" y=\"104.044425\" style=\"fill: #2b758e; stroke: #2b758e\"/>\n    </g>\n    <g clip-path=\"url(#p75e93b2ba8)\">\n     <use xlink:href=\"#C0_0_15f4784583\" x=\"248.955231\" y=\"46.360945\" style=\"fill: #50c46a; stroke: #50c46a\"/>\n    </g>\n    <g clip-path=\"url(#p75e93b2ba8)\">\n     <use xlink:href=\"#C0_0_15f4784583\" x=\"64.85826\" y=\"74.361111\" style=\"fill: #1f9e89; stroke: #1f9e89\"/>\n    </g>\n    <g clip-path=\"url(#p75e93b2ba8)\">\n     <use xlink:href=\"#C0_0_15f4784583\" x=\"64.677852\" y=\"73.346044\" style=\"fill: #29af7f; stroke: #29af7f\"/>\n    </g>\n    <g clip-path=\"url(#p75e93b2ba8)\">\n     <use xlink:href=\"#C0_0_15f4784583\" x=\"253.538699\" y=\"76.475451\" style=\"fill: #5ec962; stroke: #5ec962\"/>\n    </g>\n    <g clip-path=\"url(#p75e93b2ba8)\">\n     <use xlink:href=\"#C0_0_15f4784583\" x=\"66.765364\" y=\"145.177565\" style=\"fill: #3c4f8a; stroke: #3c4f8a\"/>\n    </g>\n    <g clip-path=\"url(#p75e93b2ba8)\">\n     <use xlink:href=\"#C0_0_15f4784583\" x=\"66.637165\" y=\"133.746146\" style=\"fill: #355f8d; stroke: #355f8d\"/>\n    </g>\n    <g clip-path=\"url(#p75e93b2ba8)\">\n     <use xlink:href=\"#C0_0_15f4784583\" x=\"252.585172\" y=\"94.723337\" style=\"fill: #1f988b; stroke: #1f988b\"/>\n    </g>\n    <g clip-path=\"url(#p75e93b2ba8)\">\n     <use xlink:href=\"#C0_0_15f4784583\" x=\"250.238265\" y=\"97.406988\" style=\"fill: #20928c; stroke: #20928c\"/>\n    </g>\n    <g clip-path=\"url(#p75e93b2ba8)\">\n     <use xlink:href=\"#C0_0_15f4784583\" x=\"247.946326\" y=\"77.012187\" style=\"fill: #40bd72; stroke: #40bd72\"/>\n    </g>\n    <g clip-path=\"url(#p75e93b2ba8)\">\n     <use xlink:href=\"#C0_0_15f4784583\" x=\"67.491101\" y=\"56.341898\" style=\"fill: #40bd72; stroke: #40bd72\"/>\n    </g>\n    <g clip-path=\"url(#p75e93b2ba8)\">\n     <use xlink:href=\"#C0_0_15f4784583\" x=\"250.237844\" y=\"124.425058\" style=\"fill: #3aba76; stroke: #3aba76\"/>\n    </g>\n    <g clip-path=\"url(#p75e93b2ba8)\">\n     <use xlink:href=\"#C0_0_15f4784583\" x=\"254.663149\" y=\"99.383881\" style=\"fill: #23888e; stroke: #23888e\"/>\n    </g>\n    <g clip-path=\"url(#p75e93b2ba8)\">\n     <use xlink:href=\"#C0_0_15f4784583\" x=\"252.894759\" y=\"95.296658\" style=\"fill: #2cb17e; stroke: #2cb17e\"/>\n    </g>\n    <g clip-path=\"url(#p75e93b2ba8)\">\n     <use xlink:href=\"#C0_0_15f4784583\" x=\"251.082485\" y=\"121.874844\" style=\"fill: #1fa187; stroke: #1fa187\"/>\n    </g>\n    <g clip-path=\"url(#p75e93b2ba8)\">\n     <use xlink:href=\"#C0_0_15f4784583\" x=\"66.802491\" y=\"136.08319\" style=\"fill: #453882; stroke: #453882\"/>\n    </g>\n    <g clip-path=\"url(#p75e93b2ba8)\">\n     <use xlink:href=\"#C0_0_15f4784583\" x=\"64.626691\" y=\"136.08319\" style=\"fill: #433d84; stroke: #433d84\"/>\n    </g>\n    <g clip-path=\"url(#p75e93b2ba8)\">\n     <use xlink:href=\"#C0_0_15f4784583\" x=\"250.218796\" y=\"116.090075\" style=\"fill: #2a778e; stroke: #2a778e\"/>\n    </g>\n    <g clip-path=\"url(#p75e93b2ba8)\">\n     <use xlink:href=\"#C0_0_15f4784583\" x=\"250.555717\" y=\"126.250059\" style=\"fill: #1f948c; stroke: #1f948c\"/>\n    </g>\n    <g clip-path=\"url(#p75e93b2ba8)\">\n     <use xlink:href=\"#C0_0_15f4784583\" x=\"250.069796\" y=\"75.269404\" style=\"fill: #34618d; stroke: #34618d\"/>\n    </g>\n    <g clip-path=\"url(#p75e93b2ba8)\">\n     <use xlink:href=\"#C0_0_15f4784583\" x=\"254.176739\" y=\"77.314346\" style=\"fill: #433d84; stroke: #433d84\"/>\n    </g>\n    <g clip-path=\"url(#p75e93b2ba8)\">\n     <use xlink:href=\"#C0_0_15f4784583\" x=\"251.951244\" y=\"97.253006\" style=\"fill: #287d8e; stroke: #287d8e\"/>\n    </g>\n    <g clip-path=\"url(#p75e93b2ba8)\">\n     <use xlink:href=\"#C0_0_15f4784583\" x=\"64.847592\" y=\"133.172826\" style=\"fill: #228c8d; stroke: #228c8d\"/>\n    </g>\n    <g clip-path=\"url(#p75e93b2ba8)\">\n     <use xlink:href=\"#C0_0_15f4784583\" x=\"70.931262\" y=\"134.537359\" style=\"fill: #34618d; stroke: #34618d\"/>\n    </g>\n    <g clip-path=\"url(#p75e93b2ba8)\">\n     <use xlink:href=\"#C0_0_15f4784583\" x=\"247.530754\" y=\"134.103852\" style=\"fill: #3a548c; stroke: #3a548c\"/>\n    </g>\n    <g clip-path=\"url(#p75e93b2ba8)\">\n     <use xlink:href=\"#C0_0_15f4784583\" x=\"250.621574\" y=\"61.514484\" style=\"fill: #31b57b; stroke: #31b57b\"/>\n    </g>\n    <g clip-path=\"url(#p75e93b2ba8)\">\n     <use xlink:href=\"#C0_0_15f4784583\" x=\"252.057253\" y=\"95.076716\" style=\"fill: #2f6b8e; stroke: #2f6b8e\"/>\n    </g>\n    <g clip-path=\"url(#p75e93b2ba8)\">\n     <use xlink:href=\"#C0_0_15f4784583\" x=\"251.398525\" y=\"116.275877\" style=\"fill: #277f8e; stroke: #277f8e\"/>\n    </g>\n    <g clip-path=\"url(#p75e93b2ba8)\">\n     <use xlink:href=\"#C0_0_15f4784583\" x=\"252.842451\" y=\"92.746444\" style=\"fill: #2b758e; stroke: #2b758e\"/>\n    </g>\n    <g clip-path=\"url(#p75e93b2ba8)\">\n     <use xlink:href=\"#C0_0_15f4784583\" x=\"250.087242\" y=\"95.296658\" style=\"fill: #32658e; stroke: #32658e\"/>\n    </g>\n    <g clip-path=\"url(#p75e93b2ba8)\">\n     <use xlink:href=\"#C0_0_15f4784583\" x=\"252.881219\" y=\"59.184212\" style=\"fill: #2a778e; stroke: #2a778e\"/>\n    </g>\n    <g clip-path=\"url(#p75e93b2ba8)\">\n     <use xlink:href=\"#C0_0_15f4784583\" x=\"62.630934\" y=\"120.555727\" style=\"fill: #277f8e; stroke: #277f8e\"/>\n    </g>\n    <g clip-path=\"url(#p75e93b2ba8)\">\n     <use xlink:href=\"#C0_0_15f4784583\" x=\"62.64716\" y=\"118.026057\" style=\"fill: #26828e; stroke: #26828e\"/>\n    </g>\n    <g clip-path=\"url(#p75e93b2ba8)\">\n     <use xlink:href=\"#C0_0_15f4784583\" x=\"63.585734\" y=\"130.030796\" style=\"fill: #440154; stroke: #440154\"/>\n    </g>\n    <g clip-path=\"url(#p75e93b2ba8)\">\n     <use xlink:href=\"#C0_0_15f4784583\" x=\"249.729221\" y=\"114.530649\" style=\"fill: #365d8d; stroke: #365d8d\"/>\n    </g>\n    <g clip-path=\"url(#p75e93b2ba8)\">\n     <use xlink:href=\"#C0_0_15f4784583\" x=\"251.199198\" y=\"123.266693\" style=\"fill: #3d4d8a; stroke: #3d4d8a\"/>\n    </g>\n    <g clip-path=\"url(#p75e93b2ba8)\">\n     <use xlink:href=\"#C0_0_15f4784583\" x=\"64.051374\" y=\"135.702495\" style=\"fill: #297b8e; stroke: #297b8e\"/>\n    </g>\n    <g clip-path=\"url(#p75e93b2ba8)\">\n     <use xlink:href=\"#C0_0_15f4784583\" x=\"62.792771\" y=\"128.580331\" style=\"fill: #404688; stroke: #404688\"/>\n    </g>\n    <g clip-path=\"url(#p75e93b2ba8)\">\n     <use xlink:href=\"#C0_0_15f4784583\" x=\"64.375875\" y=\"140.736963\" style=\"fill: #38598c; stroke: #38598c\"/>\n    </g>\n    <g clip-path=\"url(#p75e93b2ba8)\">\n     <use xlink:href=\"#C0_0_15f4784583\" x=\"63.793947\" y=\"132.361068\" style=\"fill: #38598c; stroke: #38598c\"/>\n    </g>\n    <g clip-path=\"url(#p75e93b2ba8)\">\n     <use xlink:href=\"#C0_0_15f4784583\" x=\"249.825231\" y=\"141.396827\" style=\"fill: #424186; stroke: #424186\"/>\n    </g>\n    <g clip-path=\"url(#p75e93b2ba8)\">\n     <use xlink:href=\"#C0_0_15f4784583\" x=\"249.92965\" y=\"118.606149\" style=\"fill: #26818e; stroke: #26818e\"/>\n    </g>\n    <g clip-path=\"url(#p75e93b2ba8)\">\n     <use xlink:href=\"#C0_0_15f4784583\" x=\"63.659383\" y=\"136.736283\" style=\"fill: #34618d; stroke: #34618d\"/>\n    </g>\n    <g clip-path=\"url(#p75e93b2ba8)\">\n     <use xlink:href=\"#C0_0_15f4784583\" x=\"249.508544\" y=\"132.58101\" style=\"fill: #404688; stroke: #404688\"/>\n    </g>\n    <g clip-path=\"url(#p75e93b2ba8)\">\n     <use xlink:href=\"#C0_0_15f4784583\" x=\"67.718895\" y=\"136.076418\" style=\"fill: #25848e; stroke: #25848e\"/>\n    </g>\n    <g clip-path=\"url(#p75e93b2ba8)\">\n     <use xlink:href=\"#C0_0_15f4784583\" x=\"64.079257\" y=\"141.396827\" style=\"fill: #423f85; stroke: #423f85\"/>\n    </g>\n    <g clip-path=\"url(#p75e93b2ba8)\">\n     <use xlink:href=\"#C0_0_15f4784583\" x=\"69.104076\" y=\"131.415874\" style=\"fill: #32658e; stroke: #32658e\"/>\n    </g>\n    <g clip-path=\"url(#p75e93b2ba8)\">\n     <use xlink:href=\"#C0_0_15f4784583\" x=\"253.269966\" y=\"119.544572\" style=\"fill: #34618d; stroke: #34618d\"/>\n    </g>\n    <g clip-path=\"url(#p75e93b2ba8)\">\n     <use xlink:href=\"#C0_0_15f4784583\" x=\"250.309408\" y=\"119.764514\" style=\"fill: #1f9e89; stroke: #1f9e89\"/>\n    </g>\n    <g clip-path=\"url(#p75e93b2ba8)\">\n     <use xlink:href=\"#C0_0_15f4784583\" x=\"62.669508\" y=\"119.951484\" style=\"fill: #423f85; stroke: #423f85\"/>\n    </g>\n    <g clip-path=\"url(#p75e93b2ba8)\">\n     <use xlink:href=\"#C0_0_15f4784583\" x=\"250.63349\" y=\"64.629198\" style=\"fill: #22a785; stroke: #22a785\"/>\n    </g>\n    <g clip-path=\"url(#p75e93b2ba8)\">\n     <use xlink:href=\"#C0_0_15f4784583\" x=\"250.510064\" y=\"129.443308\" style=\"fill: #1e9c89; stroke: #1e9c89\"/>\n    </g>\n    <g clip-path=\"url(#p75e93b2ba8)\">\n     <use xlink:href=\"#C0_0_15f4784583\" x=\"252.959099\" y=\"129.085602\" style=\"fill: #238a8d; stroke: #238a8d\"/>\n    </g>\n    <g clip-path=\"url(#p75e93b2ba8)\">\n     <use xlink:href=\"#C0_0_15f4784583\" x=\"251.608101\" y=\"90.26219\" style=\"fill: #1f9a8a; stroke: #1f9a8a\"/>\n    </g>\n    <g clip-path=\"url(#p75e93b2ba8)\">\n     <use xlink:href=\"#C0_0_15f4784583\" x=\"250.048706\" y=\"84.817205\" style=\"fill: #404688; stroke: #404688\"/>\n    </g>\n    <g clip-path=\"url(#p75e93b2ba8)\">\n     <use xlink:href=\"#C0_0_15f4784583\" x=\"255.759579\" y=\"104.438715\" style=\"fill: #23a983; stroke: #23a983\"/>\n    </g>\n    <g clip-path=\"url(#p75e93b2ba8)\">\n     <use xlink:href=\"#C0_0_15f4784583\" x=\"253.316733\" y=\"92.592462\" style=\"fill: #20a386; stroke: #20a386\"/>\n    </g>\n    <g clip-path=\"url(#p75e93b2ba8)\">\n     <use xlink:href=\"#C0_0_15f4784583\" x=\"64.429342\" y=\"104.044425\" style=\"fill: #433d84; stroke: #433d84\"/>\n    </g>\n    <g clip-path=\"url(#p75e93b2ba8)\">\n     <use xlink:href=\"#C0_0_15f4784583\" x=\"251.360685\" y=\"120.555727\" style=\"fill: #30698e; stroke: #30698e\"/>\n    </g>\n    <g clip-path=\"url(#p75e93b2ba8)\">\n     <use xlink:href=\"#C0_0_15f4784583\" x=\"250.385425\" y=\"86.2078\" style=\"fill: #3a548c; stroke: #3a548c\"/>\n    </g>\n    <g clip-path=\"url(#p75e93b2ba8)\">\n     <use xlink:href=\"#C0_0_15f4784583\" x=\"251.286362\" y=\"118.379436\" style=\"fill: #31b57b; stroke: #31b57b\"/>\n    </g>\n    <g clip-path=\"url(#p75e93b2ba8)\">\n     <use xlink:href=\"#C0_0_15f4784583\" x=\"250.377905\" y=\"83.140026\" style=\"fill: #26ad81; stroke: #26ad81\"/>\n    </g>\n    <g clip-path=\"url(#p75e93b2ba8)\">\n     <use xlink:href=\"#C0_0_15f4784583\" x=\"256.710738\" y=\"98.418143\" style=\"fill: #1f968b; stroke: #1f968b\"/>\n    </g>\n    <g clip-path=\"url(#p75e93b2ba8)\">\n     <use xlink:href=\"#C0_0_15f4784583\" x=\"249.905305\" y=\"64.783179\" style=\"fill: #29af7f; stroke: #29af7f\"/>\n    </g>\n    <g clip-path=\"url(#p75e93b2ba8)\">\n     <use xlink:href=\"#C0_0_15f4784583\" x=\"251.884415\" y=\"107.893212\" style=\"fill: #22a785; stroke: #22a785\"/>\n    </g>\n    <g clip-path=\"url(#p75e93b2ba8)\">\n     <use xlink:href=\"#C0_0_15f4784583\" x=\"249.897105\" y=\"127.741436\" style=\"fill: #1fa088; stroke: #1fa088\"/>\n    </g>\n    <g clip-path=\"url(#p75e93b2ba8)\">\n     <use xlink:href=\"#C0_0_15f4784583\" x=\"252.213032\" y=\"98.218745\" style=\"fill: #287d8e; stroke: #287d8e\"/>\n    </g>\n    <g clip-path=\"url(#p75e93b2ba8)\">\n     <use xlink:href=\"#C0_0_15f4784583\" x=\"249.546338\" y=\"123.617628\" style=\"fill: #20a386; stroke: #20a386\"/>\n    </g>\n    <g clip-path=\"url(#p75e93b2ba8)\">\n     <use xlink:href=\"#C0_0_15f4784583\" x=\"65.813626\" y=\"140.517021\" style=\"fill: #26828e; stroke: #26828e\"/>\n    </g>\n    <g clip-path=\"url(#p75e93b2ba8)\">\n     <use xlink:href=\"#C0_0_15f4784583\" x=\"249.575215\" y=\"126.762101\" style=\"fill: #20928c; stroke: #20928c\"/>\n    </g>\n    <g clip-path=\"url(#p75e93b2ba8)\">\n     <use xlink:href=\"#C0_0_15f4784583\" x=\"255.425134\" y=\"112.960668\" style=\"fill: #2e6d8e; stroke: #2e6d8e\"/>\n    </g>\n    <g clip-path=\"url(#p75e93b2ba8)\">\n     <use xlink:href=\"#C0_0_15f4784583\" x=\"250.823628\" y=\"146.057371\" style=\"fill: #31b57b; stroke: #31b57b\"/>\n    </g>\n    <g clip-path=\"url(#p75e93b2ba8)\">\n     <use xlink:href=\"#C0_0_15f4784583\" x=\"253.119994\" y=\"71.420617\" style=\"fill: #21918c; stroke: #21918c\"/>\n    </g>\n    <g clip-path=\"url(#p75e93b2ba8)\">\n     <use xlink:href=\"#C0_0_15f4784583\" x=\"247.596917\" y=\"85.97557\" style=\"fill: #24868e; stroke: #24868e\"/>\n    </g>\n    <g clip-path=\"url(#p75e93b2ba8)\">\n     <use xlink:href=\"#C0_0_15f4784583\" x=\"252.402135\" y=\"95.528888\" style=\"fill: #31b57b; stroke: #31b57b\"/>\n    </g>\n    <g clip-path=\"url(#p75e93b2ba8)\">\n     <use xlink:href=\"#C0_0_15f4784583\" x=\"252.193294\" y=\"103.459381\" style=\"fill: #3c4f8a; stroke: #3c4f8a\"/>\n    </g>\n    <g clip-path=\"url(#p75e93b2ba8)\">\n     <use xlink:href=\"#C0_0_15f4784583\" x=\"251.818208\" y=\"105.408959\" style=\"fill: #1fa088; stroke: #1fa088\"/>\n    </g>\n    <g clip-path=\"url(#p75e93b2ba8)\">\n     <use xlink:href=\"#C0_0_15f4784583\" x=\"251.272553\" y=\"78.411433\" style=\"fill: #37b878; stroke: #37b878\"/>\n    </g>\n    <g clip-path=\"url(#p75e93b2ba8)\">\n     <use xlink:href=\"#C0_0_15f4784583\" x=\"246.489621\" y=\"82.106238\" style=\"fill: #25ab82; stroke: #25ab82\"/>\n    </g>\n    <g clip-path=\"url(#p75e93b2ba8)\">\n     <use xlink:href=\"#C0_0_15f4784583\" x=\"254.383269\" y=\"132.40198\" style=\"fill: #3c4f8a; stroke: #3c4f8a\"/>\n    </g>\n    <g clip-path=\"url(#p75e93b2ba8)\">\n     <use xlink:href=\"#C0_0_15f4784583\" x=\"251.025839\" y=\"112.960668\" style=\"fill: #3f4889; stroke: #3f4889\"/>\n    </g>\n    <g clip-path=\"url(#p75e93b2ba8)\">\n     <use xlink:href=\"#C0_0_15f4784583\" x=\"247.167025\" y=\"70.828802\" style=\"fill: #277f8e; stroke: #277f8e\"/>\n    </g>\n    <g clip-path=\"url(#p75e93b2ba8)\">\n     <use xlink:href=\"#C0_0_15f4784583\" x=\"63.973549\" y=\"129.085602\" style=\"fill: #30698e; stroke: #30698e\"/>\n    </g>\n    <g clip-path=\"url(#p75e93b2ba8)\">\n     <use xlink:href=\"#C0_0_15f4784583\" x=\"249.183088\" y=\"69.663665\" style=\"fill: #24868e; stroke: #24868e\"/>\n    </g>\n    <g clip-path=\"url(#p75e93b2ba8)\">\n     <use xlink:href=\"#C0_0_15f4784583\" x=\"250.865657\" y=\"100.902396\" style=\"fill: #2e6d8e; stroke: #2e6d8e\"/>\n    </g>\n    <g clip-path=\"url(#p75e93b2ba8)\">\n     <use xlink:href=\"#C0_0_15f4784583\" x=\"251.252159\" y=\"123.266693\" style=\"fill: #3a548c; stroke: #3a548c\"/>\n    </g>\n    <g clip-path=\"url(#p75e93b2ba8)\">\n     <use xlink:href=\"#C0_0_15f4784583\" x=\"253.92126\" y=\"142.636651\" style=\"fill: #31678e; stroke: #31678e\"/>\n    </g>\n    <g clip-path=\"url(#p75e93b2ba8)\">\n     <use xlink:href=\"#C0_0_15f4784583\" x=\"250.676843\" y=\"135.268988\" style=\"fill: #1f988b; stroke: #1f988b\"/>\n    </g>\n    <g clip-path=\"url(#p75e93b2ba8)\">\n     <use xlink:href=\"#C0_0_15f4784583\" x=\"63.406748\" y=\"132.00769\" style=\"fill: #443a83; stroke: #443a83\"/>\n    </g>\n    <g clip-path=\"url(#p75e93b2ba8)\">\n     <use xlink:href=\"#C0_0_15f4784583\" x=\"254.149049\" y=\"126.98756\" style=\"fill: #20928c; stroke: #20928c\"/>\n    </g>\n    <g clip-path=\"url(#p75e93b2ba8)\">\n     <use xlink:href=\"#C0_0_15f4784583\" x=\"251.63177\" y=\"112.399775\" style=\"fill: #2e6d8e; stroke: #2e6d8e\"/>\n    </g>\n    <g clip-path=\"url(#p75e93b2ba8)\">\n     <use xlink:href=\"#C0_0_15f4784583\" x=\"253.036401\" y=\"120.709708\" style=\"fill: #20928c; stroke: #20928c\"/>\n    </g>\n    <g clip-path=\"url(#p75e93b2ba8)\">\n     <use xlink:href=\"#C0_0_15f4784583\" x=\"247.916479\" y=\"93.952491\" style=\"fill: #6ccd5a; stroke: #6ccd5a\"/>\n    </g>\n    <g clip-path=\"url(#p75e93b2ba8)\">\n     <use xlink:href=\"#C0_0_15f4784583\" x=\"65.958808\" y=\"123.851737\" style=\"fill: #2eb37c; stroke: #2eb37c\"/>\n    </g>\n    <g clip-path=\"url(#p75e93b2ba8)\">\n     <use xlink:href=\"#C0_0_15f4784583\" x=\"68.234712\" y=\"103.45261\" style=\"fill: #433d84; stroke: #433d84\"/>\n    </g>\n    <g clip-path=\"url(#p75e93b2ba8)\">\n     <use xlink:href=\"#C0_0_15f4784583\" x=\"251.512637\" y=\"60.934392\" style=\"fill: #26818e; stroke: #26818e\"/>\n    </g>\n    <g clip-path=\"url(#p75e93b2ba8)\">\n     <use xlink:href=\"#C0_0_15f4784583\" x=\"250.413038\" y=\"114.884028\" style=\"fill: #25848e; stroke: #25848e\"/>\n    </g>\n    <g clip-path=\"url(#p75e93b2ba8)\">\n     <use xlink:href=\"#C0_0_15f4784583\" x=\"251.324826\" y=\"122.686601\" style=\"fill: #20a386; stroke: #20a386\"/>\n    </g>\n    <g clip-path=\"url(#p75e93b2ba8)\">\n     <use xlink:href=\"#C0_0_15f4784583\" x=\"249.252911\" y=\"117.255211\" style=\"fill: #29af7f; stroke: #29af7f\"/>\n    </g>\n    <g clip-path=\"url(#p75e93b2ba8)\">\n     <use xlink:href=\"#C0_0_15f4784583\" x=\"253.805387\" y=\"128.86566\" style=\"fill: #25ab82; stroke: #25ab82\"/>\n    </g>\n    <g clip-path=\"url(#p75e93b2ba8)\">\n     <use xlink:href=\"#C0_0_15f4784583\" x=\"249.972706\" y=\"105.782882\" style=\"fill: #2c738e; stroke: #2c738e\"/>\n    </g>\n    <g clip-path=\"url(#p75e93b2ba8)\">\n     <use xlink:href=\"#C0_0_15f4784583\" x=\"252.715232\" y=\"107.539833\" style=\"fill: #1f948c; stroke: #1f948c\"/>\n    </g>\n    <g clip-path=\"url(#p75e93b2ba8)\">\n     <use xlink:href=\"#C0_0_15f4784583\" x=\"248.117895\" y=\"120.356329\" style=\"fill: #54c568; stroke: #54c568\"/>\n    </g>\n    <g clip-path=\"url(#p75e93b2ba8)\">\n     <use xlink:href=\"#C0_0_15f4784583\" x=\"67.152734\" y=\"114.125804\" style=\"fill: #443a83; stroke: #443a83\"/>\n    </g>\n    <g clip-path=\"url(#p75e93b2ba8)\">\n     <use xlink:href=\"#C0_0_15f4784583\" x=\"256.413685\" y=\"84.810434\" style=\"fill: #2b758e; stroke: #2b758e\"/>\n    </g>\n    <g clip-path=\"url(#p75e93b2ba8)\">\n     <use xlink:href=\"#C0_0_15f4784583\" x=\"250.502207\" y=\"135.840477\" style=\"fill: #44bf70; stroke: #44bf70\"/>\n    </g>\n    <g clip-path=\"url(#p75e93b2ba8)\">\n     <use xlink:href=\"#C0_0_15f4784583\" x=\"64.331787\" y=\"99.963973\" style=\"fill: #21918c; stroke: #21918c\"/>\n    </g>\n    <g clip-path=\"url(#p75e93b2ba8)\">\n     <use xlink:href=\"#C0_0_15f4784583\" x=\"249.018604\" y=\"118.026057\" style=\"fill: #1f9e89; stroke: #1f9e89\"/>\n    </g>\n    <g clip-path=\"url(#p75e93b2ba8)\">\n     <use xlink:href=\"#C0_0_15f4784583\" x=\"248.807135\" y=\"110.801132\" style=\"fill: #20928c; stroke: #20928c\"/>\n    </g>\n    <g clip-path=\"url(#p75e93b2ba8)\">\n     <use xlink:href=\"#C0_0_15f4784583\" x=\"249.6237\" y=\"92.746444\" style=\"fill: #277f8e; stroke: #277f8e\"/>\n    </g>\n    <g clip-path=\"url(#p75e93b2ba8)\">\n     <use xlink:href=\"#C0_0_15f4784583\" x=\"248.933374\" y=\"141.902099\" style=\"fill: #26818e; stroke: #26818e\"/>\n    </g>\n    <g clip-path=\"url(#p75e93b2ba8)\">\n     <use xlink:href=\"#C0_0_15f4784583\" x=\"249.999277\" y=\"67.154363\" style=\"fill: #22a785; stroke: #22a785\"/>\n    </g>\n    <g clip-path=\"url(#p75e93b2ba8)\">\n     <use xlink:href=\"#C0_0_15f4784583\" x=\"251.597716\" y=\"136.867631\" style=\"fill: #34618d; stroke: #34618d\"/>\n    </g>\n    <g clip-path=\"url(#p75e93b2ba8)\">\n     <use xlink:href=\"#C0_0_15f4784583\" x=\"250.931527\" y=\"129.876815\" style=\"fill: #25848e; stroke: #25848e\"/>\n    </g>\n    <g clip-path=\"url(#p75e93b2ba8)\">\n     <use xlink:href=\"#C0_0_15f4784583\" x=\"251.071381\" y=\"120.424379\" style=\"fill: #31678e; stroke: #31678e\"/>\n    </g>\n    <g clip-path=\"url(#p75e93b2ba8)\">\n     <use xlink:href=\"#C0_0_15f4784583\" x=\"251.378733\" y=\"131.415874\" style=\"fill: #46337f; stroke: #46337f\"/>\n    </g>\n    <g clip-path=\"url(#p75e93b2ba8)\">\n     <use xlink:href=\"#C0_0_15f4784583\" x=\"251.934692\" y=\"123.851737\" style=\"fill: #2eb37c; stroke: #2eb37c\"/>\n    </g>\n    <g clip-path=\"url(#p75e93b2ba8)\">\n     <use xlink:href=\"#C0_0_15f4784583\" x=\"248.33963\" y=\"120.424379\" style=\"fill: #1f948c; stroke: #1f948c\"/>\n    </g>\n    <g clip-path=\"url(#p75e93b2ba8)\">\n     <use xlink:href=\"#C0_0_15f4784583\" x=\"249.817315\" y=\"113.938834\" style=\"fill: #2cb17e; stroke: #2cb17e\"/>\n    </g>\n    <g clip-path=\"url(#p75e93b2ba8)\">\n     <use xlink:href=\"#C0_0_15f4784583\" x=\"251.677813\" y=\"117.060319\" style=\"fill: #1f988b; stroke: #1f988b\"/>\n    </g>\n    <g clip-path=\"url(#p75e93b2ba8)\">\n     <use xlink:href=\"#C0_0_15f4784583\" x=\"251.72091\" y=\"128.906572\" style=\"fill: #22a785; stroke: #22a785\"/>\n    </g>\n    <g clip-path=\"url(#p75e93b2ba8)\">\n     <use xlink:href=\"#C0_0_15f4784583\" x=\"248.100602\" y=\"112.399775\" style=\"fill: #1fa088; stroke: #1fa088\"/>\n    </g>\n    <g clip-path=\"url(#p75e93b2ba8)\">\n     <use xlink:href=\"#C0_0_15f4784583\" x=\"65.679507\" y=\"125.777164\" style=\"fill: #3c4f8a; stroke: #3c4f8a\"/>\n    </g>\n    <g clip-path=\"url(#p75e93b2ba8)\">\n     <use xlink:href=\"#C0_0_15f4784583\" x=\"253.031594\" y=\"101.714153\" style=\"fill: #58c765; stroke: #58c765\"/>\n    </g>\n    <g clip-path=\"url(#p75e93b2ba8)\">\n     <use xlink:href=\"#C0_0_15f4784583\" x=\"254.879177\" y=\"107.893212\" style=\"fill: #34618d; stroke: #34618d\"/>\n    </g>\n    <g clip-path=\"url(#p75e93b2ba8)\">\n     <use xlink:href=\"#C0_0_15f4784583\" x=\"253.89177\" y=\"97.62693\" style=\"fill: #1f9a8a; stroke: #1f9a8a\"/>\n    </g>\n    <g clip-path=\"url(#p75e93b2ba8)\">\n     <use xlink:href=\"#C0_0_15f4784583\" x=\"249.708779\" y=\"125.596965\" style=\"fill: #25848e; stroke: #25848e\"/>\n    </g>\n    <g clip-path=\"url(#p75e93b2ba8)\">\n     <use xlink:href=\"#C0_0_15f4784583\" x=\"250.723639\" y=\"131.415874\" style=\"fill: #2b758e; stroke: #2b758e\"/>\n    </g>\n    <g clip-path=\"url(#p75e93b2ba8)\">\n     <use xlink:href=\"#C0_0_15f4784583\" x=\"251.638142\" y=\"102.067532\" style=\"fill: #50c46a; stroke: #50c46a\"/>\n    </g>\n    <g clip-path=\"url(#p75e93b2ba8)\">\n     <use xlink:href=\"#C0_0_15f4784583\" x=\"65.104612\" y=\"132.587782\" style=\"fill: #1e9c89; stroke: #1e9c89\"/>\n    </g>\n    <g clip-path=\"url(#p75e93b2ba8)\">\n     <use xlink:href=\"#C0_0_15f4784583\" x=\"65.518049\" y=\"126.182009\" style=\"fill: #1f9a8a; stroke: #1f9a8a\"/>\n    </g>\n    <g clip-path=\"url(#p75e93b2ba8)\">\n     <use xlink:href=\"#C0_0_15f4784583\" x=\"66.913505\" y=\"137.59926\" style=\"fill: #38598c; stroke: #38598c\"/>\n    </g>\n    <g clip-path=\"url(#p75e93b2ba8)\">\n     <use xlink:href=\"#C0_0_15f4784583\" x=\"67.131925\" y=\"145.177565\" style=\"fill: #3d4d8a; stroke: #3d4d8a\"/>\n    </g>\n    <g clip-path=\"url(#p75e93b2ba8)\">\n     <use xlink:href=\"#C0_0_15f4784583\" x=\"252.203726\" y=\"134.911282\" style=\"fill: #365d8d; stroke: #365d8d\"/>\n    </g>\n    <g clip-path=\"url(#p75e93b2ba8)\">\n     <use xlink:href=\"#C0_0_15f4784583\" x=\"249.649593\" y=\"70.454878\" style=\"fill: #238a8d; stroke: #238a8d\"/>\n    </g>\n    <g clip-path=\"url(#p75e93b2ba8)\">\n     <use xlink:href=\"#C0_0_15f4784583\" x=\"252.586595\" y=\"104.849976\" style=\"fill: #21918c; stroke: #21918c\"/>\n    </g>\n    <g clip-path=\"url(#p75e93b2ba8)\">\n     <use xlink:href=\"#C0_0_15f4784583\" x=\"66.351474\" y=\"134.911282\" style=\"fill: #228c8d; stroke: #228c8d\"/>\n    </g>\n    <g clip-path=\"url(#p75e93b2ba8)\">\n     <use xlink:href=\"#C0_0_15f4784583\" x=\"251.407121\" y=\"137.473784\" style=\"fill: #32658e; stroke: #32658e\"/>\n    </g>\n    <g clip-path=\"url(#p75e93b2ba8)\">\n     <use xlink:href=\"#C0_0_15f4784583\" x=\"250.436936\" y=\"103.273579\" style=\"fill: #34b679; stroke: #34b679\"/>\n    </g>\n    <g clip-path=\"url(#p75e93b2ba8)\">\n     <use xlink:href=\"#C0_0_15f4784583\" x=\"254.836733\" y=\"83.214714\" style=\"fill: #1f9a8a; stroke: #1f9a8a\"/>\n    </g>\n    <g clip-path=\"url(#p75e93b2ba8)\">\n     <use xlink:href=\"#C0_0_15f4784583\" x=\"65.961663\" y=\"135.268988\" style=\"fill: #433d84; stroke: #433d84\"/>\n    </g>\n    <g clip-path=\"url(#p75e93b2ba8)\">\n     <use xlink:href=\"#C0_0_15f4784583\" x=\"253.661264\" y=\"98.218745\" style=\"fill: #7ad151; stroke: #7ad151\"/>\n    </g>\n    <g clip-path=\"url(#p75e93b2ba8)\">\n     <use xlink:href=\"#C0_0_15f4784583\" x=\"254.01835\" y=\"116.049164\" style=\"fill: #1f948c; stroke: #1f948c\"/>\n    </g>\n    <g clip-path=\"url(#p75e93b2ba8)\">\n     <use xlink:href=\"#C0_0_15f4784583\" x=\"252.753507\" y=\"131.041951\" style=\"fill: #1f988b; stroke: #1f988b\"/>\n    </g>\n    <g clip-path=\"url(#p75e93b2ba8)\">\n     <use xlink:href=\"#C0_0_15f4784583\" x=\"248.930394\" y=\"118.606149\" style=\"fill: #5ec962; stroke: #5ec962\"/>\n    </g>\n    <g clip-path=\"url(#p75e93b2ba8)\">\n     <use xlink:href=\"#C0_0_15f4784583\" x=\"253.43848\" y=\"42.292216\" style=\"fill: #287d8e; stroke: #287d8e\"/>\n    </g>\n    <g clip-path=\"url(#p75e93b2ba8)\">\n     <use xlink:href=\"#C0_0_15f4784583\" x=\"253.523325\" y=\"54.296955\" style=\"fill: #3aba76; stroke: #3aba76\"/>\n    </g>\n    <g clip-path=\"url(#p75e93b2ba8)\">\n     <use xlink:href=\"#C0_0_15f4784583\" x=\"254.456818\" y=\"115.10397\" style=\"fill: #22a785; stroke: #22a785\"/>\n    </g>\n    <g clip-path=\"url(#p75e93b2ba8)\">\n     <use xlink:href=\"#C0_0_15f4784583\" x=\"68.724932\" y=\"112.553756\" style=\"fill: #23888e; stroke: #23888e\"/>\n    </g>\n    <g clip-path=\"url(#p75e93b2ba8)\">\n     <use xlink:href=\"#C0_0_15f4784583\" x=\"63.214207\" y=\"114.598699\" style=\"fill: #228c8d; stroke: #228c8d\"/>\n    </g>\n    <g clip-path=\"url(#p75e93b2ba8)\">\n     <use xlink:href=\"#C0_0_15f4784583\" x=\"68.674289\" y=\"120.499067\" style=\"fill: #2c738e; stroke: #2c738e\"/>\n    </g>\n    <g clip-path=\"url(#p75e93b2ba8)\">\n     <use xlink:href=\"#C0_0_15f4784583\" x=\"251.177081\" y=\"51.379195\" style=\"fill: #3aba76; stroke: #3aba76\"/>\n    </g>\n    <g clip-path=\"url(#p75e93b2ba8)\">\n     <use xlink:href=\"#C0_0_15f4784583\" x=\"66.203814\" y=\"127.347145\" style=\"fill: #25ab82; stroke: #25ab82\"/>\n    </g>\n    <g clip-path=\"url(#p75e93b2ba8)\">\n     <use xlink:href=\"#C0_0_15f4784583\" x=\"64.142576\" y=\"131.041951\" style=\"fill: #2e6f8e; stroke: #2e6f8e\"/>\n    </g>\n    <g clip-path=\"url(#p75e93b2ba8)\">\n     <use xlink:href=\"#C0_0_15f4784583\" x=\"249.502934\" y=\"96.282763\" style=\"fill: #2e6d8e; stroke: #2e6d8e\"/>\n    </g>\n    <g clip-path=\"url(#p75e93b2ba8)\">\n     <use xlink:href=\"#C0_0_15f4784583\" x=\"251.690756\" y=\"99.149772\" style=\"fill: #23a983; stroke: #23a983\"/>\n    </g>\n    <g clip-path=\"url(#p75e93b2ba8)\">\n     <use xlink:href=\"#C0_0_15f4784583\" x=\"252.191764\" y=\"81.095084\" style=\"fill: #365d8d; stroke: #365d8d\"/>\n    </g>\n    <g clip-path=\"url(#p75e93b2ba8)\">\n     <use xlink:href=\"#C0_0_15f4784583\" x=\"63.975313\" y=\"120.709708\" style=\"fill: #26828e; stroke: #26828e\"/>\n    </g>\n    <g clip-path=\"url(#p75e93b2ba8)\">\n     <use xlink:href=\"#C0_0_15f4784583\" x=\"254.130958\" y=\"87.140706\" style=\"fill: #1fa187; stroke: #1fa187\"/>\n    </g>\n    <g clip-path=\"url(#p75e93b2ba8)\">\n     <use xlink:href=\"#C0_0_15f4784583\" x=\"253.616448\" y=\"108.300124\" style=\"fill: #40bd72; stroke: #40bd72\"/>\n    </g>\n    <g clip-path=\"url(#p75e93b2ba8)\">\n     <use xlink:href=\"#C0_0_15f4784583\" x=\"252.137066\" y=\"84.237113\" style=\"fill: #25848e; stroke: #25848e\"/>\n    </g>\n    <g clip-path=\"url(#p75e93b2ba8)\">\n     <use xlink:href=\"#C0_0_15f4784583\" x=\"251.610859\" y=\"80.507595\" style=\"fill: #1fa088; stroke: #1fa088\"/>\n    </g>\n    <g clip-path=\"url(#p75e93b2ba8)\">\n     <use xlink:href=\"#C0_0_15f4784583\" x=\"250.287258\" y=\"68.498529\" style=\"fill: #48c16e; stroke: #48c16e\"/>\n    </g>\n    <g clip-path=\"url(#p75e93b2ba8)\">\n     <use xlink:href=\"#C0_0_15f4784583\" x=\"70.953504\" y=\"124.205116\" style=\"fill: #1f988b; stroke: #1f988b\"/>\n    </g>\n    <g clip-path=\"url(#p75e93b2ba8)\">\n     <use xlink:href=\"#C0_0_15f4784583\" x=\"250.978622\" y=\"105.408959\" style=\"fill: #1f968b; stroke: #1f968b\"/>\n    </g>\n    <g clip-path=\"url(#p75e93b2ba8)\">\n     <use xlink:href=\"#C0_0_15f4784583\" x=\"63.254052\" y=\"117.621212\" style=\"fill: #3aba76; stroke: #3aba76\"/>\n    </g>\n    <g clip-path=\"url(#p75e93b2ba8)\">\n     <use xlink:href=\"#C0_0_15f4784583\" x=\"251.631546\" y=\"119.390591\" style=\"fill: #1f9a8a; stroke: #1f9a8a\"/>\n    </g>\n    <g clip-path=\"url(#p75e93b2ba8)\">\n     <use xlink:href=\"#C0_0_15f4784583\" x=\"63.863834\" y=\"147.222507\" style=\"fill: #443a83; stroke: #443a83\"/>\n    </g>\n    <g clip-path=\"url(#p75e93b2ba8)\">\n     <use xlink:href=\"#C0_0_15f4784583\" x=\"64.729313\" y=\"114.598699\" style=\"fill: #40bd72; stroke: #40bd72\"/>\n    </g>\n    <g clip-path=\"url(#p75e93b2ba8)\">\n     <use xlink:href=\"#C0_0_15f4784583\" x=\"65.4391\" y=\"106.140588\" style=\"fill: #25848e; stroke: #25848e\"/>\n    </g>\n    <g clip-path=\"url(#p75e93b2ba8)\">\n     <use xlink:href=\"#C0_0_15f4784583\" x=\"64.702724\" y=\"104.397804\" style=\"fill: #2eb37c; stroke: #2eb37c\"/>\n    </g>\n    <g clip-path=\"url(#p75e93b2ba8)\">\n     <use xlink:href=\"#C0_0_15f4784583\" x=\"251.122919\" y=\"41.326478\" style=\"fill: #1f9e89; stroke: #1f9e89\"/>\n    </g>\n    <g clip-path=\"url(#p75e93b2ba8)\">\n     <use xlink:href=\"#C0_0_15f4784583\" x=\"252.805001\" y=\"139.804056\" style=\"fill: #433d84; stroke: #433d84\"/>\n    </g>\n    <g clip-path=\"url(#p75e93b2ba8)\">\n     <use xlink:href=\"#C0_0_15f4784583\" x=\"252.735823\" y=\"48.455276\" style=\"fill: #34b679; stroke: #34b679\"/>\n    </g>\n    <g clip-path=\"url(#p75e93b2ba8)\">\n     <use xlink:href=\"#C0_0_15f4784583\" x=\"248.405081\" y=\"54.296955\" style=\"fill: #3aba76; stroke: #3aba76\"/>\n    </g>\n    <g clip-path=\"url(#p75e93b2ba8)\">\n     <use xlink:href=\"#C0_0_15f4784583\" x=\"65.768816\" y=\"135.702495\" style=\"fill: #33638d; stroke: #33638d\"/>\n    </g>\n    <g clip-path=\"url(#p75e93b2ba8)\">\n     <use xlink:href=\"#C0_0_15f4784583\" x=\"68.666319\" y=\"146.057371\" style=\"fill: #21a585; stroke: #21a585\"/>\n    </g>\n    <g clip-path=\"url(#p75e93b2ba8)\">\n     <use xlink:href=\"#C0_0_15f4784583\" x=\"64.984507\" y=\"127.546543\" style=\"fill: #22a785; stroke: #22a785\"/>\n    </g>\n    <g clip-path=\"url(#p75e93b2ba8)\">\n     <use xlink:href=\"#C0_0_15f4784583\" x=\"251.476268\" y=\"112.553756\" style=\"fill: #25848e; stroke: #25848e\"/>\n    </g>\n    <g clip-path=\"url(#p75e93b2ba8)\">\n     <use xlink:href=\"#C0_0_15f4784583\" x=\"64.79047\" y=\"109.099259\" style=\"fill: #3c4f8a; stroke: #3c4f8a\"/>\n    </g>\n    <g clip-path=\"url(#p75e93b2ba8)\">\n     <use xlink:href=\"#C0_0_15f4784583\" x=\"251.604327\" y=\"105.408959\" style=\"fill: #1e9c89; stroke: #1e9c89\"/>\n    </g>\n    <g clip-path=\"url(#p75e93b2ba8)\">\n     <use xlink:href=\"#C0_0_15f4784583\" x=\"253.639089\" y=\"115.763835\" style=\"fill: #29798e; stroke: #29798e\"/>\n    </g>\n   </g>\n   <g id=\"matplotlib.axis_1\">\n    <g id=\"xtick_1\">\n     <g id=\"line2d_1\">\n      <defs>\n       <path id=\"m998c251539\" d=\"M 0 0 \nL 0 3.5 \n\" style=\"stroke: #000000; stroke-width: 0.8\"/>\n      </defs>\n      <g>\n       <use xlink:href=\"#m998c251539\" x=\"65.5875\" y=\"173.52\" style=\"stroke: #000000; stroke-width: 0.8\"/>\n      </g>\n     </g>\n     <g id=\"text_1\">\n      <!-- 0 -->\n      <g transform=\"translate(62.40625 188.118438) scale(0.1 -0.1)\">\n       <defs>\n        <path id=\"DejaVuSans-30\" d=\"M 2034 4250 \nQ 1547 4250 1301 3770 \nQ 1056 3291 1056 2328 \nQ 1056 1369 1301 889 \nQ 1547 409 2034 409 \nQ 2525 409 2770 889 \nQ 3016 1369 3016 2328 \nQ 3016 3291 2770 3770 \nQ 2525 4250 2034 4250 \nz\nM 2034 4750 \nQ 2819 4750 3233 4129 \nQ 3647 3509 3647 2328 \nQ 3647 1150 3233 529 \nQ 2819 -91 2034 -91 \nQ 1250 -91 836 529 \nQ 422 1150 422 2328 \nQ 422 3509 836 4129 \nQ 1250 4750 2034 4750 \nz\n\" transform=\"scale(0.015625)\"/>\n       </defs>\n       <use xlink:href=\"#DejaVuSans-30\"/>\n      </g>\n     </g>\n    </g>\n    <g id=\"xtick_2\">\n     <g id=\"line2d_2\">\n      <g>\n       <use xlink:href=\"#m998c251539\" x=\"251.5875\" y=\"173.52\" style=\"stroke: #000000; stroke-width: 0.8\"/>\n      </g>\n     </g>\n     <g id=\"text_2\">\n      <!-- 1 -->\n      <g transform=\"translate(248.40625 188.118438) scale(0.1 -0.1)\">\n       <defs>\n        <path id=\"DejaVuSans-31\" d=\"M 794 531 \nL 1825 531 \nL 1825 4091 \nL 703 3866 \nL 703 4441 \nL 1819 4666 \nL 2450 4666 \nL 2450 531 \nL 3481 531 \nL 3481 0 \nL 794 0 \nL 794 531 \nz\n\" transform=\"scale(0.015625)\"/>\n       </defs>\n       <use xlink:href=\"#DejaVuSans-31\"/>\n      </g>\n     </g>\n    </g>\n    <g id=\"text_3\">\n     <!-- $hs$ -->\n     <g transform=\"translate(152.7875 201.796563) scale(0.1 -0.1)\">\n      <defs>\n       <path id=\"DejaVuSans-Oblique-68\" d=\"M 3566 2113 \nL 3156 0 \nL 2578 0 \nL 2988 2091 \nQ 3016 2238 3031 2350 \nQ 3047 2463 3047 2528 \nQ 3047 2791 2881 2937 \nQ 2716 3084 2419 3084 \nQ 1956 3084 1617 2771 \nQ 1278 2459 1178 1941 \nL 800 0 \nL 225 0 \nL 1172 4863 \nL 1747 4863 \nL 1375 2950 \nQ 1594 3244 1934 3414 \nQ 2275 3584 2650 3584 \nQ 3113 3584 3367 3334 \nQ 3622 3084 3622 2631 \nQ 3622 2519 3608 2391 \nQ 3594 2263 3566 2113 \nz\n\" transform=\"scale(0.015625)\"/>\n       <path id=\"DejaVuSans-Oblique-73\" d=\"M 3200 3397 \nL 3091 2853 \nQ 2863 2978 2609 3040 \nQ 2356 3103 2088 3103 \nQ 1634 3103 1373 2948 \nQ 1113 2794 1113 2528 \nQ 1113 2219 1719 2053 \nQ 1766 2041 1788 2034 \nL 1972 1978 \nQ 2547 1819 2739 1644 \nQ 2931 1469 2931 1166 \nQ 2931 609 2489 259 \nQ 2047 -91 1331 -91 \nQ 1053 -91 747 -37 \nQ 441 16 72 128 \nL 184 722 \nQ 500 559 806 475 \nQ 1113 391 1394 391 \nQ 1816 391 2080 572 \nQ 2344 753 2344 1031 \nQ 2344 1331 1650 1516 \nL 1591 1531 \nL 1394 1581 \nQ 956 1697 753 1886 \nQ 550 2075 550 2369 \nQ 550 2928 970 3256 \nQ 1391 3584 2113 3584 \nQ 2397 3584 2667 3537 \nQ 2938 3491 3200 3397 \nz\n\" transform=\"scale(0.015625)\"/>\n      </defs>\n      <use xlink:href=\"#DejaVuSans-Oblique-68\" transform=\"translate(0 0.015625)\"/>\n      <use xlink:href=\"#DejaVuSans-Oblique-73\" transform=\"translate(63.378906 0.015625)\"/>\n     </g>\n    </g>\n   </g>\n   <g id=\"matplotlib.axis_2\">\n    <g id=\"ytick_1\">\n     <g id=\"line2d_3\">\n      <defs>\n       <path id=\"m1bfc54e7b5\" d=\"M 0 0 \nL -3.5 0 \n\" style=\"stroke: #000000; stroke-width: 0.8\"/>\n      </defs>\n      <g>\n       <use xlink:href=\"#m1bfc54e7b5\" x=\"46.9875\" y=\"173.52\" style=\"stroke: #000000; stroke-width: 0.8\"/>\n      </g>\n     </g>\n     <g id=\"text_4\">\n      <!-- 60 -->\n      <g transform=\"translate(27.2625 177.319219) scale(0.1 -0.1)\">\n       <defs>\n        <path id=\"DejaVuSans-36\" d=\"M 2113 2584 \nQ 1688 2584 1439 2293 \nQ 1191 2003 1191 1497 \nQ 1191 994 1439 701 \nQ 1688 409 2113 409 \nQ 2538 409 2786 701 \nQ 3034 994 3034 1497 \nQ 3034 2003 2786 2293 \nQ 2538 2584 2113 2584 \nz\nM 3366 4563 \nL 3366 3988 \nQ 3128 4100 2886 4159 \nQ 2644 4219 2406 4219 \nQ 1781 4219 1451 3797 \nQ 1122 3375 1075 2522 \nQ 1259 2794 1537 2939 \nQ 1816 3084 2150 3084 \nQ 2853 3084 3261 2657 \nQ 3669 2231 3669 1497 \nQ 3669 778 3244 343 \nQ 2819 -91 2113 -91 \nQ 1303 -91 875 529 \nQ 447 1150 447 2328 \nQ 447 3434 972 4092 \nQ 1497 4750 2381 4750 \nQ 2619 4750 2861 4703 \nQ 3103 4656 3366 4563 \nz\n\" transform=\"scale(0.015625)\"/>\n       </defs>\n       <use xlink:href=\"#DejaVuSans-36\"/>\n       <use xlink:href=\"#DejaVuSans-30\" x=\"63.623047\"/>\n      </g>\n     </g>\n    </g>\n    <g id=\"ytick_2\">\n     <g id=\"line2d_4\">\n      <g>\n       <use xlink:href=\"#m1bfc54e7b5\" x=\"46.9875\" y=\"136.56\" style=\"stroke: #000000; stroke-width: 0.8\"/>\n      </g>\n     </g>\n     <g id=\"text_5\">\n      <!-- 80 -->\n      <g transform=\"translate(27.2625 140.359219) scale(0.1 -0.1)\">\n       <defs>\n        <path id=\"DejaVuSans-38\" d=\"M 2034 2216 \nQ 1584 2216 1326 1975 \nQ 1069 1734 1069 1313 \nQ 1069 891 1326 650 \nQ 1584 409 2034 409 \nQ 2484 409 2743 651 \nQ 3003 894 3003 1313 \nQ 3003 1734 2745 1975 \nQ 2488 2216 2034 2216 \nz\nM 1403 2484 \nQ 997 2584 770 2862 \nQ 544 3141 544 3541 \nQ 544 4100 942 4425 \nQ 1341 4750 2034 4750 \nQ 2731 4750 3128 4425 \nQ 3525 4100 3525 3541 \nQ 3525 3141 3298 2862 \nQ 3072 2584 2669 2484 \nQ 3125 2378 3379 2068 \nQ 3634 1759 3634 1313 \nQ 3634 634 3220 271 \nQ 2806 -91 2034 -91 \nQ 1263 -91 848 271 \nQ 434 634 434 1313 \nQ 434 1759 690 2068 \nQ 947 2378 1403 2484 \nz\nM 1172 3481 \nQ 1172 3119 1398 2916 \nQ 1625 2713 2034 2713 \nQ 2441 2713 2670 2916 \nQ 2900 3119 2900 3481 \nQ 2900 3844 2670 4047 \nQ 2441 4250 2034 4250 \nQ 1625 4250 1398 4047 \nQ 1172 3844 1172 3481 \nz\n\" transform=\"scale(0.015625)\"/>\n       </defs>\n       <use xlink:href=\"#DejaVuSans-38\"/>\n       <use xlink:href=\"#DejaVuSans-30\" x=\"63.623047\"/>\n      </g>\n     </g>\n    </g>\n    <g id=\"ytick_3\">\n     <g id=\"line2d_5\">\n      <g>\n       <use xlink:href=\"#m1bfc54e7b5\" x=\"46.9875\" y=\"99.6\" style=\"stroke: #000000; stroke-width: 0.8\"/>\n      </g>\n     </g>\n     <g id=\"text_6\">\n      <!-- 100 -->\n      <g transform=\"translate(20.9 103.399219) scale(0.1 -0.1)\">\n       <use xlink:href=\"#DejaVuSans-31\"/>\n       <use xlink:href=\"#DejaVuSans-30\" x=\"63.623047\"/>\n       <use xlink:href=\"#DejaVuSans-30\" x=\"127.246094\"/>\n      </g>\n     </g>\n    </g>\n    <g id=\"ytick_4\">\n     <g id=\"line2d_6\">\n      <g>\n       <use xlink:href=\"#m1bfc54e7b5\" x=\"46.9875\" y=\"62.64\" style=\"stroke: #000000; stroke-width: 0.8\"/>\n      </g>\n     </g>\n     <g id=\"text_7\">\n      <!-- 120 -->\n      <g transform=\"translate(20.9 66.439219) scale(0.1 -0.1)\">\n       <defs>\n        <path id=\"DejaVuSans-32\" d=\"M 1228 531 \nL 3431 531 \nL 3431 0 \nL 469 0 \nL 469 531 \nQ 828 903 1448 1529 \nQ 2069 2156 2228 2338 \nQ 2531 2678 2651 2914 \nQ 2772 3150 2772 3378 \nQ 2772 3750 2511 3984 \nQ 2250 4219 1831 4219 \nQ 1534 4219 1204 4116 \nQ 875 4013 500 3803 \nL 500 4441 \nQ 881 4594 1212 4672 \nQ 1544 4750 1819 4750 \nQ 2544 4750 2975 4387 \nQ 3406 4025 3406 3419 \nQ 3406 3131 3298 2873 \nQ 3191 2616 2906 2266 \nQ 2828 2175 2409 1742 \nQ 1991 1309 1228 531 \nz\n\" transform=\"scale(0.015625)\"/>\n       </defs>\n       <use xlink:href=\"#DejaVuSans-31\"/>\n       <use xlink:href=\"#DejaVuSans-32\" x=\"63.623047\"/>\n       <use xlink:href=\"#DejaVuSans-30\" x=\"127.246094\"/>\n      </g>\n     </g>\n    </g>\n    <g id=\"ytick_5\">\n     <g id=\"line2d_7\">\n      <g>\n       <use xlink:href=\"#m1bfc54e7b5\" x=\"46.9875\" y=\"25.68\" style=\"stroke: #000000; stroke-width: 0.8\"/>\n      </g>\n     </g>\n     <g id=\"text_8\">\n      <!-- 140 -->\n      <g transform=\"translate(20.9 29.479219) scale(0.1 -0.1)\">\n       <defs>\n        <path id=\"DejaVuSans-34\" d=\"M 2419 4116 \nL 825 1625 \nL 2419 1625 \nL 2419 4116 \nz\nM 2253 4666 \nL 3047 4666 \nL 3047 1625 \nL 3713 1625 \nL 3713 1100 \nL 3047 1100 \nL 3047 0 \nL 2419 0 \nL 2419 1100 \nL 313 1100 \nL 313 1709 \nL 2253 4666 \nz\n\" transform=\"scale(0.015625)\"/>\n       </defs>\n       <use xlink:href=\"#DejaVuSans-31\"/>\n       <use xlink:href=\"#DejaVuSans-34\" x=\"63.623047\"/>\n       <use xlink:href=\"#DejaVuSans-30\" x=\"127.246094\"/>\n      </g>\n     </g>\n    </g>\n    <g id=\"text_9\">\n     <!-- $iq$ -->\n     <g transform=\"translate(14.8 94.96) rotate(-90) scale(0.1 -0.1)\">\n      <defs>\n       <path id=\"DejaVuSans-Oblique-69\" d=\"M 1172 4863 \nL 1747 4863 \nL 1606 4134 \nL 1031 4134 \nL 1172 4863 \nz\nM 909 3500 \nL 1484 3500 \nL 800 0 \nL 225 0 \nL 909 3500 \nz\n\" transform=\"scale(0.015625)\"/>\n       <path id=\"DejaVuSans-Oblique-71\" d=\"M 2669 525 \nQ 2438 222 2123 65 \nQ 1809 -91 1428 -91 \nQ 897 -91 595 267 \nQ 294 625 294 1253 \nQ 294 1759 480 2231 \nQ 666 2703 1013 3078 \nQ 1238 3322 1530 3453 \nQ 1822 3584 2144 3584 \nQ 2531 3584 2781 3431 \nQ 3031 3278 3144 2969 \nL 3244 3494 \nL 3822 3494 \nL 2888 -1319 \nL 2309 -1319 \nL 2669 525 \nz\nM 891 1338 \nQ 891 875 1084 633 \nQ 1278 391 1644 391 \nQ 2188 391 2572 911 \nQ 2956 1431 2956 2175 \nQ 2956 2625 2757 2864 \nQ 2559 3103 2188 3103 \nQ 1916 3103 1684 2976 \nQ 1453 2850 1281 2606 \nQ 1100 2350 995 2006 \nQ 891 1663 891 1338 \nz\n\" transform=\"scale(0.015625)\"/>\n      </defs>\n      <use xlink:href=\"#DejaVuSans-Oblique-69\" transform=\"translate(0 0.015625)\"/>\n      <use xlink:href=\"#DejaVuSans-Oblique-71\" transform=\"translate(27.783203 0.015625)\"/>\n     </g>\n    </g>\n   </g>\n   <g id=\"PathCollection_2\"/>\n   <g id=\"PathCollection_3\">\n    <path clip-path=\"url(#p75e93b2ba8)\" style=\"fill: none; stroke: #471164; stroke-width: 1.5\"/>\n   </g>\n   <g id=\"PathCollection_4\">\n    <path d=\"M -1 165.116672 \nL -0.968259 165.12 \nL 2.648106 165.499123 \nL 6.405682 165.89305 \nL 10.163258 166.286977 \nL 13.920833 166.680903 \nL 15.056869 166.8 \nL 17.678409 167.07483 \nL 21.435985 167.468757 \nL 25.193561 167.862684 \nL 28.951136 168.25661 \nL 31.081997 168.48 \nL 32.708712 168.650537 \nL 36.466288 169.044464 \nL 40.223864 169.438391 \nL 43.981439 169.832318 \nL 47.107125 170.16 \nL 47.739015 170.226244 \nL 51.496591 170.620171 \nL 55.254167 171.014098 \nL 59.011742 171.408025 \nL 62.769318 171.801952 \nL 63.132253 171.84 \nL 66.526894 172.195878 \nL 70.28447 172.589805 \nL 74.042045 172.983732 \nL 77.799621 173.377659 \nL 79.157382 173.52 \n\" clip-path=\"url(#p75e93b2ba8)\" style=\"fill: none; stroke: #482173; stroke-width: 1.5\"/>\n   </g>\n   <g id=\"PathCollection_5\">\n    <path d=\"M -1 155.285248 \nL 2.648106 155.667698 \nL 6.405682 156.061625 \nL 10.163258 156.455552 \nL 12.685769 156.72 \nL 13.920833 156.849478 \nL 17.678409 157.243405 \nL 21.435985 157.637332 \nL 25.193561 158.031259 \nL 28.710897 158.4 \nL 28.951136 158.425186 \nL 32.708712 158.819112 \nL 36.466288 159.213039 \nL 40.223864 159.606966 \nL 43.981439 160.000893 \nL 44.736026 160.08 \nL 47.739015 160.394819 \nL 51.496591 160.788746 \nL 55.254167 161.182673 \nL 59.011742 161.5766 \nL 60.761154 161.76 \nL 62.769318 161.970527 \nL 66.526894 162.364453 \nL 70.28447 162.75838 \nL 74.042045 163.152307 \nL 76.786282 163.44 \nL 77.799621 163.546234 \nL 81.557197 163.940161 \nL 85.314773 164.334087 \nL 89.072348 164.728014 \nL 92.81141 165.12 \nL 92.829924 165.121941 \nL 96.5875 165.515868 \nL 100.345076 165.909794 \nL 104.102652 166.303721 \nL 107.860227 166.697648 \nL 108.836539 166.8 \nL 111.617803 167.091575 \nL 115.375379 167.485502 \nL 119.132955 167.879428 \nL 122.89053 168.273355 \nL 124.861667 168.48 \nL 126.648106 168.667282 \nL 130.405682 169.061209 \nL 134.163258 169.455136 \nL 137.920833 169.849062 \nL 140.886795 170.16 \nL 141.678409 170.242989 \nL 145.435985 170.636916 \nL 149.193561 171.030843 \nL 152.951136 171.424769 \nL 156.708712 171.818696 \nL 156.911923 171.84 \nL 160.466288 172.212623 \nL 164.223864 172.60655 \nL 167.981439 173.000477 \nL 171.739015 173.394403 \nL 172.937052 173.52 \n\" clip-path=\"url(#p75e93b2ba8)\" style=\"fill: none; stroke: #472f7d; stroke-width: 1.5\"/>\n   </g>\n   <g id=\"PathCollection_6\">\n    <path d=\"M -1 145.453823 \nL 2.648106 145.836273 \nL 6.405682 146.2302 \nL 10.163258 146.624127 \nL 10.31467 146.64 \nL 13.920833 147.018053 \nL 17.678409 147.41198 \nL 21.435985 147.805907 \nL 25.193561 148.199834 \nL 26.339798 148.32 \nL 28.951136 148.593761 \nL 32.708712 148.987687 \nL 36.466288 149.381614 \nL 40.223864 149.775541 \nL 42.364926 150 \nL 43.981439 150.169468 \nL 47.739015 150.563395 \nL 51.496591 150.957321 \nL 55.254167 151.351248 \nL 58.390054 151.68 \nL 59.011742 151.745175 \nL 62.769318 152.139102 \nL 66.526894 152.533028 \nL 70.28447 152.926955 \nL 74.042045 153.320882 \nL 74.415183 153.36 \nL 77.799621 153.714809 \nL 81.557197 154.108736 \nL 85.314773 154.502662 \nL 89.072348 154.896589 \nL 90.440311 155.04 \nL 92.829924 155.290516 \nL 96.5875 155.684443 \nL 100.345076 156.07837 \nL 104.102652 156.472296 \nL 106.465439 156.72 \nL 107.860227 156.866223 \nL 111.617803 157.26015 \nL 115.375379 157.654077 \nL 119.132955 158.048003 \nL 122.490567 158.4 \nL 122.89053 158.44193 \nL 126.648106 158.835857 \nL 130.405682 159.229784 \nL 134.163258 159.623711 \nL 137.920833 160.017637 \nL 138.515696 160.08 \nL 141.678409 160.411564 \nL 145.435985 160.805491 \nL 149.193561 161.199418 \nL 152.951136 161.593345 \nL 154.540824 161.76 \nL 156.708712 161.987271 \nL 160.466288 162.381198 \nL 164.223864 162.775125 \nL 167.981439 163.169052 \nL 170.565952 163.44 \nL 171.739015 163.562978 \nL 175.496591 163.956905 \nL 179.254167 164.350832 \nL 183.011742 164.744759 \nL 186.59108 165.12 \nL 186.769318 165.138686 \nL 190.526894 165.532612 \nL 194.28447 165.926539 \nL 198.042045 166.320466 \nL 201.799621 166.714393 \nL 202.616209 166.8 \nL 205.557197 167.10832 \nL 209.314773 167.502246 \nL 213.072348 167.896173 \nL 216.829924 168.2901 \nL 218.641337 168.48 \nL 220.5875 168.684027 \nL 224.345076 169.077953 \nL 228.102652 169.47188 \nL 231.860227 169.865807 \nL 234.666465 170.16 \nL 235.617803 170.259734 \nL 239.375379 170.653661 \nL 243.132955 171.047587 \nL 246.89053 171.441514 \nL 250.648106 171.835441 \nL 250.691593 171.84 \nL 254.405682 172.229368 \nL 258.163258 172.623295 \nL 261.920833 173.017221 \nL 265.678409 173.411148 \nL 266.716722 173.52 \n\" clip-path=\"url(#p75e93b2ba8)\" style=\"fill: none; stroke: #433e85; stroke-width: 1.5\"/>\n   </g>\n   <g id=\"PathCollection_7\">\n    <path d=\"M -1 135.622398 \nL 2.648106 136.004848 \nL 6.405682 136.398775 \nL 7.94357 136.56 \nL 10.163258 136.792702 \nL 13.920833 137.186629 \nL 17.678409 137.580555 \nL 21.435985 137.974482 \nL 23.968698 138.24 \nL 25.193561 138.368409 \nL 28.951136 138.762336 \nL 32.708712 139.156262 \nL 36.466288 139.550189 \nL 39.993827 139.92 \nL 40.223864 139.944116 \nL 43.981439 140.338043 \nL 47.739015 140.73197 \nL 51.496591 141.125896 \nL 55.254167 141.519823 \nL 56.018955 141.6 \nL 59.011742 141.91375 \nL 62.769318 142.307677 \nL 66.526894 142.701604 \nL 70.28447 143.09553 \nL 72.044083 143.28 \nL 74.042045 143.489457 \nL 77.799621 143.883384 \nL 81.557197 144.277311 \nL 85.314773 144.671237 \nL 88.069211 144.96 \nL 89.072348 145.065164 \nL 92.829924 145.459091 \nL 96.5875 145.853018 \nL 100.345076 146.246945 \nL 104.09434 146.64 \nL 104.102652 146.640871 \nL 107.860227 147.034798 \nL 111.617803 147.428725 \nL 115.375379 147.822652 \nL 119.132955 148.216579 \nL 120.119468 148.32 \nL 122.89053 148.610505 \nL 126.648106 149.004432 \nL 130.405682 149.398359 \nL 134.163258 149.792286 \nL 136.144596 150 \nL 137.920833 150.186212 \nL 141.678409 150.580139 \nL 145.435985 150.974066 \nL 149.193561 151.367993 \nL 152.169724 151.68 \nL 152.951136 151.76192 \nL 156.708712 152.155846 \nL 160.466288 152.549773 \nL 164.223864 152.9437 \nL 167.981439 153.337627 \nL 168.194852 153.36 \nL 171.739015 153.731554 \nL 175.496591 154.12548 \nL 179.254167 154.519407 \nL 183.011742 154.913334 \nL 184.219981 155.04 \nL 186.769318 155.307261 \nL 190.526894 155.701187 \nL 194.28447 156.095114 \nL 198.042045 156.489041 \nL 200.245109 156.72 \nL 201.799621 156.882968 \nL 205.557197 157.276895 \nL 209.314773 157.670821 \nL 213.072348 158.064748 \nL 216.270237 158.4 \nL 216.829924 158.458675 \nL 220.5875 158.852602 \nL 224.345076 159.246529 \nL 228.102652 159.640455 \nL 231.860227 160.034382 \nL 232.295365 160.08 \nL 235.617803 160.428309 \nL 239.375379 160.822236 \nL 243.132955 161.216162 \nL 246.89053 161.610089 \nL 248.320494 161.76 \nL 250.648106 162.004016 \nL 254.405682 162.397943 \nL 258.163258 162.79187 \nL 261.920833 163.185796 \nL 264.345622 163.44 \nL 265.678409 163.579723 \nL 269.435985 163.97365 \nL 273.193561 164.367577 \nL 276.951136 164.761504 \nL 280.37075 165.12 \nL 280.708712 165.15543 \nL 284.466288 165.549357 \nL 288.223864 165.943284 \nL 291.981439 166.337211 \nL 295.739015 166.731138 \nL 296.395878 166.8 \nL 299.496591 167.125064 \nL 303.254167 167.518991 \nL 307.011742 167.912918 \nL 310.769318 168.306845 \nL 312.421007 168.48 \nL 314.526894 168.700771 \nL 318.28447 169.094698 \nL 322.042045 169.488625 \nL 325.799621 169.882552 \nL 328.446135 170.16 \nL 329.557197 170.276479 \nL 333.314773 170.670405 \nL 337.072348 171.064332 \nL 340.419125 171.415193 \n\" clip-path=\"url(#p75e93b2ba8)\" style=\"fill: none; stroke: #3e4c8a; stroke-width: 1.5\"/>\n   </g>\n   <g id=\"PathCollection_8\">\n    <path d=\"M -1 125.790973 \nL 2.648106 126.173423 \nL 5.57247 126.48 \nL 6.405682 126.56735 \nL 10.163258 126.961277 \nL 13.920833 127.355204 \nL 17.678409 127.74913 \nL 21.435985 128.143057 \nL 21.597599 128.16 \nL 25.193561 128.536984 \nL 28.951136 128.930911 \nL 32.708712 129.324838 \nL 36.466288 129.718764 \nL 37.622727 129.84 \nL 40.223864 130.112691 \nL 43.981439 130.506618 \nL 47.739015 130.900545 \nL 51.496591 131.294471 \nL 53.647855 131.52 \nL 55.254167 131.688398 \nL 59.011742 132.082325 \nL 62.769318 132.476252 \nL 66.526894 132.870179 \nL 69.672983 133.2 \nL 70.28447 133.264105 \nL 74.042045 133.658032 \nL 77.799621 134.051959 \nL 81.557197 134.445886 \nL 85.314773 134.839813 \nL 85.698112 134.88 \nL 89.072348 135.233739 \nL 92.829924 135.627666 \nL 96.5875 136.021593 \nL 100.345076 136.41552 \nL 101.72324 136.56 \nL 104.102652 136.809446 \nL 107.860227 137.203373 \nL 111.617803 137.5973 \nL 115.375379 137.991227 \nL 117.748368 138.24 \nL 119.132955 138.385154 \nL 122.89053 138.77908 \nL 126.648106 139.173007 \nL 130.405682 139.566934 \nL 133.773496 139.92 \nL 134.163258 139.960861 \nL 137.920833 140.354788 \nL 141.678409 140.748714 \nL 145.435985 141.142641 \nL 149.193561 141.536568 \nL 149.798625 141.6 \nL 152.951136 141.930495 \nL 156.708712 142.324421 \nL 160.466288 142.718348 \nL 164.223864 143.112275 \nL 165.823753 143.28 \nL 167.981439 143.506202 \nL 171.739015 143.900129 \nL 175.496591 144.294055 \nL 179.254167 144.687982 \nL 181.848881 144.96 \nL 183.011742 145.081909 \nL 186.769318 145.475836 \nL 190.526894 145.869763 \nL 194.28447 146.263689 \nL 197.874009 146.64 \nL 198.042045 146.657616 \nL 201.799621 147.051543 \nL 205.557197 147.44547 \nL 209.314773 147.839396 \nL 213.072348 148.233323 \nL 213.899138 148.32 \nL 216.829924 148.62725 \nL 220.5875 149.021177 \nL 224.345076 149.415104 \nL 228.102652 149.80903 \nL 229.924266 150 \nL 231.860227 150.202957 \nL 235.617803 150.596884 \nL 239.375379 150.990811 \nL 243.132955 151.384738 \nL 245.949394 151.68 \nL 246.89053 151.778664 \nL 250.648106 152.172591 \nL 254.405682 152.566518 \nL 258.163258 152.960445 \nL 261.920833 153.354371 \nL 261.974522 153.36 \nL 265.678409 153.748298 \nL 269.435985 154.142225 \nL 273.193561 154.536152 \nL 276.951136 154.930079 \nL 277.999651 155.04 \nL 280.708712 155.324005 \nL 284.466288 155.717932 \nL 288.223864 156.111859 \nL 291.981439 156.505786 \nL 294.024779 156.72 \nL 295.739015 156.899713 \nL 299.496591 157.293639 \nL 303.254167 157.687566 \nL 307.011742 158.081493 \nL 310.049907 158.4 \nL 310.769318 158.47542 \nL 314.526894 158.869347 \nL 318.28447 159.263273 \nL 322.042045 159.6572 \nL 325.799621 160.051127 \nL 326.075035 160.08 \nL 329.557197 160.445054 \nL 333.314773 160.83898 \nL 337.072348 161.232907 \nL 340.419125 161.583768 \n\" clip-path=\"url(#p75e93b2ba8)\" style=\"fill: none; stroke: #38588c; stroke-width: 1.5\"/>\n   </g>\n   <g id=\"PathCollection_9\">\n    <path d=\"M -1 115.959548 \nL 2.648106 116.341998 \nL 3.201371 116.4 \nL 6.405682 116.735925 \nL 10.163258 117.129852 \nL 13.920833 117.523779 \nL 17.678409 117.917705 \nL 19.226499 118.08 \nL 21.435985 118.311632 \nL 25.193561 118.705559 \nL 28.951136 119.099486 \nL 32.708712 119.493413 \nL 35.251627 119.76 \nL 36.466288 119.887339 \nL 40.223864 120.281266 \nL 43.981439 120.675193 \nL 47.739015 121.06912 \nL 51.276756 121.44 \nL 51.496591 121.463047 \nL 55.254167 121.856973 \nL 59.011742 122.2509 \nL 62.769318 122.644827 \nL 66.526894 123.038754 \nL 67.301884 123.12 \nL 70.28447 123.43268 \nL 74.042045 123.826607 \nL 77.799621 124.220534 \nL 81.557197 124.614461 \nL 83.327012 124.8 \nL 85.314773 125.008388 \nL 89.072348 125.402314 \nL 92.829924 125.796241 \nL 96.5875 126.190168 \nL 99.35214 126.48 \nL 100.345076 126.584095 \nL 104.102652 126.978022 \nL 107.860227 127.371948 \nL 111.617803 127.765875 \nL 115.375379 128.159802 \nL 115.377269 128.16 \nL 119.132955 128.553729 \nL 122.89053 128.947655 \nL 126.648106 129.341582 \nL 130.405682 129.735509 \nL 131.402397 129.84 \nL 134.163258 130.129436 \nL 137.920833 130.523363 \nL 141.678409 130.917289 \nL 145.435985 131.311216 \nL 147.427525 131.52 \nL 149.193561 131.705143 \nL 152.951136 132.09907 \nL 156.708712 132.492997 \nL 160.466288 132.886923 \nL 163.452653 133.2 \nL 164.223864 133.28085 \nL 167.981439 133.674777 \nL 171.739015 134.068704 \nL 175.496591 134.46263 \nL 179.254167 134.856557 \nL 179.477782 134.88 \nL 183.011742 135.250484 \nL 186.769318 135.644411 \nL 190.526894 136.038338 \nL 194.28447 136.432264 \nL 195.50291 136.56 \nL 198.042045 136.826191 \nL 201.799621 137.220118 \nL 205.557197 137.614045 \nL 209.314773 138.007972 \nL 211.528038 138.24 \nL 213.072348 138.401898 \nL 216.829924 138.795825 \nL 220.5875 139.189752 \nL 224.345076 139.583679 \nL 227.553166 139.92 \nL 228.102652 139.977605 \nL 231.860227 140.371532 \nL 235.617803 140.765459 \nL 239.375379 141.159386 \nL 243.132955 141.553313 \nL 243.578295 141.6 \nL 246.89053 141.947239 \nL 250.648106 142.341166 \nL 254.405682 142.735093 \nL 258.163258 143.12902 \nL 259.603423 143.28 \nL 261.920833 143.522947 \nL 265.678409 143.916873 \nL 269.435985 144.3108 \nL 273.193561 144.704727 \nL 275.628551 144.96 \nL 276.951136 145.098654 \nL 280.708712 145.49258 \nL 284.466288 145.886507 \nL 288.223864 146.280434 \nL 291.653679 146.64 \nL 291.981439 146.674361 \nL 295.739015 147.068288 \nL 299.496591 147.462214 \nL 303.254167 147.856141 \nL 307.011742 148.250068 \nL 307.678808 148.32 \nL 310.769318 148.643995 \nL 314.526894 149.037922 \nL 318.28447 149.431848 \nL 322.042045 149.825775 \nL 323.703936 150 \nL 325.799621 150.219702 \nL 329.557197 150.613629 \nL 333.314773 151.007555 \nL 337.072348 151.401482 \nL 339.729064 151.68 \nL 340.419125 151.752343 \n\" clip-path=\"url(#p75e93b2ba8)\" style=\"fill: none; stroke: #32648e; stroke-width: 1.5\"/>\n   </g>\n   <g id=\"PathCollection_10\">\n    <path d=\"M -1 106.128123 \nL 0.830271 106.32 \nL 2.648106 106.510573 \nL 6.405682 106.9045 \nL 10.163258 107.298427 \nL 13.920833 107.692354 \nL 16.8554 108 \nL 17.678409 108.08628 \nL 21.435985 108.480207 \nL 25.193561 108.874134 \nL 28.951136 109.268061 \nL 32.708712 109.661988 \nL 32.880528 109.68 \nL 36.466288 110.055914 \nL 40.223864 110.449841 \nL 43.981439 110.843768 \nL 47.739015 111.237695 \nL 48.905656 111.36 \nL 51.496591 111.631622 \nL 55.254167 112.025548 \nL 59.011742 112.419475 \nL 62.769318 112.813402 \nL 64.930784 113.04 \nL 66.526894 113.207329 \nL 70.28447 113.601256 \nL 74.042045 113.995182 \nL 77.799621 114.389109 \nL 80.955913 114.72 \nL 81.557197 114.783036 \nL 85.314773 115.176963 \nL 89.072348 115.570889 \nL 92.829924 115.964816 \nL 96.5875 116.358743 \nL 96.981041 116.4 \nL 100.345076 116.75267 \nL 104.102652 117.146597 \nL 107.860227 117.540523 \nL 111.617803 117.93445 \nL 113.006169 118.08 \nL 115.375379 118.328377 \nL 119.132955 118.722304 \nL 122.89053 119.116231 \nL 126.648106 119.510157 \nL 129.031297 119.76 \nL 130.405682 119.904084 \nL 134.163258 120.298011 \nL 137.920833 120.691938 \nL 141.678409 121.085864 \nL 145.056426 121.44 \nL 145.435985 121.479791 \nL 149.193561 121.873718 \nL 152.951136 122.267645 \nL 156.708712 122.661572 \nL 160.466288 123.055498 \nL 161.081554 123.12 \nL 164.223864 123.449425 \nL 167.981439 123.843352 \nL 171.739015 124.237279 \nL 175.496591 124.631206 \nL 177.106682 124.8 \nL 179.254167 125.025132 \nL 183.011742 125.419059 \nL 186.769318 125.812986 \nL 190.526894 126.206913 \nL 193.13181 126.48 \nL 194.28447 126.600839 \nL 198.042045 126.994766 \nL 201.799621 127.388693 \nL 205.557197 127.78262 \nL 209.156938 128.16 \nL 209.314773 128.176547 \nL 213.072348 128.570473 \nL 216.829924 128.9644 \nL 220.5875 129.358327 \nL 224.345076 129.752254 \nL 225.182067 129.84 \nL 228.102652 130.146181 \nL 231.860227 130.540107 \nL 235.617803 130.934034 \nL 239.375379 131.327961 \nL 241.207195 131.52 \nL 243.132955 131.721888 \nL 246.89053 132.115814 \nL 250.648106 132.509741 \nL 254.405682 132.903668 \nL 257.232323 133.2 \nL 258.163258 133.297595 \nL 261.920833 133.691522 \nL 265.678409 134.085448 \nL 269.435985 134.479375 \nL 273.193561 134.873302 \nL 273.257451 134.88 \nL 276.951136 135.267229 \nL 280.708712 135.661156 \nL 284.466288 136.055082 \nL 288.223864 136.449009 \nL 289.28258 136.56 \nL 291.981439 136.842936 \nL 295.739015 137.236863 \nL 299.496591 137.630789 \nL 303.254167 138.024716 \nL 305.307708 138.24 \nL 307.011742 138.418643 \nL 310.769318 138.81257 \nL 314.526894 139.206497 \nL 318.28447 139.600423 \nL 321.332836 139.92 \nL 322.042045 139.99435 \nL 325.799621 140.388277 \nL 329.557197 140.782204 \nL 333.314773 141.176131 \nL 337.072348 141.570057 \nL 337.357964 141.6 \nL 340.419125 141.920918 \n\" clip-path=\"url(#p75e93b2ba8)\" style=\"fill: none; stroke: #2d708e; stroke-width: 1.5\"/>\n   </g>\n   <g id=\"PathCollection_11\">\n    <path d=\"M -1 96.296698 \nL 2.648106 96.679148 \nL 6.405682 97.073075 \nL 10.163258 97.467002 \nL 13.920833 97.860929 \nL 14.4843 97.92 \nL 17.678409 98.254856 \nL 21.435985 98.648782 \nL 25.193561 99.042709 \nL 28.951136 99.436636 \nL 30.509428 99.6 \nL 32.708712 99.830563 \nL 36.466288 100.224489 \nL 40.223864 100.618416 \nL 43.981439 101.012343 \nL 46.534556 101.28 \nL 47.739015 101.40627 \nL 51.496591 101.800197 \nL 55.254167 102.194123 \nL 59.011742 102.58805 \nL 62.559685 102.96 \nL 62.769318 102.981977 \nL 66.526894 103.375904 \nL 70.28447 103.769831 \nL 74.042045 104.163757 \nL 77.799621 104.557684 \nL 78.584813 104.64 \nL 81.557197 104.951611 \nL 85.314773 105.345538 \nL 89.072348 105.739465 \nL 92.829924 106.133391 \nL 94.609941 106.32 \nL 96.5875 106.527318 \nL 100.345076 106.921245 \nL 104.102652 107.315172 \nL 107.860227 107.709098 \nL 110.635069 108 \nL 111.617803 108.103025 \nL 115.375379 108.496952 \nL 119.132955 108.890879 \nL 122.89053 109.284806 \nL 126.648106 109.678732 \nL 126.660198 109.68 \nL 130.405682 110.072659 \nL 134.163258 110.466586 \nL 137.920833 110.860513 \nL 141.678409 111.25444 \nL 142.685326 111.36 \nL 145.435985 111.648366 \nL 149.193561 112.042293 \nL 152.951136 112.43622 \nL 156.708712 112.830147 \nL 158.710454 113.04 \nL 160.466288 113.224073 \nL 164.223864 113.618 \nL 167.981439 114.011927 \nL 171.739015 114.405854 \nL 174.735582 114.72 \nL 175.496591 114.799781 \nL 179.254167 115.193707 \nL 183.011742 115.587634 \nL 186.769318 115.981561 \nL 190.526894 116.375488 \nL 190.760711 116.4 \nL 194.28447 116.769415 \nL 198.042045 117.163341 \nL 201.799621 117.557268 \nL 205.557197 117.951195 \nL 206.785839 118.08 \nL 209.314773 118.345122 \nL 213.072348 118.739048 \nL 216.829924 119.132975 \nL 220.5875 119.526902 \nL 222.810967 119.76 \nL 224.345076 119.920829 \nL 228.102652 120.314756 \nL 231.860227 120.708682 \nL 235.617803 121.102609 \nL 238.836095 121.44 \nL 239.375379 121.496536 \nL 243.132955 121.890463 \nL 246.89053 122.28439 \nL 250.648106 122.678316 \nL 254.405682 123.072243 \nL 254.861224 123.12 \nL 258.163258 123.46617 \nL 261.920833 123.860097 \nL 265.678409 124.254023 \nL 269.435985 124.64795 \nL 270.886352 124.8 \nL 273.193561 125.041877 \nL 276.951136 125.435804 \nL 280.708712 125.829731 \nL 284.466288 126.223657 \nL 286.91148 126.48 \nL 288.223864 126.617584 \nL 291.981439 127.011511 \nL 295.739015 127.405438 \nL 299.496591 127.799365 \nL 302.936608 128.16 \nL 303.254167 128.193291 \nL 307.011742 128.587218 \nL 310.769318 128.981145 \nL 314.526894 129.375072 \nL 318.28447 129.768998 \nL 318.961737 129.84 \nL 322.042045 130.162925 \nL 325.799621 130.556852 \nL 329.557197 130.950779 \nL 333.314773 131.344706 \nL 334.986865 131.52 \nL 337.072348 131.738632 \nL 340.419125 132.089493 \n\" clip-path=\"url(#p75e93b2ba8)\" style=\"fill: none; stroke: #297a8e; stroke-width: 1.5\"/>\n   </g>\n   <g id=\"PathCollection_12\">\n    <path d=\"M -1 86.465273 \nL 2.648106 86.847723 \nL 6.405682 87.24165 \nL 10.163258 87.635577 \nL 12.1132 87.84 \nL 13.920833 88.029504 \nL 17.678409 88.423431 \nL 21.435985 88.817357 \nL 25.193561 89.211284 \nL 28.138329 89.52 \nL 28.951136 89.605211 \nL 32.708712 89.999138 \nL 36.466288 90.393065 \nL 40.223864 90.786991 \nL 43.981439 91.180918 \nL 44.163457 91.2 \nL 47.739015 91.574845 \nL 51.496591 91.968772 \nL 55.254167 92.362698 \nL 59.011742 92.756625 \nL 60.188585 92.88 \nL 62.769318 93.150552 \nL 66.526894 93.544479 \nL 70.28447 93.938406 \nL 74.042045 94.332332 \nL 76.213713 94.56 \nL 77.799621 94.726259 \nL 81.557197 95.120186 \nL 85.314773 95.514113 \nL 89.072348 95.90804 \nL 92.238842 96.24 \nL 92.829924 96.301966 \nL 96.5875 96.695893 \nL 100.345076 97.08982 \nL 104.102652 97.483747 \nL 107.860227 97.877674 \nL 108.26397 97.92 \nL 111.617803 98.2716 \nL 115.375379 98.665527 \nL 119.132955 99.059454 \nL 122.89053 99.453381 \nL 124.289098 99.6 \nL 126.648106 99.847307 \nL 130.405682 100.241234 \nL 134.163258 100.635161 \nL 137.920833 101.029088 \nL 140.314226 101.28 \nL 141.678409 101.423015 \nL 145.435985 101.816941 \nL 149.193561 102.210868 \nL 152.951136 102.604795 \nL 156.339355 102.96 \nL 156.708712 102.998722 \nL 160.466288 103.392649 \nL 164.223864 103.786575 \nL 167.981439 104.180502 \nL 171.739015 104.574429 \nL 172.364483 104.64 \nL 175.496591 104.968356 \nL 179.254167 105.362282 \nL 183.011742 105.756209 \nL 186.769318 106.150136 \nL 188.389611 106.32 \nL 190.526894 106.544063 \nL 194.28447 106.93799 \nL 198.042045 107.331916 \nL 201.799621 107.725843 \nL 204.414739 108 \nL 205.557197 108.11977 \nL 209.314773 108.513697 \nL 213.072348 108.907624 \nL 216.829924 109.30155 \nL 220.439868 109.68 \nL 220.5875 109.695477 \nL 224.345076 110.089404 \nL 228.102652 110.483331 \nL 231.860227 110.877257 \nL 235.617803 111.271184 \nL 236.464996 111.36 \nL 239.375379 111.665111 \nL 243.132955 112.059038 \nL 246.89053 112.452965 \nL 250.648106 112.846891 \nL 252.490124 113.04 \nL 254.405682 113.240818 \nL 258.163258 113.634745 \nL 261.920833 114.028672 \nL 265.678409 114.422599 \nL 268.515252 114.72 \nL 269.435985 114.816525 \nL 273.193561 115.210452 \nL 276.951136 115.604379 \nL 280.708712 115.998306 \nL 284.466288 116.392232 \nL 284.540381 116.4 \nL 288.223864 116.786159 \nL 291.981439 117.180086 \nL 295.739015 117.574013 \nL 299.496591 117.96794 \nL 300.565509 118.08 \nL 303.254167 118.361866 \nL 307.011742 118.755793 \nL 310.769318 119.14972 \nL 314.526894 119.543647 \nL 316.590637 119.76 \nL 318.28447 119.937574 \nL 322.042045 120.3315 \nL 325.799621 120.725427 \nL 329.557197 121.119354 \nL 332.615765 121.44 \nL 333.314773 121.513281 \nL 337.072348 121.907207 \nL 340.419125 122.258068 \n\" clip-path=\"url(#p75e93b2ba8)\" style=\"fill: none; stroke: #25858e; stroke-width: 1.5\"/>\n   </g>\n   <g id=\"PathCollection_13\">\n    <path d=\"M -1 76.633848 \nL 2.648106 77.016299 \nL 6.405682 77.410225 \nL 9.742101 77.76 \nL 10.163258 77.804152 \nL 13.920833 78.198079 \nL 17.678409 78.592006 \nL 21.435985 78.985932 \nL 25.193561 79.379859 \nL 25.767229 79.44 \nL 28.951136 79.773786 \nL 32.708712 80.167713 \nL 36.466288 80.56164 \nL 40.223864 80.955566 \nL 41.792357 81.12 \nL 43.981439 81.349493 \nL 47.739015 81.74342 \nL 51.496591 82.137347 \nL 55.254167 82.531274 \nL 57.817486 82.8 \nL 59.011742 82.9252 \nL 62.769318 83.319127 \nL 66.526894 83.713054 \nL 70.28447 84.106981 \nL 73.842614 84.48 \nL 74.042045 84.500907 \nL 77.799621 84.894834 \nL 81.557197 85.288761 \nL 85.314773 85.682688 \nL 89.072348 86.076615 \nL 89.867742 86.16 \nL 92.829924 86.470541 \nL 96.5875 86.864468 \nL 100.345076 87.258395 \nL 104.102652 87.652322 \nL 105.89287 87.84 \nL 107.860227 88.046249 \nL 111.617803 88.440175 \nL 115.375379 88.834102 \nL 119.132955 89.228029 \nL 121.917999 89.52 \nL 122.89053 89.621956 \nL 126.648106 90.015882 \nL 130.405682 90.409809 \nL 134.163258 90.803736 \nL 137.920833 91.197663 \nL 137.943127 91.2 \nL 141.678409 91.59159 \nL 145.435985 91.985516 \nL 149.193561 92.379443 \nL 152.951136 92.77337 \nL 153.968255 92.88 \nL 156.708712 93.167297 \nL 160.466288 93.561224 \nL 164.223864 93.95515 \nL 167.981439 94.349077 \nL 169.993383 94.56 \nL 171.739015 94.743004 \nL 175.496591 95.136931 \nL 179.254167 95.530858 \nL 183.011742 95.924784 \nL 186.018512 96.24 \nL 186.769318 96.318711 \nL 190.526894 96.712638 \nL 194.28447 97.106565 \nL 198.042045 97.500491 \nL 201.799621 97.894418 \nL 202.04364 97.92 \nL 205.557197 98.288345 \nL 209.314773 98.682272 \nL 213.072348 99.076199 \nL 216.829924 99.470125 \nL 218.068768 99.6 \nL 220.5875 99.864052 \nL 224.345076 100.257979 \nL 228.102652 100.651906 \nL 231.860227 101.045833 \nL 234.093896 101.28 \nL 235.617803 101.439759 \nL 239.375379 101.833686 \nL 243.132955 102.227613 \nL 246.89053 102.62154 \nL 250.119025 102.96 \nL 250.648106 103.015466 \nL 254.405682 103.409393 \nL 258.163258 103.80332 \nL 261.920833 104.197247 \nL 265.678409 104.591174 \nL 266.144153 104.64 \nL 269.435985 104.9851 \nL 273.193561 105.379027 \nL 276.951136 105.772954 \nL 280.708712 106.166881 \nL 282.169281 106.32 \nL 284.466288 106.560808 \nL 288.223864 106.954734 \nL 291.981439 107.348661 \nL 295.739015 107.742588 \nL 298.194409 108 \nL 299.496591 108.136515 \nL 303.254167 108.530441 \nL 307.011742 108.924368 \nL 310.769318 109.318295 \nL 314.219537 109.68 \nL 314.526894 109.712222 \nL 318.28447 110.106149 \nL 322.042045 110.500075 \nL 325.799621 110.894002 \nL 329.557197 111.287929 \nL 330.244666 111.36 \nL 333.314773 111.681856 \nL 337.072348 112.075783 \nL 340.419125 112.426643 \n\" clip-path=\"url(#p75e93b2ba8)\" style=\"fill: none; stroke: #21918c; stroke-width: 1.5\"/>\n   </g>\n   <g id=\"PathCollection_14\">\n    <path d=\"M -1 66.802423 \nL 2.648106 67.184874 \nL 6.405682 67.5788 \nL 7.371001 67.68 \nL 10.163258 67.972727 \nL 13.920833 68.366654 \nL 17.678409 68.760581 \nL 21.435985 69.154508 \nL 23.396129 69.36 \nL 25.193561 69.548434 \nL 28.951136 69.942361 \nL 32.708712 70.336288 \nL 36.466288 70.730215 \nL 39.421258 71.04 \nL 40.223864 71.124141 \nL 43.981439 71.518068 \nL 47.739015 71.911995 \nL 51.496591 72.305922 \nL 55.254167 72.699849 \nL 55.446386 72.72 \nL 59.011742 73.093775 \nL 62.769318 73.487702 \nL 66.526894 73.881629 \nL 70.28447 74.275556 \nL 71.471514 74.4 \nL 74.042045 74.669483 \nL 77.799621 75.063409 \nL 81.557197 75.457336 \nL 85.314773 75.851263 \nL 87.496642 76.08 \nL 89.072348 76.24519 \nL 92.829924 76.639116 \nL 96.5875 77.033043 \nL 100.345076 77.42697 \nL 103.521771 77.76 \nL 104.102652 77.820897 \nL 107.860227 78.214824 \nL 111.617803 78.60875 \nL 115.375379 79.002677 \nL 119.132955 79.396604 \nL 119.546899 79.44 \nL 122.89053 79.790531 \nL 126.648106 80.184458 \nL 130.405682 80.578384 \nL 134.163258 80.972311 \nL 135.572027 81.12 \nL 137.920833 81.366238 \nL 141.678409 81.760165 \nL 145.435985 82.154091 \nL 149.193561 82.548018 \nL 151.597155 82.8 \nL 152.951136 82.941945 \nL 156.708712 83.335872 \nL 160.466288 83.729799 \nL 164.223864 84.123725 \nL 167.622284 84.48 \nL 167.981439 84.517652 \nL 171.739015 84.911579 \nL 175.496591 85.305506 \nL 179.254167 85.699433 \nL 183.011742 86.093359 \nL 183.647412 86.16 \nL 186.769318 86.487286 \nL 190.526894 86.881213 \nL 194.28447 87.27514 \nL 198.042045 87.669067 \nL 199.67254 87.84 \nL 201.799621 88.062993 \nL 205.557197 88.45692 \nL 209.314773 88.850847 \nL 213.072348 89.244774 \nL 215.697668 89.52 \nL 216.829924 89.6387 \nL 220.5875 90.032627 \nL 224.345076 90.426554 \nL 228.102652 90.820481 \nL 231.722797 91.2 \nL 231.860227 91.214408 \nL 235.617803 91.608334 \nL 239.375379 92.002261 \nL 243.132955 92.396188 \nL 246.89053 92.790115 \nL 247.747925 92.88 \nL 250.648106 93.184042 \nL 254.405682 93.577968 \nL 258.163258 93.971895 \nL 261.920833 94.365822 \nL 263.773053 94.56 \nL 265.678409 94.759749 \nL 269.435985 95.153675 \nL 273.193561 95.547602 \nL 276.951136 95.941529 \nL 279.798181 96.24 \nL 280.708712 96.335456 \nL 284.466288 96.729383 \nL 288.223864 97.123309 \nL 291.981439 97.517236 \nL 295.739015 97.911163 \nL 295.82331 97.92 \nL 299.496591 98.30509 \nL 303.254167 98.699017 \nL 307.011742 99.092943 \nL 310.769318 99.48687 \nL 311.848438 99.6 \nL 314.526894 99.880797 \nL 318.28447 100.274724 \nL 322.042045 100.66865 \nL 325.799621 101.062577 \nL 327.873566 101.28 \nL 329.557197 101.456504 \nL 333.314773 101.850431 \nL 337.072348 102.244358 \nL 340.419125 102.595218 \n\" clip-path=\"url(#p75e93b2ba8)\" style=\"fill: none; stroke: #1e9b8a; stroke-width: 1.5\"/>\n   </g>\n   <g id=\"PathCollection_15\">\n    <path d=\"M -1 56.970998 \nL 2.648106 57.353449 \nL 4.999902 57.6 \nL 6.405682 57.747375 \nL 10.163258 58.141302 \nL 13.920833 58.535229 \nL 17.678409 58.929156 \nL 21.02503 59.28 \nL 21.435985 59.323083 \nL 25.193561 59.717009 \nL 28.951136 60.110936 \nL 32.708712 60.504863 \nL 36.466288 60.89879 \nL 37.050158 60.96 \nL 40.223864 61.292717 \nL 43.981439 61.686643 \nL 47.739015 62.08057 \nL 51.496591 62.474497 \nL 53.075286 62.64 \nL 55.254167 62.868424 \nL 59.011742 63.26235 \nL 62.769318 63.656277 \nL 66.526894 64.050204 \nL 69.100415 64.32 \nL 70.28447 64.444131 \nL 74.042045 64.838058 \nL 77.799621 65.231984 \nL 81.557197 65.625911 \nL 85.125543 66 \nL 85.314773 66.019838 \nL 89.072348 66.413765 \nL 92.829924 66.807692 \nL 96.5875 67.201618 \nL 100.345076 67.595545 \nL 101.150671 67.68 \nL 104.102652 67.989472 \nL 107.860227 68.383399 \nL 111.617803 68.777325 \nL 115.375379 69.171252 \nL 117.175799 69.36 \nL 119.132955 69.565179 \nL 122.89053 69.959106 \nL 126.648106 70.353033 \nL 130.405682 70.746959 \nL 133.200928 71.04 \nL 134.163258 71.140886 \nL 137.920833 71.534813 \nL 141.678409 71.92874 \nL 145.435985 72.322667 \nL 149.193561 72.716593 \nL 149.226056 72.72 \nL 152.951136 73.11052 \nL 156.708712 73.504447 \nL 160.466288 73.898374 \nL 164.223864 74.2923 \nL 165.251184 74.4 \nL 167.981439 74.686227 \nL 171.739015 75.080154 \nL 175.496591 75.474081 \nL 179.254167 75.868008 \nL 181.276312 76.08 \nL 183.011742 76.261934 \nL 186.769318 76.655861 \nL 190.526894 77.049788 \nL 194.28447 77.443715 \nL 197.301441 77.76 \nL 198.042045 77.837642 \nL 201.799621 78.231568 \nL 205.557197 78.625495 \nL 209.314773 79.019422 \nL 213.072348 79.413349 \nL 213.326569 79.44 \nL 216.829924 79.807276 \nL 220.5875 80.201202 \nL 224.345076 80.595129 \nL 228.102652 80.989056 \nL 229.351697 81.12 \nL 231.860227 81.382983 \nL 235.617803 81.776909 \nL 239.375379 82.170836 \nL 243.132955 82.564763 \nL 245.376825 82.8 \nL 246.89053 82.95869 \nL 250.648106 83.352617 \nL 254.405682 83.746543 \nL 258.163258 84.14047 \nL 261.401954 84.48 \nL 261.920833 84.534397 \nL 265.678409 84.928324 \nL 269.435985 85.322251 \nL 273.193561 85.716177 \nL 276.951136 86.110104 \nL 277.427082 86.16 \nL 280.708712 86.504031 \nL 284.466288 86.897958 \nL 288.223864 87.291884 \nL 291.981439 87.685811 \nL 293.45221 87.84 \nL 295.739015 88.079738 \nL 299.496591 88.473665 \nL 303.254167 88.867592 \nL 307.011742 89.261518 \nL 309.477338 89.52 \nL 310.769318 89.655445 \nL 314.526894 90.049372 \nL 318.28447 90.443299 \nL 322.042045 90.837226 \nL 325.502467 91.2 \nL 325.799621 91.231152 \nL 329.557197 91.625079 \nL 333.314773 92.019006 \nL 337.072348 92.412933 \nL 340.419125 92.763793 \n\" clip-path=\"url(#p75e93b2ba8)\" style=\"fill: none; stroke: #21a685; stroke-width: 1.5\"/>\n   </g>\n   <g id=\"PathCollection_16\">\n    <path d=\"M -1 47.139573 \nL 2.628802 47.52 \nL 2.648106 47.522024 \nL 6.405682 47.915951 \nL 10.163258 48.309877 \nL 13.920833 48.703804 \nL 17.678409 49.097731 \nL 18.65393 49.2 \nL 21.435985 49.491658 \nL 25.193561 49.885584 \nL 28.951136 50.279511 \nL 32.708712 50.673438 \nL 34.679059 50.88 \nL 36.466288 51.067365 \nL 40.223864 51.461292 \nL 43.981439 51.855218 \nL 47.739015 52.249145 \nL 50.704187 52.56 \nL 51.496591 52.643072 \nL 55.254167 53.036999 \nL 59.011742 53.430926 \nL 62.769318 53.824852 \nL 66.526894 54.218779 \nL 66.729315 54.24 \nL 70.28447 54.612706 \nL 74.042045 55.006633 \nL 77.799621 55.400559 \nL 81.557197 55.794486 \nL 82.754443 55.92 \nL 85.314773 56.188413 \nL 89.072348 56.58234 \nL 92.829924 56.976267 \nL 96.5875 57.370193 \nL 98.779572 57.6 \nL 100.345076 57.76412 \nL 104.102652 58.158047 \nL 107.860227 58.551974 \nL 111.617803 58.945901 \nL 114.8047 59.28 \nL 115.375379 59.339827 \nL 119.132955 59.733754 \nL 122.89053 60.127681 \nL 126.648106 60.521608 \nL 130.405682 60.915534 \nL 130.829828 60.96 \nL 134.163258 61.309461 \nL 137.920833 61.703388 \nL 141.678409 62.097315 \nL 145.435985 62.491242 \nL 146.854956 62.64 \nL 149.193561 62.885168 \nL 152.951136 63.279095 \nL 156.708712 63.673022 \nL 160.466288 64.066949 \nL 162.880085 64.32 \nL 164.223864 64.460876 \nL 167.981439 64.854802 \nL 171.739015 65.248729 \nL 175.496591 65.642656 \nL 178.905213 66 \nL 179.254167 66.036583 \nL 183.011742 66.430509 \nL 186.769318 66.824436 \nL 190.526894 67.218363 \nL 194.28447 67.61229 \nL 194.930341 67.68 \nL 198.042045 68.006217 \nL 201.799621 68.400143 \nL 205.557197 68.79407 \nL 209.314773 69.187997 \nL 210.955469 69.36 \nL 213.072348 69.581924 \nL 216.829924 69.975851 \nL 220.5875 70.369777 \nL 224.345076 70.763704 \nL 226.980598 71.04 \nL 228.102652 71.157631 \nL 231.860227 71.551558 \nL 235.617803 71.945485 \nL 239.375379 72.339411 \nL 243.005726 72.72 \nL 243.132955 72.733338 \nL 246.89053 73.127265 \nL 250.648106 73.521192 \nL 254.405682 73.915118 \nL 258.163258 74.309045 \nL 259.030854 74.4 \nL 261.920833 74.702972 \nL 265.678409 75.096899 \nL 269.435985 75.490826 \nL 273.193561 75.884752 \nL 275.055982 76.08 \nL 276.951136 76.278679 \nL 280.708712 76.672606 \nL 284.466288 77.066533 \nL 288.223864 77.46046 \nL 291.081111 77.76 \nL 291.981439 77.854386 \nL 295.739015 78.248313 \nL 299.496591 78.64224 \nL 303.254167 79.036167 \nL 307.011742 79.430093 \nL 307.106239 79.44 \nL 310.769318 79.82402 \nL 314.526894 80.217947 \nL 318.28447 80.611874 \nL 322.042045 81.005801 \nL 323.131367 81.12 \nL 325.799621 81.399727 \nL 329.557197 81.793654 \nL 333.314773 82.187581 \nL 337.072348 82.581508 \nL 339.156495 82.8 \nL 340.419125 82.932368 \n\" clip-path=\"url(#p75e93b2ba8)\" style=\"fill: none; stroke: #2ab07f; stroke-width: 1.5\"/>\n   </g>\n   <g id=\"PathCollection_17\">\n    <path d=\"M -1 37.308148 \nL 0.257703 37.44 \nL 2.648106 37.690599 \nL 6.405682 38.084526 \nL 10.163258 38.478452 \nL 13.920833 38.872379 \nL 16.282831 39.12 \nL 17.678409 39.266306 \nL 21.435985 39.660233 \nL 25.193561 40.05416 \nL 28.951136 40.448086 \nL 32.307959 40.8 \nL 32.708712 40.842013 \nL 36.466288 41.23594 \nL 40.223864 41.629867 \nL 43.981439 42.023793 \nL 47.739015 42.41772 \nL 48.333087 42.48 \nL 51.496591 42.811647 \nL 55.254167 43.205574 \nL 59.011742 43.599501 \nL 62.769318 43.993427 \nL 64.358216 44.16 \nL 66.526894 44.387354 \nL 70.28447 44.781281 \nL 74.042045 45.175208 \nL 77.799621 45.569135 \nL 80.383344 45.84 \nL 81.557197 45.963061 \nL 85.314773 46.356988 \nL 89.072348 46.750915 \nL 92.829924 47.144842 \nL 96.408472 47.52 \nL 96.5875 47.538768 \nL 100.345076 47.932695 \nL 104.102652 48.326622 \nL 107.860227 48.720549 \nL 111.617803 49.114476 \nL 112.4336 49.2 \nL 115.375379 49.508402 \nL 119.132955 49.902329 \nL 122.89053 50.296256 \nL 126.648106 50.690183 \nL 128.458728 50.88 \nL 130.405682 51.08411 \nL 134.163258 51.478036 \nL 137.920833 51.871963 \nL 141.678409 52.26589 \nL 144.483857 52.56 \nL 145.435985 52.659817 \nL 149.193561 53.053743 \nL 152.951136 53.44767 \nL 156.708712 53.841597 \nL 160.466288 54.235524 \nL 160.508985 54.24 \nL 164.223864 54.629451 \nL 167.981439 55.023377 \nL 171.739015 55.417304 \nL 175.496591 55.811231 \nL 176.534113 55.92 \nL 179.254167 56.205158 \nL 183.011742 56.599085 \nL 186.769318 56.993011 \nL 190.526894 57.386938 \nL 192.559241 57.6 \nL 194.28447 57.780865 \nL 198.042045 58.174792 \nL 201.799621 58.568718 \nL 205.557197 58.962645 \nL 208.58437 59.28 \nL 209.314773 59.356572 \nL 213.072348 59.750499 \nL 216.829924 60.144426 \nL 220.5875 60.538352 \nL 224.345076 60.932279 \nL 224.609498 60.96 \nL 228.102652 61.326206 \nL 231.860227 61.720133 \nL 235.617803 62.11406 \nL 239.375379 62.507986 \nL 240.634626 62.64 \nL 243.132955 62.901913 \nL 246.89053 63.29584 \nL 250.648106 63.689767 \nL 254.405682 64.083693 \nL 256.659754 64.32 \nL 258.163258 64.47762 \nL 261.920833 64.871547 \nL 265.678409 65.265474 \nL 269.435985 65.659401 \nL 272.684883 66 \nL 273.193561 66.053327 \nL 276.951136 66.447254 \nL 280.708712 66.841181 \nL 284.466288 67.235108 \nL 288.223864 67.629035 \nL 288.710011 67.68 \nL 291.981439 68.022961 \nL 295.739015 68.416888 \nL 299.496591 68.810815 \nL 303.254167 69.204742 \nL 304.735139 69.36 \nL 307.011742 69.598669 \nL 310.769318 69.992595 \nL 314.526894 70.386522 \nL 318.28447 70.780449 \nL 320.760267 71.04 \nL 322.042045 71.174376 \nL 325.799621 71.568302 \nL 329.557197 71.962229 \nL 333.314773 72.356156 \nL 336.785396 72.72 \nL 337.072348 72.750083 \nL 340.419125 73.100943 \n\" clip-path=\"url(#p75e93b2ba8)\" style=\"fill: none; stroke: #3bbb75; stroke-width: 1.5\"/>\n   </g>\n   <g id=\"PathCollection_18\">\n    <path d=\"M -1 27.476723 \nL 2.648106 27.859174 \nL 6.405682 28.253101 \nL 10.163258 28.647027 \nL 13.911731 29.04 \nL 13.920833 29.040954 \nL 17.678409 29.434881 \nL 21.435985 29.828808 \nL 25.193561 30.222735 \nL 28.951136 30.616661 \nL 29.936859 30.72 \nL 32.708712 31.010588 \nL 36.466288 31.404515 \nL 40.223864 31.798442 \nL 43.981439 32.192369 \nL 45.961988 32.4 \nL 47.739015 32.586295 \nL 51.496591 32.980222 \nL 55.254167 33.374149 \nL 59.011742 33.768076 \nL 61.987116 34.08 \nL 62.769318 34.162002 \nL 66.526894 34.555929 \nL 70.28447 34.949856 \nL 74.042045 35.343783 \nL 77.799621 35.73771 \nL 78.012244 35.76 \nL 81.557197 36.131636 \nL 85.314773 36.525563 \nL 89.072348 36.91949 \nL 92.829924 37.313417 \nL 94.037372 37.44 \nL 96.5875 37.707344 \nL 100.345076 38.10127 \nL 104.102652 38.495197 \nL 107.860227 38.889124 \nL 110.062501 39.12 \nL 111.617803 39.283051 \nL 115.375379 39.676977 \nL 119.132955 40.070904 \nL 122.89053 40.464831 \nL 126.087629 40.8 \nL 126.648106 40.858758 \nL 130.405682 41.252685 \nL 134.163258 41.646611 \nL 137.920833 42.040538 \nL 141.678409 42.434465 \nL 142.112757 42.48 \nL 145.435985 42.828392 \nL 149.193561 43.222319 \nL 152.951136 43.616245 \nL 156.708712 44.010172 \nL 158.137885 44.16 \nL 160.466288 44.404099 \nL 164.223864 44.798026 \nL 167.981439 45.191952 \nL 171.739015 45.585879 \nL 174.163014 45.84 \nL 175.496591 45.979806 \nL 179.254167 46.373733 \nL 183.011742 46.76766 \nL 186.769318 47.161586 \nL 190.188142 47.52 \nL 190.526894 47.555513 \nL 194.28447 47.94944 \nL 198.042045 48.343367 \nL 201.799621 48.737294 \nL 205.557197 49.13122 \nL 206.21327 49.2 \nL 209.314773 49.525147 \nL 213.072348 49.919074 \nL 216.829924 50.313001 \nL 220.5875 50.706927 \nL 222.238398 50.88 \nL 224.345076 51.100854 \nL 228.102652 51.494781 \nL 231.860227 51.888708 \nL 235.617803 52.282635 \nL 238.263527 52.56 \nL 239.375379 52.676561 \nL 243.132955 53.070488 \nL 246.89053 53.464415 \nL 250.648106 53.858342 \nL 254.288655 54.24 \nL 254.405682 54.252269 \nL 258.163258 54.646195 \nL 261.920833 55.040122 \nL 265.678409 55.434049 \nL 269.435985 55.827976 \nL 270.313783 55.92 \nL 273.193561 56.221902 \nL 276.951136 56.615829 \nL 280.708712 57.009756 \nL 284.466288 57.403683 \nL 286.338911 57.6 \nL 288.223864 57.79761 \nL 291.981439 58.191536 \nL 295.739015 58.585463 \nL 299.496591 58.97939 \nL 302.36404 59.28 \nL 303.254167 59.373317 \nL 307.011742 59.767244 \nL 310.769318 60.16117 \nL 314.526894 60.555097 \nL 318.28447 60.949024 \nL 318.389168 60.96 \nL 322.042045 61.342951 \nL 325.799621 61.736878 \nL 329.557197 62.130804 \nL 333.314773 62.524731 \nL 334.414296 62.64 \nL 337.072348 62.918658 \nL 340.419125 63.269518 \n\" clip-path=\"url(#p75e93b2ba8)\" style=\"fill: none; stroke: #52c569; stroke-width: 1.5\"/>\n   </g>\n   <g id=\"PathCollection_19\">\n    <path d=\"M -1 17.645298 \nL 2.648106 18.027749 \nL 6.405682 18.421676 \nL 10.163258 18.815603 \nL 11.540632 18.96 \nL 13.920833 19.209529 \nL 17.678409 19.603456 \nL 21.435985 19.997383 \nL 25.193561 20.39131 \nL 27.56576 20.64 \nL 28.951136 20.785236 \nL 32.708712 21.179163 \nL 36.466288 21.57309 \nL 40.223864 21.967017 \nL 43.590888 22.32 \nL 43.981439 22.360944 \nL 47.739015 22.75487 \nL 51.496591 23.148797 \nL 55.254167 23.542724 \nL 59.011742 23.936651 \nL 59.616016 24 \nL 62.769318 24.330578 \nL 66.526894 24.724504 \nL 70.28447 25.118431 \nL 74.042045 25.512358 \nL 75.641145 25.68 \nL 77.799621 25.906285 \nL 81.557197 26.300211 \nL 85.314773 26.694138 \nL 89.072348 27.088065 \nL 91.666273 27.36 \nL 92.829924 27.481992 \nL 96.5875 27.875919 \nL 100.345076 28.269845 \nL 104.102652 28.663772 \nL 107.691401 29.04 \nL 107.860227 29.057699 \nL 111.617803 29.451626 \nL 115.375379 29.845553 \nL 119.132955 30.239479 \nL 122.89053 30.633406 \nL 123.716529 30.72 \nL 126.648106 31.027333 \nL 130.405682 31.42126 \nL 134.163258 31.815186 \nL 137.920833 32.209113 \nL 139.741658 32.4 \nL 141.678409 32.60304 \nL 145.435985 32.996967 \nL 149.193561 33.390894 \nL 152.951136 33.78482 \nL 155.766786 34.08 \nL 156.708712 34.178747 \nL 160.466288 34.572674 \nL 164.223864 34.966601 \nL 167.981439 35.360528 \nL 171.739015 35.754454 \nL 171.791914 35.76 \nL 175.496591 36.148381 \nL 179.254167 36.542308 \nL 183.011742 36.936235 \nL 186.769318 37.330161 \nL 187.817042 37.44 \nL 190.526894 37.724088 \nL 194.28447 38.118015 \nL 198.042045 38.511942 \nL 201.799621 38.905869 \nL 203.842171 39.12 \nL 205.557197 39.299795 \nL 209.314773 39.693722 \nL 213.072348 40.087649 \nL 216.829924 40.481576 \nL 219.867299 40.8 \nL 220.5875 40.875503 \nL 224.345076 41.269429 \nL 228.102652 41.663356 \nL 231.860227 42.057283 \nL 235.617803 42.45121 \nL 235.892427 42.48 \nL 239.375379 42.845136 \nL 243.132955 43.239063 \nL 246.89053 43.63299 \nL 250.648106 44.026917 \nL 251.917555 44.16 \nL 254.405682 44.420844 \nL 258.163258 44.81477 \nL 261.920833 45.208697 \nL 265.678409 45.602624 \nL 267.942684 45.84 \nL 269.435985 45.996551 \nL 273.193561 46.390478 \nL 276.951136 46.784404 \nL 280.708712 47.178331 \nL 283.967812 47.52 \nL 284.466288 47.572258 \nL 288.223864 47.966185 \nL 291.981439 48.360111 \nL 295.739015 48.754038 \nL 299.496591 49.147965 \nL 299.99294 49.2 \nL 303.254167 49.541892 \nL 307.011742 49.935819 \nL 310.769318 50.329745 \nL 314.526894 50.723672 \nL 316.018068 50.88 \nL 318.28447 51.117599 \nL 322.042045 51.511526 \nL 325.799621 51.905453 \nL 329.557197 52.299379 \nL 332.043197 52.56 \nL 333.314773 52.693306 \nL 337.072348 53.087233 \nL 340.419125 53.438093 \n\" clip-path=\"url(#p75e93b2ba8)\" style=\"fill: none; stroke: #69cd5b; stroke-width: 1.5\"/>\n   </g>\n   <g id=\"PathCollection_20\">\n    <path d=\"M -1 7.813874 \nL 2.648106 8.196324 \nL 6.405682 8.590251 \nL 9.169532 8.88 \nL 10.163258 8.984178 \nL 13.920833 9.378104 \nL 17.678409 9.772031 \nL 21.435985 10.165958 \nL 25.193561 10.559885 \nL 25.19466 10.56 \nL 28.951136 10.953812 \nL 32.708712 11.347738 \nL 36.466288 11.741665 \nL 40.223864 12.135592 \nL 41.219789 12.24 \nL 43.981439 12.529519 \nL 47.739015 12.923445 \nL 51.496591 13.317372 \nL 55.254167 13.711299 \nL 57.244917 13.92 \nL 59.011742 14.105226 \nL 62.769318 14.499153 \nL 66.526894 14.893079 \nL 70.28447 15.287006 \nL 73.270045 15.6 \nL 74.042045 15.680933 \nL 77.799621 16.07486 \nL 81.557197 16.468787 \nL 85.314773 16.862713 \nL 89.072348 17.25664 \nL 89.295173 17.28 \nL 92.829924 17.650567 \nL 96.5875 18.044494 \nL 100.345076 18.43842 \nL 104.102652 18.832347 \nL 105.320302 18.96 \nL 107.860227 19.226274 \nL 111.617803 19.620201 \nL 115.375379 20.014128 \nL 119.132955 20.408054 \nL 121.34543 20.64 \nL 122.89053 20.801981 \nL 126.648106 21.195908 \nL 130.405682 21.589835 \nL 134.163258 21.983762 \nL 137.370558 22.32 \nL 137.920833 22.377688 \nL 141.678409 22.771615 \nL 145.435985 23.165542 \nL 149.193561 23.559469 \nL 152.951136 23.953395 \nL 153.395686 24 \nL 156.708712 24.347322 \nL 160.466288 24.741249 \nL 164.223864 25.135176 \nL 167.981439 25.529103 \nL 169.420814 25.68 \nL 171.739015 25.923029 \nL 175.496591 26.316956 \nL 179.254167 26.710883 \nL 183.011742 27.10481 \nL 185.445943 27.36 \nL 186.769318 27.498737 \nL 190.526894 27.892663 \nL 194.28447 28.28659 \nL 198.042045 28.680517 \nL 201.471071 29.04 \nL 201.799621 29.074444 \nL 205.557197 29.46837 \nL 209.314773 29.862297 \nL 213.072348 30.256224 \nL 216.829924 30.650151 \nL 217.496199 30.72 \nL 220.5875 31.044078 \nL 224.345076 31.438004 \nL 228.102652 31.831931 \nL 231.860227 32.225858 \nL 233.521327 32.4 \nL 235.617803 32.619785 \nL 239.375379 33.013712 \nL 243.132955 33.407638 \nL 246.89053 33.801565 \nL 249.546456 34.08 \nL 250.648106 34.195492 \nL 254.405682 34.589419 \nL 258.163258 34.983345 \nL 261.920833 35.377272 \nL 265.571584 35.76 \nL 265.678409 35.771199 \nL 269.435985 36.165126 \nL 273.193561 36.559053 \nL 276.951136 36.952979 \nL 280.708712 37.346906 \nL 281.596712 37.44 \nL 284.466288 37.740833 \nL 288.223864 38.13476 \nL 291.981439 38.528687 \nL 295.739015 38.922613 \nL 297.62184 39.12 \nL 299.496591 39.31654 \nL 303.254167 39.710467 \nL 307.011742 40.104394 \nL 310.769318 40.49832 \nL 313.646969 40.8 \nL 314.526894 40.892247 \nL 318.28447 41.286174 \nL 322.042045 41.680101 \nL 325.799621 42.074028 \nL 329.557197 42.467954 \nL 329.672097 42.48 \nL 333.314773 42.861881 \nL 337.072348 43.255808 \nL 340.419125 43.606668 \n\" clip-path=\"url(#p75e93b2ba8)\" style=\"fill: none; stroke: #86d549; stroke-width: 1.5\"/>\n   </g>\n   <g id=\"PathCollection_21\">\n    <path d=\"M 86.924074 7.2 \nL 89.072348 7.425215 \nL 92.829924 7.819142 \nL 96.5875 8.213069 \nL 100.345076 8.606996 \nL 102.949202 8.88 \nL 104.102652 9.000922 \nL 107.860227 9.394849 \nL 111.617803 9.788776 \nL 115.375379 10.182703 \nL 118.97433 10.56 \nL 119.132955 10.576629 \nL 122.89053 10.970556 \nL 126.648106 11.364483 \nL 130.405682 11.75841 \nL 134.163258 12.152337 \nL 134.999458 12.24 \nL 137.920833 12.546263 \nL 141.678409 12.94019 \nL 145.435985 13.334117 \nL 149.193561 13.728044 \nL 151.024587 13.92 \nL 152.951136 14.121971 \nL 156.708712 14.515897 \nL 160.466288 14.909824 \nL 164.223864 15.303751 \nL 167.049715 15.6 \nL 167.981439 15.697678 \nL 171.739015 16.091604 \nL 175.496591 16.485531 \nL 179.254167 16.879458 \nL 183.011742 17.273385 \nL 183.074843 17.28 \nL 186.769318 17.667312 \nL 190.526894 18.061238 \nL 194.28447 18.455165 \nL 198.042045 18.849092 \nL 199.099971 18.96 \nL 201.799621 19.243019 \nL 205.557197 19.636946 \nL 209.314773 20.030872 \nL 213.072348 20.424799 \nL 215.1251 20.64 \nL 216.829924 20.818726 \nL 220.5875 21.212653 \nL 224.345076 21.606579 \nL 228.102652 22.000506 \nL 231.150228 22.32 \nL 231.860227 22.394433 \nL 235.617803 22.78836 \nL 239.375379 23.182287 \nL 243.132955 23.576213 \nL 246.89053 23.97014 \nL 247.175356 24 \nL 250.648106 24.364067 \nL 254.405682 24.757994 \nL 258.163258 25.151921 \nL 261.920833 25.545847 \nL 263.200484 25.68 \nL 265.678409 25.939774 \nL 269.435985 26.333701 \nL 273.193561 26.727628 \nL 276.951136 27.121554 \nL 279.225613 27.36 \nL 280.708712 27.515481 \nL 284.466288 27.909408 \nL 288.223864 28.303335 \nL 291.981439 28.697262 \nL 295.250741 29.04 \nL 295.739015 29.091188 \nL 299.496591 29.485115 \nL 303.254167 29.879042 \nL 307.011742 30.272969 \nL 310.769318 30.666896 \nL 311.275869 30.72 \nL 314.526894 31.060822 \nL 318.28447 31.454749 \nL 322.042045 31.848676 \nL 325.799621 32.242603 \nL 327.300997 32.4 \nL 329.557197 32.636529 \nL 333.314773 33.030456 \nL 337.072348 33.424383 \nL 340.419125 33.775244 \n\" clip-path=\"url(#p75e93b2ba8)\" style=\"fill: none; stroke: #a5db36; stroke-width: 1.5\"/>\n   </g>\n   <g id=\"PathCollection_22\">\n    <path d=\"M 180.703744 7.2 \nL 183.011742 7.44196 \nL 186.769318 7.835887 \nL 190.526894 8.229813 \nL 194.28447 8.62374 \nL 196.728872 8.88 \nL 198.042045 9.017667 \nL 201.799621 9.411594 \nL 205.557197 9.805521 \nL 209.314773 10.199447 \nL 212.754 10.56 \nL 213.072348 10.593374 \nL 216.829924 10.987301 \nL 220.5875 11.381228 \nL 224.345076 11.775155 \nL 228.102652 12.169081 \nL 228.779128 12.24 \nL 231.860227 12.563008 \nL 235.617803 12.956935 \nL 239.375379 13.350862 \nL 243.132955 13.744788 \nL 244.804257 13.92 \nL 246.89053 14.138715 \nL 250.648106 14.532642 \nL 254.405682 14.926569 \nL 258.163258 15.320496 \nL 260.829385 15.6 \nL 261.920833 15.714422 \nL 265.678409 16.108349 \nL 269.435985 16.502276 \nL 273.193561 16.896203 \nL 276.854513 17.28 \nL 276.951136 17.29013 \nL 280.708712 17.684056 \nL 284.466288 18.077983 \nL 288.223864 18.47191 \nL 291.981439 18.865837 \nL 292.879641 18.96 \nL 295.739015 19.259763 \nL 299.496591 19.65369 \nL 303.254167 20.047617 \nL 307.011742 20.441544 \nL 308.90477 20.64 \nL 310.769318 20.835471 \nL 314.526894 21.229397 \nL 318.28447 21.623324 \nL 322.042045 22.017251 \nL 324.929898 22.32 \nL 325.799621 22.411178 \nL 329.557197 22.805105 \nL 333.314773 23.199031 \nL 337.072348 23.592958 \nL 340.419125 23.943819 \n\" clip-path=\"url(#p75e93b2ba8)\" style=\"fill: none; stroke: #c2df23; stroke-width: 1.5\"/>\n   </g>\n   <g id=\"PathCollection_23\">\n    <path d=\"M 274.483413 7.2 \nL 276.951136 7.458705 \nL 280.708712 7.852631 \nL 284.466288 8.246558 \nL 288.223864 8.640485 \nL 290.508542 8.88 \nL 291.981439 9.034412 \nL 295.739015 9.428339 \nL 299.496591 9.822265 \nL 303.254167 10.216192 \nL 306.53367 10.56 \nL 307.011742 10.610119 \nL 310.769318 11.004046 \nL 314.526894 11.397972 \nL 318.28447 11.791899 \nL 322.042045 12.185826 \nL 322.558798 12.24 \nL 325.799621 12.579753 \nL 329.557197 12.97368 \nL 333.314773 13.367606 \nL 337.072348 13.761533 \nL 338.583926 13.92 \nL 340.419125 14.112394 \n\" clip-path=\"url(#p75e93b2ba8)\" style=\"fill: none; stroke: #e2e418; stroke-width: 1.5\"/>\n   </g>\n   <g id=\"PathCollection_24\"/>\n   <g id=\"patch_3\">\n    <path d=\"M 46.9875 173.52 \nL 46.9875 7.2 \n\" style=\"fill: none; stroke: #000000; stroke-width: 0.8; stroke-linejoin: miter; stroke-linecap: square\"/>\n   </g>\n   <g id=\"patch_4\">\n    <path d=\"M 270.1875 173.52 \nL 270.1875 7.2 \n\" style=\"fill: none; stroke: #000000; stroke-width: 0.8; stroke-linejoin: miter; stroke-linecap: square\"/>\n   </g>\n   <g id=\"patch_5\">\n    <path d=\"M 46.9875 173.52 \nL 270.1875 173.52 \n\" style=\"fill: none; stroke: #000000; stroke-width: 0.8; stroke-linejoin: miter; stroke-linecap: square\"/>\n   </g>\n   <g id=\"patch_6\">\n    <path d=\"M 46.9875 7.2 \nL 270.1875 7.2 \n\" style=\"fill: none; stroke: #000000; stroke-width: 0.8; stroke-linejoin: miter; stroke-linecap: square\"/>\n   </g>\n  </g>\n  <g id=\"axes_2\">\n   <g id=\"patch_7\">\n    <path d=\"M 284.1375 173.52 \nL 292.4535 173.52 \nL 292.4535 7.2 \nL 284.1375 7.2 \nz\n\" style=\"fill: #ffffff\"/>\n   </g>\n   <image xlink:href=\"data:image/png;base64,\niVBORw0KGgoAAAANSUhEUgAAAAsAAADnCAYAAADIKqzfAAABW0lEQVR4nO2a2w0CMQwEnThHZZRA/5UAoQXPx0gOwLe1Gu/Gvgc37uOxo/hbMWa1NtaYo17cRDkSYRDlQZhFZVA8kHUsFK04swWG6MaJoVjnebNQyrWqG00aJEumic8Mo15LMbwG2cACDC9BL5TtJYiUU1M+0Y0DmXf9puDMBk1mSxluUYTRZCNZxWKCbPNbGF3cqNeqDf5D6YfBlFskCCB+IkF2Aaovg++3Dha3sA4qA2bTOlRsMe9pKYM7tT6hhOeGpkwS9EJBDSIM0TrEXBeONeebYBBlMRQrQY95koFNNikEw2tQc0PEIMWLTApq0GMWi8UGic8oQaYMilO0znIje2Bc4yUpZ2jWITfQ5veOKMGAoSAM7zyjge2RIGG+9QgF7jorFHaQtAThWD0lZXFSRAzvalWujXWxswGUEzzjLfJidCX5d2kSDMhMlAnzCvANVZLvkSZ4Bf0BQOaFoBDZYkUAAAAASUVORK5CYII=\" id=\"image14e16ad491\" transform=\"scale(1 -1) translate(0 -166.32)\" x=\"284.4\" y=\"-7.2\" width=\"7.92\" height=\"166.32\"/>\n   <g id=\"matplotlib.axis_3\"/>\n   <g id=\"matplotlib.axis_4\">\n    <g id=\"ytick_6\">\n     <g id=\"line2d_8\">\n      <defs>\n       <path id=\"m5c924de318\" d=\"M 0 0 \nL 3.5 0 \n\" style=\"stroke: #000000; stroke-width: 0.8\"/>\n      </defs>\n      <g>\n       <use xlink:href=\"#m5c924de318\" x=\"292.4535\" y=\"173.52\" style=\"stroke: #000000; stroke-width: 0.8\"/>\n      </g>\n     </g>\n     <g id=\"text_10\">\n      <!-- 20 -->\n      <g transform=\"translate(299.4535 177.319219) scale(0.1 -0.1)\">\n       <use xlink:href=\"#DejaVuSans-32\"/>\n       <use xlink:href=\"#DejaVuSans-30\" x=\"63.623047\"/>\n      </g>\n     </g>\n    </g>\n    <g id=\"ytick_7\">\n     <g id=\"line2d_9\">\n      <g>\n       <use xlink:href=\"#m5c924de318\" x=\"292.4535\" y=\"146.694194\" style=\"stroke: #000000; stroke-width: 0.8\"/>\n      </g>\n     </g>\n     <g id=\"text_11\">\n      <!-- 40 -->\n      <g transform=\"translate(299.4535 150.493412) scale(0.1 -0.1)\">\n       <use xlink:href=\"#DejaVuSans-34\"/>\n       <use xlink:href=\"#DejaVuSans-30\" x=\"63.623047\"/>\n      </g>\n     </g>\n    </g>\n    <g id=\"ytick_8\">\n     <g id=\"line2d_10\">\n      <g>\n       <use xlink:href=\"#m5c924de318\" x=\"292.4535\" y=\"119.868387\" style=\"stroke: #000000; stroke-width: 0.8\"/>\n      </g>\n     </g>\n     <g id=\"text_12\">\n      <!-- 60 -->\n      <g transform=\"translate(299.4535 123.667606) scale(0.1 -0.1)\">\n       <use xlink:href=\"#DejaVuSans-36\"/>\n       <use xlink:href=\"#DejaVuSans-30\" x=\"63.623047\"/>\n      </g>\n     </g>\n    </g>\n    <g id=\"ytick_9\">\n     <g id=\"line2d_11\">\n      <g>\n       <use xlink:href=\"#m5c924de318\" x=\"292.4535\" y=\"93.042581\" style=\"stroke: #000000; stroke-width: 0.8\"/>\n      </g>\n     </g>\n     <g id=\"text_13\">\n      <!-- 80 -->\n      <g transform=\"translate(299.4535 96.841799) scale(0.1 -0.1)\">\n       <use xlink:href=\"#DejaVuSans-38\"/>\n       <use xlink:href=\"#DejaVuSans-30\" x=\"63.623047\"/>\n      </g>\n     </g>\n    </g>\n    <g id=\"ytick_10\">\n     <g id=\"line2d_12\">\n      <g>\n       <use xlink:href=\"#m5c924de318\" x=\"292.4535\" y=\"66.216774\" style=\"stroke: #000000; stroke-width: 0.8\"/>\n      </g>\n     </g>\n     <g id=\"text_14\">\n      <!-- 100 -->\n      <g transform=\"translate(299.4535 70.015993) scale(0.1 -0.1)\">\n       <use xlink:href=\"#DejaVuSans-31\"/>\n       <use xlink:href=\"#DejaVuSans-30\" x=\"63.623047\"/>\n       <use xlink:href=\"#DejaVuSans-30\" x=\"127.246094\"/>\n      </g>\n     </g>\n    </g>\n    <g id=\"ytick_11\">\n     <g id=\"line2d_13\">\n      <g>\n       <use xlink:href=\"#m5c924de318\" x=\"292.4535\" y=\"39.390968\" style=\"stroke: #000000; stroke-width: 0.8\"/>\n      </g>\n     </g>\n     <g id=\"text_15\">\n      <!-- 120 -->\n      <g transform=\"translate(299.4535 43.190186) scale(0.1 -0.1)\">\n       <use xlink:href=\"#DejaVuSans-31\"/>\n       <use xlink:href=\"#DejaVuSans-32\" x=\"63.623047\"/>\n       <use xlink:href=\"#DejaVuSans-30\" x=\"127.246094\"/>\n      </g>\n     </g>\n    </g>\n    <g id=\"ytick_12\">\n     <g id=\"line2d_14\">\n      <g>\n       <use xlink:href=\"#m5c924de318\" x=\"292.4535\" y=\"12.565161\" style=\"stroke: #000000; stroke-width: 0.8\"/>\n      </g>\n     </g>\n     <g id=\"text_16\">\n      <!-- 140 -->\n      <g transform=\"translate(299.4535 16.36438) scale(0.1 -0.1)\">\n       <use xlink:href=\"#DejaVuSans-31\"/>\n       <use xlink:href=\"#DejaVuSans-34\" x=\"63.623047\"/>\n       <use xlink:href=\"#DejaVuSans-30\" x=\"127.246094\"/>\n      </g>\n     </g>\n    </g>\n    <g id=\"text_17\">\n     <!-- Y -->\n     <g transform=\"translate(330.139438 93.413906) rotate(-90) scale(0.1 -0.1)\">\n      <defs>\n       <path id=\"DejaVuSans-59\" d=\"M -13 4666 \nL 666 4666 \nL 1959 2747 \nL 3244 4666 \nL 3922 4666 \nL 2272 2222 \nL 2272 0 \nL 1638 0 \nL 1638 2222 \nL -13 4666 \nz\n\" transform=\"scale(0.015625)\"/>\n      </defs>\n      <use xlink:href=\"#DejaVuSans-59\"/>\n     </g>\n    </g>\n   </g>\n   <g id=\"LineCollection_1\"/>\n   <g id=\"patch_8\">\n    <path d=\"M 284.1375 173.52 \nL 288.2955 173.52 \nL 292.4535 173.52 \nL 292.4535 7.2 \nL 288.2955 7.2 \nL 284.1375 7.2 \nL 284.1375 173.52 \nz\n\" style=\"fill: none; stroke: #000000; stroke-width: 0.8; stroke-linejoin: miter; stroke-linecap: square\"/>\n   </g>\n  </g>\n </g>\n <defs>\n  <clipPath id=\"p75e93b2ba8\">\n   <rect x=\"46.9875\" y=\"7.2\" width=\"223.2\" height=\"166.32\"/>\n  </clipPath>\n </defs>\n</svg>\n"
          },
          "metadata": {}
        }
      ]
    },
    {
      "cell_type": "code",
      "source": [
        "np.std(x_hs)"
      ],
      "metadata": {
        "colab": {
          "base_uri": "https://localhost:8080/"
        },
        "id": "l3897FrFAxna",
        "outputId": "925189f8-0a03-4ba7-b200-e8e18ec9d372"
      },
      "execution_count": null,
      "outputs": [
        {
          "output_type": "execute_result",
          "data": {
            "text/plain": [
              "0.41032590332414487"
            ]
          },
          "metadata": {},
          "execution_count": 78
        }
      ]
    },
    {
      "cell_type": "code",
      "source": [
        "results.params[1]*np.std(x_hs)"
      ],
      "metadata": {
        "colab": {
          "base_uri": "https://localhost:8080/"
        },
        "id": "SnI_G3KJAczl",
        "outputId": "888c469c-1820-470c-e4a7-5f09ce93a340"
      },
      "execution_count": null,
      "outputs": [
        {
          "output_type": "execute_result",
          "data": {
            "text/plain": [
              "2.44148709750909"
            ]
          },
          "metadata": {},
          "execution_count": 84
        }
      ]
    },
    {
      "cell_type": "code",
      "source": [
        "results.params[2]*np.std(x_iq)"
      ],
      "metadata": {
        "colab": {
          "base_uri": "https://localhost:8080/"
        },
        "id": "rU8ImMgMAmln",
        "outputId": "6f6f5559-f0ea-4cca-e050-7ea81716099c"
      },
      "execution_count": null,
      "outputs": [
        {
          "output_type": "execute_result",
          "data": {
            "text/plain": [
              "8.448840207947194"
            ]
          },
          "metadata": {},
          "execution_count": 83
        }
      ]
    },
    {
      "cell_type": "code",
      "source": [
        "beta0_fit,beta1_fit,beta2_fit = results.params\n",
        "sigma_fit = np.sqrt(results.mse_resid) # estimate of variance\n",
        "sigma_fit\n",
        "\n",
        "count = 0\n",
        "n_samps = 50000\n",
        "for k in range(n_samps):\n",
        "    # simulate student's scores\n",
        "    y1 = np.random.normal(beta0_fit + 0*beta1_fit + 90*beta2_fit,sigma_fit) # first student\n",
        "    y2 = np.random.normal(beta0_fit + 1*beta1_fit + 110*beta2_fit,sigma_fit) # second student\n",
        "    if y1>y2:\n",
        "      count = count + 1\n",
        "count/n_samps"
      ],
      "metadata": {
        "colab": {
          "base_uri": "https://localhost:8080/"
        },
        "id": "w8MgjBuEQply",
        "outputId": "a186222e-0ee8-43f5-c28d-42a70cfb88db"
      },
      "execution_count": null,
      "outputs": [
        {
          "output_type": "execute_result",
          "data": {
            "text/plain": [
              "0.2505"
            ]
          },
          "metadata": {},
          "execution_count": 21
        }
      ]
    },
    {
      "cell_type": "markdown",
      "source": [
        "# Interpretation of regression coefficients"
      ],
      "metadata": {
        "id": "KemHfYz6612Z"
      }
    },
    {
      "cell_type": "markdown",
      "source": [
        "## Example 3 (single vs. two predictors in test score model)"
      ],
      "metadata": {
        "id": "f7s8dBvE65e5"
      }
    },
    {
      "cell_type": "code",
      "source": [
        "iq_hs = x_iq[x_hs ==1]\n",
        "iq_nohs = x_iq[x_hs ==0]\n",
        "np.mean(iq_hs)-np.mean(iq_nohs)"
      ],
      "metadata": {
        "colab": {
          "base_uri": "https://localhost:8080/"
        },
        "id": "Zb6KBFcnRL89",
        "outputId": "bfbb58b1-bdc3-494b-ddcc-d18f345991c8"
      },
      "execution_count": null,
      "outputs": [
        {
          "output_type": "execute_result",
          "data": {
            "text/plain": [
              "10.322897022768998"
            ]
          },
          "metadata": {},
          "execution_count": 87
        }
      ]
    },
    {
      "cell_type": "markdown",
      "source": [
        "## Example 4 (Normal predictors with correlations)"
      ],
      "metadata": {
        "id": "M6xw6jeS60xl"
      }
    },
    {
      "cell_type": "code",
      "source": [
        "N = 1000000 # number of data points collected for each sample\n",
        "b = -0.3\n",
        "beta1 = 1\n",
        "beta2 = 2\n",
        "# generate x points\n",
        "x1 = np.random.normal(0,1,N)\n",
        "x2 = b*x1 + np.random.normal(0,np.sqrt(1-b**2),N)\n",
        "\n",
        "# generate y points (our sample)\n",
        "y = beta1*x1+beta2*x2 + np.random.normal(0,0.3,len(x1))"
      ],
      "metadata": {
        "id": "Kq-8G4dp6z2b"
      },
      "execution_count": null,
      "outputs": []
    },
    {
      "cell_type": "code",
      "source": [
        "np.var(x2)"
      ],
      "metadata": {
        "colab": {
          "base_uri": "https://localhost:8080/"
        },
        "id": "RsNCEhmH73w7",
        "outputId": "ade91445-7f22-40a4-c610-baafbf263f3f"
      },
      "execution_count": null,
      "outputs": [
        {
          "output_type": "execute_result",
          "data": {
            "text/plain": [
              "1.0017543706759704"
            ]
          },
          "metadata": {},
          "execution_count": 63
        }
      ]
    },
    {
      "cell_type": "code",
      "source": [
        "model = sm.OLS(y,sm.add_constant(np.transpose(np.array([x1,x2]))))\n",
        "results = model.fit()\n",
        "results.params"
      ],
      "metadata": {
        "colab": {
          "base_uri": "https://localhost:8080/"
        },
        "id": "BI482cMP7Vhk",
        "outputId": "5596a588-c895-4d46-f338-e4f833b5feb8"
      },
      "execution_count": null,
      "outputs": [
        {
          "output_type": "execute_result",
          "data": {
            "text/plain": [
              "array([3.46561832e-04, 1.00003525e+00, 2.00010597e+00])"
            ]
          },
          "metadata": {},
          "execution_count": 64
        }
      ]
    },
    {
      "cell_type": "code",
      "source": [
        "(np.cov(x1,y)[0,1]-np.cov(x2,y)[0,1]*b)/(1-b**2)"
      ],
      "metadata": {
        "colab": {
          "base_uri": "https://localhost:8080/"
        },
        "id": "D8u8t6Ae7h4U",
        "outputId": "eea66b3d-3636-45c1-9f36-9fe735b7905d"
      },
      "execution_count": null,
      "outputs": [
        {
          "output_type": "execute_result",
          "data": {
            "text/plain": [
              "0.9998055354582351"
            ]
          },
          "metadata": {},
          "execution_count": 65
        }
      ]
    },
    {
      "cell_type": "markdown",
      "source": [
        "# Sample distribution"
      ],
      "metadata": {
        "id": "uwA-4zNvgRdm"
      }
    },
    {
      "cell_type": "markdown",
      "source": [
        "\n",
        "## Example 5 (joint sample distribution of regression coefficients)\n",
        "\n"
      ],
      "metadata": {
        "id": "h_vbLZqWPNzD"
      }
    },
    {
      "cell_type": "code",
      "source": [
        "def sample_dist(beta1,beta2,b):\n",
        "  n_samples = 200 # number of samples to generate\n",
        "  N = 100 # number of data points collected for each sample\n",
        "  P = np.zeros((n_samples,2)) # save the values from sampes distribution\n",
        "\n",
        "  # generate x points\n",
        "  x1 = np.random.normal(0,1,N)\n",
        "  x2 = b*x1 + np.random.normal(0,np.sqrt(1-b**2),N)\n",
        "  X = np.transpose(np.array([x1,x2]))\n",
        "\n",
        "  for k in range(n_samples):\n",
        "    # generate y points (our sample)\n",
        "    y = beta1*x1+beta2*x2 + np.random.normal(0,0.3,len(x1))\n",
        "\n",
        "    # fit model and save (a_fit,b_fit)\n",
        "    model = sm.OLS(y,X)\n",
        "    results = model.fit()\n",
        "    P[k,:] = results.params\n",
        "  return pd.DataFrame(P,columns = [\"beta1\",\"beta2\"])"
      ],
      "metadata": {
        "id": "b2ZWB2NhPUCh"
      },
      "execution_count": null,
      "outputs": []
    },
    {
      "cell_type": "code",
      "source": [
        "df = sample_dist_ab(1,2,0.)"
      ],
      "metadata": {
        "id": "N1us_-r2wkU-"
      },
      "execution_count": null,
      "outputs": []
    },
    {
      "cell_type": "code",
      "source": [
        "P = sample_dist_ab(1,2,0.99)\n",
        "fig,ax = plt.subplots(figsize=(3,2))\n",
        "ax.plot(P.beta1,P.beta2,\"+\",alpha=0.3)\n",
        "#ax.set_xlim([0,1])\n",
        "#ax.set_ylim([0,1])\n",
        "ax.set_xlabel(\"$\\\\beta_1$\")\n",
        "ax.set_ylabel(\"$\\\\beta_2$\")"
      ],
      "metadata": {
        "colab": {
          "base_uri": "https://localhost:8080/",
          "height": 247
        },
        "id": "a7QLP-WlJtEC",
        "outputId": "392b7344-401d-45bb-8b8b-8c7afc0132f2"
      },
      "execution_count": null,
      "outputs": [
        {
          "output_type": "execute_result",
          "data": {
            "text/plain": [
              "Text(0, 0.5, '$\\\\beta_2$')"
            ]
          },
          "metadata": {},
          "execution_count": 83
        },
        {
          "output_type": "display_data",
          "data": {
            "text/plain": [
              "<Figure size 300x200 with 1 Axes>"
            ],
            "image/svg+xml": "<?xml version=\"1.0\" encoding=\"utf-8\" standalone=\"no\"?>\n<!DOCTYPE svg PUBLIC \"-//W3C//DTD SVG 1.1//EN\"\n  \"http://www.w3.org/Graphics/SVG/1.1/DTD/svg11.dtd\">\n<svg xmlns:xlink=\"http://www.w3.org/1999/xlink\" width=\"224.865625pt\" height=\"155.758125pt\" viewBox=\"0 0 224.865625 155.758125\" xmlns=\"http://www.w3.org/2000/svg\" version=\"1.1\">\n <metadata>\n  <rdf:RDF xmlns:dc=\"http://purl.org/dc/elements/1.1/\" xmlns:cc=\"http://creativecommons.org/ns#\" xmlns:rdf=\"http://www.w3.org/1999/02/22-rdf-syntax-ns#\">\n   <cc:Work>\n    <dc:type rdf:resource=\"http://purl.org/dc/dcmitype/StillImage\"/>\n    <dc:date>2023-10-12T15:45:54.583911</dc:date>\n    <dc:format>image/svg+xml</dc:format>\n    <dc:creator>\n     <cc:Agent>\n      <dc:title>Matplotlib v3.7.1, https://matplotlib.org/</dc:title>\n     </cc:Agent>\n    </dc:creator>\n   </cc:Work>\n  </rdf:RDF>\n </metadata>\n <defs>\n  <style type=\"text/css\">*{stroke-linejoin: round; stroke-linecap: butt}</style>\n </defs>\n <g id=\"figure_1\">\n  <g id=\"patch_1\">\n   <path d=\"M 0 155.758125 \nL 224.865625 155.758125 \nL 224.865625 0 \nL 0 0 \nz\n\" style=\"fill: #ffffff\"/>\n  </g>\n  <g id=\"axes_1\">\n   <g id=\"patch_2\">\n    <path d=\"M 50.265625 118.08 \nL 217.665625 118.08 \nL 217.665625 7.2 \nL 50.265625 7.2 \nz\n\" style=\"fill: #ffffff\"/>\n   </g>\n   <g id=\"matplotlib.axis_1\">\n    <g id=\"xtick_1\">\n     <g id=\"line2d_1\">\n      <defs>\n       <path id=\"m7846557691\" d=\"M 0 0 \nL 0 3.5 \n\" style=\"stroke: #000000; stroke-width: 0.8\"/>\n      </defs>\n      <g>\n       <use xlink:href=\"#m7846557691\" x=\"56.415517\" y=\"118.08\" style=\"stroke: #000000; stroke-width: 0.8\"/>\n      </g>\n     </g>\n     <g id=\"text_1\">\n      <!-- 0.5 -->\n      <g transform=\"translate(48.463955 132.678437) scale(0.1 -0.1)\">\n       <defs>\n        <path id=\"DejaVuSans-30\" d=\"M 2034 4250 \nQ 1547 4250 1301 3770 \nQ 1056 3291 1056 2328 \nQ 1056 1369 1301 889 \nQ 1547 409 2034 409 \nQ 2525 409 2770 889 \nQ 3016 1369 3016 2328 \nQ 3016 3291 2770 3770 \nQ 2525 4250 2034 4250 \nz\nM 2034 4750 \nQ 2819 4750 3233 4129 \nQ 3647 3509 3647 2328 \nQ 3647 1150 3233 529 \nQ 2819 -91 2034 -91 \nQ 1250 -91 836 529 \nQ 422 1150 422 2328 \nQ 422 3509 836 4129 \nQ 1250 4750 2034 4750 \nz\n\" transform=\"scale(0.015625)\"/>\n        <path id=\"DejaVuSans-2e\" d=\"M 684 794 \nL 1344 794 \nL 1344 0 \nL 684 0 \nL 684 794 \nz\n\" transform=\"scale(0.015625)\"/>\n        <path id=\"DejaVuSans-35\" d=\"M 691 4666 \nL 3169 4666 \nL 3169 4134 \nL 1269 4134 \nL 1269 2991 \nQ 1406 3038 1543 3061 \nQ 1681 3084 1819 3084 \nQ 2600 3084 3056 2656 \nQ 3513 2228 3513 1497 \nQ 3513 744 3044 326 \nQ 2575 -91 1722 -91 \nQ 1428 -91 1123 -41 \nQ 819 9 494 109 \nL 494 744 \nQ 775 591 1075 516 \nQ 1375 441 1709 441 \nQ 2250 441 2565 725 \nQ 2881 1009 2881 1497 \nQ 2881 1984 2565 2268 \nQ 2250 2553 1709 2553 \nQ 1456 2553 1204 2497 \nQ 953 2441 691 2322 \nL 691 4666 \nz\n\" transform=\"scale(0.015625)\"/>\n       </defs>\n       <use xlink:href=\"#DejaVuSans-30\"/>\n       <use xlink:href=\"#DejaVuSans-2e\" x=\"63.623047\"/>\n       <use xlink:href=\"#DejaVuSans-35\" x=\"95.410156\"/>\n      </g>\n     </g>\n    </g>\n    <g id=\"xtick_2\">\n     <g id=\"line2d_2\">\n      <g>\n       <use xlink:href=\"#m7846557691\" x=\"120.399595\" y=\"118.08\" style=\"stroke: #000000; stroke-width: 0.8\"/>\n      </g>\n     </g>\n     <g id=\"text_2\">\n      <!-- 1.0 -->\n      <g transform=\"translate(112.448033 132.678437) scale(0.1 -0.1)\">\n       <defs>\n        <path id=\"DejaVuSans-31\" d=\"M 794 531 \nL 1825 531 \nL 1825 4091 \nL 703 3866 \nL 703 4441 \nL 1819 4666 \nL 2450 4666 \nL 2450 531 \nL 3481 531 \nL 3481 0 \nL 794 0 \nL 794 531 \nz\n\" transform=\"scale(0.015625)\"/>\n       </defs>\n       <use xlink:href=\"#DejaVuSans-31\"/>\n       <use xlink:href=\"#DejaVuSans-2e\" x=\"63.623047\"/>\n       <use xlink:href=\"#DejaVuSans-30\" x=\"95.410156\"/>\n      </g>\n     </g>\n    </g>\n    <g id=\"xtick_3\">\n     <g id=\"line2d_3\">\n      <g>\n       <use xlink:href=\"#m7846557691\" x=\"184.383673\" y=\"118.08\" style=\"stroke: #000000; stroke-width: 0.8\"/>\n      </g>\n     </g>\n     <g id=\"text_3\">\n      <!-- 1.5 -->\n      <g transform=\"translate(176.43211 132.678437) scale(0.1 -0.1)\">\n       <use xlink:href=\"#DejaVuSans-31\"/>\n       <use xlink:href=\"#DejaVuSans-2e\" x=\"63.623047\"/>\n       <use xlink:href=\"#DejaVuSans-35\" x=\"95.410156\"/>\n      </g>\n     </g>\n    </g>\n    <g id=\"text_4\">\n     <!-- $\\beta_1$ -->\n     <g transform=\"translate(128.365625 146.458125) scale(0.1 -0.1)\">\n      <defs>\n       <path id=\"DejaVuSans-Oblique-3b2\" d=\"M 872 216 \nL 572 -1331 \nL -6 -1331 \nL 928 3478 \nQ 1206 4903 2538 4903 \nQ 3888 4903 3659 3700 \nQ 3503 2844 2894 2531 \nQ 3713 2250 3553 1416 \nQ 3272 -69 1759 -66 \nQ 1097 -63 872 216 \nz\nM 1019 966 \nQ 1259 422 1875 425 \nQ 2775 425 2966 1406 \nQ 3138 2288 1675 2219 \nL 1778 2750 \nQ 2909 2731 3106 3750 \nQ 3241 4438 2509 4434 \nQ 1691 4434 1503 3459 \nL 1019 966 \nz\n\" transform=\"scale(0.015625)\"/>\n      </defs>\n      <use xlink:href=\"#DejaVuSans-Oblique-3b2\" transform=\"translate(0 0.390625)\"/>\n      <use xlink:href=\"#DejaVuSans-31\" transform=\"translate(63.818359 -16.015625) scale(0.7)\"/>\n     </g>\n    </g>\n   </g>\n   <g id=\"matplotlib.axis_2\">\n    <g id=\"ytick_1\">\n     <g id=\"line2d_4\">\n      <defs>\n       <path id=\"mda56ac06b0\" d=\"M 0 0 \nL -3.5 0 \n\" style=\"stroke: #000000; stroke-width: 0.8\"/>\n      </defs>\n      <g>\n       <use xlink:href=\"#mda56ac06b0\" x=\"50.265625\" y=\"101.13222\" style=\"stroke: #000000; stroke-width: 0.8\"/>\n      </g>\n     </g>\n     <g id=\"text_5\">\n      <!-- 1.50 -->\n      <g transform=\"translate(21 104.931438) scale(0.1 -0.1)\">\n       <use xlink:href=\"#DejaVuSans-31\"/>\n       <use xlink:href=\"#DejaVuSans-2e\" x=\"63.623047\"/>\n       <use xlink:href=\"#DejaVuSans-35\" x=\"95.410156\"/>\n       <use xlink:href=\"#DejaVuSans-30\" x=\"159.033203\"/>\n      </g>\n     </g>\n    </g>\n    <g id=\"ytick_2\">\n     <g id=\"line2d_5\">\n      <g>\n       <use xlink:href=\"#mda56ac06b0\" x=\"50.265625\" y=\"78.757258\" style=\"stroke: #000000; stroke-width: 0.8\"/>\n      </g>\n     </g>\n     <g id=\"text_6\">\n      <!-- 1.75 -->\n      <g transform=\"translate(21 82.556477) scale(0.1 -0.1)\">\n       <defs>\n        <path id=\"DejaVuSans-37\" d=\"M 525 4666 \nL 3525 4666 \nL 3525 4397 \nL 1831 0 \nL 1172 0 \nL 2766 4134 \nL 525 4134 \nL 525 4666 \nz\n\" transform=\"scale(0.015625)\"/>\n       </defs>\n       <use xlink:href=\"#DejaVuSans-31\"/>\n       <use xlink:href=\"#DejaVuSans-2e\" x=\"63.623047\"/>\n       <use xlink:href=\"#DejaVuSans-37\" x=\"95.410156\"/>\n       <use xlink:href=\"#DejaVuSans-35\" x=\"159.033203\"/>\n      </g>\n     </g>\n    </g>\n    <g id=\"ytick_3\">\n     <g id=\"line2d_6\">\n      <g>\n       <use xlink:href=\"#mda56ac06b0\" x=\"50.265625\" y=\"56.382297\" style=\"stroke: #000000; stroke-width: 0.8\"/>\n      </g>\n     </g>\n     <g id=\"text_7\">\n      <!-- 2.00 -->\n      <g transform=\"translate(21 60.181516) scale(0.1 -0.1)\">\n       <defs>\n        <path id=\"DejaVuSans-32\" d=\"M 1228 531 \nL 3431 531 \nL 3431 0 \nL 469 0 \nL 469 531 \nQ 828 903 1448 1529 \nQ 2069 2156 2228 2338 \nQ 2531 2678 2651 2914 \nQ 2772 3150 2772 3378 \nQ 2772 3750 2511 3984 \nQ 2250 4219 1831 4219 \nQ 1534 4219 1204 4116 \nQ 875 4013 500 3803 \nL 500 4441 \nQ 881 4594 1212 4672 \nQ 1544 4750 1819 4750 \nQ 2544 4750 2975 4387 \nQ 3406 4025 3406 3419 \nQ 3406 3131 3298 2873 \nQ 3191 2616 2906 2266 \nQ 2828 2175 2409 1742 \nQ 1991 1309 1228 531 \nz\n\" transform=\"scale(0.015625)\"/>\n       </defs>\n       <use xlink:href=\"#DejaVuSans-32\"/>\n       <use xlink:href=\"#DejaVuSans-2e\" x=\"63.623047\"/>\n       <use xlink:href=\"#DejaVuSans-30\" x=\"95.410156\"/>\n       <use xlink:href=\"#DejaVuSans-30\" x=\"159.033203\"/>\n      </g>\n     </g>\n    </g>\n    <g id=\"ytick_4\">\n     <g id=\"line2d_7\">\n      <g>\n       <use xlink:href=\"#mda56ac06b0\" x=\"50.265625\" y=\"34.007336\" style=\"stroke: #000000; stroke-width: 0.8\"/>\n      </g>\n     </g>\n     <g id=\"text_8\">\n      <!-- 2.25 -->\n      <g transform=\"translate(21 37.806555) scale(0.1 -0.1)\">\n       <use xlink:href=\"#DejaVuSans-32\"/>\n       <use xlink:href=\"#DejaVuSans-2e\" x=\"63.623047\"/>\n       <use xlink:href=\"#DejaVuSans-32\" x=\"95.410156\"/>\n       <use xlink:href=\"#DejaVuSans-35\" x=\"159.033203\"/>\n      </g>\n     </g>\n    </g>\n    <g id=\"ytick_5\">\n     <g id=\"line2d_8\">\n      <g>\n       <use xlink:href=\"#mda56ac06b0\" x=\"50.265625\" y=\"11.632375\" style=\"stroke: #000000; stroke-width: 0.8\"/>\n      </g>\n     </g>\n     <g id=\"text_9\">\n      <!-- 2.50 -->\n      <g transform=\"translate(21 15.431594) scale(0.1 -0.1)\">\n       <use xlink:href=\"#DejaVuSans-32\"/>\n       <use xlink:href=\"#DejaVuSans-2e\" x=\"63.623047\"/>\n       <use xlink:href=\"#DejaVuSans-35\" x=\"95.410156\"/>\n       <use xlink:href=\"#DejaVuSans-30\" x=\"159.033203\"/>\n      </g>\n     </g>\n    </g>\n    <g id=\"text_10\">\n     <!-- $\\beta_2$ -->\n     <g transform=\"translate(14.9 68.24) rotate(-90) scale(0.1 -0.1)\">\n      <use xlink:href=\"#DejaVuSans-Oblique-3b2\" transform=\"translate(0 0.390625)\"/>\n      <use xlink:href=\"#DejaVuSans-32\" transform=\"translate(63.818359 -16.015625) scale(0.7)\"/>\n     </g>\n    </g>\n   </g>\n   <g id=\"line2d_9\">\n    <defs>\n     <path id=\"m61c1bc3ab7\" d=\"M -3 0 \nL 3 0 \nM 0 3 \nL 0 -3 \n\" style=\"stroke: #1f77b4; stroke-opacity: 0.3\"/>\n    </defs>\n    <g clip-path=\"url(#p4547e68ed8)\">\n     <use xlink:href=\"#m61c1bc3ab7\" x=\"132.250756\" y=\"64.738218\" style=\"fill: #1f77b4; fill-opacity: 0.3; stroke: #1f77b4; stroke-opacity: 0.3\"/>\n     <use xlink:href=\"#m61c1bc3ab7\" x=\"83.156177\" y=\"32.871236\" style=\"fill: #1f77b4; fill-opacity: 0.3; stroke: #1f77b4; stroke-opacity: 0.3\"/>\n     <use xlink:href=\"#m61c1bc3ab7\" x=\"74.271857\" y=\"20.420737\" style=\"fill: #1f77b4; fill-opacity: 0.3; stroke: #1f77b4; stroke-opacity: 0.3\"/>\n     <use xlink:href=\"#m61c1bc3ab7\" x=\"185.059126\" y=\"98.501355\" style=\"fill: #1f77b4; fill-opacity: 0.3; stroke: #1f77b4; stroke-opacity: 0.3\"/>\n     <use xlink:href=\"#m61c1bc3ab7\" x=\"115.8999\" y=\"49.52995\" style=\"fill: #1f77b4; fill-opacity: 0.3; stroke: #1f77b4; stroke-opacity: 0.3\"/>\n     <use xlink:href=\"#m61c1bc3ab7\" x=\"122.475531\" y=\"55.822575\" style=\"fill: #1f77b4; fill-opacity: 0.3; stroke: #1f77b4; stroke-opacity: 0.3\"/>\n     <use xlink:href=\"#m61c1bc3ab7\" x=\"152.399912\" y=\"80.512449\" style=\"fill: #1f77b4; fill-opacity: 0.3; stroke: #1f77b4; stroke-opacity: 0.3\"/>\n     <use xlink:href=\"#m61c1bc3ab7\" x=\"137.635758\" y=\"63.76824\" style=\"fill: #1f77b4; fill-opacity: 0.3; stroke: #1f77b4; stroke-opacity: 0.3\"/>\n     <use xlink:href=\"#m61c1bc3ab7\" x=\"144.528103\" y=\"73.366025\" style=\"fill: #1f77b4; fill-opacity: 0.3; stroke: #1f77b4; stroke-opacity: 0.3\"/>\n     <use xlink:href=\"#m61c1bc3ab7\" x=\"167.657816\" y=\"89.811939\" style=\"fill: #1f77b4; fill-opacity: 0.3; stroke: #1f77b4; stroke-opacity: 0.3\"/>\n     <use xlink:href=\"#m61c1bc3ab7\" x=\"105.471081\" y=\"48.110453\" style=\"fill: #1f77b4; fill-opacity: 0.3; stroke: #1f77b4; stroke-opacity: 0.3\"/>\n     <use xlink:href=\"#m61c1bc3ab7\" x=\"92.309557\" y=\"37.902068\" style=\"fill: #1f77b4; fill-opacity: 0.3; stroke: #1f77b4; stroke-opacity: 0.3\"/>\n     <use xlink:href=\"#m61c1bc3ab7\" x=\"107.410886\" y=\"46.389927\" style=\"fill: #1f77b4; fill-opacity: 0.3; stroke: #1f77b4; stroke-opacity: 0.3\"/>\n     <use xlink:href=\"#m61c1bc3ab7\" x=\"95.869263\" y=\"35.751009\" style=\"fill: #1f77b4; fill-opacity: 0.3; stroke: #1f77b4; stroke-opacity: 0.3\"/>\n     <use xlink:href=\"#m61c1bc3ab7\" x=\"134.25828\" y=\"61.733508\" style=\"fill: #1f77b4; fill-opacity: 0.3; stroke: #1f77b4; stroke-opacity: 0.3\"/>\n     <use xlink:href=\"#m61c1bc3ab7\" x=\"102.469918\" y=\"40.177493\" style=\"fill: #1f77b4; fill-opacity: 0.3; stroke: #1f77b4; stroke-opacity: 0.3\"/>\n     <use xlink:href=\"#m61c1bc3ab7\" x=\"126.564879\" y=\"62.808096\" style=\"fill: #1f77b4; fill-opacity: 0.3; stroke: #1f77b4; stroke-opacity: 0.3\"/>\n     <use xlink:href=\"#m61c1bc3ab7\" x=\"82.84187\" y=\"23.611078\" style=\"fill: #1f77b4; fill-opacity: 0.3; stroke: #1f77b4; stroke-opacity: 0.3\"/>\n     <use xlink:href=\"#m61c1bc3ab7\" x=\"152.189562\" y=\"73.899313\" style=\"fill: #1f77b4; fill-opacity: 0.3; stroke: #1f77b4; stroke-opacity: 0.3\"/>\n     <use xlink:href=\"#m61c1bc3ab7\" x=\"91.637093\" y=\"33.719255\" style=\"fill: #1f77b4; fill-opacity: 0.3; stroke: #1f77b4; stroke-opacity: 0.3\"/>\n     <use xlink:href=\"#m61c1bc3ab7\" x=\"160.364441\" y=\"85.367335\" style=\"fill: #1f77b4; fill-opacity: 0.3; stroke: #1f77b4; stroke-opacity: 0.3\"/>\n     <use xlink:href=\"#m61c1bc3ab7\" x=\"107.918278\" y=\"46.701066\" style=\"fill: #1f77b4; fill-opacity: 0.3; stroke: #1f77b4; stroke-opacity: 0.3\"/>\n     <use xlink:href=\"#m61c1bc3ab7\" x=\"122.945109\" y=\"58.37087\" style=\"fill: #1f77b4; fill-opacity: 0.3; stroke: #1f77b4; stroke-opacity: 0.3\"/>\n     <use xlink:href=\"#m61c1bc3ab7\" x=\"80.945842\" y=\"30.513107\" style=\"fill: #1f77b4; fill-opacity: 0.3; stroke: #1f77b4; stroke-opacity: 0.3\"/>\n     <use xlink:href=\"#m61c1bc3ab7\" x=\"126.282351\" y=\"62.732537\" style=\"fill: #1f77b4; fill-opacity: 0.3; stroke: #1f77b4; stroke-opacity: 0.3\"/>\n     <use xlink:href=\"#m61c1bc3ab7\" x=\"106.106784\" y=\"41.843305\" style=\"fill: #1f77b4; fill-opacity: 0.3; stroke: #1f77b4; stroke-opacity: 0.3\"/>\n     <use xlink:href=\"#m61c1bc3ab7\" x=\"179.13254\" y=\"96.261984\" style=\"fill: #1f77b4; fill-opacity: 0.3; stroke: #1f77b4; stroke-opacity: 0.3\"/>\n     <use xlink:href=\"#m61c1bc3ab7\" x=\"117.987728\" y=\"56.940722\" style=\"fill: #1f77b4; fill-opacity: 0.3; stroke: #1f77b4; stroke-opacity: 0.3\"/>\n     <use xlink:href=\"#m61c1bc3ab7\" x=\"147.392759\" y=\"72.434527\" style=\"fill: #1f77b4; fill-opacity: 0.3; stroke: #1f77b4; stroke-opacity: 0.3\"/>\n     <use xlink:href=\"#m61c1bc3ab7\" x=\"111.327429\" y=\"51.402922\" style=\"fill: #1f77b4; fill-opacity: 0.3; stroke: #1f77b4; stroke-opacity: 0.3\"/>\n     <use xlink:href=\"#m61c1bc3ab7\" x=\"109.779174\" y=\"45.613349\" style=\"fill: #1f77b4; fill-opacity: 0.3; stroke: #1f77b4; stroke-opacity: 0.3\"/>\n     <use xlink:href=\"#m61c1bc3ab7\" x=\"91.719047\" y=\"32.767104\" style=\"fill: #1f77b4; fill-opacity: 0.3; stroke: #1f77b4; stroke-opacity: 0.3\"/>\n     <use xlink:href=\"#m61c1bc3ab7\" x=\"154.93994\" y=\"79.249754\" style=\"fill: #1f77b4; fill-opacity: 0.3; stroke: #1f77b4; stroke-opacity: 0.3\"/>\n     <use xlink:href=\"#m61c1bc3ab7\" x=\"184.300172\" y=\"99.506661\" style=\"fill: #1f77b4; fill-opacity: 0.3; stroke: #1f77b4; stroke-opacity: 0.3\"/>\n     <use xlink:href=\"#m61c1bc3ab7\" x=\"88.874793\" y=\"34.609576\" style=\"fill: #1f77b4; fill-opacity: 0.3; stroke: #1f77b4; stroke-opacity: 0.3\"/>\n     <use xlink:href=\"#m61c1bc3ab7\" x=\"105.157346\" y=\"46.244685\" style=\"fill: #1f77b4; fill-opacity: 0.3; stroke: #1f77b4; stroke-opacity: 0.3\"/>\n     <use xlink:href=\"#m61c1bc3ab7\" x=\"92.069908\" y=\"40.587299\" style=\"fill: #1f77b4; fill-opacity: 0.3; stroke: #1f77b4; stroke-opacity: 0.3\"/>\n     <use xlink:href=\"#m61c1bc3ab7\" x=\"89.194932\" y=\"37.850711\" style=\"fill: #1f77b4; fill-opacity: 0.3; stroke: #1f77b4; stroke-opacity: 0.3\"/>\n     <use xlink:href=\"#m61c1bc3ab7\" x=\"134.623281\" y=\"69.9482\" style=\"fill: #1f77b4; fill-opacity: 0.3; stroke: #1f77b4; stroke-opacity: 0.3\"/>\n     <use xlink:href=\"#m61c1bc3ab7\" x=\"109.33319\" y=\"49.153651\" style=\"fill: #1f77b4; fill-opacity: 0.3; stroke: #1f77b4; stroke-opacity: 0.3\"/>\n     <use xlink:href=\"#m61c1bc3ab7\" x=\"173.755908\" y=\"94.528078\" style=\"fill: #1f77b4; fill-opacity: 0.3; stroke: #1f77b4; stroke-opacity: 0.3\"/>\n     <use xlink:href=\"#m61c1bc3ab7\" x=\"61.774804\" y=\"15.017303\" style=\"fill: #1f77b4; fill-opacity: 0.3; stroke: #1f77b4; stroke-opacity: 0.3\"/>\n     <use xlink:href=\"#m61c1bc3ab7\" x=\"184.41023\" y=\"104.95748\" style=\"fill: #1f77b4; fill-opacity: 0.3; stroke: #1f77b4; stroke-opacity: 0.3\"/>\n     <use xlink:href=\"#m61c1bc3ab7\" x=\"113.099165\" y=\"51.961443\" style=\"fill: #1f77b4; fill-opacity: 0.3; stroke: #1f77b4; stroke-opacity: 0.3\"/>\n     <use xlink:href=\"#m61c1bc3ab7\" x=\"118.238011\" y=\"54.601141\" style=\"fill: #1f77b4; fill-opacity: 0.3; stroke: #1f77b4; stroke-opacity: 0.3\"/>\n     <use xlink:href=\"#m61c1bc3ab7\" x=\"152.204663\" y=\"77.66377\" style=\"fill: #1f77b4; fill-opacity: 0.3; stroke: #1f77b4; stroke-opacity: 0.3\"/>\n     <use xlink:href=\"#m61c1bc3ab7\" x=\"118.026614\" y=\"54.957724\" style=\"fill: #1f77b4; fill-opacity: 0.3; stroke: #1f77b4; stroke-opacity: 0.3\"/>\n     <use xlink:href=\"#m61c1bc3ab7\" x=\"79.741806\" y=\"22.469037\" style=\"fill: #1f77b4; fill-opacity: 0.3; stroke: #1f77b4; stroke-opacity: 0.3\"/>\n     <use xlink:href=\"#m61c1bc3ab7\" x=\"95.271163\" y=\"40.323635\" style=\"fill: #1f77b4; fill-opacity: 0.3; stroke: #1f77b4; stroke-opacity: 0.3\"/>\n     <use xlink:href=\"#m61c1bc3ab7\" x=\"129.976478\" y=\"61.737449\" style=\"fill: #1f77b4; fill-opacity: 0.3; stroke: #1f77b4; stroke-opacity: 0.3\"/>\n     <use xlink:href=\"#m61c1bc3ab7\" x=\"82.660837\" y=\"29.063043\" style=\"fill: #1f77b4; fill-opacity: 0.3; stroke: #1f77b4; stroke-opacity: 0.3\"/>\n     <use xlink:href=\"#m61c1bc3ab7\" x=\"135.949183\" y=\"73.072177\" style=\"fill: #1f77b4; fill-opacity: 0.3; stroke: #1f77b4; stroke-opacity: 0.3\"/>\n     <use xlink:href=\"#m61c1bc3ab7\" x=\"139.787522\" y=\"72.051093\" style=\"fill: #1f77b4; fill-opacity: 0.3; stroke: #1f77b4; stroke-opacity: 0.3\"/>\n     <use xlink:href=\"#m61c1bc3ab7\" x=\"183.366283\" y=\"104.195709\" style=\"fill: #1f77b4; fill-opacity: 0.3; stroke: #1f77b4; stroke-opacity: 0.3\"/>\n     <use xlink:href=\"#m61c1bc3ab7\" x=\"68.627078\" y=\"28.350525\" style=\"fill: #1f77b4; fill-opacity: 0.3; stroke: #1f77b4; stroke-opacity: 0.3\"/>\n     <use xlink:href=\"#m61c1bc3ab7\" x=\"86.987743\" y=\"32.806422\" style=\"fill: #1f77b4; fill-opacity: 0.3; stroke: #1f77b4; stroke-opacity: 0.3\"/>\n     <use xlink:href=\"#m61c1bc3ab7\" x=\"145.866952\" y=\"77.11536\" style=\"fill: #1f77b4; fill-opacity: 0.3; stroke: #1f77b4; stroke-opacity: 0.3\"/>\n     <use xlink:href=\"#m61c1bc3ab7\" x=\"120.5231\" y=\"58.937441\" style=\"fill: #1f77b4; fill-opacity: 0.3; stroke: #1f77b4; stroke-opacity: 0.3\"/>\n     <use xlink:href=\"#m61c1bc3ab7\" x=\"112.041918\" y=\"46.077637\" style=\"fill: #1f77b4; fill-opacity: 0.3; stroke: #1f77b4; stroke-opacity: 0.3\"/>\n     <use xlink:href=\"#m61c1bc3ab7\" x=\"98.027557\" y=\"44.04376\" style=\"fill: #1f77b4; fill-opacity: 0.3; stroke: #1f77b4; stroke-opacity: 0.3\"/>\n     <use xlink:href=\"#m61c1bc3ab7\" x=\"79.576814\" y=\"28.475617\" style=\"fill: #1f77b4; fill-opacity: 0.3; stroke: #1f77b4; stroke-opacity: 0.3\"/>\n     <use xlink:href=\"#m61c1bc3ab7\" x=\"131.354338\" y=\"62.89074\" style=\"fill: #1f77b4; fill-opacity: 0.3; stroke: #1f77b4; stroke-opacity: 0.3\"/>\n     <use xlink:href=\"#m61c1bc3ab7\" x=\"154.923341\" y=\"82.802987\" style=\"fill: #1f77b4; fill-opacity: 0.3; stroke: #1f77b4; stroke-opacity: 0.3\"/>\n     <use xlink:href=\"#m61c1bc3ab7\" x=\"98.962615\" y=\"47.351364\" style=\"fill: #1f77b4; fill-opacity: 0.3; stroke: #1f77b4; stroke-opacity: 0.3\"/>\n     <use xlink:href=\"#m61c1bc3ab7\" x=\"140.322678\" y=\"70.277014\" style=\"fill: #1f77b4; fill-opacity: 0.3; stroke: #1f77b4; stroke-opacity: 0.3\"/>\n     <use xlink:href=\"#m61c1bc3ab7\" x=\"114.258808\" y=\"58.552376\" style=\"fill: #1f77b4; fill-opacity: 0.3; stroke: #1f77b4; stroke-opacity: 0.3\"/>\n     <use xlink:href=\"#m61c1bc3ab7\" x=\"141.447901\" y=\"70.861067\" style=\"fill: #1f77b4; fill-opacity: 0.3; stroke: #1f77b4; stroke-opacity: 0.3\"/>\n     <use xlink:href=\"#m61c1bc3ab7\" x=\"163.271519\" y=\"85.66571\" style=\"fill: #1f77b4; fill-opacity: 0.3; stroke: #1f77b4; stroke-opacity: 0.3\"/>\n     <use xlink:href=\"#m61c1bc3ab7\" x=\"118.498684\" y=\"55.858962\" style=\"fill: #1f77b4; fill-opacity: 0.3; stroke: #1f77b4; stroke-opacity: 0.3\"/>\n     <use xlink:href=\"#m61c1bc3ab7\" x=\"118.399279\" y=\"53.497814\" style=\"fill: #1f77b4; fill-opacity: 0.3; stroke: #1f77b4; stroke-opacity: 0.3\"/>\n     <use xlink:href=\"#m61c1bc3ab7\" x=\"167.725146\" y=\"86.965524\" style=\"fill: #1f77b4; fill-opacity: 0.3; stroke: #1f77b4; stroke-opacity: 0.3\"/>\n     <use xlink:href=\"#m61c1bc3ab7\" x=\"115.810828\" y=\"54.882904\" style=\"fill: #1f77b4; fill-opacity: 0.3; stroke: #1f77b4; stroke-opacity: 0.3\"/>\n     <use xlink:href=\"#m61c1bc3ab7\" x=\"93.353433\" y=\"38.676051\" style=\"fill: #1f77b4; fill-opacity: 0.3; stroke: #1f77b4; stroke-opacity: 0.3\"/>\n     <use xlink:href=\"#m61c1bc3ab7\" x=\"170.471679\" y=\"93.662037\" style=\"fill: #1f77b4; fill-opacity: 0.3; stroke: #1f77b4; stroke-opacity: 0.3\"/>\n     <use xlink:href=\"#m61c1bc3ab7\" x=\"88.355106\" y=\"34.047335\" style=\"fill: #1f77b4; fill-opacity: 0.3; stroke: #1f77b4; stroke-opacity: 0.3\"/>\n     <use xlink:href=\"#m61c1bc3ab7\" x=\"157.759435\" y=\"81.888209\" style=\"fill: #1f77b4; fill-opacity: 0.3; stroke: #1f77b4; stroke-opacity: 0.3\"/>\n     <use xlink:href=\"#m61c1bc3ab7\" x=\"103.341104\" y=\"46.500828\" style=\"fill: #1f77b4; fill-opacity: 0.3; stroke: #1f77b4; stroke-opacity: 0.3\"/>\n     <use xlink:href=\"#m61c1bc3ab7\" x=\"74.373572\" y=\"22.629316\" style=\"fill: #1f77b4; fill-opacity: 0.3; stroke: #1f77b4; stroke-opacity: 0.3\"/>\n     <use xlink:href=\"#m61c1bc3ab7\" x=\"123.803723\" y=\"59.002133\" style=\"fill: #1f77b4; fill-opacity: 0.3; stroke: #1f77b4; stroke-opacity: 0.3\"/>\n     <use xlink:href=\"#m61c1bc3ab7\" x=\"136.834768\" y=\"68.72049\" style=\"fill: #1f77b4; fill-opacity: 0.3; stroke: #1f77b4; stroke-opacity: 0.3\"/>\n     <use xlink:href=\"#m61c1bc3ab7\" x=\"126.961868\" y=\"61.884379\" style=\"fill: #1f77b4; fill-opacity: 0.3; stroke: #1f77b4; stroke-opacity: 0.3\"/>\n     <use xlink:href=\"#m61c1bc3ab7\" x=\"104.402162\" y=\"45.9996\" style=\"fill: #1f77b4; fill-opacity: 0.3; stroke: #1f77b4; stroke-opacity: 0.3\"/>\n     <use xlink:href=\"#m61c1bc3ab7\" x=\"132.26309\" y=\"67.302611\" style=\"fill: #1f77b4; fill-opacity: 0.3; stroke: #1f77b4; stroke-opacity: 0.3\"/>\n     <use xlink:href=\"#m61c1bc3ab7\" x=\"153.79501\" y=\"76.382136\" style=\"fill: #1f77b4; fill-opacity: 0.3; stroke: #1f77b4; stroke-opacity: 0.3\"/>\n     <use xlink:href=\"#m61c1bc3ab7\" x=\"108.006721\" y=\"48.369435\" style=\"fill: #1f77b4; fill-opacity: 0.3; stroke: #1f77b4; stroke-opacity: 0.3\"/>\n     <use xlink:href=\"#m61c1bc3ab7\" x=\"167.220739\" y=\"93.148284\" style=\"fill: #1f77b4; fill-opacity: 0.3; stroke: #1f77b4; stroke-opacity: 0.3\"/>\n     <use xlink:href=\"#m61c1bc3ab7\" x=\"150.565027\" y=\"84.124645\" style=\"fill: #1f77b4; fill-opacity: 0.3; stroke: #1f77b4; stroke-opacity: 0.3\"/>\n     <use xlink:href=\"#m61c1bc3ab7\" x=\"121.873224\" y=\"57.684748\" style=\"fill: #1f77b4; fill-opacity: 0.3; stroke: #1f77b4; stroke-opacity: 0.3\"/>\n     <use xlink:href=\"#m61c1bc3ab7\" x=\"93.252453\" y=\"39.753278\" style=\"fill: #1f77b4; fill-opacity: 0.3; stroke: #1f77b4; stroke-opacity: 0.3\"/>\n     <use xlink:href=\"#m61c1bc3ab7\" x=\"147.420302\" y=\"76.48325\" style=\"fill: #1f77b4; fill-opacity: 0.3; stroke: #1f77b4; stroke-opacity: 0.3\"/>\n     <use xlink:href=\"#m61c1bc3ab7\" x=\"150.944289\" y=\"84.718883\" style=\"fill: #1f77b4; fill-opacity: 0.3; stroke: #1f77b4; stroke-opacity: 0.3\"/>\n     <use xlink:href=\"#m61c1bc3ab7\" x=\"114.445516\" y=\"45.904949\" style=\"fill: #1f77b4; fill-opacity: 0.3; stroke: #1f77b4; stroke-opacity: 0.3\"/>\n     <use xlink:href=\"#m61c1bc3ab7\" x=\"138.812679\" y=\"70.845265\" style=\"fill: #1f77b4; fill-opacity: 0.3; stroke: #1f77b4; stroke-opacity: 0.3\"/>\n     <use xlink:href=\"#m61c1bc3ab7\" x=\"122.778483\" y=\"53.469488\" style=\"fill: #1f77b4; fill-opacity: 0.3; stroke: #1f77b4; stroke-opacity: 0.3\"/>\n     <use xlink:href=\"#m61c1bc3ab7\" x=\"170.330485\" y=\"95.348221\" style=\"fill: #1f77b4; fill-opacity: 0.3; stroke: #1f77b4; stroke-opacity: 0.3\"/>\n     <use xlink:href=\"#m61c1bc3ab7\" x=\"154.749392\" y=\"75.206994\" style=\"fill: #1f77b4; fill-opacity: 0.3; stroke: #1f77b4; stroke-opacity: 0.3\"/>\n     <use xlink:href=\"#m61c1bc3ab7\" x=\"137.539648\" y=\"67.179712\" style=\"fill: #1f77b4; fill-opacity: 0.3; stroke: #1f77b4; stroke-opacity: 0.3\"/>\n     <use xlink:href=\"#m61c1bc3ab7\" x=\"116.628277\" y=\"57.048619\" style=\"fill: #1f77b4; fill-opacity: 0.3; stroke: #1f77b4; stroke-opacity: 0.3\"/>\n     <use xlink:href=\"#m61c1bc3ab7\" x=\"144.469987\" y=\"74.496373\" style=\"fill: #1f77b4; fill-opacity: 0.3; stroke: #1f77b4; stroke-opacity: 0.3\"/>\n     <use xlink:href=\"#m61c1bc3ab7\" x=\"142.597712\" y=\"68.131775\" style=\"fill: #1f77b4; fill-opacity: 0.3; stroke: #1f77b4; stroke-opacity: 0.3\"/>\n     <use xlink:href=\"#m61c1bc3ab7\" x=\"91.081971\" y=\"31.016028\" style=\"fill: #1f77b4; fill-opacity: 0.3; stroke: #1f77b4; stroke-opacity: 0.3\"/>\n     <use xlink:href=\"#m61c1bc3ab7\" x=\"111.869222\" y=\"47.778549\" style=\"fill: #1f77b4; fill-opacity: 0.3; stroke: #1f77b4; stroke-opacity: 0.3\"/>\n     <use xlink:href=\"#m61c1bc3ab7\" x=\"119.250705\" y=\"49.0227\" style=\"fill: #1f77b4; fill-opacity: 0.3; stroke: #1f77b4; stroke-opacity: 0.3\"/>\n     <use xlink:href=\"#m61c1bc3ab7\" x=\"68.521145\" y=\"16.056826\" style=\"fill: #1f77b4; fill-opacity: 0.3; stroke: #1f77b4; stroke-opacity: 0.3\"/>\n     <use xlink:href=\"#m61c1bc3ab7\" x=\"98.76123\" y=\"42.051358\" style=\"fill: #1f77b4; fill-opacity: 0.3; stroke: #1f77b4; stroke-opacity: 0.3\"/>\n     <use xlink:href=\"#m61c1bc3ab7\" x=\"82.397854\" y=\"27.549454\" style=\"fill: #1f77b4; fill-opacity: 0.3; stroke: #1f77b4; stroke-opacity: 0.3\"/>\n     <use xlink:href=\"#m61c1bc3ab7\" x=\"210.056534\" y=\"113.04\" style=\"fill: #1f77b4; fill-opacity: 0.3; stroke: #1f77b4; stroke-opacity: 0.3\"/>\n     <use xlink:href=\"#m61c1bc3ab7\" x=\"109.144398\" y=\"53.354779\" style=\"fill: #1f77b4; fill-opacity: 0.3; stroke: #1f77b4; stroke-opacity: 0.3\"/>\n     <use xlink:href=\"#m61c1bc3ab7\" x=\"160.634302\" y=\"81.759625\" style=\"fill: #1f77b4; fill-opacity: 0.3; stroke: #1f77b4; stroke-opacity: 0.3\"/>\n     <use xlink:href=\"#m61c1bc3ab7\" x=\"88.205633\" y=\"37.566433\" style=\"fill: #1f77b4; fill-opacity: 0.3; stroke: #1f77b4; stroke-opacity: 0.3\"/>\n     <use xlink:href=\"#m61c1bc3ab7\" x=\"57.874716\" y=\"17.374321\" style=\"fill: #1f77b4; fill-opacity: 0.3; stroke: #1f77b4; stroke-opacity: 0.3\"/>\n     <use xlink:href=\"#m61c1bc3ab7\" x=\"111.769757\" y=\"45.262553\" style=\"fill: #1f77b4; fill-opacity: 0.3; stroke: #1f77b4; stroke-opacity: 0.3\"/>\n     <use xlink:href=\"#m61c1bc3ab7\" x=\"136.716954\" y=\"70.101325\" style=\"fill: #1f77b4; fill-opacity: 0.3; stroke: #1f77b4; stroke-opacity: 0.3\"/>\n     <use xlink:href=\"#m61c1bc3ab7\" x=\"92.080018\" y=\"35.628795\" style=\"fill: #1f77b4; fill-opacity: 0.3; stroke: #1f77b4; stroke-opacity: 0.3\"/>\n     <use xlink:href=\"#m61c1bc3ab7\" x=\"169.658148\" y=\"89.294615\" style=\"fill: #1f77b4; fill-opacity: 0.3; stroke: #1f77b4; stroke-opacity: 0.3\"/>\n     <use xlink:href=\"#m61c1bc3ab7\" x=\"121.766173\" y=\"62.851879\" style=\"fill: #1f77b4; fill-opacity: 0.3; stroke: #1f77b4; stroke-opacity: 0.3\"/>\n     <use xlink:href=\"#m61c1bc3ab7\" x=\"99.551374\" y=\"35.54067\" style=\"fill: #1f77b4; fill-opacity: 0.3; stroke: #1f77b4; stroke-opacity: 0.3\"/>\n     <use xlink:href=\"#m61c1bc3ab7\" x=\"106.234557\" y=\"41.27552\" style=\"fill: #1f77b4; fill-opacity: 0.3; stroke: #1f77b4; stroke-opacity: 0.3\"/>\n     <use xlink:href=\"#m61c1bc3ab7\" x=\"154.660941\" y=\"76.590592\" style=\"fill: #1f77b4; fill-opacity: 0.3; stroke: #1f77b4; stroke-opacity: 0.3\"/>\n     <use xlink:href=\"#m61c1bc3ab7\" x=\"117.848532\" y=\"54.151217\" style=\"fill: #1f77b4; fill-opacity: 0.3; stroke: #1f77b4; stroke-opacity: 0.3\"/>\n     <use xlink:href=\"#m61c1bc3ab7\" x=\"154.969357\" y=\"82.091409\" style=\"fill: #1f77b4; fill-opacity: 0.3; stroke: #1f77b4; stroke-opacity: 0.3\"/>\n     <use xlink:href=\"#m61c1bc3ab7\" x=\"163.193412\" y=\"88.456005\" style=\"fill: #1f77b4; fill-opacity: 0.3; stroke: #1f77b4; stroke-opacity: 0.3\"/>\n     <use xlink:href=\"#m61c1bc3ab7\" x=\"141.589522\" y=\"72.166919\" style=\"fill: #1f77b4; fill-opacity: 0.3; stroke: #1f77b4; stroke-opacity: 0.3\"/>\n     <use xlink:href=\"#m61c1bc3ab7\" x=\"143.79884\" y=\"72.431236\" style=\"fill: #1f77b4; fill-opacity: 0.3; stroke: #1f77b4; stroke-opacity: 0.3\"/>\n     <use xlink:href=\"#m61c1bc3ab7\" x=\"115.710763\" y=\"59.216131\" style=\"fill: #1f77b4; fill-opacity: 0.3; stroke: #1f77b4; stroke-opacity: 0.3\"/>\n     <use xlink:href=\"#m61c1bc3ab7\" x=\"166.34157\" y=\"91.414115\" style=\"fill: #1f77b4; fill-opacity: 0.3; stroke: #1f77b4; stroke-opacity: 0.3\"/>\n     <use xlink:href=\"#m61c1bc3ab7\" x=\"169.833721\" y=\"91.891697\" style=\"fill: #1f77b4; fill-opacity: 0.3; stroke: #1f77b4; stroke-opacity: 0.3\"/>\n     <use xlink:href=\"#m61c1bc3ab7\" x=\"143.228124\" y=\"70.327879\" style=\"fill: #1f77b4; fill-opacity: 0.3; stroke: #1f77b4; stroke-opacity: 0.3\"/>\n     <use xlink:href=\"#m61c1bc3ab7\" x=\"125.078968\" y=\"57.711175\" style=\"fill: #1f77b4; fill-opacity: 0.3; stroke: #1f77b4; stroke-opacity: 0.3\"/>\n     <use xlink:href=\"#m61c1bc3ab7\" x=\"140.633954\" y=\"68.719443\" style=\"fill: #1f77b4; fill-opacity: 0.3; stroke: #1f77b4; stroke-opacity: 0.3\"/>\n     <use xlink:href=\"#m61c1bc3ab7\" x=\"61.131639\" y=\"12.24\" style=\"fill: #1f77b4; fill-opacity: 0.3; stroke: #1f77b4; stroke-opacity: 0.3\"/>\n     <use xlink:href=\"#m61c1bc3ab7\" x=\"154.097016\" y=\"83.768051\" style=\"fill: #1f77b4; fill-opacity: 0.3; stroke: #1f77b4; stroke-opacity: 0.3\"/>\n     <use xlink:href=\"#m61c1bc3ab7\" x=\"79.862305\" y=\"29.611597\" style=\"fill: #1f77b4; fill-opacity: 0.3; stroke: #1f77b4; stroke-opacity: 0.3\"/>\n     <use xlink:href=\"#m61c1bc3ab7\" x=\"74.328902\" y=\"21.817752\" style=\"fill: #1f77b4; fill-opacity: 0.3; stroke: #1f77b4; stroke-opacity: 0.3\"/>\n     <use xlink:href=\"#m61c1bc3ab7\" x=\"134.625565\" y=\"62.771107\" style=\"fill: #1f77b4; fill-opacity: 0.3; stroke: #1f77b4; stroke-opacity: 0.3\"/>\n     <use xlink:href=\"#m61c1bc3ab7\" x=\"128.015467\" y=\"56.696788\" style=\"fill: #1f77b4; fill-opacity: 0.3; stroke: #1f77b4; stroke-opacity: 0.3\"/>\n     <use xlink:href=\"#m61c1bc3ab7\" x=\"85.733383\" y=\"27.711483\" style=\"fill: #1f77b4; fill-opacity: 0.3; stroke: #1f77b4; stroke-opacity: 0.3\"/>\n     <use xlink:href=\"#m61c1bc3ab7\" x=\"107.04017\" y=\"47.286408\" style=\"fill: #1f77b4; fill-opacity: 0.3; stroke: #1f77b4; stroke-opacity: 0.3\"/>\n     <use xlink:href=\"#m61c1bc3ab7\" x=\"98.263582\" y=\"36.972805\" style=\"fill: #1f77b4; fill-opacity: 0.3; stroke: #1f77b4; stroke-opacity: 0.3\"/>\n     <use xlink:href=\"#m61c1bc3ab7\" x=\"114.953436\" y=\"52.356636\" style=\"fill: #1f77b4; fill-opacity: 0.3; stroke: #1f77b4; stroke-opacity: 0.3\"/>\n     <use xlink:href=\"#m61c1bc3ab7\" x=\"130.844256\" y=\"63.526046\" style=\"fill: #1f77b4; fill-opacity: 0.3; stroke: #1f77b4; stroke-opacity: 0.3\"/>\n     <use xlink:href=\"#m61c1bc3ab7\" x=\"188.038791\" y=\"103.804906\" style=\"fill: #1f77b4; fill-opacity: 0.3; stroke: #1f77b4; stroke-opacity: 0.3\"/>\n     <use xlink:href=\"#m61c1bc3ab7\" x=\"105.328629\" y=\"46.418533\" style=\"fill: #1f77b4; fill-opacity: 0.3; stroke: #1f77b4; stroke-opacity: 0.3\"/>\n     <use xlink:href=\"#m61c1bc3ab7\" x=\"168.014109\" y=\"92.812214\" style=\"fill: #1f77b4; fill-opacity: 0.3; stroke: #1f77b4; stroke-opacity: 0.3\"/>\n     <use xlink:href=\"#m61c1bc3ab7\" x=\"183.755776\" y=\"99.251931\" style=\"fill: #1f77b4; fill-opacity: 0.3; stroke: #1f77b4; stroke-opacity: 0.3\"/>\n     <use xlink:href=\"#m61c1bc3ab7\" x=\"116.140009\" y=\"49.261179\" style=\"fill: #1f77b4; fill-opacity: 0.3; stroke: #1f77b4; stroke-opacity: 0.3\"/>\n     <use xlink:href=\"#m61c1bc3ab7\" x=\"114.139921\" y=\"53.561277\" style=\"fill: #1f77b4; fill-opacity: 0.3; stroke: #1f77b4; stroke-opacity: 0.3\"/>\n     <use xlink:href=\"#m61c1bc3ab7\" x=\"125.230239\" y=\"58.14453\" style=\"fill: #1f77b4; fill-opacity: 0.3; stroke: #1f77b4; stroke-opacity: 0.3\"/>\n     <use xlink:href=\"#m61c1bc3ab7\" x=\"141.457759\" y=\"74.674553\" style=\"fill: #1f77b4; fill-opacity: 0.3; stroke: #1f77b4; stroke-opacity: 0.3\"/>\n     <use xlink:href=\"#m61c1bc3ab7\" x=\"119.040799\" y=\"56.032928\" style=\"fill: #1f77b4; fill-opacity: 0.3; stroke: #1f77b4; stroke-opacity: 0.3\"/>\n     <use xlink:href=\"#m61c1bc3ab7\" x=\"105.314586\" y=\"42.147918\" style=\"fill: #1f77b4; fill-opacity: 0.3; stroke: #1f77b4; stroke-opacity: 0.3\"/>\n     <use xlink:href=\"#m61c1bc3ab7\" x=\"100.629553\" y=\"46.480019\" style=\"fill: #1f77b4; fill-opacity: 0.3; stroke: #1f77b4; stroke-opacity: 0.3\"/>\n     <use xlink:href=\"#m61c1bc3ab7\" x=\"172.716936\" y=\"91.210989\" style=\"fill: #1f77b4; fill-opacity: 0.3; stroke: #1f77b4; stroke-opacity: 0.3\"/>\n     <use xlink:href=\"#m61c1bc3ab7\" x=\"152.47637\" y=\"78.514355\" style=\"fill: #1f77b4; fill-opacity: 0.3; stroke: #1f77b4; stroke-opacity: 0.3\"/>\n     <use xlink:href=\"#m61c1bc3ab7\" x=\"101.340066\" y=\"44.467715\" style=\"fill: #1f77b4; fill-opacity: 0.3; stroke: #1f77b4; stroke-opacity: 0.3\"/>\n     <use xlink:href=\"#m61c1bc3ab7\" x=\"108.77284\" y=\"53.027182\" style=\"fill: #1f77b4; fill-opacity: 0.3; stroke: #1f77b4; stroke-opacity: 0.3\"/>\n     <use xlink:href=\"#m61c1bc3ab7\" x=\"168.404065\" y=\"92.985831\" style=\"fill: #1f77b4; fill-opacity: 0.3; stroke: #1f77b4; stroke-opacity: 0.3\"/>\n     <use xlink:href=\"#m61c1bc3ab7\" x=\"97.331819\" y=\"32.638317\" style=\"fill: #1f77b4; fill-opacity: 0.3; stroke: #1f77b4; stroke-opacity: 0.3\"/>\n     <use xlink:href=\"#m61c1bc3ab7\" x=\"140.610947\" y=\"75.711737\" style=\"fill: #1f77b4; fill-opacity: 0.3; stroke: #1f77b4; stroke-opacity: 0.3\"/>\n     <use xlink:href=\"#m61c1bc3ab7\" x=\"119.04989\" y=\"57.039959\" style=\"fill: #1f77b4; fill-opacity: 0.3; stroke: #1f77b4; stroke-opacity: 0.3\"/>\n     <use xlink:href=\"#m61c1bc3ab7\" x=\"132.142973\" y=\"67.410033\" style=\"fill: #1f77b4; fill-opacity: 0.3; stroke: #1f77b4; stroke-opacity: 0.3\"/>\n     <use xlink:href=\"#m61c1bc3ab7\" x=\"73.513601\" y=\"22.434415\" style=\"fill: #1f77b4; fill-opacity: 0.3; stroke: #1f77b4; stroke-opacity: 0.3\"/>\n     <use xlink:href=\"#m61c1bc3ab7\" x=\"170.701177\" y=\"90.614503\" style=\"fill: #1f77b4; fill-opacity: 0.3; stroke: #1f77b4; stroke-opacity: 0.3\"/>\n     <use xlink:href=\"#m61c1bc3ab7\" x=\"94.689742\" y=\"38.597327\" style=\"fill: #1f77b4; fill-opacity: 0.3; stroke: #1f77b4; stroke-opacity: 0.3\"/>\n     <use xlink:href=\"#m61c1bc3ab7\" x=\"120.81589\" y=\"54.580879\" style=\"fill: #1f77b4; fill-opacity: 0.3; stroke: #1f77b4; stroke-opacity: 0.3\"/>\n     <use xlink:href=\"#m61c1bc3ab7\" x=\"104.036611\" y=\"44.006339\" style=\"fill: #1f77b4; fill-opacity: 0.3; stroke: #1f77b4; stroke-opacity: 0.3\"/>\n     <use xlink:href=\"#m61c1bc3ab7\" x=\"141.403051\" y=\"73.596201\" style=\"fill: #1f77b4; fill-opacity: 0.3; stroke: #1f77b4; stroke-opacity: 0.3\"/>\n     <use xlink:href=\"#m61c1bc3ab7\" x=\"111.90865\" y=\"53.953216\" style=\"fill: #1f77b4; fill-opacity: 0.3; stroke: #1f77b4; stroke-opacity: 0.3\"/>\n     <use xlink:href=\"#m61c1bc3ab7\" x=\"140.459694\" y=\"75.227968\" style=\"fill: #1f77b4; fill-opacity: 0.3; stroke: #1f77b4; stroke-opacity: 0.3\"/>\n     <use xlink:href=\"#m61c1bc3ab7\" x=\"105.156791\" y=\"45.728502\" style=\"fill: #1f77b4; fill-opacity: 0.3; stroke: #1f77b4; stroke-opacity: 0.3\"/>\n     <use xlink:href=\"#m61c1bc3ab7\" x=\"116.64915\" y=\"52.438266\" style=\"fill: #1f77b4; fill-opacity: 0.3; stroke: #1f77b4; stroke-opacity: 0.3\"/>\n     <use xlink:href=\"#m61c1bc3ab7\" x=\"112.958171\" y=\"48.656449\" style=\"fill: #1f77b4; fill-opacity: 0.3; stroke: #1f77b4; stroke-opacity: 0.3\"/>\n     <use xlink:href=\"#m61c1bc3ab7\" x=\"108.341281\" y=\"42.040059\" style=\"fill: #1f77b4; fill-opacity: 0.3; stroke: #1f77b4; stroke-opacity: 0.3\"/>\n     <use xlink:href=\"#m61c1bc3ab7\" x=\"189.456487\" y=\"100.110829\" style=\"fill: #1f77b4; fill-opacity: 0.3; stroke: #1f77b4; stroke-opacity: 0.3\"/>\n     <use xlink:href=\"#m61c1bc3ab7\" x=\"156.145496\" y=\"80.26205\" style=\"fill: #1f77b4; fill-opacity: 0.3; stroke: #1f77b4; stroke-opacity: 0.3\"/>\n     <use xlink:href=\"#m61c1bc3ab7\" x=\"71.161447\" y=\"21.940923\" style=\"fill: #1f77b4; fill-opacity: 0.3; stroke: #1f77b4; stroke-opacity: 0.3\"/>\n     <use xlink:href=\"#m61c1bc3ab7\" x=\"143.289478\" y=\"63.697876\" style=\"fill: #1f77b4; fill-opacity: 0.3; stroke: #1f77b4; stroke-opacity: 0.3\"/>\n     <use xlink:href=\"#m61c1bc3ab7\" x=\"112.296818\" y=\"56.678038\" style=\"fill: #1f77b4; fill-opacity: 0.3; stroke: #1f77b4; stroke-opacity: 0.3\"/>\n     <use xlink:href=\"#m61c1bc3ab7\" x=\"100.045373\" y=\"43.974823\" style=\"fill: #1f77b4; fill-opacity: 0.3; stroke: #1f77b4; stroke-opacity: 0.3\"/>\n     <use xlink:href=\"#m61c1bc3ab7\" x=\"88.138823\" y=\"32.917549\" style=\"fill: #1f77b4; fill-opacity: 0.3; stroke: #1f77b4; stroke-opacity: 0.3\"/>\n     <use xlink:href=\"#m61c1bc3ab7\" x=\"123.405977\" y=\"58.476314\" style=\"fill: #1f77b4; fill-opacity: 0.3; stroke: #1f77b4; stroke-opacity: 0.3\"/>\n     <use xlink:href=\"#m61c1bc3ab7\" x=\"138.763377\" y=\"65.782917\" style=\"fill: #1f77b4; fill-opacity: 0.3; stroke: #1f77b4; stroke-opacity: 0.3\"/>\n     <use xlink:href=\"#m61c1bc3ab7\" x=\"106.329486\" y=\"46.160644\" style=\"fill: #1f77b4; fill-opacity: 0.3; stroke: #1f77b4; stroke-opacity: 0.3\"/>\n     <use xlink:href=\"#m61c1bc3ab7\" x=\"119.371501\" y=\"59.443494\" style=\"fill: #1f77b4; fill-opacity: 0.3; stroke: #1f77b4; stroke-opacity: 0.3\"/>\n     <use xlink:href=\"#m61c1bc3ab7\" x=\"112.627586\" y=\"54.883455\" style=\"fill: #1f77b4; fill-opacity: 0.3; stroke: #1f77b4; stroke-opacity: 0.3\"/>\n     <use xlink:href=\"#m61c1bc3ab7\" x=\"77.743258\" y=\"25.277436\" style=\"fill: #1f77b4; fill-opacity: 0.3; stroke: #1f77b4; stroke-opacity: 0.3\"/>\n     <use xlink:href=\"#m61c1bc3ab7\" x=\"195.005997\" y=\"108.246842\" style=\"fill: #1f77b4; fill-opacity: 0.3; stroke: #1f77b4; stroke-opacity: 0.3\"/>\n     <use xlink:href=\"#m61c1bc3ab7\" x=\"94.948237\" y=\"37.675398\" style=\"fill: #1f77b4; fill-opacity: 0.3; stroke: #1f77b4; stroke-opacity: 0.3\"/>\n     <use xlink:href=\"#m61c1bc3ab7\" x=\"123.609228\" y=\"61.711645\" style=\"fill: #1f77b4; fill-opacity: 0.3; stroke: #1f77b4; stroke-opacity: 0.3\"/>\n     <use xlink:href=\"#m61c1bc3ab7\" x=\"94.364885\" y=\"37.587342\" style=\"fill: #1f77b4; fill-opacity: 0.3; stroke: #1f77b4; stroke-opacity: 0.3\"/>\n     <use xlink:href=\"#m61c1bc3ab7\" x=\"127.040065\" y=\"62.095716\" style=\"fill: #1f77b4; fill-opacity: 0.3; stroke: #1f77b4; stroke-opacity: 0.3\"/>\n     <use xlink:href=\"#m61c1bc3ab7\" x=\"122.548185\" y=\"60.880453\" style=\"fill: #1f77b4; fill-opacity: 0.3; stroke: #1f77b4; stroke-opacity: 0.3\"/>\n     <use xlink:href=\"#m61c1bc3ab7\" x=\"96.457647\" y=\"38.143916\" style=\"fill: #1f77b4; fill-opacity: 0.3; stroke: #1f77b4; stroke-opacity: 0.3\"/>\n     <use xlink:href=\"#m61c1bc3ab7\" x=\"59.935422\" y=\"13.945932\" style=\"fill: #1f77b4; fill-opacity: 0.3; stroke: #1f77b4; stroke-opacity: 0.3\"/>\n     <use xlink:href=\"#m61c1bc3ab7\" x=\"101.120113\" y=\"44.961272\" style=\"fill: #1f77b4; fill-opacity: 0.3; stroke: #1f77b4; stroke-opacity: 0.3\"/>\n     <use xlink:href=\"#m61c1bc3ab7\" x=\"166.54461\" y=\"90.233481\" style=\"fill: #1f77b4; fill-opacity: 0.3; stroke: #1f77b4; stroke-opacity: 0.3\"/>\n     <use xlink:href=\"#m61c1bc3ab7\" x=\"110.175487\" y=\"52.216624\" style=\"fill: #1f77b4; fill-opacity: 0.3; stroke: #1f77b4; stroke-opacity: 0.3\"/>\n     <use xlink:href=\"#m61c1bc3ab7\" x=\"93.65939\" y=\"36.353995\" style=\"fill: #1f77b4; fill-opacity: 0.3; stroke: #1f77b4; stroke-opacity: 0.3\"/>\n     <use xlink:href=\"#m61c1bc3ab7\" x=\"123.764256\" y=\"60.29279\" style=\"fill: #1f77b4; fill-opacity: 0.3; stroke: #1f77b4; stroke-opacity: 0.3\"/>\n     <use xlink:href=\"#m61c1bc3ab7\" x=\"124.184168\" y=\"68.243491\" style=\"fill: #1f77b4; fill-opacity: 0.3; stroke: #1f77b4; stroke-opacity: 0.3\"/>\n    </g>\n   </g>\n   <g id=\"patch_3\">\n    <path d=\"M 50.265625 118.08 \nL 50.265625 7.2 \n\" style=\"fill: none; stroke: #000000; stroke-width: 0.8; stroke-linejoin: miter; stroke-linecap: square\"/>\n   </g>\n   <g id=\"patch_4\">\n    <path d=\"M 217.665625 118.08 \nL 217.665625 7.2 \n\" style=\"fill: none; stroke: #000000; stroke-width: 0.8; stroke-linejoin: miter; stroke-linecap: square\"/>\n   </g>\n   <g id=\"patch_5\">\n    <path d=\"M 50.265625 118.08 \nL 217.665625 118.08 \n\" style=\"fill: none; stroke: #000000; stroke-width: 0.8; stroke-linejoin: miter; stroke-linecap: square\"/>\n   </g>\n   <g id=\"patch_6\">\n    <path d=\"M 50.265625 7.2 \nL 217.665625 7.2 \n\" style=\"fill: none; stroke: #000000; stroke-width: 0.8; stroke-linejoin: miter; stroke-linecap: square\"/>\n   </g>\n  </g>\n </g>\n <defs>\n  <clipPath id=\"p4547e68ed8\">\n   <rect x=\"50.265625\" y=\"7.2\" width=\"167.4\" height=\"110.88\"/>\n  </clipPath>\n </defs>\n</svg>\n"
          },
          "metadata": {}
        }
      ]
    },
    {
      "cell_type": "code",
      "source": [
        "# c is what I called b above!\n",
        "beta1 = -6\n",
        "beta2 = 1\n",
        "c_range = np.linspace(-0.9,0.9,20)\n",
        "cv = np.zeros(len(c_range))\n",
        "for k in range(len(c_range)):\n",
        "  df = sample_dist(beta1,beta2,c_range[k])\n",
        "\n",
        "  # standardize\n",
        "  z1 = (df.beta1.values - np.mean(df.beta1.values))/np.std(df.beta1.values)\n",
        "  z2 = (df.beta2.values - np.mean(df.beta2.values))/np.std(df.beta2.values)\n",
        "\n",
        "  # compute the correlation coefficient (which is covariance for standardized variables)\n",
        "  cv[k] = np.cov(z1,z2)[1,0]"
      ],
      "metadata": {
        "id": "6z0UicZNPtiZ"
      },
      "execution_count": null,
      "outputs": []
    },
    {
      "cell_type": "code",
      "source": [
        "# now we plot the correrelation coefficient as a function of $c$\n",
        "fig, ax = plt.subplots(figsize=(4,2))\n",
        "ax.plot(c_range,cv,\"+-\")\n",
        "ax.set_xlabel(\"c\")\n",
        "ax.set_ylabel(r\"$\\rho$ between a1 and a2\")"
      ],
      "metadata": {
        "colab": {
          "base_uri": "https://localhost:8080/",
          "height": 250
        },
        "id": "MrtvP-z1RgLa",
        "outputId": "a1e7932d-607b-40cd-a976-91ef4c08d1b8"
      },
      "execution_count": null,
      "outputs": [
        {
          "output_type": "execute_result",
          "data": {
            "text/plain": [
              "Text(0, 0.5, '$\\\\rho$ between a1 and a2')"
            ]
          },
          "metadata": {},
          "execution_count": 86
        },
        {
          "output_type": "display_data",
          "data": {
            "text/plain": [
              "<Figure size 400x200 with 1 Axes>"
            ],
            "image/svg+xml": "<?xml version=\"1.0\" encoding=\"utf-8\" standalone=\"no\"?>\n<!DOCTYPE svg PUBLIC \"-//W3C//DTD SVG 1.1//EN\"\n  \"http://www.w3.org/Graphics/SVG/1.1/DTD/svg11.dtd\">\n<svg xmlns:xlink=\"http://www.w3.org/1999/xlink\" width=\"282.582812pt\" height=\"158.246909pt\" viewBox=\"0 0 282.582812 158.246909\" xmlns=\"http://www.w3.org/2000/svg\" version=\"1.1\">\n <metadata>\n  <rdf:RDF xmlns:dc=\"http://purl.org/dc/elements/1.1/\" xmlns:cc=\"http://creativecommons.org/ns#\" xmlns:rdf=\"http://www.w3.org/1999/02/22-rdf-syntax-ns#\">\n   <cc:Work>\n    <dc:type rdf:resource=\"http://purl.org/dc/dcmitype/StillImage\"/>\n    <dc:date>2023-10-12T15:54:16.641363</dc:date>\n    <dc:format>image/svg+xml</dc:format>\n    <dc:creator>\n     <cc:Agent>\n      <dc:title>Matplotlib v3.7.1, https://matplotlib.org/</dc:title>\n     </cc:Agent>\n    </dc:creator>\n   </cc:Work>\n  </rdf:RDF>\n </metadata>\n <defs>\n  <style type=\"text/css\">*{stroke-linejoin: round; stroke-linecap: butt}</style>\n </defs>\n <g id=\"figure_1\">\n  <g id=\"patch_1\">\n   <path d=\"M 0 158.246909 \nL 282.582812 158.246909 \nL 282.582812 0 \nL 0 0 \nz\n\" style=\"fill: #ffffff\"/>\n  </g>\n  <g id=\"axes_1\">\n   <g id=\"patch_2\">\n    <path d=\"M 52.182813 120.690659 \nL 275.382812 120.690659 \nL 275.382812 9.810659 \nL 52.182813 9.810659 \nz\n\" style=\"fill: #ffffff\"/>\n   </g>\n   <g id=\"matplotlib.axis_1\">\n    <g id=\"xtick_1\">\n     <g id=\"line2d_1\">\n      <defs>\n       <path id=\"ma6e934bdd0\" d=\"M 0 0 \nL 0 3.5 \n\" style=\"stroke: #000000; stroke-width: 0.8\"/>\n      </defs>\n      <g>\n       <use xlink:href=\"#ma6e934bdd0\" x=\"107.419176\" y=\"120.690659\" style=\"stroke: #000000; stroke-width: 0.8\"/>\n      </g>\n     </g>\n     <g id=\"text_1\">\n      <!-- −0.5 -->\n      <g transform=\"translate(95.27777 135.289096) scale(0.1 -0.1)\">\n       <defs>\n        <path id=\"DejaVuSans-2212\" d=\"M 678 2272 \nL 4684 2272 \nL 4684 1741 \nL 678 1741 \nL 678 2272 \nz\n\" transform=\"scale(0.015625)\"/>\n        <path id=\"DejaVuSans-30\" d=\"M 2034 4250 \nQ 1547 4250 1301 3770 \nQ 1056 3291 1056 2328 \nQ 1056 1369 1301 889 \nQ 1547 409 2034 409 \nQ 2525 409 2770 889 \nQ 3016 1369 3016 2328 \nQ 3016 3291 2770 3770 \nQ 2525 4250 2034 4250 \nz\nM 2034 4750 \nQ 2819 4750 3233 4129 \nQ 3647 3509 3647 2328 \nQ 3647 1150 3233 529 \nQ 2819 -91 2034 -91 \nQ 1250 -91 836 529 \nQ 422 1150 422 2328 \nQ 422 3509 836 4129 \nQ 1250 4750 2034 4750 \nz\n\" transform=\"scale(0.015625)\"/>\n        <path id=\"DejaVuSans-2e\" d=\"M 684 794 \nL 1344 794 \nL 1344 0 \nL 684 0 \nL 684 794 \nz\n\" transform=\"scale(0.015625)\"/>\n        <path id=\"DejaVuSans-35\" d=\"M 691 4666 \nL 3169 4666 \nL 3169 4134 \nL 1269 4134 \nL 1269 2991 \nQ 1406 3038 1543 3061 \nQ 1681 3084 1819 3084 \nQ 2600 3084 3056 2656 \nQ 3513 2228 3513 1497 \nQ 3513 744 3044 326 \nQ 2575 -91 1722 -91 \nQ 1428 -91 1123 -41 \nQ 819 9 494 109 \nL 494 744 \nQ 775 591 1075 516 \nQ 1375 441 1709 441 \nQ 2250 441 2565 725 \nQ 2881 1009 2881 1497 \nQ 2881 1984 2565 2268 \nQ 2250 2553 1709 2553 \nQ 1456 2553 1204 2497 \nQ 953 2441 691 2322 \nL 691 4666 \nz\n\" transform=\"scale(0.015625)\"/>\n       </defs>\n       <use xlink:href=\"#DejaVuSans-2212\"/>\n       <use xlink:href=\"#DejaVuSans-30\" x=\"83.789062\"/>\n       <use xlink:href=\"#DejaVuSans-2e\" x=\"147.412109\"/>\n       <use xlink:href=\"#DejaVuSans-35\" x=\"179.199219\"/>\n      </g>\n     </g>\n    </g>\n    <g id=\"xtick_2\">\n     <g id=\"line2d_2\">\n      <g>\n       <use xlink:href=\"#ma6e934bdd0\" x=\"163.782813\" y=\"120.690659\" style=\"stroke: #000000; stroke-width: 0.8\"/>\n      </g>\n     </g>\n     <g id=\"text_2\">\n      <!-- 0.0 -->\n      <g transform=\"translate(155.83125 135.289096) scale(0.1 -0.1)\">\n       <use xlink:href=\"#DejaVuSans-30\"/>\n       <use xlink:href=\"#DejaVuSans-2e\" x=\"63.623047\"/>\n       <use xlink:href=\"#DejaVuSans-30\" x=\"95.410156\"/>\n      </g>\n     </g>\n    </g>\n    <g id=\"xtick_3\">\n     <g id=\"line2d_3\">\n      <g>\n       <use xlink:href=\"#ma6e934bdd0\" x=\"220.146449\" y=\"120.690659\" style=\"stroke: #000000; stroke-width: 0.8\"/>\n      </g>\n     </g>\n     <g id=\"text_3\">\n      <!-- 0.5 -->\n      <g transform=\"translate(212.194886 135.289096) scale(0.1 -0.1)\">\n       <use xlink:href=\"#DejaVuSans-30\"/>\n       <use xlink:href=\"#DejaVuSans-2e\" x=\"63.623047\"/>\n       <use xlink:href=\"#DejaVuSans-35\" x=\"95.410156\"/>\n      </g>\n     </g>\n    </g>\n    <g id=\"text_4\">\n     <!-- c -->\n     <g transform=\"translate(161.033594 148.967221) scale(0.1 -0.1)\">\n      <defs>\n       <path id=\"DejaVuSans-63\" d=\"M 3122 3366 \nL 3122 2828 \nQ 2878 2963 2633 3030 \nQ 2388 3097 2138 3097 \nQ 1578 3097 1268 2742 \nQ 959 2388 959 1747 \nQ 959 1106 1268 751 \nQ 1578 397 2138 397 \nQ 2388 397 2633 464 \nQ 2878 531 3122 666 \nL 3122 134 \nQ 2881 22 2623 -34 \nQ 2366 -91 2075 -91 \nQ 1284 -91 818 406 \nQ 353 903 353 1747 \nQ 353 2603 823 3093 \nQ 1294 3584 2113 3584 \nQ 2378 3584 2631 3529 \nQ 2884 3475 3122 3366 \nz\n\" transform=\"scale(0.015625)\"/>\n      </defs>\n      <use xlink:href=\"#DejaVuSans-63\"/>\n     </g>\n    </g>\n   </g>\n   <g id=\"matplotlib.axis_2\">\n    <g id=\"ytick_1\">\n     <g id=\"line2d_4\">\n      <defs>\n       <path id=\"m87da521d26\" d=\"M 0 0 \nL -3.5 0 \n\" style=\"stroke: #000000; stroke-width: 0.8\"/>\n      </defs>\n      <g>\n       <use xlink:href=\"#m87da521d26\" x=\"52.182813\" y=\"93.370049\" style=\"stroke: #000000; stroke-width: 0.8\"/>\n      </g>\n     </g>\n     <g id=\"text_5\">\n      <!-- −0.5 -->\n      <g transform=\"translate(20.9 97.169268) scale(0.1 -0.1)\">\n       <use xlink:href=\"#DejaVuSans-2212\"/>\n       <use xlink:href=\"#DejaVuSans-30\" x=\"83.789062\"/>\n       <use xlink:href=\"#DejaVuSans-2e\" x=\"147.412109\"/>\n       <use xlink:href=\"#DejaVuSans-35\" x=\"179.199219\"/>\n      </g>\n     </g>\n    </g>\n    <g id=\"ytick_2\">\n     <g id=\"line2d_5\">\n      <g>\n       <use xlink:href=\"#m87da521d26\" x=\"52.182813\" y=\"65.913106\" style=\"stroke: #000000; stroke-width: 0.8\"/>\n      </g>\n     </g>\n     <g id=\"text_6\">\n      <!-- 0.0 -->\n      <g transform=\"translate(29.279688 69.712325) scale(0.1 -0.1)\">\n       <use xlink:href=\"#DejaVuSans-30\"/>\n       <use xlink:href=\"#DejaVuSans-2e\" x=\"63.623047\"/>\n       <use xlink:href=\"#DejaVuSans-30\" x=\"95.410156\"/>\n      </g>\n     </g>\n    </g>\n    <g id=\"ytick_3\">\n     <g id=\"line2d_6\">\n      <g>\n       <use xlink:href=\"#m87da521d26\" x=\"52.182813\" y=\"38.456162\" style=\"stroke: #000000; stroke-width: 0.8\"/>\n      </g>\n     </g>\n     <g id=\"text_7\">\n      <!-- 0.5 -->\n      <g transform=\"translate(29.279688 42.255381) scale(0.1 -0.1)\">\n       <use xlink:href=\"#DejaVuSans-30\"/>\n       <use xlink:href=\"#DejaVuSans-2e\" x=\"63.623047\"/>\n       <use xlink:href=\"#DejaVuSans-35\" x=\"95.410156\"/>\n      </g>\n     </g>\n    </g>\n    <g id=\"ytick_4\">\n     <g id=\"line2d_7\">\n      <g>\n       <use xlink:href=\"#m87da521d26\" x=\"52.182813\" y=\"10.999219\" style=\"stroke: #000000; stroke-width: 0.8\"/>\n      </g>\n     </g>\n     <g id=\"text_8\">\n      <!-- 1.0 -->\n      <g transform=\"translate(29.279688 14.798438) scale(0.1 -0.1)\">\n       <defs>\n        <path id=\"DejaVuSans-31\" d=\"M 794 531 \nL 1825 531 \nL 1825 4091 \nL 703 3866 \nL 703 4441 \nL 1819 4666 \nL 2450 4666 \nL 2450 531 \nL 3481 531 \nL 3481 0 \nL 794 0 \nL 794 531 \nz\n\" transform=\"scale(0.015625)\"/>\n       </defs>\n       <use xlink:href=\"#DejaVuSans-31\"/>\n       <use xlink:href=\"#DejaVuSans-2e\" x=\"63.623047\"/>\n       <use xlink:href=\"#DejaVuSans-30\" x=\"95.410156\"/>\n      </g>\n     </g>\n    </g>\n    <g id=\"text_9\">\n     <!-- $\\rho$ between a1 and a2 -->\n     <g transform=\"translate(14.8 118.300659) rotate(-90) scale(0.1 -0.1)\">\n      <defs>\n       <path id=\"DejaVuSans-Oblique-3c1\" d=\"M 1203 2875 \nQ 1453 3194 1981 3475 \nQ 2188 3584 2756 3584 \nQ 3394 3584 3694 3078 \nQ 3994 2572 3834 1747 \nQ 3672 922 3175 415 \nQ 2678 -91 2041 -91 \nQ 1656 -91 1409 63 \nQ 1163 213 1044 525 \nL 681 -1331 \nL 103 -1331 \nL 697 1716 \nQ 838 2438 1203 2875 \nz\nM 3238 1747 \nQ 3359 2381 3169 2744 \nQ 2978 3103 2522 3103 \nQ 2066 3103 1734 2744 \nQ 1403 2381 1281 1747 \nQ 1156 1113 1347 750 \nQ 1538 391 1994 391 \nQ 2450 391 2781 750 \nQ 3113 1113 3238 1747 \nz\n\" transform=\"scale(0.015625)\"/>\n       <path id=\"DejaVuSans-20\" transform=\"scale(0.015625)\"/>\n       <path id=\"DejaVuSans-62\" d=\"M 3116 1747 \nQ 3116 2381 2855 2742 \nQ 2594 3103 2138 3103 \nQ 1681 3103 1420 2742 \nQ 1159 2381 1159 1747 \nQ 1159 1113 1420 752 \nQ 1681 391 2138 391 \nQ 2594 391 2855 752 \nQ 3116 1113 3116 1747 \nz\nM 1159 2969 \nQ 1341 3281 1617 3432 \nQ 1894 3584 2278 3584 \nQ 2916 3584 3314 3078 \nQ 3713 2572 3713 1747 \nQ 3713 922 3314 415 \nQ 2916 -91 2278 -91 \nQ 1894 -91 1617 61 \nQ 1341 213 1159 525 \nL 1159 0 \nL 581 0 \nL 581 4863 \nL 1159 4863 \nL 1159 2969 \nz\n\" transform=\"scale(0.015625)\"/>\n       <path id=\"DejaVuSans-65\" d=\"M 3597 1894 \nL 3597 1613 \nL 953 1613 \nQ 991 1019 1311 708 \nQ 1631 397 2203 397 \nQ 2534 397 2845 478 \nQ 3156 559 3463 722 \nL 3463 178 \nQ 3153 47 2828 -22 \nQ 2503 -91 2169 -91 \nQ 1331 -91 842 396 \nQ 353 884 353 1716 \nQ 353 2575 817 3079 \nQ 1281 3584 2069 3584 \nQ 2775 3584 3186 3129 \nQ 3597 2675 3597 1894 \nz\nM 3022 2063 \nQ 3016 2534 2758 2815 \nQ 2500 3097 2075 3097 \nQ 1594 3097 1305 2825 \nQ 1016 2553 972 2059 \nL 3022 2063 \nz\n\" transform=\"scale(0.015625)\"/>\n       <path id=\"DejaVuSans-74\" d=\"M 1172 4494 \nL 1172 3500 \nL 2356 3500 \nL 2356 3053 \nL 1172 3053 \nL 1172 1153 \nQ 1172 725 1289 603 \nQ 1406 481 1766 481 \nL 2356 481 \nL 2356 0 \nL 1766 0 \nQ 1100 0 847 248 \nQ 594 497 594 1153 \nL 594 3053 \nL 172 3053 \nL 172 3500 \nL 594 3500 \nL 594 4494 \nL 1172 4494 \nz\n\" transform=\"scale(0.015625)\"/>\n       <path id=\"DejaVuSans-77\" d=\"M 269 3500 \nL 844 3500 \nL 1563 769 \nL 2278 3500 \nL 2956 3500 \nL 3675 769 \nL 4391 3500 \nL 4966 3500 \nL 4050 0 \nL 3372 0 \nL 2619 2869 \nL 1863 0 \nL 1184 0 \nL 269 3500 \nz\n\" transform=\"scale(0.015625)\"/>\n       <path id=\"DejaVuSans-6e\" d=\"M 3513 2113 \nL 3513 0 \nL 2938 0 \nL 2938 2094 \nQ 2938 2591 2744 2837 \nQ 2550 3084 2163 3084 \nQ 1697 3084 1428 2787 \nQ 1159 2491 1159 1978 \nL 1159 0 \nL 581 0 \nL 581 3500 \nL 1159 3500 \nL 1159 2956 \nQ 1366 3272 1645 3428 \nQ 1925 3584 2291 3584 \nQ 2894 3584 3203 3211 \nQ 3513 2838 3513 2113 \nz\n\" transform=\"scale(0.015625)\"/>\n       <path id=\"DejaVuSans-61\" d=\"M 2194 1759 \nQ 1497 1759 1228 1600 \nQ 959 1441 959 1056 \nQ 959 750 1161 570 \nQ 1363 391 1709 391 \nQ 2188 391 2477 730 \nQ 2766 1069 2766 1631 \nL 2766 1759 \nL 2194 1759 \nz\nM 3341 1997 \nL 3341 0 \nL 2766 0 \nL 2766 531 \nQ 2569 213 2275 61 \nQ 1981 -91 1556 -91 \nQ 1019 -91 701 211 \nQ 384 513 384 1019 \nQ 384 1609 779 1909 \nQ 1175 2209 1959 2209 \nL 2766 2209 \nL 2766 2266 \nQ 2766 2663 2505 2880 \nQ 2244 3097 1772 3097 \nQ 1472 3097 1187 3025 \nQ 903 2953 641 2809 \nL 641 3341 \nQ 956 3463 1253 3523 \nQ 1550 3584 1831 3584 \nQ 2591 3584 2966 3190 \nQ 3341 2797 3341 1997 \nz\n\" transform=\"scale(0.015625)\"/>\n       <path id=\"DejaVuSans-64\" d=\"M 2906 2969 \nL 2906 4863 \nL 3481 4863 \nL 3481 0 \nL 2906 0 \nL 2906 525 \nQ 2725 213 2448 61 \nQ 2172 -91 1784 -91 \nQ 1150 -91 751 415 \nQ 353 922 353 1747 \nQ 353 2572 751 3078 \nQ 1150 3584 1784 3584 \nQ 2172 3584 2448 3432 \nQ 2725 3281 2906 2969 \nz\nM 947 1747 \nQ 947 1113 1208 752 \nQ 1469 391 1925 391 \nQ 2381 391 2643 752 \nQ 2906 1113 2906 1747 \nQ 2906 2381 2643 2742 \nQ 2381 3103 1925 3103 \nQ 1469 3103 1208 2742 \nQ 947 2381 947 1747 \nz\n\" transform=\"scale(0.015625)\"/>\n       <path id=\"DejaVuSans-32\" d=\"M 1228 531 \nL 3431 531 \nL 3431 0 \nL 469 0 \nL 469 531 \nQ 828 903 1448 1529 \nQ 2069 2156 2228 2338 \nQ 2531 2678 2651 2914 \nQ 2772 3150 2772 3378 \nQ 2772 3750 2511 3984 \nQ 2250 4219 1831 4219 \nQ 1534 4219 1204 4116 \nQ 875 4013 500 3803 \nL 500 4441 \nQ 881 4594 1212 4672 \nQ 1544 4750 1819 4750 \nQ 2544 4750 2975 4387 \nQ 3406 4025 3406 3419 \nQ 3406 3131 3298 2873 \nQ 3191 2616 2906 2266 \nQ 2828 2175 2409 1742 \nQ 1991 1309 1228 531 \nz\n\" transform=\"scale(0.015625)\"/>\n      </defs>\n      <use xlink:href=\"#DejaVuSans-Oblique-3c1\" transform=\"translate(0 0.015625)\"/>\n      <use xlink:href=\"#DejaVuSans-20\" transform=\"translate(63.476562 0.015625)\"/>\n      <use xlink:href=\"#DejaVuSans-62\" transform=\"translate(95.263672 0.015625)\"/>\n      <use xlink:href=\"#DejaVuSans-65\" transform=\"translate(158.740234 0.015625)\"/>\n      <use xlink:href=\"#DejaVuSans-74\" transform=\"translate(220.263672 0.015625)\"/>\n      <use xlink:href=\"#DejaVuSans-77\" transform=\"translate(259.472656 0.015625)\"/>\n      <use xlink:href=\"#DejaVuSans-65\" transform=\"translate(341.259766 0.015625)\"/>\n      <use xlink:href=\"#DejaVuSans-65\" transform=\"translate(402.783203 0.015625)\"/>\n      <use xlink:href=\"#DejaVuSans-6e\" transform=\"translate(464.306641 0.015625)\"/>\n      <use xlink:href=\"#DejaVuSans-20\" transform=\"translate(527.685547 0.015625)\"/>\n      <use xlink:href=\"#DejaVuSans-61\" transform=\"translate(559.472656 0.015625)\"/>\n      <use xlink:href=\"#DejaVuSans-31\" transform=\"translate(620.751953 0.015625)\"/>\n      <use xlink:href=\"#DejaVuSans-20\" transform=\"translate(684.375 0.015625)\"/>\n      <use xlink:href=\"#DejaVuSans-61\" transform=\"translate(716.162109 0.015625)\"/>\n      <use xlink:href=\"#DejaVuSans-6e\" transform=\"translate(777.441406 0.015625)\"/>\n      <use xlink:href=\"#DejaVuSans-64\" transform=\"translate(840.820312 0.015625)\"/>\n      <use xlink:href=\"#DejaVuSans-20\" transform=\"translate(904.296875 0.015625)\"/>\n      <use xlink:href=\"#DejaVuSans-61\" transform=\"translate(936.083984 0.015625)\"/>\n      <use xlink:href=\"#DejaVuSans-32\" transform=\"translate(997.363281 0.015625)\"/>\n     </g>\n    </g>\n   </g>\n   <g id=\"line2d_8\">\n    <path d=\"M 62.328267 14.850659 \nL 73.007693 20.184351 \nL 83.687119 26.449507 \nL 94.366545 27.118703 \nL 105.04597 37.949909 \nL 115.725396 46.543002 \nL 126.404822 55.123335 \nL 137.084248 58.579818 \nL 147.763674 39.104337 \nL 158.4431 79.280092 \nL 169.122525 70.719844 \nL 179.801951 68.307312 \nL 190.481377 83.440894 \nL 201.160803 88.965186 \nL 211.840229 99.966615 \nL 222.519655 88.76679 \nL 233.19908 97.995317 \nL 243.878506 105.227606 \nL 254.557932 107.672717 \nL 265.237358 115.650659 \n\" clip-path=\"url(#p3eb59c4bd5)\" style=\"fill: none; stroke: #1f77b4; stroke-width: 1.5; stroke-linecap: square\"/>\n    <defs>\n     <path id=\"m8b7512d33a\" d=\"M -3 0 \nL 3 0 \nM 0 3 \nL 0 -3 \n\" style=\"stroke: #1f77b4\"/>\n    </defs>\n    <g clip-path=\"url(#p3eb59c4bd5)\">\n     <use xlink:href=\"#m8b7512d33a\" x=\"62.328267\" y=\"14.850659\" style=\"fill: #1f77b4; stroke: #1f77b4\"/>\n     <use xlink:href=\"#m8b7512d33a\" x=\"73.007693\" y=\"20.184351\" style=\"fill: #1f77b4; stroke: #1f77b4\"/>\n     <use xlink:href=\"#m8b7512d33a\" x=\"83.687119\" y=\"26.449507\" style=\"fill: #1f77b4; stroke: #1f77b4\"/>\n     <use xlink:href=\"#m8b7512d33a\" x=\"94.366545\" y=\"27.118703\" style=\"fill: #1f77b4; stroke: #1f77b4\"/>\n     <use xlink:href=\"#m8b7512d33a\" x=\"105.04597\" y=\"37.949909\" style=\"fill: #1f77b4; stroke: #1f77b4\"/>\n     <use xlink:href=\"#m8b7512d33a\" x=\"115.725396\" y=\"46.543002\" style=\"fill: #1f77b4; stroke: #1f77b4\"/>\n     <use xlink:href=\"#m8b7512d33a\" x=\"126.404822\" y=\"55.123335\" style=\"fill: #1f77b4; stroke: #1f77b4\"/>\n     <use xlink:href=\"#m8b7512d33a\" x=\"137.084248\" y=\"58.579818\" style=\"fill: #1f77b4; stroke: #1f77b4\"/>\n     <use xlink:href=\"#m8b7512d33a\" x=\"147.763674\" y=\"39.104337\" style=\"fill: #1f77b4; stroke: #1f77b4\"/>\n     <use xlink:href=\"#m8b7512d33a\" x=\"158.4431\" y=\"79.280092\" style=\"fill: #1f77b4; stroke: #1f77b4\"/>\n     <use xlink:href=\"#m8b7512d33a\" x=\"169.122525\" y=\"70.719844\" style=\"fill: #1f77b4; stroke: #1f77b4\"/>\n     <use xlink:href=\"#m8b7512d33a\" x=\"179.801951\" y=\"68.307312\" style=\"fill: #1f77b4; stroke: #1f77b4\"/>\n     <use xlink:href=\"#m8b7512d33a\" x=\"190.481377\" y=\"83.440894\" style=\"fill: #1f77b4; stroke: #1f77b4\"/>\n     <use xlink:href=\"#m8b7512d33a\" x=\"201.160803\" y=\"88.965186\" style=\"fill: #1f77b4; stroke: #1f77b4\"/>\n     <use xlink:href=\"#m8b7512d33a\" x=\"211.840229\" y=\"99.966615\" style=\"fill: #1f77b4; stroke: #1f77b4\"/>\n     <use xlink:href=\"#m8b7512d33a\" x=\"222.519655\" y=\"88.76679\" style=\"fill: #1f77b4; stroke: #1f77b4\"/>\n     <use xlink:href=\"#m8b7512d33a\" x=\"233.19908\" y=\"97.995317\" style=\"fill: #1f77b4; stroke: #1f77b4\"/>\n     <use xlink:href=\"#m8b7512d33a\" x=\"243.878506\" y=\"105.227606\" style=\"fill: #1f77b4; stroke: #1f77b4\"/>\n     <use xlink:href=\"#m8b7512d33a\" x=\"254.557932\" y=\"107.672717\" style=\"fill: #1f77b4; stroke: #1f77b4\"/>\n     <use xlink:href=\"#m8b7512d33a\" x=\"265.237358\" y=\"115.650659\" style=\"fill: #1f77b4; stroke: #1f77b4\"/>\n    </g>\n   </g>\n   <g id=\"patch_3\">\n    <path d=\"M 52.182813 120.690659 \nL 52.182813 9.810659 \n\" style=\"fill: none; stroke: #000000; stroke-width: 0.8; stroke-linejoin: miter; stroke-linecap: square\"/>\n   </g>\n   <g id=\"patch_4\">\n    <path d=\"M 275.382812 120.690659 \nL 275.382812 9.810659 \n\" style=\"fill: none; stroke: #000000; stroke-width: 0.8; stroke-linejoin: miter; stroke-linecap: square\"/>\n   </g>\n   <g id=\"patch_5\">\n    <path d=\"M 52.182812 120.690659 \nL 275.382812 120.690659 \n\" style=\"fill: none; stroke: #000000; stroke-width: 0.8; stroke-linejoin: miter; stroke-linecap: square\"/>\n   </g>\n   <g id=\"patch_6\">\n    <path d=\"M 52.182812 9.810659 \nL 275.382812 9.810659 \n\" style=\"fill: none; stroke: #000000; stroke-width: 0.8; stroke-linejoin: miter; stroke-linecap: square\"/>\n   </g>\n  </g>\n </g>\n <defs>\n  <clipPath id=\"p3eb59c4bd5\">\n   <rect x=\"52.182813\" y=\"9.810659\" width=\"223.2\" height=\"110.88\"/>\n  </clipPath>\n </defs>\n</svg>\n"
          },
          "metadata": {}
        }
      ]
    },
    {
      "cell_type": "code",
      "source": [
        "x = np.random.pareto(1,100)\n",
        "plt.plot(x)"
      ],
      "metadata": {
        "colab": {
          "base_uri": "https://localhost:8080/",
          "height": 435
        },
        "id": "BRZrchkhvv1f",
        "outputId": "1cb5facf-454e-45b0-f3f3-6cca616cdb40"
      },
      "execution_count": null,
      "outputs": [
        {
          "output_type": "execute_result",
          "data": {
            "text/plain": [
              "[<matplotlib.lines.Line2D at 0x79ab332c48e0>]"
            ]
          },
          "metadata": {},
          "execution_count": 9
        },
        {
          "output_type": "display_data",
          "data": {
            "text/plain": [
              "<Figure size 640x480 with 1 Axes>"
            ],
            "image/svg+xml": "<?xml version=\"1.0\" encoding=\"utf-8\" standalone=\"no\"?>\n<!DOCTYPE svg PUBLIC \"-//W3C//DTD SVG 1.1//EN\"\n  \"http://www.w3.org/Graphics/SVG/1.1/DTD/svg11.dtd\">\n<svg xmlns:xlink=\"http://www.w3.org/1999/xlink\" width=\"397.6075pt\" height=\"297.190125pt\" viewBox=\"0 0 397.6075 297.190125\" xmlns=\"http://www.w3.org/2000/svg\" version=\"1.1\">\n <metadata>\n  <rdf:RDF xmlns:dc=\"http://purl.org/dc/elements/1.1/\" xmlns:cc=\"http://creativecommons.org/ns#\" xmlns:rdf=\"http://www.w3.org/1999/02/22-rdf-syntax-ns#\">\n   <cc:Work>\n    <dc:type rdf:resource=\"http://purl.org/dc/dcmitype/StillImage\"/>\n    <dc:date>2023-10-11T01:32:10.531527</dc:date>\n    <dc:format>image/svg+xml</dc:format>\n    <dc:creator>\n     <cc:Agent>\n      <dc:title>Matplotlib v3.7.1, https://matplotlib.org/</dc:title>\n     </cc:Agent>\n    </dc:creator>\n   </cc:Work>\n  </rdf:RDF>\n </metadata>\n <defs>\n  <style type=\"text/css\">*{stroke-linejoin: round; stroke-linecap: butt}</style>\n </defs>\n <g id=\"figure_1\">\n  <g id=\"patch_1\">\n   <path d=\"M 0 297.190125 \nL 397.6075 297.190125 \nL 397.6075 0 \nL 0 0 \nz\n\" style=\"fill: #ffffff\"/>\n  </g>\n  <g id=\"axes_1\">\n   <g id=\"patch_2\">\n    <path d=\"M 33.2875 273.312 \nL 390.4075 273.312 \nL 390.4075 7.2 \nL 33.2875 7.2 \nz\n\" style=\"fill: #ffffff\"/>\n   </g>\n   <g id=\"matplotlib.axis_1\">\n    <g id=\"xtick_1\">\n     <g id=\"line2d_1\">\n      <defs>\n       <path id=\"m082a68f694\" d=\"M 0 0 \nL 0 3.5 \n\" style=\"stroke: #000000; stroke-width: 0.8\"/>\n      </defs>\n      <g>\n       <use xlink:href=\"#m082a68f694\" x=\"49.520227\" y=\"273.312\" style=\"stroke: #000000; stroke-width: 0.8\"/>\n      </g>\n     </g>\n     <g id=\"text_1\">\n      <!-- 0 -->\n      <g transform=\"translate(46.338977 287.910437) scale(0.1 -0.1)\">\n       <defs>\n        <path id=\"DejaVuSans-30\" d=\"M 2034 4250 \nQ 1547 4250 1301 3770 \nQ 1056 3291 1056 2328 \nQ 1056 1369 1301 889 \nQ 1547 409 2034 409 \nQ 2525 409 2770 889 \nQ 3016 1369 3016 2328 \nQ 3016 3291 2770 3770 \nQ 2525 4250 2034 4250 \nz\nM 2034 4750 \nQ 2819 4750 3233 4129 \nQ 3647 3509 3647 2328 \nQ 3647 1150 3233 529 \nQ 2819 -91 2034 -91 \nQ 1250 -91 836 529 \nQ 422 1150 422 2328 \nQ 422 3509 836 4129 \nQ 1250 4750 2034 4750 \nz\n\" transform=\"scale(0.015625)\"/>\n       </defs>\n       <use xlink:href=\"#DejaVuSans-30\"/>\n      </g>\n     </g>\n    </g>\n    <g id=\"xtick_2\">\n     <g id=\"line2d_2\">\n      <g>\n       <use xlink:href=\"#m082a68f694\" x=\"115.107004\" y=\"273.312\" style=\"stroke: #000000; stroke-width: 0.8\"/>\n      </g>\n     </g>\n     <g id=\"text_2\">\n      <!-- 20 -->\n      <g transform=\"translate(108.744504 287.910437) scale(0.1 -0.1)\">\n       <defs>\n        <path id=\"DejaVuSans-32\" d=\"M 1228 531 \nL 3431 531 \nL 3431 0 \nL 469 0 \nL 469 531 \nQ 828 903 1448 1529 \nQ 2069 2156 2228 2338 \nQ 2531 2678 2651 2914 \nQ 2772 3150 2772 3378 \nQ 2772 3750 2511 3984 \nQ 2250 4219 1831 4219 \nQ 1534 4219 1204 4116 \nQ 875 4013 500 3803 \nL 500 4441 \nQ 881 4594 1212 4672 \nQ 1544 4750 1819 4750 \nQ 2544 4750 2975 4387 \nQ 3406 4025 3406 3419 \nQ 3406 3131 3298 2873 \nQ 3191 2616 2906 2266 \nQ 2828 2175 2409 1742 \nQ 1991 1309 1228 531 \nz\n\" transform=\"scale(0.015625)\"/>\n       </defs>\n       <use xlink:href=\"#DejaVuSans-32\"/>\n       <use xlink:href=\"#DejaVuSans-30\" x=\"63.623047\"/>\n      </g>\n     </g>\n    </g>\n    <g id=\"xtick_3\">\n     <g id=\"line2d_3\">\n      <g>\n       <use xlink:href=\"#m082a68f694\" x=\"180.693781\" y=\"273.312\" style=\"stroke: #000000; stroke-width: 0.8\"/>\n      </g>\n     </g>\n     <g id=\"text_3\">\n      <!-- 40 -->\n      <g transform=\"translate(174.331281 287.910437) scale(0.1 -0.1)\">\n       <defs>\n        <path id=\"DejaVuSans-34\" d=\"M 2419 4116 \nL 825 1625 \nL 2419 1625 \nL 2419 4116 \nz\nM 2253 4666 \nL 3047 4666 \nL 3047 1625 \nL 3713 1625 \nL 3713 1100 \nL 3047 1100 \nL 3047 0 \nL 2419 0 \nL 2419 1100 \nL 313 1100 \nL 313 1709 \nL 2253 4666 \nz\n\" transform=\"scale(0.015625)\"/>\n       </defs>\n       <use xlink:href=\"#DejaVuSans-34\"/>\n       <use xlink:href=\"#DejaVuSans-30\" x=\"63.623047\"/>\n      </g>\n     </g>\n    </g>\n    <g id=\"xtick_4\">\n     <g id=\"line2d_4\">\n      <g>\n       <use xlink:href=\"#m082a68f694\" x=\"246.280558\" y=\"273.312\" style=\"stroke: #000000; stroke-width: 0.8\"/>\n      </g>\n     </g>\n     <g id=\"text_4\">\n      <!-- 60 -->\n      <g transform=\"translate(239.918058 287.910437) scale(0.1 -0.1)\">\n       <defs>\n        <path id=\"DejaVuSans-36\" d=\"M 2113 2584 \nQ 1688 2584 1439 2293 \nQ 1191 2003 1191 1497 \nQ 1191 994 1439 701 \nQ 1688 409 2113 409 \nQ 2538 409 2786 701 \nQ 3034 994 3034 1497 \nQ 3034 2003 2786 2293 \nQ 2538 2584 2113 2584 \nz\nM 3366 4563 \nL 3366 3988 \nQ 3128 4100 2886 4159 \nQ 2644 4219 2406 4219 \nQ 1781 4219 1451 3797 \nQ 1122 3375 1075 2522 \nQ 1259 2794 1537 2939 \nQ 1816 3084 2150 3084 \nQ 2853 3084 3261 2657 \nQ 3669 2231 3669 1497 \nQ 3669 778 3244 343 \nQ 2819 -91 2113 -91 \nQ 1303 -91 875 529 \nQ 447 1150 447 2328 \nQ 447 3434 972 4092 \nQ 1497 4750 2381 4750 \nQ 2619 4750 2861 4703 \nQ 3103 4656 3366 4563 \nz\n\" transform=\"scale(0.015625)\"/>\n       </defs>\n       <use xlink:href=\"#DejaVuSans-36\"/>\n       <use xlink:href=\"#DejaVuSans-30\" x=\"63.623047\"/>\n      </g>\n     </g>\n    </g>\n    <g id=\"xtick_5\">\n     <g id=\"line2d_5\">\n      <g>\n       <use xlink:href=\"#m082a68f694\" x=\"311.867335\" y=\"273.312\" style=\"stroke: #000000; stroke-width: 0.8\"/>\n      </g>\n     </g>\n     <g id=\"text_5\">\n      <!-- 80 -->\n      <g transform=\"translate(305.504835 287.910437) scale(0.1 -0.1)\">\n       <defs>\n        <path id=\"DejaVuSans-38\" d=\"M 2034 2216 \nQ 1584 2216 1326 1975 \nQ 1069 1734 1069 1313 \nQ 1069 891 1326 650 \nQ 1584 409 2034 409 \nQ 2484 409 2743 651 \nQ 3003 894 3003 1313 \nQ 3003 1734 2745 1975 \nQ 2488 2216 2034 2216 \nz\nM 1403 2484 \nQ 997 2584 770 2862 \nQ 544 3141 544 3541 \nQ 544 4100 942 4425 \nQ 1341 4750 2034 4750 \nQ 2731 4750 3128 4425 \nQ 3525 4100 3525 3541 \nQ 3525 3141 3298 2862 \nQ 3072 2584 2669 2484 \nQ 3125 2378 3379 2068 \nQ 3634 1759 3634 1313 \nQ 3634 634 3220 271 \nQ 2806 -91 2034 -91 \nQ 1263 -91 848 271 \nQ 434 634 434 1313 \nQ 434 1759 690 2068 \nQ 947 2378 1403 2484 \nz\nM 1172 3481 \nQ 1172 3119 1398 2916 \nQ 1625 2713 2034 2713 \nQ 2441 2713 2670 2916 \nQ 2900 3119 2900 3481 \nQ 2900 3844 2670 4047 \nQ 2441 4250 2034 4250 \nQ 1625 4250 1398 4047 \nQ 1172 3844 1172 3481 \nz\n\" transform=\"scale(0.015625)\"/>\n       </defs>\n       <use xlink:href=\"#DejaVuSans-38\"/>\n       <use xlink:href=\"#DejaVuSans-30\" x=\"63.623047\"/>\n      </g>\n     </g>\n    </g>\n    <g id=\"xtick_6\">\n     <g id=\"line2d_6\">\n      <g>\n       <use xlink:href=\"#m082a68f694\" x=\"377.454112\" y=\"273.312\" style=\"stroke: #000000; stroke-width: 0.8\"/>\n      </g>\n     </g>\n     <g id=\"text_6\">\n      <!-- 100 -->\n      <g transform=\"translate(367.910362 287.910437) scale(0.1 -0.1)\">\n       <defs>\n        <path id=\"DejaVuSans-31\" d=\"M 794 531 \nL 1825 531 \nL 1825 4091 \nL 703 3866 \nL 703 4441 \nL 1819 4666 \nL 2450 4666 \nL 2450 531 \nL 3481 531 \nL 3481 0 \nL 794 0 \nL 794 531 \nz\n\" transform=\"scale(0.015625)\"/>\n       </defs>\n       <use xlink:href=\"#DejaVuSans-31\"/>\n       <use xlink:href=\"#DejaVuSans-30\" x=\"63.623047\"/>\n       <use xlink:href=\"#DejaVuSans-30\" x=\"127.246094\"/>\n      </g>\n     </g>\n    </g>\n   </g>\n   <g id=\"matplotlib.axis_2\">\n    <g id=\"ytick_1\">\n     <g id=\"line2d_7\">\n      <defs>\n       <path id=\"m695ea4da32\" d=\"M 0 0 \nL -3.5 0 \n\" style=\"stroke: #000000; stroke-width: 0.8\"/>\n      </defs>\n      <g>\n       <use xlink:href=\"#m695ea4da32\" x=\"33.2875\" y=\"261.257801\" style=\"stroke: #000000; stroke-width: 0.8\"/>\n      </g>\n     </g>\n     <g id=\"text_7\">\n      <!-- 0 -->\n      <g transform=\"translate(19.925 265.05702) scale(0.1 -0.1)\">\n       <use xlink:href=\"#DejaVuSans-30\"/>\n      </g>\n     </g>\n    </g>\n    <g id=\"ytick_2\">\n     <g id=\"line2d_8\">\n      <g>\n       <use xlink:href=\"#m695ea4da32\" x=\"33.2875\" y=\"224.286402\" style=\"stroke: #000000; stroke-width: 0.8\"/>\n      </g>\n     </g>\n     <g id=\"text_8\">\n      <!-- 20 -->\n      <g transform=\"translate(13.5625 228.085621) scale(0.1 -0.1)\">\n       <use xlink:href=\"#DejaVuSans-32\"/>\n       <use xlink:href=\"#DejaVuSans-30\" x=\"63.623047\"/>\n      </g>\n     </g>\n    </g>\n    <g id=\"ytick_3\">\n     <g id=\"line2d_9\">\n      <g>\n       <use xlink:href=\"#m695ea4da32\" x=\"33.2875\" y=\"187.315003\" style=\"stroke: #000000; stroke-width: 0.8\"/>\n      </g>\n     </g>\n     <g id=\"text_9\">\n      <!-- 40 -->\n      <g transform=\"translate(13.5625 191.114222) scale(0.1 -0.1)\">\n       <use xlink:href=\"#DejaVuSans-34\"/>\n       <use xlink:href=\"#DejaVuSans-30\" x=\"63.623047\"/>\n      </g>\n     </g>\n    </g>\n    <g id=\"ytick_4\">\n     <g id=\"line2d_10\">\n      <g>\n       <use xlink:href=\"#m695ea4da32\" x=\"33.2875\" y=\"150.343603\" style=\"stroke: #000000; stroke-width: 0.8\"/>\n      </g>\n     </g>\n     <g id=\"text_10\">\n      <!-- 60 -->\n      <g transform=\"translate(13.5625 154.142822) scale(0.1 -0.1)\">\n       <use xlink:href=\"#DejaVuSans-36\"/>\n       <use xlink:href=\"#DejaVuSans-30\" x=\"63.623047\"/>\n      </g>\n     </g>\n    </g>\n    <g id=\"ytick_5\">\n     <g id=\"line2d_11\">\n      <g>\n       <use xlink:href=\"#m695ea4da32\" x=\"33.2875\" y=\"113.372204\" style=\"stroke: #000000; stroke-width: 0.8\"/>\n      </g>\n     </g>\n     <g id=\"text_11\">\n      <!-- 80 -->\n      <g transform=\"translate(13.5625 117.171423) scale(0.1 -0.1)\">\n       <use xlink:href=\"#DejaVuSans-38\"/>\n       <use xlink:href=\"#DejaVuSans-30\" x=\"63.623047\"/>\n      </g>\n     </g>\n    </g>\n    <g id=\"ytick_6\">\n     <g id=\"line2d_12\">\n      <g>\n       <use xlink:href=\"#m695ea4da32\" x=\"33.2875\" y=\"76.400805\" style=\"stroke: #000000; stroke-width: 0.8\"/>\n      </g>\n     </g>\n     <g id=\"text_12\">\n      <!-- 100 -->\n      <g transform=\"translate(7.2 80.200024) scale(0.1 -0.1)\">\n       <use xlink:href=\"#DejaVuSans-31\"/>\n       <use xlink:href=\"#DejaVuSans-30\" x=\"63.623047\"/>\n       <use xlink:href=\"#DejaVuSans-30\" x=\"127.246094\"/>\n      </g>\n     </g>\n    </g>\n    <g id=\"ytick_7\">\n     <g id=\"line2d_13\">\n      <g>\n       <use xlink:href=\"#m695ea4da32\" x=\"33.2875\" y=\"39.429406\" style=\"stroke: #000000; stroke-width: 0.8\"/>\n      </g>\n     </g>\n     <g id=\"text_13\">\n      <!-- 120 -->\n      <g transform=\"translate(7.2 43.228624) scale(0.1 -0.1)\">\n       <use xlink:href=\"#DejaVuSans-31\"/>\n       <use xlink:href=\"#DejaVuSans-32\" x=\"63.623047\"/>\n       <use xlink:href=\"#DejaVuSans-30\" x=\"127.246094\"/>\n      </g>\n     </g>\n    </g>\n   </g>\n   <g id=\"line2d_14\">\n    <path d=\"M 49.520227 261.146864 \nL 52.799566 257.211182 \nL 56.078905 259.32962 \nL 59.358244 257.545 \nL 62.637583 260.430862 \nL 65.916921 261.029968 \nL 69.19626 249.490784 \nL 72.475599 258.032943 \nL 75.754938 260.813665 \nL 79.034277 261.07162 \nL 82.313616 260.648402 \nL 85.592955 261.041075 \nL 88.872293 260.959445 \nL 92.151632 230.427664 \nL 95.430971 257.210655 \nL 98.71031 260.952613 \nL 101.989649 260.877147 \nL 105.268988 252.574219 \nL 108.548326 255.608438 \nL 111.827665 228.848514 \nL 115.107004 260.847831 \nL 118.386343 258.932496 \nL 121.665682 257.69632 \nL 124.945021 240.153332 \nL 128.22436 260.310751 \nL 131.503698 259.016723 \nL 134.783037 258.385851 \nL 138.062376 245.98757 \nL 141.341715 261.046505 \nL 144.621054 256.400247 \nL 147.900393 259.440244 \nL 151.179731 244.091555 \nL 154.45907 260.230436 \nL 157.738409 258.919761 \nL 161.017748 258.259801 \nL 164.297087 258.597012 \nL 167.576426 259.8069 \nL 170.855764 215.876193 \nL 174.135103 259.536234 \nL 177.414442 257.387083 \nL 180.693781 260.895523 \nL 183.97312 257.020553 \nL 187.252459 258.397352 \nL 190.531798 260.941365 \nL 193.811136 261.216 \nL 197.090475 260.769223 \nL 200.369814 261.137084 \nL 203.649153 259.265646 \nL 206.928492 261.015424 \nL 210.207831 250.953778 \nL 213.487169 260.569169 \nL 216.766508 253.145269 \nL 220.045847 261.142033 \nL 223.325186 259.671982 \nL 226.604525 244.920524 \nL 229.883864 258.189861 \nL 233.163202 254.664088 \nL 236.442541 260.541656 \nL 239.72188 260.801169 \nL 243.001219 260.211782 \nL 246.280558 258.749305 \nL 249.559897 19.296 \nL 252.839236 261.200876 \nL 256.118574 237.326758 \nL 259.397913 256.893141 \nL 262.677252 253.242389 \nL 265.956591 257.06358 \nL 269.23593 261.214009 \nL 272.515269 260.996857 \nL 275.794607 256.164645 \nL 279.073946 255.512135 \nL 282.353285 257.258192 \nL 285.632624 260.163315 \nL 288.911963 259.605266 \nL 292.191302 257.144516 \nL 295.47064 260.714569 \nL 298.749979 259.838142 \nL 302.029318 259.642394 \nL 305.308657 260.58987 \nL 308.587996 252.021912 \nL 311.867335 250.288715 \nL 315.146674 260.04775 \nL 318.426012 261.181183 \nL 321.705351 250.983297 \nL 324.98469 259.12969 \nL 328.264029 251.878217 \nL 331.543368 214.935585 \nL 334.822707 260.50147 \nL 338.102045 260.673381 \nL 341.381384 260.628461 \nL 344.660723 261.070058 \nL 347.940062 256.850311 \nL 351.219401 260.747692 \nL 354.49874 261.187115 \nL 357.778079 260.956749 \nL 361.057417 235.858225 \nL 364.336756 255.089107 \nL 367.616095 260.315736 \nL 370.895434 249.816345 \nL 374.174773 251.333161 \n\" clip-path=\"url(#p6819c399ef)\" style=\"fill: none; stroke: #1f77b4; stroke-width: 1.5; stroke-linecap: square\"/>\n   </g>\n   <g id=\"patch_3\">\n    <path d=\"M 33.2875 273.312 \nL 33.2875 7.2 \n\" style=\"fill: none; stroke: #000000; stroke-width: 0.8; stroke-linejoin: miter; stroke-linecap: square\"/>\n   </g>\n   <g id=\"patch_4\">\n    <path d=\"M 390.4075 273.312 \nL 390.4075 7.2 \n\" style=\"fill: none; stroke: #000000; stroke-width: 0.8; stroke-linejoin: miter; stroke-linecap: square\"/>\n   </g>\n   <g id=\"patch_5\">\n    <path d=\"M 33.2875 273.312 \nL 390.4075 273.312 \n\" style=\"fill: none; stroke: #000000; stroke-width: 0.8; stroke-linejoin: miter; stroke-linecap: square\"/>\n   </g>\n   <g id=\"patch_6\">\n    <path d=\"M 33.2875 7.2 \nL 390.4075 7.2 \n\" style=\"fill: none; stroke: #000000; stroke-width: 0.8; stroke-linejoin: miter; stroke-linecap: square\"/>\n   </g>\n  </g>\n </g>\n <defs>\n  <clipPath id=\"p6819c399ef\">\n   <rect x=\"33.2875\" y=\"7.2\" width=\"357.12\" height=\"266.112\"/>\n  </clipPath>\n </defs>\n</svg>\n"
          },
          "metadata": {}
        }
      ]
    },
    {
      "cell_type": "markdown",
      "source": [
        "# Working with catagorical predictors and large numbers of predictors"
      ],
      "metadata": {
        "id": "GU7xY3TPy-KZ"
      }
    },
    {
      "cell_type": "markdown",
      "metadata": {
        "id": "4NutzhZ1H5z5"
      },
      "source": [
        "## Example 6 (earnings data)\n"
      ]
    },
    {
      "cell_type": "code",
      "source": [
        "data = pd.read_csv(\"https://raw.githubusercontent.com/avehtari/ROS-Examples/master/Earnings/data/earnings.csv\")\n",
        "data = data.dropna() # this line of code drops any rows that are \"nan\", which means they are missing data.\n",
        "data"
      ],
      "metadata": {
        "colab": {
          "base_uri": "https://localhost:8080/",
          "height": 443
        },
        "id": "-e8lUTlaNEPk",
        "outputId": "5f2c0530-7cb9-4d28-d6ee-d80a26e23def"
      },
      "execution_count": null,
      "outputs": [
        {
          "output_type": "execute_result",
          "data": {
            "text/plain": [
              "      height  weight  male     earn  earnk ethnicity  education  \\\n",
              "0         74   210.0     1  50000.0   50.0     White       16.0   \n",
              "1         66   125.0     0  60000.0   60.0     White       16.0   \n",
              "2         64   126.0     0  30000.0   30.0     White       16.0   \n",
              "4         63   110.0     0  50000.0   50.0     Other       16.0   \n",
              "5         68   165.0     0  62000.0   62.0     Black       18.0   \n",
              "...      ...     ...   ...      ...    ...       ...        ...   \n",
              "1811      61   120.0     0  15000.0   15.0     White       18.0   \n",
              "1812      64   130.0     0   8000.0    8.0     White       12.0   \n",
              "1813      72   194.0     1  60000.0   60.0     White       12.0   \n",
              "1814      63   155.0     0  15000.0   15.0     Other       14.0   \n",
              "1815      68   150.0     1   6000.0    6.0     White       12.0   \n",
              "\n",
              "      mother_education  father_education  walk  exercise  smokenow  tense  \\\n",
              "0                 16.0              16.0     3         3       2.0    0.0   \n",
              "1                 16.0              16.0     6         5       1.0    0.0   \n",
              "2                 16.0              16.0     8         1       2.0    1.0   \n",
              "4                 16.0              16.0     5         6       2.0    0.0   \n",
              "5                 18.0              18.0     1         1       2.0    2.0   \n",
              "...                ...               ...   ...       ...       ...    ...   \n",
              "1811              18.0              18.0     6         1       2.0    0.0   \n",
              "1812              12.0              12.0     1         1       1.0    7.0   \n",
              "1813              12.0              12.0     2         1       2.0    0.0   \n",
              "1814              14.0              14.0     6         1       2.0    2.0   \n",
              "1815              12.0              12.0     1         6       1.0    2.0   \n",
              "\n",
              "      angry  age  \n",
              "0       0.0   45  \n",
              "1       0.0   58  \n",
              "2       1.0   29  \n",
              "4       0.0   91  \n",
              "5       2.0   54  \n",
              "...     ...  ...  \n",
              "1811    0.0   82  \n",
              "1812    7.0   33  \n",
              "1813    0.0   50  \n",
              "1814    2.0   69  \n",
              "1815    2.0   27  \n",
              "\n",
              "[1440 rows x 15 columns]"
            ],
            "text/html": [
              "\n",
              "  <div id=\"df-324607e2-9154-4017-8721-1104e41288fb\" class=\"colab-df-container\">\n",
              "    <div>\n",
              "<style scoped>\n",
              "    .dataframe tbody tr th:only-of-type {\n",
              "        vertical-align: middle;\n",
              "    }\n",
              "\n",
              "    .dataframe tbody tr th {\n",
              "        vertical-align: top;\n",
              "    }\n",
              "\n",
              "    .dataframe thead th {\n",
              "        text-align: right;\n",
              "    }\n",
              "</style>\n",
              "<table border=\"1\" class=\"dataframe\">\n",
              "  <thead>\n",
              "    <tr style=\"text-align: right;\">\n",
              "      <th></th>\n",
              "      <th>height</th>\n",
              "      <th>weight</th>\n",
              "      <th>male</th>\n",
              "      <th>earn</th>\n",
              "      <th>earnk</th>\n",
              "      <th>ethnicity</th>\n",
              "      <th>education</th>\n",
              "      <th>mother_education</th>\n",
              "      <th>father_education</th>\n",
              "      <th>walk</th>\n",
              "      <th>exercise</th>\n",
              "      <th>smokenow</th>\n",
              "      <th>tense</th>\n",
              "      <th>angry</th>\n",
              "      <th>age</th>\n",
              "    </tr>\n",
              "  </thead>\n",
              "  <tbody>\n",
              "    <tr>\n",
              "      <th>0</th>\n",
              "      <td>74</td>\n",
              "      <td>210.0</td>\n",
              "      <td>1</td>\n",
              "      <td>50000.0</td>\n",
              "      <td>50.0</td>\n",
              "      <td>White</td>\n",
              "      <td>16.0</td>\n",
              "      <td>16.0</td>\n",
              "      <td>16.0</td>\n",
              "      <td>3</td>\n",
              "      <td>3</td>\n",
              "      <td>2.0</td>\n",
              "      <td>0.0</td>\n",
              "      <td>0.0</td>\n",
              "      <td>45</td>\n",
              "    </tr>\n",
              "    <tr>\n",
              "      <th>1</th>\n",
              "      <td>66</td>\n",
              "      <td>125.0</td>\n",
              "      <td>0</td>\n",
              "      <td>60000.0</td>\n",
              "      <td>60.0</td>\n",
              "      <td>White</td>\n",
              "      <td>16.0</td>\n",
              "      <td>16.0</td>\n",
              "      <td>16.0</td>\n",
              "      <td>6</td>\n",
              "      <td>5</td>\n",
              "      <td>1.0</td>\n",
              "      <td>0.0</td>\n",
              "      <td>0.0</td>\n",
              "      <td>58</td>\n",
              "    </tr>\n",
              "    <tr>\n",
              "      <th>2</th>\n",
              "      <td>64</td>\n",
              "      <td>126.0</td>\n",
              "      <td>0</td>\n",
              "      <td>30000.0</td>\n",
              "      <td>30.0</td>\n",
              "      <td>White</td>\n",
              "      <td>16.0</td>\n",
              "      <td>16.0</td>\n",
              "      <td>16.0</td>\n",
              "      <td>8</td>\n",
              "      <td>1</td>\n",
              "      <td>2.0</td>\n",
              "      <td>1.0</td>\n",
              "      <td>1.0</td>\n",
              "      <td>29</td>\n",
              "    </tr>\n",
              "    <tr>\n",
              "      <th>4</th>\n",
              "      <td>63</td>\n",
              "      <td>110.0</td>\n",
              "      <td>0</td>\n",
              "      <td>50000.0</td>\n",
              "      <td>50.0</td>\n",
              "      <td>Other</td>\n",
              "      <td>16.0</td>\n",
              "      <td>16.0</td>\n",
              "      <td>16.0</td>\n",
              "      <td>5</td>\n",
              "      <td>6</td>\n",
              "      <td>2.0</td>\n",
              "      <td>0.0</td>\n",
              "      <td>0.0</td>\n",
              "      <td>91</td>\n",
              "    </tr>\n",
              "    <tr>\n",
              "      <th>5</th>\n",
              "      <td>68</td>\n",
              "      <td>165.0</td>\n",
              "      <td>0</td>\n",
              "      <td>62000.0</td>\n",
              "      <td>62.0</td>\n",
              "      <td>Black</td>\n",
              "      <td>18.0</td>\n",
              "      <td>18.0</td>\n",
              "      <td>18.0</td>\n",
              "      <td>1</td>\n",
              "      <td>1</td>\n",
              "      <td>2.0</td>\n",
              "      <td>2.0</td>\n",
              "      <td>2.0</td>\n",
              "      <td>54</td>\n",
              "    </tr>\n",
              "    <tr>\n",
              "      <th>...</th>\n",
              "      <td>...</td>\n",
              "      <td>...</td>\n",
              "      <td>...</td>\n",
              "      <td>...</td>\n",
              "      <td>...</td>\n",
              "      <td>...</td>\n",
              "      <td>...</td>\n",
              "      <td>...</td>\n",
              "      <td>...</td>\n",
              "      <td>...</td>\n",
              "      <td>...</td>\n",
              "      <td>...</td>\n",
              "      <td>...</td>\n",
              "      <td>...</td>\n",
              "      <td>...</td>\n",
              "    </tr>\n",
              "    <tr>\n",
              "      <th>1811</th>\n",
              "      <td>61</td>\n",
              "      <td>120.0</td>\n",
              "      <td>0</td>\n",
              "      <td>15000.0</td>\n",
              "      <td>15.0</td>\n",
              "      <td>White</td>\n",
              "      <td>18.0</td>\n",
              "      <td>18.0</td>\n",
              "      <td>18.0</td>\n",
              "      <td>6</td>\n",
              "      <td>1</td>\n",
              "      <td>2.0</td>\n",
              "      <td>0.0</td>\n",
              "      <td>0.0</td>\n",
              "      <td>82</td>\n",
              "    </tr>\n",
              "    <tr>\n",
              "      <th>1812</th>\n",
              "      <td>64</td>\n",
              "      <td>130.0</td>\n",
              "      <td>0</td>\n",
              "      <td>8000.0</td>\n",
              "      <td>8.0</td>\n",
              "      <td>White</td>\n",
              "      <td>12.0</td>\n",
              "      <td>12.0</td>\n",
              "      <td>12.0</td>\n",
              "      <td>1</td>\n",
              "      <td>1</td>\n",
              "      <td>1.0</td>\n",
              "      <td>7.0</td>\n",
              "      <td>7.0</td>\n",
              "      <td>33</td>\n",
              "    </tr>\n",
              "    <tr>\n",
              "      <th>1813</th>\n",
              "      <td>72</td>\n",
              "      <td>194.0</td>\n",
              "      <td>1</td>\n",
              "      <td>60000.0</td>\n",
              "      <td>60.0</td>\n",
              "      <td>White</td>\n",
              "      <td>12.0</td>\n",
              "      <td>12.0</td>\n",
              "      <td>12.0</td>\n",
              "      <td>2</td>\n",
              "      <td>1</td>\n",
              "      <td>2.0</td>\n",
              "      <td>0.0</td>\n",
              "      <td>0.0</td>\n",
              "      <td>50</td>\n",
              "    </tr>\n",
              "    <tr>\n",
              "      <th>1814</th>\n",
              "      <td>63</td>\n",
              "      <td>155.0</td>\n",
              "      <td>0</td>\n",
              "      <td>15000.0</td>\n",
              "      <td>15.0</td>\n",
              "      <td>Other</td>\n",
              "      <td>14.0</td>\n",
              "      <td>14.0</td>\n",
              "      <td>14.0</td>\n",
              "      <td>6</td>\n",
              "      <td>1</td>\n",
              "      <td>2.0</td>\n",
              "      <td>2.0</td>\n",
              "      <td>2.0</td>\n",
              "      <td>69</td>\n",
              "    </tr>\n",
              "    <tr>\n",
              "      <th>1815</th>\n",
              "      <td>68</td>\n",
              "      <td>150.0</td>\n",
              "      <td>1</td>\n",
              "      <td>6000.0</td>\n",
              "      <td>6.0</td>\n",
              "      <td>White</td>\n",
              "      <td>12.0</td>\n",
              "      <td>12.0</td>\n",
              "      <td>12.0</td>\n",
              "      <td>1</td>\n",
              "      <td>6</td>\n",
              "      <td>1.0</td>\n",
              "      <td>2.0</td>\n",
              "      <td>2.0</td>\n",
              "      <td>27</td>\n",
              "    </tr>\n",
              "  </tbody>\n",
              "</table>\n",
              "<p>1440 rows × 15 columns</p>\n",
              "</div>\n",
              "    <div class=\"colab-df-buttons\">\n",
              "\n",
              "  <div class=\"colab-df-container\">\n",
              "    <button class=\"colab-df-convert\" onclick=\"convertToInteractive('df-324607e2-9154-4017-8721-1104e41288fb')\"\n",
              "            title=\"Convert this dataframe to an interactive table.\"\n",
              "            style=\"display:none;\">\n",
              "\n",
              "  <svg xmlns=\"http://www.w3.org/2000/svg\" height=\"24px\" viewBox=\"0 -960 960 960\">\n",
              "    <path d=\"M120-120v-720h720v720H120Zm60-500h600v-160H180v160Zm220 220h160v-160H400v160Zm0 220h160v-160H400v160ZM180-400h160v-160H180v160Zm440 0h160v-160H620v160ZM180-180h160v-160H180v160Zm440 0h160v-160H620v160Z\"/>\n",
              "  </svg>\n",
              "    </button>\n",
              "\n",
              "  <style>\n",
              "    .colab-df-container {\n",
              "      display:flex;\n",
              "      gap: 12px;\n",
              "    }\n",
              "\n",
              "    .colab-df-convert {\n",
              "      background-color: #E8F0FE;\n",
              "      border: none;\n",
              "      border-radius: 50%;\n",
              "      cursor: pointer;\n",
              "      display: none;\n",
              "      fill: #1967D2;\n",
              "      height: 32px;\n",
              "      padding: 0 0 0 0;\n",
              "      width: 32px;\n",
              "    }\n",
              "\n",
              "    .colab-df-convert:hover {\n",
              "      background-color: #E2EBFA;\n",
              "      box-shadow: 0px 1px 2px rgba(60, 64, 67, 0.3), 0px 1px 3px 1px rgba(60, 64, 67, 0.15);\n",
              "      fill: #174EA6;\n",
              "    }\n",
              "\n",
              "    .colab-df-buttons div {\n",
              "      margin-bottom: 4px;\n",
              "    }\n",
              "\n",
              "    [theme=dark] .colab-df-convert {\n",
              "      background-color: #3B4455;\n",
              "      fill: #D2E3FC;\n",
              "    }\n",
              "\n",
              "    [theme=dark] .colab-df-convert:hover {\n",
              "      background-color: #434B5C;\n",
              "      box-shadow: 0px 1px 3px 1px rgba(0, 0, 0, 0.15);\n",
              "      filter: drop-shadow(0px 1px 2px rgba(0, 0, 0, 0.3));\n",
              "      fill: #FFFFFF;\n",
              "    }\n",
              "  </style>\n",
              "\n",
              "    <script>\n",
              "      const buttonEl =\n",
              "        document.querySelector('#df-324607e2-9154-4017-8721-1104e41288fb button.colab-df-convert');\n",
              "      buttonEl.style.display =\n",
              "        google.colab.kernel.accessAllowed ? 'block' : 'none';\n",
              "\n",
              "      async function convertToInteractive(key) {\n",
              "        const element = document.querySelector('#df-324607e2-9154-4017-8721-1104e41288fb');\n",
              "        const dataTable =\n",
              "          await google.colab.kernel.invokeFunction('convertToInteractive',\n",
              "                                                    [key], {});\n",
              "        if (!dataTable) return;\n",
              "\n",
              "        const docLinkHtml = 'Like what you see? Visit the ' +\n",
              "          '<a target=\"_blank\" href=https://colab.research.google.com/notebooks/data_table.ipynb>data table notebook</a>'\n",
              "          + ' to learn more about interactive tables.';\n",
              "        element.innerHTML = '';\n",
              "        dataTable['output_type'] = 'display_data';\n",
              "        await google.colab.output.renderOutput(dataTable, element);\n",
              "        const docLink = document.createElement('div');\n",
              "        docLink.innerHTML = docLinkHtml;\n",
              "        element.appendChild(docLink);\n",
              "      }\n",
              "    </script>\n",
              "  </div>\n",
              "\n",
              "\n",
              "<div id=\"df-f4f2b486-a7c7-46c1-96e7-ed130e8d5414\">\n",
              "  <button class=\"colab-df-quickchart\" onclick=\"quickchart('df-f4f2b486-a7c7-46c1-96e7-ed130e8d5414')\"\n",
              "            title=\"Suggest charts.\"\n",
              "            style=\"display:none;\">\n",
              "\n",
              "<svg xmlns=\"http://www.w3.org/2000/svg\" height=\"24px\"viewBox=\"0 0 24 24\"\n",
              "     width=\"24px\">\n",
              "    <g>\n",
              "        <path d=\"M19 3H5c-1.1 0-2 .9-2 2v14c0 1.1.9 2 2 2h14c1.1 0 2-.9 2-2V5c0-1.1-.9-2-2-2zM9 17H7v-7h2v7zm4 0h-2V7h2v10zm4 0h-2v-4h2v4z\"/>\n",
              "    </g>\n",
              "</svg>\n",
              "  </button>\n",
              "\n",
              "<style>\n",
              "  .colab-df-quickchart {\n",
              "      --bg-color: #E8F0FE;\n",
              "      --fill-color: #1967D2;\n",
              "      --hover-bg-color: #E2EBFA;\n",
              "      --hover-fill-color: #174EA6;\n",
              "      --disabled-fill-color: #AAA;\n",
              "      --disabled-bg-color: #DDD;\n",
              "  }\n",
              "\n",
              "  [theme=dark] .colab-df-quickchart {\n",
              "      --bg-color: #3B4455;\n",
              "      --fill-color: #D2E3FC;\n",
              "      --hover-bg-color: #434B5C;\n",
              "      --hover-fill-color: #FFFFFF;\n",
              "      --disabled-bg-color: #3B4455;\n",
              "      --disabled-fill-color: #666;\n",
              "  }\n",
              "\n",
              "  .colab-df-quickchart {\n",
              "    background-color: var(--bg-color);\n",
              "    border: none;\n",
              "    border-radius: 50%;\n",
              "    cursor: pointer;\n",
              "    display: none;\n",
              "    fill: var(--fill-color);\n",
              "    height: 32px;\n",
              "    padding: 0;\n",
              "    width: 32px;\n",
              "  }\n",
              "\n",
              "  .colab-df-quickchart:hover {\n",
              "    background-color: var(--hover-bg-color);\n",
              "    box-shadow: 0 1px 2px rgba(60, 64, 67, 0.3), 0 1px 3px 1px rgba(60, 64, 67, 0.15);\n",
              "    fill: var(--button-hover-fill-color);\n",
              "  }\n",
              "\n",
              "  .colab-df-quickchart-complete:disabled,\n",
              "  .colab-df-quickchart-complete:disabled:hover {\n",
              "    background-color: var(--disabled-bg-color);\n",
              "    fill: var(--disabled-fill-color);\n",
              "    box-shadow: none;\n",
              "  }\n",
              "\n",
              "  .colab-df-spinner {\n",
              "    border: 2px solid var(--fill-color);\n",
              "    border-color: transparent;\n",
              "    border-bottom-color: var(--fill-color);\n",
              "    animation:\n",
              "      spin 1s steps(1) infinite;\n",
              "  }\n",
              "\n",
              "  @keyframes spin {\n",
              "    0% {\n",
              "      border-color: transparent;\n",
              "      border-bottom-color: var(--fill-color);\n",
              "      border-left-color: var(--fill-color);\n",
              "    }\n",
              "    20% {\n",
              "      border-color: transparent;\n",
              "      border-left-color: var(--fill-color);\n",
              "      border-top-color: var(--fill-color);\n",
              "    }\n",
              "    30% {\n",
              "      border-color: transparent;\n",
              "      border-left-color: var(--fill-color);\n",
              "      border-top-color: var(--fill-color);\n",
              "      border-right-color: var(--fill-color);\n",
              "    }\n",
              "    40% {\n",
              "      border-color: transparent;\n",
              "      border-right-color: var(--fill-color);\n",
              "      border-top-color: var(--fill-color);\n",
              "    }\n",
              "    60% {\n",
              "      border-color: transparent;\n",
              "      border-right-color: var(--fill-color);\n",
              "    }\n",
              "    80% {\n",
              "      border-color: transparent;\n",
              "      border-right-color: var(--fill-color);\n",
              "      border-bottom-color: var(--fill-color);\n",
              "    }\n",
              "    90% {\n",
              "      border-color: transparent;\n",
              "      border-bottom-color: var(--fill-color);\n",
              "    }\n",
              "  }\n",
              "</style>\n",
              "\n",
              "  <script>\n",
              "    async function quickchart(key) {\n",
              "      const quickchartButtonEl =\n",
              "        document.querySelector('#' + key + ' button');\n",
              "      quickchartButtonEl.disabled = true;  // To prevent multiple clicks.\n",
              "      quickchartButtonEl.classList.add('colab-df-spinner');\n",
              "      try {\n",
              "        const charts = await google.colab.kernel.invokeFunction(\n",
              "            'suggestCharts', [key], {});\n",
              "      } catch (error) {\n",
              "        console.error('Error during call to suggestCharts:', error);\n",
              "      }\n",
              "      quickchartButtonEl.classList.remove('colab-df-spinner');\n",
              "      quickchartButtonEl.classList.add('colab-df-quickchart-complete');\n",
              "    }\n",
              "    (() => {\n",
              "      let quickchartButtonEl =\n",
              "        document.querySelector('#df-f4f2b486-a7c7-46c1-96e7-ed130e8d5414 button');\n",
              "      quickchartButtonEl.style.display =\n",
              "        google.colab.kernel.accessAllowed ? 'block' : 'none';\n",
              "    })();\n",
              "  </script>\n",
              "</div>\n",
              "    </div>\n",
              "  </div>\n"
            ]
          },
          "metadata": {},
          "execution_count": 33
        }
      ]
    },
    {
      "cell_type": "code",
      "source": [
        "# we will start with a model using ONLY race/ethnicity\n",
        "data_x = data[[\"ethnicity\"]]\n",
        "np.unique(data_x.values)"
      ],
      "metadata": {
        "colab": {
          "base_uri": "https://localhost:8080/"
        },
        "id": "VgSmEO-gChJS",
        "outputId": "6bdeed3b-5cb5-4ea3-a03b-0903fd49a3d6"
      },
      "execution_count": null,
      "outputs": [
        {
          "output_type": "execute_result",
          "data": {
            "text/plain": [
              "array(['Black', 'Hispanic', 'Other', 'White'], dtype=object)"
            ]
          },
          "metadata": {},
          "execution_count": 40
        }
      ]
    },
    {
      "cell_type": "markdown",
      "metadata": {
        "id": "-9Jy_9Dxja_f"
      },
      "source": [
        "\n",
        "Now we need to make the numpy arrays of these new predictor variables. The pandas library has a function for this called `get_dummies`. This will take a specified predictor make an indictor column for each value. If you give it the argument `drop_first=True`, then it will remove the first of these (thus making that value the baseline factor)."
      ]
    },
    {
      "cell_type": "code",
      "source": [
        "data_x_new = pd.get_dummies(data_x,drop_first=True)\n",
        "data_x_new"
      ],
      "metadata": {
        "colab": {
          "base_uri": "https://localhost:8080/",
          "height": 423
        },
        "id": "YTXwMoqCBvUa",
        "outputId": "38eb689a-55f9-418e-a17c-9f8cd7f7f25a"
      },
      "execution_count": null,
      "outputs": [
        {
          "output_type": "execute_result",
          "data": {
            "text/plain": [
              "      ethnicity_Hispanic  ethnicity_Other  ethnicity_White\n",
              "0                      0                0                1\n",
              "1                      0                0                1\n",
              "2                      0                0                1\n",
              "4                      0                1                0\n",
              "5                      0                0                0\n",
              "...                  ...              ...              ...\n",
              "1811                   0                0                1\n",
              "1812                   0                0                1\n",
              "1813                   0                0                1\n",
              "1814                   0                1                0\n",
              "1815                   0                0                1\n",
              "\n",
              "[1440 rows x 3 columns]"
            ],
            "text/html": [
              "\n",
              "  <div id=\"df-24bd41e7-3772-4428-b781-b3017f0e9544\" class=\"colab-df-container\">\n",
              "    <div>\n",
              "<style scoped>\n",
              "    .dataframe tbody tr th:only-of-type {\n",
              "        vertical-align: middle;\n",
              "    }\n",
              "\n",
              "    .dataframe tbody tr th {\n",
              "        vertical-align: top;\n",
              "    }\n",
              "\n",
              "    .dataframe thead th {\n",
              "        text-align: right;\n",
              "    }\n",
              "</style>\n",
              "<table border=\"1\" class=\"dataframe\">\n",
              "  <thead>\n",
              "    <tr style=\"text-align: right;\">\n",
              "      <th></th>\n",
              "      <th>ethnicity_Hispanic</th>\n",
              "      <th>ethnicity_Other</th>\n",
              "      <th>ethnicity_White</th>\n",
              "    </tr>\n",
              "  </thead>\n",
              "  <tbody>\n",
              "    <tr>\n",
              "      <th>0</th>\n",
              "      <td>0</td>\n",
              "      <td>0</td>\n",
              "      <td>1</td>\n",
              "    </tr>\n",
              "    <tr>\n",
              "      <th>1</th>\n",
              "      <td>0</td>\n",
              "      <td>0</td>\n",
              "      <td>1</td>\n",
              "    </tr>\n",
              "    <tr>\n",
              "      <th>2</th>\n",
              "      <td>0</td>\n",
              "      <td>0</td>\n",
              "      <td>1</td>\n",
              "    </tr>\n",
              "    <tr>\n",
              "      <th>4</th>\n",
              "      <td>0</td>\n",
              "      <td>1</td>\n",
              "      <td>0</td>\n",
              "    </tr>\n",
              "    <tr>\n",
              "      <th>5</th>\n",
              "      <td>0</td>\n",
              "      <td>0</td>\n",
              "      <td>0</td>\n",
              "    </tr>\n",
              "    <tr>\n",
              "      <th>...</th>\n",
              "      <td>...</td>\n",
              "      <td>...</td>\n",
              "      <td>...</td>\n",
              "    </tr>\n",
              "    <tr>\n",
              "      <th>1811</th>\n",
              "      <td>0</td>\n",
              "      <td>0</td>\n",
              "      <td>1</td>\n",
              "    </tr>\n",
              "    <tr>\n",
              "      <th>1812</th>\n",
              "      <td>0</td>\n",
              "      <td>0</td>\n",
              "      <td>1</td>\n",
              "    </tr>\n",
              "    <tr>\n",
              "      <th>1813</th>\n",
              "      <td>0</td>\n",
              "      <td>0</td>\n",
              "      <td>1</td>\n",
              "    </tr>\n",
              "    <tr>\n",
              "      <th>1814</th>\n",
              "      <td>0</td>\n",
              "      <td>1</td>\n",
              "      <td>0</td>\n",
              "    </tr>\n",
              "    <tr>\n",
              "      <th>1815</th>\n",
              "      <td>0</td>\n",
              "      <td>0</td>\n",
              "      <td>1</td>\n",
              "    </tr>\n",
              "  </tbody>\n",
              "</table>\n",
              "<p>1440 rows × 3 columns</p>\n",
              "</div>\n",
              "    <div class=\"colab-df-buttons\">\n",
              "\n",
              "  <div class=\"colab-df-container\">\n",
              "    <button class=\"colab-df-convert\" onclick=\"convertToInteractive('df-24bd41e7-3772-4428-b781-b3017f0e9544')\"\n",
              "            title=\"Convert this dataframe to an interactive table.\"\n",
              "            style=\"display:none;\">\n",
              "\n",
              "  <svg xmlns=\"http://www.w3.org/2000/svg\" height=\"24px\" viewBox=\"0 -960 960 960\">\n",
              "    <path d=\"M120-120v-720h720v720H120Zm60-500h600v-160H180v160Zm220 220h160v-160H400v160Zm0 220h160v-160H400v160ZM180-400h160v-160H180v160Zm440 0h160v-160H620v160ZM180-180h160v-160H180v160Zm440 0h160v-160H620v160Z\"/>\n",
              "  </svg>\n",
              "    </button>\n",
              "\n",
              "  <style>\n",
              "    .colab-df-container {\n",
              "      display:flex;\n",
              "      gap: 12px;\n",
              "    }\n",
              "\n",
              "    .colab-df-convert {\n",
              "      background-color: #E8F0FE;\n",
              "      border: none;\n",
              "      border-radius: 50%;\n",
              "      cursor: pointer;\n",
              "      display: none;\n",
              "      fill: #1967D2;\n",
              "      height: 32px;\n",
              "      padding: 0 0 0 0;\n",
              "      width: 32px;\n",
              "    }\n",
              "\n",
              "    .colab-df-convert:hover {\n",
              "      background-color: #E2EBFA;\n",
              "      box-shadow: 0px 1px 2px rgba(60, 64, 67, 0.3), 0px 1px 3px 1px rgba(60, 64, 67, 0.15);\n",
              "      fill: #174EA6;\n",
              "    }\n",
              "\n",
              "    .colab-df-buttons div {\n",
              "      margin-bottom: 4px;\n",
              "    }\n",
              "\n",
              "    [theme=dark] .colab-df-convert {\n",
              "      background-color: #3B4455;\n",
              "      fill: #D2E3FC;\n",
              "    }\n",
              "\n",
              "    [theme=dark] .colab-df-convert:hover {\n",
              "      background-color: #434B5C;\n",
              "      box-shadow: 0px 1px 3px 1px rgba(0, 0, 0, 0.15);\n",
              "      filter: drop-shadow(0px 1px 2px rgba(0, 0, 0, 0.3));\n",
              "      fill: #FFFFFF;\n",
              "    }\n",
              "  </style>\n",
              "\n",
              "    <script>\n",
              "      const buttonEl =\n",
              "        document.querySelector('#df-24bd41e7-3772-4428-b781-b3017f0e9544 button.colab-df-convert');\n",
              "      buttonEl.style.display =\n",
              "        google.colab.kernel.accessAllowed ? 'block' : 'none';\n",
              "\n",
              "      async function convertToInteractive(key) {\n",
              "        const element = document.querySelector('#df-24bd41e7-3772-4428-b781-b3017f0e9544');\n",
              "        const dataTable =\n",
              "          await google.colab.kernel.invokeFunction('convertToInteractive',\n",
              "                                                    [key], {});\n",
              "        if (!dataTable) return;\n",
              "\n",
              "        const docLinkHtml = 'Like what you see? Visit the ' +\n",
              "          '<a target=\"_blank\" href=https://colab.research.google.com/notebooks/data_table.ipynb>data table notebook</a>'\n",
              "          + ' to learn more about interactive tables.';\n",
              "        element.innerHTML = '';\n",
              "        dataTable['output_type'] = 'display_data';\n",
              "        await google.colab.output.renderOutput(dataTable, element);\n",
              "        const docLink = document.createElement('div');\n",
              "        docLink.innerHTML = docLinkHtml;\n",
              "        element.appendChild(docLink);\n",
              "      }\n",
              "    </script>\n",
              "  </div>\n",
              "\n",
              "\n",
              "<div id=\"df-3ba9d448-f4d7-4d54-8442-b5343943cc45\">\n",
              "  <button class=\"colab-df-quickchart\" onclick=\"quickchart('df-3ba9d448-f4d7-4d54-8442-b5343943cc45')\"\n",
              "            title=\"Suggest charts.\"\n",
              "            style=\"display:none;\">\n",
              "\n",
              "<svg xmlns=\"http://www.w3.org/2000/svg\" height=\"24px\"viewBox=\"0 0 24 24\"\n",
              "     width=\"24px\">\n",
              "    <g>\n",
              "        <path d=\"M19 3H5c-1.1 0-2 .9-2 2v14c0 1.1.9 2 2 2h14c1.1 0 2-.9 2-2V5c0-1.1-.9-2-2-2zM9 17H7v-7h2v7zm4 0h-2V7h2v10zm4 0h-2v-4h2v4z\"/>\n",
              "    </g>\n",
              "</svg>\n",
              "  </button>\n",
              "\n",
              "<style>\n",
              "  .colab-df-quickchart {\n",
              "      --bg-color: #E8F0FE;\n",
              "      --fill-color: #1967D2;\n",
              "      --hover-bg-color: #E2EBFA;\n",
              "      --hover-fill-color: #174EA6;\n",
              "      --disabled-fill-color: #AAA;\n",
              "      --disabled-bg-color: #DDD;\n",
              "  }\n",
              "\n",
              "  [theme=dark] .colab-df-quickchart {\n",
              "      --bg-color: #3B4455;\n",
              "      --fill-color: #D2E3FC;\n",
              "      --hover-bg-color: #434B5C;\n",
              "      --hover-fill-color: #FFFFFF;\n",
              "      --disabled-bg-color: #3B4455;\n",
              "      --disabled-fill-color: #666;\n",
              "  }\n",
              "\n",
              "  .colab-df-quickchart {\n",
              "    background-color: var(--bg-color);\n",
              "    border: none;\n",
              "    border-radius: 50%;\n",
              "    cursor: pointer;\n",
              "    display: none;\n",
              "    fill: var(--fill-color);\n",
              "    height: 32px;\n",
              "    padding: 0;\n",
              "    width: 32px;\n",
              "  }\n",
              "\n",
              "  .colab-df-quickchart:hover {\n",
              "    background-color: var(--hover-bg-color);\n",
              "    box-shadow: 0 1px 2px rgba(60, 64, 67, 0.3), 0 1px 3px 1px rgba(60, 64, 67, 0.15);\n",
              "    fill: var(--button-hover-fill-color);\n",
              "  }\n",
              "\n",
              "  .colab-df-quickchart-complete:disabled,\n",
              "  .colab-df-quickchart-complete:disabled:hover {\n",
              "    background-color: var(--disabled-bg-color);\n",
              "    fill: var(--disabled-fill-color);\n",
              "    box-shadow: none;\n",
              "  }\n",
              "\n",
              "  .colab-df-spinner {\n",
              "    border: 2px solid var(--fill-color);\n",
              "    border-color: transparent;\n",
              "    border-bottom-color: var(--fill-color);\n",
              "    animation:\n",
              "      spin 1s steps(1) infinite;\n",
              "  }\n",
              "\n",
              "  @keyframes spin {\n",
              "    0% {\n",
              "      border-color: transparent;\n",
              "      border-bottom-color: var(--fill-color);\n",
              "      border-left-color: var(--fill-color);\n",
              "    }\n",
              "    20% {\n",
              "      border-color: transparent;\n",
              "      border-left-color: var(--fill-color);\n",
              "      border-top-color: var(--fill-color);\n",
              "    }\n",
              "    30% {\n",
              "      border-color: transparent;\n",
              "      border-left-color: var(--fill-color);\n",
              "      border-top-color: var(--fill-color);\n",
              "      border-right-color: var(--fill-color);\n",
              "    }\n",
              "    40% {\n",
              "      border-color: transparent;\n",
              "      border-right-color: var(--fill-color);\n",
              "      border-top-color: var(--fill-color);\n",
              "    }\n",
              "    60% {\n",
              "      border-color: transparent;\n",
              "      border-right-color: var(--fill-color);\n",
              "    }\n",
              "    80% {\n",
              "      border-color: transparent;\n",
              "      border-right-color: var(--fill-color);\n",
              "      border-bottom-color: var(--fill-color);\n",
              "    }\n",
              "    90% {\n",
              "      border-color: transparent;\n",
              "      border-bottom-color: var(--fill-color);\n",
              "    }\n",
              "  }\n",
              "</style>\n",
              "\n",
              "  <script>\n",
              "    async function quickchart(key) {\n",
              "      const quickchartButtonEl =\n",
              "        document.querySelector('#' + key + ' button');\n",
              "      quickchartButtonEl.disabled = true;  // To prevent multiple clicks.\n",
              "      quickchartButtonEl.classList.add('colab-df-spinner');\n",
              "      try {\n",
              "        const charts = await google.colab.kernel.invokeFunction(\n",
              "            'suggestCharts', [key], {});\n",
              "      } catch (error) {\n",
              "        console.error('Error during call to suggestCharts:', error);\n",
              "      }\n",
              "      quickchartButtonEl.classList.remove('colab-df-spinner');\n",
              "      quickchartButtonEl.classList.add('colab-df-quickchart-complete');\n",
              "    }\n",
              "    (() => {\n",
              "      let quickchartButtonEl =\n",
              "        document.querySelector('#df-3ba9d448-f4d7-4d54-8442-b5343943cc45 button');\n",
              "      quickchartButtonEl.style.display =\n",
              "        google.colab.kernel.accessAllowed ? 'block' : 'none';\n",
              "    })();\n",
              "  </script>\n",
              "</div>\n",
              "    </div>\n",
              "  </div>\n"
            ]
          },
          "metadata": {},
          "execution_count": 43
        }
      ]
    },
    {
      "cell_type": "code",
      "source": [
        "x = data_x_new.to_numpy() # convert to numpy array for statsmodels\n",
        "x"
      ],
      "metadata": {
        "colab": {
          "base_uri": "https://localhost:8080/"
        },
        "id": "X3urMt8yD9xT",
        "outputId": "d218bba9-de43-428b-ff56-219308ec2863"
      },
      "execution_count": null,
      "outputs": [
        {
          "output_type": "execute_result",
          "data": {
            "text/plain": [
              "array([[0, 0, 1],\n",
              "       [0, 0, 1],\n",
              "       [0, 0, 1],\n",
              "       ...,\n",
              "       [0, 0, 1],\n",
              "       [0, 1, 0],\n",
              "       [0, 0, 1]], dtype=uint8)"
            ]
          },
          "metadata": {},
          "execution_count": 46
        }
      ]
    },
    {
      "cell_type": "code",
      "source": [
        "print(data_x_new)\n",
        "X = sm.add_constant(data_x_new) # add a column of all 1s\n"
      ],
      "metadata": {
        "colab": {
          "base_uri": "https://localhost:8080/"
        },
        "id": "oj6yPRWOEAla",
        "outputId": "54473b29-635e-4ce2-b542-0752572ed076"
      },
      "execution_count": null,
      "outputs": [
        {
          "output_type": "stream",
          "name": "stdout",
          "text": [
            "      ethnicity_Hispanic  ethnicity_Other  ethnicity_White\n",
            "0                      0                0                1\n",
            "1                      0                0                1\n",
            "2                      0                0                1\n",
            "4                      0                1                0\n",
            "5                      0                0                0\n",
            "...                  ...              ...              ...\n",
            "1811                   0                0                1\n",
            "1812                   0                0                1\n",
            "1813                   0                0                1\n",
            "1814                   0                1                0\n",
            "1815                   0                0                1\n",
            "\n",
            "[1440 rows x 3 columns]\n"
          ]
        }
      ]
    },
    {
      "cell_type": "code",
      "source": [
        "y = data.earnk.values\n",
        "model = sm.OLS(y,X)\n",
        "results = model.fit()\n",
        "print(results.summary())"
      ],
      "metadata": {
        "colab": {
          "base_uri": "https://localhost:8080/"
        },
        "id": "4-9nZNPlEEQf",
        "outputId": "4ca0cfe8-71e8-42ad-eaad-95b5759df0fb"
      },
      "execution_count": null,
      "outputs": [
        {
          "output_type": "stream",
          "name": "stdout",
          "text": [
            "                            OLS Regression Results                            \n",
            "==============================================================================\n",
            "Dep. Variable:                      y   R-squared:                       0.006\n",
            "Model:                            OLS   Adj. R-squared:                  0.004\n",
            "Method:                 Least Squares   F-statistic:                     2.828\n",
            "Date:                Thu, 12 Oct 2023   Prob (F-statistic):             0.0373\n",
            "Time:                        13:26:20   Log-Likelihood:                -6606.7\n",
            "No. Observations:                1440   AIC:                         1.322e+04\n",
            "Df Residuals:                    1436   BIC:                         1.324e+04\n",
            "Df Model:                           3                                         \n",
            "Covariance Type:            nonrobust                                         \n",
            "======================================================================================\n",
            "                         coef    std err          t      P>|t|      [0.025      0.975]\n",
            "--------------------------------------------------------------------------------------\n",
            "const                 18.1717      2.139      8.496      0.000      13.976      22.368\n",
            "ethnicity_Hispanic    -0.7869      3.429     -0.230      0.819      -7.513       5.939\n",
            "ethnicity_Other        5.6950      4.846      1.175      0.240      -3.811      15.201\n",
            "ethnicity_White        4.9022      2.246      2.182      0.029       0.496       9.308\n",
            "==============================================================================\n",
            "Omnibus:                     1478.646   Durbin-Watson:                   1.903\n",
            "Prob(Omnibus):                  0.000   Jarque-Bera (JB):           158441.053\n",
            "Skew:                           4.677   Prob(JB):                         0.00\n",
            "Kurtosis:                      53.529   Cond. No.                         11.3\n",
            "==============================================================================\n",
            "\n",
            "Notes:\n",
            "[1] Standard Errors assume that the covariance matrix of the errors is correctly specified.\n"
          ]
        }
      ]
    },
    {
      "cell_type": "markdown",
      "source": [
        "## Example 6.1 (earnings data with more predictors)"
      ],
      "metadata": {
        "id": "HzyHep0YBdbc"
      }
    },
    {
      "cell_type": "markdown",
      "source": [
        "Consider the problem of building a model for earnings as a function of ethnicity, gender and age. That is:\n",
        "\\begin{equation}\n",
        "y = a_0 + \\beta_{\\rm male}x_{\\rm male} + \\beta_{\\rm age}x_{\\rm age} + \\beta_{\\rm black} x_{\\rm black} + \\beta_{\\rm white}x_{\\rm white} + a_{\\rm hispanic} x_{\\rm hispanic} + \\beta_{\\rm other}x_{\\rm other} + \\epsilon\n",
        "\\end{equation}\n",
        "(when working with many variables we will use the names as subscripts)\n",
        "**This is a BAD model, but let's take it at face value for now**"
      ],
      "metadata": {
        "id": "Emow-q9xNK9h"
      }
    },
    {
      "cell_type": "code",
      "source": [
        "data_x = data[[\"male\",\"age\",\"ethnicity\"]]"
      ],
      "metadata": {
        "id": "tNJdXN94BL24"
      },
      "execution_count": null,
      "outputs": []
    },
    {
      "cell_type": "code",
      "metadata": {
        "colab": {
          "base_uri": "https://localhost:8080/",
          "height": 228
        },
        "id": "e_CGLGbfLXCB",
        "outputId": "131a871b-028b-485e-a176-4f2d3cd45a21"
      },
      "source": [
        "# Let's get just the columns we want\n",
        "data_x = data[[\"male\",\"age\",\"ethnicity\"]] # this makes a dataframe with just the columns listed in [[]]\n",
        "xeth = data_x.ethnicity.values\n",
        "xeth"
      ],
      "execution_count": null,
      "outputs": [
        {
          "output_type": "error",
          "ename": "NameError",
          "evalue": "ignored",
          "traceback": [
            "\u001b[0;31m---------------------------------------------------------------------------\u001b[0m",
            "\u001b[0;31mNameError\u001b[0m                                 Traceback (most recent call last)",
            "\u001b[0;32m<ipython-input-29-d7f9e382f9da>\u001b[0m in \u001b[0;36m<cell line: 2>\u001b[0;34m()\u001b[0m\n\u001b[1;32m      1\u001b[0m \u001b[0;31m# Let's get just the columns we want\u001b[0m\u001b[0;34m\u001b[0m\u001b[0;34m\u001b[0m\u001b[0m\n\u001b[0;32m----> 2\u001b[0;31m \u001b[0mdata_x\u001b[0m \u001b[0;34m=\u001b[0m \u001b[0mdata\u001b[0m\u001b[0;34m[\u001b[0m\u001b[0;34m[\u001b[0m\u001b[0;34m\"male\"\u001b[0m\u001b[0;34m,\u001b[0m\u001b[0;34m\"age\"\u001b[0m\u001b[0;34m,\u001b[0m\u001b[0;34m\"ethnicity\"\u001b[0m\u001b[0;34m]\u001b[0m\u001b[0;34m]\u001b[0m \u001b[0;31m# this makes a dataframe with just the columns listed in [[]]\u001b[0m\u001b[0;34m\u001b[0m\u001b[0;34m\u001b[0m\u001b[0m\n\u001b[0m\u001b[1;32m      3\u001b[0m \u001b[0mxeth\u001b[0m \u001b[0;34m=\u001b[0m \u001b[0mdata_x\u001b[0m\u001b[0;34m.\u001b[0m\u001b[0methnicity\u001b[0m\u001b[0;34m.\u001b[0m\u001b[0mvalues\u001b[0m\u001b[0;34m\u001b[0m\u001b[0;34m\u001b[0m\u001b[0m\n\u001b[1;32m      4\u001b[0m \u001b[0mxeth\u001b[0m\u001b[0;34m\u001b[0m\u001b[0;34m\u001b[0m\u001b[0m\n",
            "\u001b[0;31mNameError\u001b[0m: name 'data' is not defined"
          ]
        }
      ]
    },
    {
      "cell_type": "markdown",
      "metadata": {
        "id": "HwyQzCfHlmms"
      },
      "source": [
        "## Dealing with many predictors when making predictions"
      ]
    },
    {
      "cell_type": "markdown",
      "metadata": {
        "id": "kiGudLg6lt5M"
      },
      "source": [
        "WHen working with many different predictors, it can be annoying to assign variables to all the fitted coefficients sperately. For this reason, we often save them all as a numpy array"
      ]
    },
    {
      "cell_type": "code",
      "metadata": {
        "id": "iPSgAc_eiuHY"
      },
      "source": [
        "beta_fits = results.params\n",
        "sigma_fit = np.sqrt(results.mse_resid)"
      ],
      "execution_count": null,
      "outputs": []
    },
    {
      "cell_type": "code",
      "metadata": {
        "colab": {
          "base_uri": "https://localhost:8080/"
        },
        "id": "hMgeTiHAULvA",
        "outputId": "656fec6c-0b42-4378-851f-c3ddf3ccf71d"
      },
      "source": [
        "beta_fits"
      ],
      "execution_count": null,
      "outputs": [
        {
          "output_type": "execute_result",
          "data": {
            "text/plain": [
              "array([ 4.69810663, 15.82050585,  0.20950771, -1.78645889,  4.48798365,\n",
              "        3.73823925])"
            ]
          },
          "metadata": {},
          "execution_count": 33
        }
      ]
    },
    {
      "cell_type": "code",
      "metadata": {
        "id": "KZcZQgY2URQk"
      },
      "source": [],
      "execution_count": null,
      "outputs": []
    },
    {
      "cell_type": "code",
      "metadata": {
        "colab": {
          "base_uri": "https://localhost:8080/"
        },
        "id": "ql-oo6D6n4JK",
        "outputId": "50951e4f-1520-4a67-cafb-4f3fa6017531"
      },
      "source": [
        "x_pred = np.array([1,1,50,0,0,1]) # the first value is out x_0, the constant term\n",
        "np.sum(beta_fits*x_pred)"
      ],
      "execution_count": null,
      "outputs": [
        {
          "output_type": "execute_result",
          "data": {
            "text/plain": [
              "34.732237239068496"
            ]
          },
          "metadata": {},
          "execution_count": 34
        }
      ]
    },
    {
      "cell_type": "code",
      "source": [],
      "metadata": {
        "id": "b8xqaelB8yVY"
      },
      "execution_count": null,
      "outputs": []
    }
  ]
}