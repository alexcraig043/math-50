{
 "cells": [
  {
   "cell_type": "markdown",
   "metadata": {},
   "source": [
    "# M50 Homework 2\n",
    "\n",
    "## Alex Craig"
   ]
  },
  {
   "cell_type": "markdown",
   "metadata": {},
   "source": [
    "## Exercise 1.\n",
    "(Computing conditional averages): Consider a random variable $Y = (Y_1, Y_2)$ which takes values in\n",
    "the sample space:\n",
    "\n",
    "$$\n",
    "S = \\mathbb{N} \\times \\mathbb{N} = {(i, j), i, j \\in \\mathbb{N}}\n",
    "$$\n",
    "\n",
    "That is, the sample space consists of all possible pairs of numbers $(i, j)$. Now suppose we have some data:\n",
    "\n",
    "$$\n",
    "{(1, 2), (1, 2), (3, 1), (1, 4), (3, 3), (2, 2), (1, 5)}\n",
    "$$\n",
    "\n",
    "Give you best estimates of the following (either by hand, with Python, or a calculator)\n",
    "\n",
    "$$\n",
    "E[Y_1], \\quad E[Y_1 \\mid Y_2 = 2], \\quad E[Y_2 \\mid Y_1 = 1], \\quad E[Y_2 \\mid Y_1 > 1]\n",
    "$$\n",
    "\n",
    "### Solution\n",
    "\n",
    "$$\n",
    "E[Y_1] \\approx \\frac{1 + 1 + 3 + 1 + 3 + 2 + 1}{7} = \\frac{12}{7}\n",
    "$$\n",
    "\n",
    "$$\n",
    "E[Y_1 \\mid Y_2 = 2] \\approx \\frac{1 + 1 + 2}{3} = \\frac{4}{3}\n",
    "$$\n",
    "\n",
    "$$\n",
    "E[Y_2 \\mid Y_1 = 1] \\approx \\frac{2 + 2 + 4 + 5}{4} = \\frac{13}{4}\n",
    "$$\n",
    "\n",
    "$$\n",
    "E[Y_2 \\mid Y_1 > 1] \\approx \\frac{1 + 3 + 2}{3} = 2\n",
    "$$"
   ]
  },
  {
   "cell_type": "markdown",
   "metadata": {},
   "source": [
    "## Exercise 2.\n",
    "(Independence and conditional expectation): Let $X$ and $Y$ be two random variables with sample\n",
    "spaces $S_X$ and $S_Y$."
   ]
  },
  {
   "cell_type": "markdown",
   "metadata": {},
   "source": [
    "### Part A\n",
    "Prove that if $X$ and $Y$ are independent $E[X \\mid Y = y ] = E[X]$ and $E[Y \\mid X = x] = E[Y]$ for all $x \\in S_X$ and $y \\in S_Y$.\n",
    "\n",
    "### Solution"
   ]
  },
  {
   "cell_type": "markdown",
   "metadata": {},
   "source": [
    "### Part B\n",
    "Prove the tower property of expectation that is stated in the class notes.\n",
    "\n",
    "### Solution\n"
   ]
  }
 ],
 "metadata": {
  "language_info": {
   "name": "python"
  },
  "orig_nbformat": 4
 },
 "nbformat": 4,
 "nbformat_minor": 2
}
