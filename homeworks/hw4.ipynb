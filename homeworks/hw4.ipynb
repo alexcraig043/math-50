{
 "cells": [
  {
   "cell_type": "markdown",
   "metadata": {},
   "source": [
    "# M50 Homework 3\n",
    "\n",
    "## Alex Craig"
   ]
  },
  {
   "cell_type": "markdown",
   "metadata": {},
   "source": [
    "## Exercise 1.\n",
    "(Bias and consistency): Let \n",
    "\n",
    "$$\n",
    "X \\sim \\text{Bernoulli}(q)\n",
    "$$\n",
    "\n",
    "and $X_1, ..., X_N$ denote $N$ samples of $X$. For each of the following estimators of $q$, (i) write down the standard error and (ii) state whether they are un-biased and/or consistent. In each case, you can write down an exact formula for the standard error, so you do NOT need to use the CLT."
   ]
  },
  {
   "cell_type": "markdown",
   "metadata": {},
   "source": [
    "### Part A\n",
    "$$\n",
    "\\hat{q}_0 = \\frac{1}{N} \\sum_{i=1}^N X_i\n",
    "$$\n",
    "\n",
    "### Solution\n",
    "We know that $SE(\\hat{q}_0) = \\sqrt{Var(\\hat{q}_0)}$.\n",
    "\n",
    "$$\n",
    "Var(\\hat{q}_0) = Var(\\frac{1}{N} \\sum_{i=1}^N X_i) = \\frac{1}{N^2} Var(\\sum_{i=1}^N X_i)\n",
    "$$\n",
    "\n",
    "Because each $X_i$ is independent, we can write:\n",
    "$$\n",
    "Var(\\hat{q}_0) = \\frac{1}{N^2} \\sum_{i=1}^N Var(X_i) = \\frac{1}{N^2} \\sum_{i=1}^N q(1-q) = \\frac{1}{N^2} \\times N \\times q(1 - q) = \\frac{q(1-q)}{N}\n",
    "$$\n",
    "\n",
    "$$\n",
    "\\Rightarrow SE(\\hat{q}_0) = \\sqrt{\\frac{q(1-q)}{N}}\n",
    "$$\n",
    "\n",
    "Let's check if $\\hat{q}_0$ is unbiased:\n",
    "\n",
    "$$\n",
    "E(\\hat{q}_0) = E(\\frac{1}{N} \\sum_{i=1}^N X_i) = \\frac{1}{N} \\sum_{i=1}^N E(X_i) = \\frac{1}{N} \\times N \\times q = q\n",
    "$$\n",
    "\n",
    "$$\n",
    "\\Rightarrow \\hat{q}_0 \\text{ is unbiased}   \n",
    "$$\n",
    "\n",
    "Let's check if $\\hat{q}_0$ is consistent:\n",
    "\n",
    "$$\n",
    "\\lim_{N \\to \\infty} Var(\\hat{q}_0) = \\lim_{N \\to \\infty} \\frac{q(1-q)}{N} = 0\n",
    "$$\n",
    "\n",
    "$$\n",
    "\\text{Variance approaches zero around } E[\\hat{q}_0] = q \\Rightarrow \\hat{q}_0 \\text{ is consistent}\n",
    "$$"
   ]
  },
  {
   "cell_type": "markdown",
   "metadata": {},
   "source": [
    "### Part B\n",
    "$$\n",
    "\\hat{q}_1 = \\frac{X}{N} + \\frac{1}{\\sqrt{N}}\n",
    "$$\n",
    "\n",
    "### Solution\n",
    "We know that $SE(\\hat{q}_1) = \\sqrt{Var(\\hat{q}_1)}$.\n",
    "\n",
    "$$\n",
    "Var(\\hat{q}_0) = Var(\\frac{X}{N} + \\frac{1}{\\sqrt{N}})\n",
    "$$\n",
    "\n",
    "$\\frac{1}{\\sqrt{N}}$ is constant, so $Var(\\frac{X}{N} + \\frac{1}{\\sqrt{N}}) = Var(\\frac{X}{N})$.\n",
    "\n",
    "$$\n",
    "\\Rightarrow Var(\\hat{q}_1) = Var(\\frac{X}{N}) = \\frac{1}{N^2} Var(X) = \\frac{1}{N^2} \\times q(1 - q) = \\frac{q(1-q)}{N^2}\n",
    "$$\n",
    "\n",
    "$$\n",
    "\\Rightarrow SE(\\hat{q}_1) = \\sqrt{\\frac{q(1-q)}{N^2}} = \\frac{\\sqrt{q(1-q)}}{N}\n",
    "$$\n",
    "\n",
    "Let's check if $\\hat{q}_1$ is unbiased:\n",
    "\n",
    "$$\n",
    "E(\\hat{q}_1) = E(\\frac{X}{N} + \\frac{1}{\\sqrt{N}}) = \\frac{1}{N} E(X) + \\frac{1}{\\sqrt{N}} = \\frac{1}{N} q + \\frac{1}{\\sqrt{N}} \\neq q\n",
    "$$\n",
    "\n",
    "$$\n",
    "\\Rightarrow \\hat{q}_1 \\text{ is biased}\n",
    "$$\n"
   ]
  },
  {
   "cell_type": "markdown",
   "metadata": {},
   "source": [
    "### Part C\n",
    "$$\n",
    "\\hat{q}_2 = \\frac{X}{\\lfloor N / 2 \\rfloor} + \\sum_{i=1}^{\\lfloor N / 2 \\rfloor} X_i\n",
    "$$\n",
    "\n",
    "Note: $\\lfloor x \\rfloor$ denotes the floor function, which rounds $x$ down to the nearest integer.\n",
    "\n",
    "### Solution"
   ]
  },
  {
   "cell_type": "markdown",
   "metadata": {},
   "source": [
    "## Exercise 2. \n",
    "(Estimator of mean in exponential model): Let\n",
    "\n",
    "$$\n",
    "T \\sim exp(\\lambda)\n",
    "$$\n",
    "\n",
    "Recall that $E[T] = \\frac{1}{\\lambda}$. We can estimate $E[T]$ via the sample average of measurements $T_1, ..., T_n$:\n",
    "\n",
    "The suggests that a natural way to estimate $\\lambda$ is by:\n",
    "\n",
    "$$\n",
    "\\hat{\\lambda} = \\frac{1}{\\bar{T}} = \\frac{n}{\\sum_{i=1}^n T_i}\n",
    "$$"
   ]
  },
  {
   "cell_type": "markdown",
   "metadata": {},
   "source": [
    "### Part A\n",
    "The goal of the first part of this problem is to show, using simulations, that this is in-fact a biased estimator of $\\lambda$, although the bias decreases with $n$. To achieve this, you should do the following:\n",
    "- Make a list of 100 values of $\\lambda$ in any range.\n",
    "- For each value of $\\lambda$:\n",
    "    - Simulate 10000 replicates of an experiment, where each replicate includes $n = 5$ values of $T$.\n",
    "    - For each of these replicates, compute $\\hat{\\lambda}$ as defined above.\n",
    "    - Then estimate the average $E[\\hat{\\lambda}]$ and save this value is a list.\n",
    "- Make a plot of $\\lambda$ vs. $|E[\\hat{\\lambda}] - \\lambda|$.\n",
    "\n",
    "### Solution"
   ]
  },
  {
   "cell_type": "code",
   "execution_count": 1,
   "metadata": {},
   "outputs": [
    {
     "data": {
      "image/png": "[encoded data removed]",
      "text/plain": [
       "<Figure size 1000x600 with 1 Axes>"
      ]
     },
     "metadata": {},
     "output_type": "display_data"
    }
   ],
   "source": [
    "import numpy as np\n",
    "import matplotlib.pyplot as plt\n",
    "\n",
    "# Number of lambda values\n",
    "num_lambdas = 100\n",
    "\n",
    "# Number of replicates per lambda\n",
    "num_replicates = 10000\n",
    "\n",
    "# Create a list of 100 lambda values\n",
    "lambdas = np.linspace(0.2, 2, num_lambdas)\n",
    "\n",
    "# Number of T values per replicate\n",
    "n = 5\n",
    "\n",
    "# Initialize a list to store the average estimated lambdas\n",
    "average_estimated_lambdas = []\n",
    "\n",
    "for l in lambdas:\n",
    "    # Simulate 10000 replicates of n values of T\n",
    "    T_values = np.random.exponential(scale=1/l, size=(num_replicates, n))\n",
    "    \n",
    "    # Compute lambda hat for each replicate\n",
    "    lambda_hats = n / np.sum(T_values, axis=1)\n",
    "    \n",
    "    # Compute the average of lambda hat and store in the list\n",
    "    average_estimated_lambdas.append(np.mean(lambda_hats))\n",
    "\n",
    "# Calculate absolute differences\n",
    "differences = np.abs(np.array(average_estimated_lambdas) - lambdas)\n",
    "\n",
    "# Plotting\n",
    "plt.figure(figsize=(10,6))\n",
    "plt.plot(lambdas, differences, '-o')\n",
    "plt.title('|E[lambda-hat] - lambda| vs. lambda')\n",
    "plt.xlabel('lambda')\n",
    "plt.ylabel('|E[lambda-hat] - lambda|')\n",
    "plt.grid(True)\n",
    "plt.show()"
   ]
  },
  {
   "cell_type": "markdown",
   "metadata": {},
   "source": [
    "## Exercise 3.\n",
    "(Earnings data): Consider the earnings data. This can be loaded with\n",
    "\n",
    "```python\n",
    "df = pd.read_csv(\"https://raw.githubusercontent.com/avehtari/ROS-Examples/master/Earnings/data/earnings.csv\")\n",
    "```\n",
    "\n",
    "In this exercises, you will study the association between earnings and gender. In particular, you will explore how this depends on height. Later we will see there is a better way to answer this question by performing a regression with multiple predictors, but taking this more elementary approach will elucidate some key aspects of regression analysis."
   ]
  },
  {
   "cell_type": "markdown",
   "metadata": {},
   "source": [
    "### Part A\n",
    "What do you expect the association between gender and earnings to be? Where do you expectations come from (news, intuition, other courses you’ve taken)?\n",
    "\n",
    "### Solution\n",
    "I expect earnings, given an individual is male, to be higher than earnings, given an individual is female. This comes from the idea of the gender pay gap which states that women on average make about 80% the wages of men. "
   ]
  },
  {
   "cell_type": "markdown",
   "metadata": {},
   "source": [
    "### Part B\n",
    "Using stats models, perform a linear regression on with gender (the column “male”) as the predictor and earnings as the response variable. You can either use “earnk” or “earn”, just keep track of the units. Then answer the questions\n",
    "\n",
    "1. Is there a statistically significant effect?\n",
    "2. Is the direction and size of the effect what you expected?\n",
    "\n",
    "### Solution"
   ]
  },
  {
   "cell_type": "code",
   "execution_count": 2,
   "metadata": {},
   "outputs": [
    {
     "name": "stdout",
     "output_type": "stream",
     "text": [
      "                            OLS Regression Results                            \n",
      "==============================================================================\n",
      "Dep. Variable:                   earn   R-squared:                       0.094\n",
      "Model:                            OLS   Adj. R-squared:                  0.093\n",
      "Method:                 Least Squares   F-statistic:                     187.2\n",
      "Date:                Sat, 07 Oct 2023   Prob (F-statistic):           1.24e-40\n",
      "Time:                        13:01:01   Log-Likelihood:                -20688.\n",
      "No. Observations:                1816   AIC:                         4.138e+04\n",
      "Df Residuals:                    1814   BIC:                         4.139e+04\n",
      "Df Model:                           1                                         \n",
      "Covariance Type:            nonrobust                                         \n",
      "==============================================================================\n",
      "                 coef    std err          t      P>|t|      [0.025      0.975]\n",
      "------------------------------------------------------------------------------\n",
      "const       1.585e+04    635.246     24.948      0.000    1.46e+04    1.71e+04\n",
      "male        1.426e+04   1041.953     13.683      0.000    1.22e+04    1.63e+04\n",
      "==============================================================================\n",
      "Omnibus:                     1900.593   Durbin-Watson:                   1.894\n",
      "Prob(Omnibus):                  0.000   Jarque-Bera (JB):           248311.024\n",
      "Skew:                           4.813   Prob(JB):                         0.00\n",
      "Kurtosis:                      59.471   Cond. No.                         2.43\n",
      "==============================================================================\n",
      "\n",
      "Notes:\n",
      "[1] Standard Errors assume that the covariance matrix of the errors is correctly specified.\n"
     ]
    }
   ],
   "source": [
    "import pandas as pd\n",
    "import statsmodels.api as sm\n",
    "\n",
    "# Loading the dataset\n",
    "df = pd.read_csv(\"https://raw.githubusercontent.com/avehtari/ROS-Examples/master/Earnings/data/earnings.csv\")\n",
    "\n",
    "# Assigning the predictor and the response variable\n",
    "X = df[\"male\"]\n",
    "X = sm.add_constant(X) # Adding a constant to the model (intercept)\n",
    "y = df[\"earn\"]\n",
    "\n",
    "# Performing the linear regression\n",
    "model = sm.OLS(y, X).fit()\n",
    "\n",
    "# Printing the summary of the regression\n",
    "print(model.summary())"
   ]
  },
  {
   "cell_type": "markdown",
   "metadata": {},
   "source": [
    "1. There does appear to be a statistically significant effect. The p-value is 0.000, and therefore much less than the standard 0.05 threshold.\n",
    "2. The coefficient for male is approximately `1.426e+04`. This means that, on average, males earn about $14,260 more than females when holding other factors constant. This is a positive value, suggesting that being male is associated with higher earnings, as expected."
   ]
  },
  {
   "cell_type": "markdown",
   "metadata": {},
   "source": [
    "### Part C\n",
    "Using stats models, perform a linear regression with height as the predictor and earnings as the response variable. Answer the same questions which are posed in part (a).\n",
    "\n",
    "### Solution\n",
    "I expect earnings, given an individual is taller, to be higher than earnings, given an individual is shorter. This comes from the idea that taller people are more likely to be male, and as we just showed are more likely to earn more."
   ]
  },
  {
   "cell_type": "code",
   "execution_count": 3,
   "metadata": {},
   "outputs": [
    {
     "name": "stdout",
     "output_type": "stream",
     "text": [
      "                            OLS Regression Results                            \n",
      "==============================================================================\n",
      "Dep. Variable:                   earn   R-squared:                       0.074\n",
      "Model:                            OLS   Adj. R-squared:                  0.073\n",
      "Method:                 Least Squares   F-statistic:                     144.1\n",
      "Date:                Sat, 07 Oct 2023   Prob (F-statistic):           5.42e-32\n",
      "Time:                        13:01:01   Log-Likelihood:                -20708.\n",
      "No. Observations:                1816   AIC:                         4.142e+04\n",
      "Df Residuals:                    1814   BIC:                         4.143e+04\n",
      "Df Model:                           1                                         \n",
      "Covariance Type:            nonrobust                                         \n",
      "==============================================================================\n",
      "                 coef    std err          t      P>|t|      [0.025      0.975]\n",
      "------------------------------------------------------------------------------\n",
      "const      -8.503e+04   8860.650     -9.596      0.000   -1.02e+05   -6.76e+04\n",
      "height      1594.9598    132.885     12.003      0.000    1334.336    1855.584\n",
      "==============================================================================\n",
      "Omnibus:                     1886.197   Durbin-Watson:                   1.904\n",
      "Prob(Omnibus):                  0.000   Jarque-Bera (JB):           234212.585\n",
      "Skew:                           4.768   Prob(JB):                         0.00\n",
      "Kurtosis:                      57.812   Cond. No.                     1.16e+03\n",
      "==============================================================================\n",
      "\n",
      "Notes:\n",
      "[1] Standard Errors assume that the covariance matrix of the errors is correctly specified.\n",
      "[2] The condition number is large, 1.16e+03. This might indicate that there are\n",
      "strong multicollinearity or other numerical problems.\n"
     ]
    }
   ],
   "source": [
    "# Assigning the predictor and the response variable\n",
    "X_height = df[\"height\"]\n",
    "X_height = sm.add_constant(X_height)  # Adding a constant to the model (intercept)\n",
    "\n",
    "# Performing the linear regression\n",
    "model_height = sm.OLS(y, X_height).fit()\n",
    "\n",
    "# Printing the summary of the regression\n",
    "print(model_height.summary())"
   ]
  },
  {
   "cell_type": "markdown",
   "metadata": {},
   "source": [
    "1. Again, there does appear to be a statistically significant effect. The p-value is 0.000, and therefore much less than the standard 0.05 threshold.\n",
    "\n",
    "2. The coefficient for height is approximately `1594.9598`. This means that for every one-inch increase in height, earnings increase by about $1,594.96 on average, holding all else constant. This is a positive value, confirming my expectation that taller individuals tend to earn more."
   ]
  },
  {
   "cell_type": "markdown",
   "metadata": {},
   "source": [
    "### Part D\n",
    "You should have found there is an association between both gender and earnings, as well as height and earnings. A natural question is whether the association between height and earnings is simply a byproduct of the fact that men are taller on average. To answer this question, separate the data into males and females, then fit the linear regression model with height as a predictor separately for each group.\n",
    "\n",
    "### Solution"
   ]
  },
  {
   "cell_type": "code",
   "execution_count": 4,
   "metadata": {},
   "outputs": [
    {
     "name": "stdout",
     "output_type": "stream",
     "text": [
      "Regression Results for Males:\n",
      "                            OLS Regression Results                            \n",
      "==============================================================================\n",
      "Dep. Variable:                   earn   R-squared:                       0.010\n",
      "Model:                            OLS   Adj. R-squared:                  0.009\n",
      "Method:                 Least Squares   F-statistic:                     7.000\n",
      "Date:                Sat, 07 Oct 2023   Prob (F-statistic):            0.00834\n",
      "Time:                        13:01:01   Log-Likelihood:                -7886.0\n",
      "No. Observations:                 675   AIC:                         1.578e+04\n",
      "Df Residuals:                     673   BIC:                         1.579e+04\n",
      "Df Model:                           1                                         \n",
      "Covariance Type:            nonrobust                                         \n",
      "==============================================================================\n",
      "                 coef    std err          t      P>|t|      [0.025      0.975]\n",
      "------------------------------------------------------------------------------\n",
      "const          -4e+04   2.65e+04     -1.508      0.132   -9.21e+04    1.21e+04\n",
      "height      1000.2575    378.056      2.646      0.008     257.947    1742.568\n",
      "==============================================================================\n",
      "Omnibus:                      709.861   Durbin-Watson:                   1.843\n",
      "Prob(Omnibus):                  0.000   Jarque-Bera (JB):            57142.571\n",
      "Skew:                           4.710   Prob(JB):                         0.00\n",
      "Kurtosis:                      47.080   Cond. No.                     1.68e+03\n",
      "==============================================================================\n",
      "\n",
      "Notes:\n",
      "[1] Standard Errors assume that the covariance matrix of the errors is correctly specified.\n",
      "[2] The condition number is large, 1.68e+03. This might indicate that there are\n",
      "strong multicollinearity or other numerical problems.\n"
     ]
    }
   ],
   "source": [
    "# Separating the data into males and females\n",
    "male_data = df[df['male'] == 1]\n",
    "female_data = df[df['male'] == 0]\n",
    "\n",
    "# Linear regression for males using height as the predictor\n",
    "X_male = male_data['height']\n",
    "X_male = sm.add_constant(X_male)  # Adding a constant to the model (intercept)\n",
    "y_male = male_data['earn']\n",
    "\n",
    "model_male = sm.OLS(y_male, X_male).fit()\n",
    "print(\"Regression Results for Males:\")\n",
    "print(model_male.summary())"
   ]
  },
  {
   "cell_type": "code",
   "execution_count": 5,
   "metadata": {},
   "outputs": [
    {
     "name": "stdout",
     "output_type": "stream",
     "text": [
      "Regression Results for Females:\n",
      "                            OLS Regression Results                            \n",
      "==============================================================================\n",
      "Dep. Variable:                   earn   R-squared:                       0.004\n",
      "Model:                            OLS   Adj. R-squared:                  0.003\n",
      "Method:                 Least Squares   F-statistic:                     4.493\n",
      "Date:                Sat, 07 Oct 2023   Prob (F-statistic):             0.0343\n",
      "Time:                        13:01:01   Log-Likelihood:                -12626.\n",
      "No. Observations:                1141   AIC:                         2.526e+04\n",
      "Df Residuals:                    1139   BIC:                         2.527e+04\n",
      "Df Model:                           1                                         \n",
      "Covariance Type:            nonrobust                                         \n",
      "==============================================================================\n",
      "                 coef    std err          t      P>|t|      [0.025      0.975]\n",
      "------------------------------------------------------------------------------\n",
      "const      -8487.2017   1.15e+04     -0.739      0.460    -3.1e+04    1.41e+04\n",
      "height       377.3684    178.034      2.120      0.034      28.058     726.679\n",
      "==============================================================================\n",
      "Omnibus:                      643.552   Durbin-Watson:                   1.907\n",
      "Prob(Omnibus):                  0.000   Jarque-Bera (JB):             7150.574\n",
      "Skew:                           2.393   Prob(JB):                         0.00\n",
      "Kurtosis:                      14.292   Cond. No.                     1.62e+03\n",
      "==============================================================================\n",
      "\n",
      "Notes:\n",
      "[1] Standard Errors assume that the covariance matrix of the errors is correctly specified.\n",
      "[2] The condition number is large, 1.62e+03. This might indicate that there are\n",
      "strong multicollinearity or other numerical problems.\n"
     ]
    }
   ],
   "source": [
    "# Linear regression for females using height as the predictor\n",
    "X_female = female_data['height']\n",
    "X_female = sm.add_constant(X_female)  # Adding a constant to the model (intercept)\n",
    "y_female = female_data['earn']\n",
    "\n",
    "model_female = sm.OLS(y_female, X_female).fit()\n",
    "print(\"Regression Results for Females:\")\n",
    "print(model_female.summary())"
   ]
  },
  {
   "cell_type": "markdown",
   "metadata": {},
   "source": [
    "### Part E\n",
    "Based on the results from the previous problem, what do you conclude? Is the association between height and earnings solely due to the association between gender and heights? Do you think it is partially due to the height?\n",
    "\n",
    "### Solution\n",
    "We can see that the regression of earnings using height as a predictor in the separate male and female groups is statistically significant, having a p-value of `0.008` for the male group and `0.034` in the female group, which are both less than the standard `0.05` threshold.\n",
    "\n",
    "The coefficient for height in the male group is approximately `1000.2575`. This means that for every one-inch increase in height, earnings for men increase by about $1,000.26 on average, holding all else constant.\n",
    "\n",
    "The coefficient for height in the female group is approximately `377.3684`. This means that for every one-inch increase in height, earnings for women increase by about $377.37 on average, holding all else constant.\n",
    "\n",
    "Both males and females show a positive association between height and earnings. While the association is statistically significant for both genders, the effect size (or magnitude) is larger for males. This suggests that while height does play a role in determining earnings within both genders, other factors, potentially including gender dynamics and societal perceptions, might also contribute to the observed discrepancies in earnings."
   ]
  }
 ],
 "metadata": {
  "kernelspec": {
   "display_name": "Python 3",
   "language": "python",
   "name": "python3"
  },
  "language_info": {
   "codemirror_mode": {
    "name": "ipython",
    "version": 3
   },
   "file_extension": ".py",
   "mimetype": "text/x-python",
   "name": "python",
   "nbconvert_exporter": "python",
   "pygments_lexer": "ipython3",
   "version": "3.11.5"
  }
 },
 "nbformat": 4,
 "nbformat_minor": 2
}
