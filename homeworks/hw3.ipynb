{
 "cells": [
  {
   "cell_type": "markdown",
   "metadata": {},
   "source": [
    "# M50 Homework 3\n",
    "\n",
    "## Alex Craig"
   ]
  },
  {
   "cell_type": "markdown",
   "metadata": {},
   "source": [
    "## Exercise 1.\n",
    "(Testing for normality): Here we consider the dataset that can be loaded with\n",
    "\n",
    "```python\n",
    "df = pd.read˙csv(”https://raw.githubusercontent.com/avehtari/ROS-Examples/master/Earnings/data/earnings.csv”)\n",
    "```"
   ]
  },
  {
   "cell_type": "markdown",
   "metadata": {},
   "source": [
    "### Part A\n",
    "Let $Y$ denote the data from the column earn, which contains peoples earnings from this sample of adults in the US. Using this sample, estimate:\n",
    "\n",
    "$$\n",
    "\\mathbb{P}(Y > \\mu_Y + 2\\sigma_Y)\n",
    "$$\n",
    "\n",
    "where $\\mu_Y$ and $\\sigma_Y$ are the mean and standard deviation of the earnings (these will need to be estimated along the way).\n",
    "\n",
    "### Solution\n",
    "Denotes our estimations of $\\mu_Y$ and $\\sigma_Y$ as $\\bar{\\mu}_Y$ and $\\bar{\\sigma}_Y$ respectively. Then we have"
   ]
  },
  {
   "cell_type": "code",
   "execution_count": 18,
   "metadata": {},
   "outputs": [
    {
     "name": "stdout",
     "output_type": "stream",
     "text": [
      "Sample mean: 21147.296255506608\n",
      "Sample standard deviation: 22531.76512330289\n",
      "P(Y > mu_bar + 2*sigma_bar): 0.02918502202643172\n"
     ]
    }
   ],
   "source": [
    "import pandas as pd\n",
    "\n",
    "df = pd.read_csv(\"https://raw.githubusercontent.com/avehtari/ROS-Examples/master/Earnings/data/earnings.csv\")\n",
    "\n",
    "Y = df['earn']\n",
    "\n",
    "mu_bar = Y.mean()\n",
    "sigma_bar = Y.std()\n",
    "\n",
    "probability = (Y > mu_bar + 2*sigma_bar).mean()\n",
    "\n",
    "print(f\"Sample mean: {mu_bar}\")\n",
    "print(f\"Sample standard deviation: {sigma_bar}\")\n",
    "print(f\"P(Y > mu_bar + 2*sigma_bar): {probability}\")"
   ]
  },
  {
   "cell_type": "markdown",
   "metadata": {},
   "source": [
    "### Part B\n",
    "Based on your results from part (a), do you think the distribution of earnings is accurately captured by a Normal random variable?\n",
    "\n",
    "### Solution\n",
    "Let us assume $Y \\sim N(\\bar{\\mu}_Y, \\bar{\\sigma}_Y^2)$, and then compare the empirical CDF of $Y$ to the CDF of $N(\\bar{\\mu}_Y, \\bar{\\sigma}_Y^2)$."
   ]
  },
  {
   "cell_type": "code",
   "execution_count": 19,
   "metadata": {},
   "outputs": [
    {
     "name": "stdout",
     "output_type": "stream",
     "text": [
      "Empirical CDF probability: 0.02918502202643172\n",
      "Normal CDF probability: 0.02275013194817921\n"
     ]
    }
   ],
   "source": [
    "import scipy.stats as stats\n",
    "\n",
    "print(f\"Empirical CDF probability: {probability}\")\n",
    "\n",
    "# Analytical solution\n",
    "print(f\"Normal CDF probability: {1 - stats.norm.cdf(mu_bar + 2*sigma_bar, loc = mu_bar, scale = sigma_bar)}\")"
   ]
  },
  {
   "cell_type": "markdown",
   "metadata": {},
   "source": [
    "We can see that the empirical and normal CDFs are very similar, so we can conclude that the distribution of earnings is accurately captured by a Normal random variable."
   ]
  },
  {
   "cell_type": "markdown",
   "metadata": {},
   "source": [
    "### Part C\n",
    "Repeat (a) and (b) with data from the height column. Do you think the variation height data is accurately approximated by a Normal distribution?\n",
    "\n",
    "### Solution"
   ]
  },
  {
   "cell_type": "markdown",
   "metadata": {},
   "source": [
    "## Exercise 2.\n",
    "(Computation with normal variables): Let\n",
    "\n",
    "$$\n",
    "Z_1 \\sim N(0, 1^2), \\quad Z_2 \\sim N(1, 4)\n",
    "$$\n",
    "\n",
    "be independent."
   ]
  },
  {
   "cell_type": "markdown",
   "metadata": {},
   "source": [
    "### Part A\n",
    "Using the estimates of Normal probabilities in class, compute the following:\n",
    "1. $\\mathbb{P}(Z_1 > 2)$\n",
    "2. $\\mathbb{P}(Z_1 + Z_2 < 6)$\n",
    "3. $\\mathbb{P}(Z_1 - Z_2 > 4)$\n",
    "\n",
    "### Solution\n",
    "1. \n",
    "$$\n",
    "\\mathbb{P}(Z_1 > 2) = 1 - \\mathbb{P}(Z_1 \\leq 2) = 1 - \\Phi(2) \\approx 1 - 0.9772 = 0.0228\n",
    "$$\n",
    "\n",
    "2. \n",
    "Let $X = Z_1 + Z_2$. Then $E[X] = E[Z_1 + Z_2] = E[Z_1] + E[Z_2] = 0 + 1 = 1$ and $Var(X) = Var(Z_1 + Z_2) = Var(Z_1) + Var(Z_2) = 1 + 4 = 5$. \n",
    "\n",
    "Therefore, $X \\sim N(1, 5)$. \n",
    "\n",
    "Therefore,  $\\mathbb{P}(Z_1 + Z_2 < 6) = \\mathbb{P}(X < 6) = \\mathbb{P}\\left(\\frac{X - 1}{\\sqrt{5}} < \\frac{6 - 1}{\\sqrt{5}}\\right) = \\mathbb{P}(Z_1 < 2.236) = \\Phi(2.236) \\approx 0.9873$\n",
    "\n",
    "3. \n",
    "Let $Y = Z_1 - Z_2$. Then $E[Y] = E[Z_1 - Z_2] = E[Z_1] - E[Z_2] = 0 - 1 = -1$ and $Var(Y) = Var(Z_1 - Z_2) = Var(Z_1) + Var(Z_2) = 1 + 4 = 5$.\n",
    "\n",
    "Therefore, $Y \\sim N(-1, 5)$.\n",
    "\n",
    "Therefore, $\\mathbb{P}(Z_1 - Z_2 > 4) = \\mathbb{P}(Y > 4) = \\mathbb{P}\\left(\\frac{Y + 1}{\\sqrt{5}} > \\frac{4 + 1}{\\sqrt{5}}\\right) = \\mathbb{P}(Z_1 > 3.162) = 1 - \\Phi(2.236) \\approx 1 - 0.9873 = 0.0127$"
   ]
  },
  {
   "cell_type": "markdown",
   "metadata": {},
   "source": [
    "### Part B\n",
    "Check your answers with monte carlo simulations in python.\n",
    "\n",
    "### Solution"
   ]
  },
  {
   "cell_type": "code",
   "execution_count": 26,
   "metadata": {},
   "outputs": [
    {
     "name": "stdout",
     "output_type": "stream",
     "text": [
      "P(Z_1 > 2) ≈ 0.0227\n",
      "P(Z_1 + Z_2 < 6) ≈ 0.9873\n",
      "P(Z_1 - Z_2 > 4) ≈ 0.0126\n"
     ]
    }
   ],
   "source": [
    "import numpy as np\n",
    "\n",
    "# Number of samples\n",
    "N = 10000000\n",
    "\n",
    "# Simulate samples from Z_1 and Z_2\n",
    "z1_samples = np.random.normal(0, 1, N)\n",
    "z2_samples = np.random.normal(1, 2, N)\n",
    "\n",
    "# Compute the probabilities:\n",
    "\n",
    "# P(Z_1 > 2)\n",
    "prob_z1_gt_2 = np.mean(z1_samples > 2)\n",
    "\n",
    "# P(Z_1 + Z_2 < 6)\n",
    "prob_z1_plus_z2_lt_6 = np.mean(z1_samples + z2_samples < 6)\n",
    "\n",
    "# P(Z_1 - Z_2 > 4)\n",
    "prob_z1_minus_z2_gt_4 = np.mean(z1_samples - z2_samples > 4)\n",
    "\n",
    "print(f\"P(Z_1 > 2) ≈ {prob_z1_gt_2:.4f}\")\n",
    "print(f\"P(Z_1 + Z_2 < 6) ≈ {prob_z1_plus_z2_lt_6:.4f}\")\n",
    "print(f\"P(Z_1 - Z_2 > 4) ≈ {prob_z1_minus_z2_gt_4:.4f}\")"
   ]
  },
  {
   "cell_type": "markdown",
   "metadata": {},
   "source": [
    "### Exercise 3.\n",
    "(Central limit Theorem): Suppose\n",
    "\n",
    "$$\n",
    "U_i \\sim \\text{Uniform}(u_0 - L, u_0 + L), \\quad i = 1, \\dots, N\n",
    "$$\n",
    "\n",
    "Note that by symmetry, $E[U_i] = u_0$."
   ]
  },
  {
   "cell_type": "markdown",
   "metadata": {},
   "source": [
    "### Part A\n",
    "Using simulations, confirm that\n",
    "\n",
    "$$\n",
    "var(U_i) = \\frac{L^2}{3}\n",
    "$$\n",
    "\n",
    "In particular, make a plot of $var(U_i)$ as a function of $L$.\n",
    "\n",
    "### Solution"
   ]
  },
  {
   "cell_type": "code",
   "execution_count": 30,
   "metadata": {},
   "outputs": [
    {
     "data": {
      "image/png": "[encoded data removed]",
      "text/plain": [
       "<Figure size 1000x600 with 1 Axes>"
      ]
     },
     "metadata": {},
     "output_type": "display_data"
    }
   ],
   "source": [
    "import matplotlib.pyplot as plt\n",
    "\n",
    "# Define u_0\n",
    "u_0 = 0\n",
    "\n",
    "# Define a range of L values\n",
    "L_values = np.linspace(0, 10, 100)\n",
    "\n",
    "# Store the variances\n",
    "variances = []\n",
    "\n",
    "# Simulate Ui for each L and compute the variance\n",
    "for L in L_values:\n",
    "    U_i = np.random.uniform(u_0 - L, u_0 + L, size=10000)\n",
    "    variances.append(np.var(U_i))\n",
    "\n",
    "# Theoretical variances\n",
    "theoretical_variances = L_values**2 / 3\n",
    "\n",
    "# Plotting\n",
    "plt.figure(figsize=(10,6))\n",
    "plt.plot(L_values, variances, label='Simulated Variances', color='blue')\n",
    "plt.plot(L_values, theoretical_variances, label='Theoretical Variances', linestyle='--', color='red')\n",
    "plt.xlabel('L')\n",
    "plt.ylabel('Variance')\n",
    "plt.title('Variance of $U_i$ vs. L')\n",
    "plt.legend()\n",
    "plt.grid(True)\n",
    "plt.show()"
   ]
  },
  {
   "cell_type": "markdown",
   "metadata": {},
   "source": [
    "### Part B\n",
    "Now consider the sum\n",
    "\n",
    "$$\n",
    "S_N = \\sum_{i=1}^N U_i\n",
    "$$\n",
    "\n",
    "Use CLT to approximate $\\mathbb{P}(S_N > u_0 + \\frac{L}{4})$ in terms of the cumulative distribution of a Normal random variable.\n",
    "\n",
    "### Solution"
   ]
  }
 ],
 "metadata": {
  "kernelspec": {
   "display_name": "Python 3",
   "language": "python",
   "name": "python3"
  },
  "language_info": {
   "codemirror_mode": {
    "name": "ipython",
    "version": 3
   },
   "file_extension": ".py",
   "mimetype": "text/x-python",
   "name": "python",
   "nbconvert_exporter": "python",
   "pygments_lexer": "ipython3",
   "version": "3.11.5"
  },
  "orig_nbformat": 4
 },
 "nbformat": 4,
 "nbformat_minor": 2
}
