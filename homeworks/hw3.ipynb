{
 "cells": [
  {
   "cell_type": "markdown",
   "metadata": {},
   "source": [
    "# M50 Homework 3\n",
    "\n",
    "## Alex Craig"
   ]
  },
  {
   "cell_type": "markdown",
   "metadata": {},
   "source": [
    "## Exercise 1.\n",
    "(Testing for normality): Here we consider the dataset that can be loaded with\n",
    "\n",
    "```python\n",
    "df = pd.read˙csv(”https://raw.githubusercontent.com/avehtari/ROS-Examples/master/Earnings/data/earnings.csv”)\n",
    "```"
   ]
  },
  {
   "cell_type": "markdown",
   "metadata": {},
   "source": [
    "### Part A\n",
    "Let $Y$ denote the data from the column earn, which contains peoples earnings from this sample of adults in the US. Using this sample, estimate:\n",
    "\n",
    "$$\n",
    "\\mathbb{P}(Y > \\mu_Y + 2\\sigma_Y)\n",
    "$$\n",
    "\n",
    "where $\\mu_Y$ and $\\sigma_Y$ are the mean and standard deviation of the earnings (these will need to be estimated along the way).\n",
    "\n",
    "### Solution\n",
    "Denotes our estimations of $\\mu_Y$ and $\\sigma_Y$ as $\\bar{\\mu}_Y$ and $\\bar{\\sigma}_Y$ respectively. Then we have"
   ]
  },
  {
   "cell_type": "code",
   "execution_count": 2,
   "metadata": {},
   "outputs": [
    {
     "name": "stdout",
     "output_type": "stream",
     "text": [
      "Sample mean: 21147.296255506608\n",
      "Sample standard deviation: 22531.76512330289\n",
      "P(Y > mu_bar + 2*sigma_bar): 0.02918502202643172\n"
     ]
    }
   ],
   "source": [
    "import pandas as pd\n",
    "\n",
    "df = pd.read_csv(\"https://raw.githubusercontent.com/avehtari/ROS-Examples/master/Earnings/data/earnings.csv\")\n",
    "\n",
    "Y = df['earn']\n",
    "\n",
    "mu_bar = Y.mean()\n",
    "sigma_bar = Y.std()\n",
    "\n",
    "probability = (Y > mu_bar + 2*sigma_bar).mean()\n",
    "\n",
    "print(f\"Sample mean: {mu_bar}\")\n",
    "print(f\"Sample standard deviation: {sigma_bar}\")\n",
    "print(f\"P(Y > mu_bar + 2*sigma_bar): {probability}\")"
   ]
  },
  {
   "cell_type": "markdown",
   "metadata": {},
   "source": [
    "### Part B\n",
    "Based on your results from part (a), do you think the distribution of earnings is accurately captured by a Normal random variable?\n",
    "\n",
    "### Solution\n",
    "Let us assume $Y \\sim N(\\bar{\\mu}_Y, \\bar{\\sigma}_Y^2)$, and then compare the empirical CDF of $Y$ to the CDF of $N(\\bar{\\mu}_Y, \\bar{\\sigma}_Y^2)$."
   ]
  },
  {
   "cell_type": "code",
   "execution_count": 3,
   "metadata": {},
   "outputs": [
    {
     "name": "stdout",
     "output_type": "stream",
     "text": [
      "Empirical CDF probability: 0.02918502202643172\n",
      "Normal CDF probability: 0.02275013194817921\n"
     ]
    }
   ],
   "source": [
    "import scipy.stats as stats\n",
    "\n",
    "print(f\"Empirical CDF probability: {probability}\")\n",
    "\n",
    "# Analytical solution\n",
    "print(f\"Normal CDF probability: {1 - stats.norm.cdf(mu_bar + 2*sigma_bar, loc = mu_bar, scale = sigma_bar)}\")"
   ]
  },
  {
   "cell_type": "markdown",
   "metadata": {},
   "source": [
    "We can see that the empirical and normal CDFs are very similar, so we can conclude that the distribution of earnings is accurately captured by a Normal random variable."
   ]
  },
  {
   "cell_type": "markdown",
   "metadata": {},
   "source": [
    "### Part C\n",
    "Repeat (a) and (b) with data from the height column. Do you think the variation height data is accurately approximated by a Normal distribution?\n",
    "\n",
    "### Solution"
   ]
  },
  {
   "cell_type": "markdown",
   "metadata": {},
   "source": [
    "## Exercise 2.\n",
    "(Computation with normal variables): Let\n",
    "\n",
    "$$\n",
    "Z_1 \\sim N(0, 1^2), \\quad Z_2 \\sim N(1, 4)\n",
    "$$\n",
    "\n",
    "be independent."
   ]
  },
  {
   "cell_type": "markdown",
   "metadata": {},
   "source": [
    "### Part A\n",
    "Using the estimates of Normal probabilities in class, compute the following:\n",
    "1. $\\mathbb{P}(Z_1 > 2)$\n",
    "2. $\\mathbb{P}(Z_1 + Z_2 < 6)$\n",
    "3. $\\mathbb{P}(Z_1 - Z_2 > 4)$\n",
    "\n",
    "### Solution\n",
    "1. \n",
    "$$\n",
    "\\mathbb{P}(Z_1 > 2) = 1 - \\mathbb{P}(Z_1 \\leq 2) = 1 - \\Phi(2) \\approx 1 - 0.9772 = 0.0228\n",
    "$$\n",
    "\n",
    "2. \n",
    "Let $X = Z_1 + Z_2$. Then $E[X] = E[Z_1 + Z_2] = E[Z_1] + E[Z_2] = 0 + 1 = 1$ and $Var(X) = Var(Z_1 + Z_2) = Var(Z_1) + Var(Z_2) = 1 + 4 = 5$. \n",
    "\n",
    "Therefore, $X \\sim N(1, 5)$. \n",
    "\n",
    "Therefore,  $\\mathbb{P}(Z_1 + Z_2 < 6) = \\mathbb{P}(X < 6) = \\mathbb{P}\\left(\\frac{X - 1}{\\sqrt{5}} < \\frac{6 - 1}{\\sqrt{5}}\\right) = \\mathbb{P}(Z_1 < 2.236) = \\Phi(2.236) \\approx 0.9873$\n",
    "\n",
    "3. \n",
    "Let $Y = Z_1 - Z_2$. Then $E[Y] = E[Z_1 - Z_2] = E[Z_1] - E[Z_2] = 0 - 1 = -1$ and $Var(Y) = Var(Z_1 - Z_2) = Var(Z_1) + Var(Z_2) = 1 + 4 = 5$.\n",
    "\n",
    "Therefore, $Y \\sim N(-1, 5)$.\n",
    "\n",
    "Therefore, $\\mathbb{P}(Z_1 - Z_2 > 4) = \\mathbb{P}(Y > 4) = \\mathbb{P}\\left(\\frac{Y + 1}{\\sqrt{5}} > \\frac{4 + 1}{\\sqrt{5}}\\right) = \\mathbb{P}(Z_1 > 3.162) = 1 - \\Phi(2.236) \\approx 1 - 0.9873 = 0.0127$"
   ]
  },
  {
   "cell_type": "markdown",
   "metadata": {},
   "source": [
    "### Part B\n",
    "Check your answers with monte carlo simulations in python.\n",
    "\n",
    "### Solution"
   ]
  },
  {
   "cell_type": "code",
   "execution_count": 4,
   "metadata": {},
   "outputs": [
    {
     "name": "stdout",
     "output_type": "stream",
     "text": [
      "P(Z_1 > 2) ≈ 0.0227\n",
      "P(Z_1 + Z_2 < 6) ≈ 0.9873\n",
      "P(Z_1 - Z_2 > 4) ≈ 0.0126\n"
     ]
    }
   ],
   "source": [
    "import numpy as np\n",
    "\n",
    "# Number of samples\n",
    "N = 10000000\n",
    "\n",
    "# Simulate samples from Z_1 and Z_2\n",
    "z1_samples = np.random.normal(0, 1, N)\n",
    "z2_samples = np.random.normal(1, 2, N)\n",
    "\n",
    "# Compute the probabilities:\n",
    "\n",
    "# P(Z_1 > 2)\n",
    "prob_z1_gt_2 = np.mean(z1_samples > 2)\n",
    "\n",
    "# P(Z_1 + Z_2 < 6)\n",
    "prob_z1_plus_z2_lt_6 = np.mean(z1_samples + z2_samples < 6)\n",
    "\n",
    "# P(Z_1 - Z_2 > 4)\n",
    "prob_z1_minus_z2_gt_4 = np.mean(z1_samples - z2_samples > 4)\n",
    "\n",
    "print(f\"P(Z_1 > 2) ≈ {prob_z1_gt_2:.4f}\")\n",
    "print(f\"P(Z_1 + Z_2 < 6) ≈ {prob_z1_plus_z2_lt_6:.4f}\")\n",
    "print(f\"P(Z_1 - Z_2 > 4) ≈ {prob_z1_minus_z2_gt_4:.4f}\")"
   ]
  },
  {
   "cell_type": "markdown",
   "metadata": {},
   "source": [
    "### Exercise 3.\n",
    "(Central limit Theorem): Suppose\n",
    "\n",
    "$$\n",
    "U_i \\sim \\text{Uniform}(u_0 - L, u_0 + L), \\quad i = 1, \\dots, N\n",
    "$$\n",
    "\n",
    "Note that by symmetry, $E[U_i] = u_0$."
   ]
  },
  {
   "cell_type": "markdown",
   "metadata": {},
   "source": [
    "### Part A\n",
    "Using simulations, confirm that\n",
    "\n",
    "$$\n",
    "var(U_i) = \\frac{L^2}{3}\n",
    "$$\n",
    "\n",
    "In particular, make a plot of $var(U_i)$ as a function of $L$.\n",
    "\n",
    "### Solution"
   ]
  },
  {
   "cell_type": "code",
   "execution_count": 5,
   "metadata": {},
   "outputs": [
    {
     "data": {
      "image/png": "[encoded data removed]",
      "text/plain": [
       "<Figure size 1000x600 with 1 Axes>"
      ]
     },
     "metadata": {},
     "output_type": "display_data"
    }
   ],
   "source": [
    "import matplotlib.pyplot as plt\n",
    "\n",
    "# Define u_0\n",
    "u_0 = 0\n",
    "\n",
    "# Define a range of L values\n",
    "L_values = np.linspace(0, 10, 100)\n",
    "\n",
    "# Store the variances\n",
    "variances = []\n",
    "\n",
    "# Simulate Ui for each L and compute the variance\n",
    "for L in L_values:\n",
    "    U_i = np.random.uniform(u_0 - L, u_0 + L, size=10000)\n",
    "    variances.append(np.var(U_i))\n",
    "\n",
    "# Theoretical variances\n",
    "theoretical_variances = L_values**2 / 3\n",
    "\n",
    "# Plotting\n",
    "plt.figure(figsize=(10,6))\n",
    "plt.plot(L_values, variances, label='Simulated Variances', color='blue')\n",
    "plt.plot(L_values, theoretical_variances, label='Theoretical Variances', linestyle='--', color='red')\n",
    "plt.xlabel('L')\n",
    "plt.ylabel('Variance')\n",
    "plt.title('Variance of $U_i$ vs. L')\n",
    "plt.legend()\n",
    "plt.grid(True)\n",
    "plt.show()"
   ]
  },
  {
   "cell_type": "markdown",
   "metadata": {},
   "source": [
    "### Part B\n",
    "Now consider the sum\n",
    "\n",
    "$$\n",
    "S_N = \\sum_{i=1}^N U_i\n",
    "$$\n",
    "\n",
    "Use CLT to approximate $\\mathbb{P}(S_N > u_0 + \\frac{L}{4})$ in terms of the cumulative distribution of a Normal random variable.\n",
    "\n",
    "### Solution"
   ]
  },
  {
   "cell_type": "markdown",
   "metadata": {},
   "source": [
    "## Exercise 4.\n",
    "(Model with conditional variance): Consider the model:\n",
    "\n",
    "$$\n",
    "X \\sim Bernoulli(q)\n",
    "$$\n",
    "\n",
    "$$\n",
    "Y \\mid X \\sim N(a, X + 2(1 - X))\n",
    "$$"
   ]
  },
  {
   "cell_type": "markdown",
   "metadata": {},
   "source": [
    "### Part A\n",
    "Is this a linear regression model (for the variable $Y$) as defined in class? Are $X$ and $Y$ independent?\n",
    "\n",
    "### Solution\n",
    "We can see that $E[Y \\mid X] = a$, so the mean of $Y$ is not a linear function of $X$. Therefore, this is not a linear regression model. Only the variance of $Y$ is a linear function of $X$, so this is not a linear model as we discussed in class. \n",
    "\n",
    "Even though this may not be a linear regression model, the distribution of $Y$ changes given different values of $X$, so $X$ and $Y$ are not independent."
   ]
  },
  {
   "cell_type": "markdown",
   "metadata": {},
   "source": [
    "### Part B\n",
    "Compute $cov(X, Y)$\n",
    "\n",
    "### Solution\n",
    "Remember that $cov(X, Y) = E[XY] - E[X]E[Y]$. W\n",
    "\n",
    "We can see that $E[X] = q$ because it is bernoulli distributed with parameter $q$. \n",
    "\n",
    "We can also see that $E[Y] = a$ because $Y$ is normally distributed with mean $a$.\n",
    "\n",
    "By tower property: $E[XY] = E[X \\times E[Y \\mid X]]$\n",
    "\n",
    "$$\n",
    "E[Y \\mid X] = a \\Rightarrow E[XY] = E[X \\times a] = aE[X] = aq\n",
    "$$\n",
    "\n",
    "Therefore, $cov(X, Y) = aq - aq = 0$\n"
   ]
  },
  {
   "cell_type": "markdown",
   "metadata": {},
   "source": [
    "### Part C\n",
    "Confirm your answers by making a plot of the covariance as a function of $q$ from a sample of $10000$ $(x, y)$ points.\n",
    "\n",
    "### Solution"
   ]
  },
  {
   "cell_type": "code",
   "execution_count": 13,
   "metadata": {},
   "outputs": [
    {
     "data": {
      "image/png": "[encoded data removed]",
      "text/plain": [
       "<Figure size 640x480 with 1 Axes>"
      ]
     },
     "metadata": {},
     "output_type": "display_data"
    }
   ],
   "source": [
    "# Constants\n",
    "a = 1.0\n",
    "num_samples = 10000\n",
    "q_values = np.linspace(0, 1, 100)\n",
    "\n",
    "covariances = []\n",
    "\n",
    "for q in q_values:\n",
    "    # Generate samples for X from Bernoulli distribution\n",
    "    x_samples = np.random.binomial(1, q, num_samples)\n",
    "    \n",
    "    # Generate samples for Y given X\n",
    "    y_samples = [np.random.normal(a, x + 2*(1 - x)) for x in x_samples]\n",
    "    \n",
    "    # Compute the covariance for the samples\n",
    "    cov = np.cov(x_samples, y_samples)[0][1]\n",
    "    covariances.append(cov)\n",
    "\n",
    "# Plot\n",
    "plt.plot(q_values, covariances)\n",
    "plt.xlabel('q')\n",
    "plt.ylabel('Covariance')\n",
    "plt.title('Covariance of X and Y as a function of q')\n",
    "plt.grid(True)\n",
    "plt.ylim(-0.25, .25)\n",
    "plt.show()"
   ]
  },
  {
   "cell_type": "markdown",
   "metadata": {},
   "source": [
    "## Exercise 5\n",
    "(Swapping response and predictor variables): Consider the conditionally normal model introduced in class:\n",
    "\n",
    "$$\n",
    "X \\sim N(\\mu_X, \\sigma_X^2)\n",
    "$$\n",
    "\n",
    "$$\n",
    "Y \\mid X \\sim N(\\beta_1 X + \\beta_0, \\sigma_{Y \\mid X}^2)\n",
    "$$\n",
    "\n",
    "This is a regression model for $Y$. The goal of this problem is to understand the distribution of $X$ conditioned on $Y$. That is, we would like to understand the corresponding regression model for $X$. This is important, because in some applications we have to make a choice about which variable to take as our response and which as our predictor. This exercise will help us understand how the regression parameters we infer depend on this choice. It will also sharpen our understanding of what the covariance really means.\n",
    "\n",
    "For some additional motivation, suppose that there is no noise in $Y \\mid X$ (meaning $\\sigma_{Y \\mid X}^2 = 0$). Then\n",
    "\n",
    "$$\n",
    "Y = \\beta_1 X + \\beta_0 \\Rightarrow X = \\frac{1}{\\beta_1}Y - \\frac{\\beta_0}{\\beta_1}\n",
    "$$\n",
    "\n",
    "So the slope of X vs Y is $\\frac{1}{\\beta_1}$. We could try adding a normal random variable $Z \\sim N(0, \\sigma_{Y \\mid X}^2)$ to represent the noise in $Y \\mid X$ and then solve this again. This would lead us to \n",
    "\n",
    "$$\n",
    "Y = \\beta_1 X + \\beta_0 + Z \\Rightarrow X = \\frac{1}{\\beta_1}(Y) - \\frac{\\beta_0}{\\beta_1} + \\frac{Z}{\\beta_1}\n",
    "$$\n",
    "\n",
    "It is tempting to conclude that $Y \\mid X$ follows a normal distribution with mean $\\frac{Y}{\\beta_1} - \\frac{\\beta_0}{\\beta_1}$ and variance $\\frac{\\sigma_{Y \\mid X}^2}{\\beta_1^2}$. This is however false - see part (c). In this problem, you will derive the correct formula.\n"
   ]
  }
 ],
 "metadata": {
  "kernelspec": {
   "display_name": "Python 3",
   "language": "python",
   "name": "python3"
  },
  "language_info": {
   "codemirror_mode": {
    "name": "ipython",
    "version": 3
   },
   "file_extension": ".py",
   "mimetype": "text/x-python",
   "name": "python",
   "nbconvert_exporter": "python",
   "pygments_lexer": "ipython3",
   "version": "3.11.5"
  },
  "orig_nbformat": 4
 },
 "nbformat": 4,
 "nbformat_minor": 2
}
