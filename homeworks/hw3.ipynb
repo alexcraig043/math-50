{
 "cells": [
  {
   "cell_type": "markdown",
   "metadata": {},
   "source": [
    "# M50 Homework 3\n",
    "\n",
    "## Alex Craig"
   ]
  },
  {
   "cell_type": "markdown",
   "metadata": {},
   "source": [
    "## Exercise 1.\n",
    "(Testing for normality): Here we consider the dataset that can be loaded with\n",
    "\n",
    "```python\n",
    "df = pd.read˙csv(”https://raw.githubusercontent.com/avehtari/ROS-Examples/master/Earnings/data/earnings.csv”)\n",
    "```"
   ]
  },
  {
   "cell_type": "markdown",
   "metadata": {},
   "source": [
    "### Part A\n",
    "Let $Y$ denote the data from the column earn, which contains peoples earnings from this sample of adults in the US. Using this sample, estimate:\n",
    "\n",
    "$$\n",
    "\\mathbb{P}(Y > \\mu_Y + 3 \\sigma_Y)\n",
    "$$\n",
    "\n",
    "where $\\mu_Y$ and $\\sigma_Y$ are the mean and standard deviation of the earnings (these will need to be estimated along the way).\n",
    "\n",
    "### Solution\n",
    "Denotes our estimations of $\\mu_Y$ and $\\sigma_Y$ as $\\bar{\\mu}_Y$ and $\\bar{\\sigma}_Y$ respectively. Then we have"
   ]
  },
  {
   "cell_type": "code",
   "execution_count": 53,
   "metadata": {},
   "outputs": [
    {
     "name": "stdout",
     "output_type": "stream",
     "text": [
      "Sample mean: 21147.296255506608\n",
      "Sample standard deviation: 22531.76512330289\n",
      "P(Y > mu_bar + 3*sigma_bar): 0.01762114537444934\n"
     ]
    }
   ],
   "source": [
    "import pandas as pd\n",
    "\n",
    "df = pd.read_csv(\"https://raw.githubusercontent.com/avehtari/ROS-Examples/master/Earnings/data/earnings.csv\")\n",
    "\n",
    "Y = df['earn']\n",
    "\n",
    "mu_bar = Y.mean()\n",
    "sigma_bar = Y.std()\n",
    "\n",
    "probability = (Y > mu_bar + 3*sigma_bar).mean()\n",
    "\n",
    "print(f\"Sample mean: {mu_bar}\")\n",
    "print(f\"Sample standard deviation: {sigma_bar}\")\n",
    "print(f\"P(Y > mu_bar + 3*sigma_bar): {probability}\")"
   ]
  },
  {
   "cell_type": "markdown",
   "metadata": {},
   "source": [
    "### Part B\n",
    "Based on your results from part (a), do you think the distribution of earnings is accurately captured by a Normal random variable?\n",
    "\n",
    "### Solution\n",
    "Let's compare our empirical probability to the theoretical probability of a normal distribution with the same mean and standard deviation."
   ]
  },
  {
   "cell_type": "code",
   "execution_count": 54,
   "metadata": {},
   "outputs": [
    {
     "name": "stdout",
     "output_type": "stream",
     "text": [
      "Empirical CDF probability: 0.01762114537444934\n",
      "Normal CDF probability: 0.0013498980316301035\n"
     ]
    }
   ],
   "source": [
    "import scipy.stats as stats\n",
    "\n",
    "print(f\"Empirical CDF probability: {probability}\")\n",
    "\n",
    "# Theoretical solution\n",
    "print(f\"Normal CDF probability: {1 - stats.norm.cdf(mu_bar + 3*sigma_bar, loc = mu_bar, scale = sigma_bar)}\")"
   ]
  },
  {
   "cell_type": "markdown",
   "metadata": {},
   "source": [
    "We can see that the empirical and theoretical CDFs are almost an order of magnitude different, so we can conclude that the distribution of earnings is not accurately captured by a Normal random variable."
   ]
  },
  {
   "cell_type": "markdown",
   "metadata": {},
   "source": [
    "### Part C\n",
    "Repeat (a) and (b) with data from the height column. Do you think the variation height data is accurately approximated by a Normal distribution?\n",
    "\n",
    "### Solution"
   ]
  },
  {
   "cell_type": "code",
   "execution_count": 55,
   "metadata": {},
   "outputs": [
    {
     "name": "stdout",
     "output_type": "stream",
     "text": [
      "Sample mean: 66.56883259911895\n",
      "Sample standard deviation: 3.8318223821904533\n",
      "Empirical CDF probability: 0.0005506607929515419\n",
      "Normal CDF probability: 0.0013498980316301035\n"
     ]
    }
   ],
   "source": [
    "Y = df['height']\n",
    "\n",
    "mu_bar = Y.mean()\n",
    "sigma_bar = Y.std()\n",
    "\n",
    "probability = (Y > mu_bar + 3*sigma_bar).mean()\n",
    "\n",
    "print(f\"Sample mean: {mu_bar}\")\n",
    "print(f\"Sample standard deviation: {sigma_bar}\")\n",
    "print(f\"Empirical CDF probability: {probability}\")\n",
    "\n",
    "# Theoretical solution\n",
    "print(f\"Normal CDF probability: {1 - stats.norm.cdf(mu_bar + 3*sigma_bar, loc = mu_bar, scale = sigma_bar)}\")"
   ]
  },
  {
   "cell_type": "markdown",
   "metadata": {},
   "source": [
    "Again, we see the empirical CDF is an order of magnitude different than a normal CDF with the same mean and variance, so we can conclude that the distribution of height is not accurately captured by a Normal random variable."
   ]
  },
  {
   "cell_type": "markdown",
   "metadata": {},
   "source": [
    "## Exercise 2.\n",
    "(Computation with normal variables): Let\n",
    "\n",
    "$$\n",
    "Z_1 \\sim \\mathcal{N}(0, 1^2), \\quad Z_2 \\sim \\mathcal{N}(1, 4)\n",
    "$$\n",
    "\n",
    "be independent."
   ]
  },
  {
   "cell_type": "markdown",
   "metadata": {},
   "source": [
    "### Part A\n",
    "Using the estimates of Normal probabilities in class, compute the following:\n",
    "1. $\\mathbb{P}(Z_1 > 2)$\n",
    "2. $\\mathbb{P}(Z_1 + Z_2 < 6)$\n",
    "3. $\\mathbb{P}(Z_1 - Z_2 > 4)$\n",
    "\n",
    "### Solution\n",
    "1. \n",
    "$$\n",
    "\\mathbb{P}(Z_1 > 2) = 1 - \\mathbb{P}(Z_1 \\leq 2) = 1 - \\Phi(2) \\approx 1 - 0.9772 = 0.0228\n",
    "$$\n",
    "\n",
    "2. \n",
    "Let $X = Z_1 + Z_2$. Then $E[X] = E[Z_1 + Z_2] = E[Z_1] + E[Z_2] = 0 + 1 = 1$ and $Var(X) = Var(Z_1 + Z_2) = Var(Z_1) + Var(Z_2) = 1 + 4 = 5$. \n",
    "\n",
    "Therefore, $X \\sim N(1, 5)$. \n",
    "\n",
    "Therefore,  $\\mathbb{P}(Z_1 + Z_2 < 6) = \\mathbb{P}(X < 6) = \\mathbb{P}\\left(\\frac{X - 1}{\\sqrt{5}} < \\frac{6 - 1}{\\sqrt{5}}\\right) = \\mathbb{P}(Z_1 < 2.236) = \\Phi(2.236) \\approx 0.9873$\n",
    "\n",
    "3. \n",
    "Let $Y = Z_1 - Z_2$. Then $E[Y] = E[Z_1 - Z_2] = E[Z_1] - E[Z_2] = 0 - 1 = -1$ and $Var(Y) = Var(Z_1 - Z_2) = Var(Z_1) + Var(Z_2) = 1 + 4 = 5$.\n",
    "\n",
    "Therefore, $Y \\sim N(-1, 5)$.\n",
    "\n",
    "Therefore, $\\mathbb{P}(Z_1 - Z_2 > 4) = \\mathbb{P}(Y > 4) = \\mathbb{P}\\left(\\frac{Y + 1}{\\sqrt{5}} > \\frac{4 + 1}{\\sqrt{5}}\\right) = \\mathbb{P}(Z_1 > 3.162) = 1 - \\Phi(2.236) \\approx 1 - 0.9873 = 0.0127$"
   ]
  },
  {
   "cell_type": "markdown",
   "metadata": {},
   "source": [
    "### Part B\n",
    "Check your answers with monte carlo simulations in python.\n",
    "\n",
    "### Solution"
   ]
  },
  {
   "cell_type": "code",
   "execution_count": 56,
   "metadata": {},
   "outputs": [
    {
     "name": "stdout",
     "output_type": "stream",
     "text": [
      "P(Z_1 > 2) ~= 0.0227\n",
      "P(Z_1 + Z_2 < 6) ~= 0.9873\n",
      "P(Z_1 - Z_2 > 4) ~= 0.0127\n"
     ]
    }
   ],
   "source": [
    "import numpy as np\n",
    "\n",
    "# Number of samples\n",
    "N = 10000000\n",
    "\n",
    "# Simulate samples from Z_1 and Z_2\n",
    "z1_samples = np.random.normal(0, 1, N)\n",
    "z2_samples = np.random.normal(1, 2, N)\n",
    "\n",
    "# Compute the probabilities:\n",
    "\n",
    "# P(Z_1 > 2)\n",
    "prob_z1_gt_2 = np.mean(z1_samples > 2)\n",
    "\n",
    "# P(Z_1 + Z_2 < 6)\n",
    "prob_z1_plus_z2_lt_6 = np.mean(z1_samples + z2_samples < 6)\n",
    "\n",
    "# P(Z_1 - Z_2 > 4)\n",
    "prob_z1_minus_z2_gt_4 = np.mean(z1_samples - z2_samples > 4)\n",
    "\n",
    "print(f\"P(Z_1 > 2) ~= {prob_z1_gt_2:.4f}\")\n",
    "print(f\"P(Z_1 + Z_2 < 6) ~= {prob_z1_plus_z2_lt_6:.4f}\")\n",
    "print(f\"P(Z_1 - Z_2 > 4) ~= {prob_z1_minus_z2_gt_4:.4f}\")"
   ]
  },
  {
   "cell_type": "markdown",
   "metadata": {},
   "source": [
    "### Exercise 3.\n",
    "(Central limit Theorem): Suppose\n",
    "\n",
    "$$\n",
    "U_i \\sim \\text{Uniform}(u_0 - L, u_0 + L), \\quad i = 1, \\dots, N\n",
    "$$\n",
    "\n",
    "Note that by symmetry, $E[U_i] = u_0$."
   ]
  },
  {
   "cell_type": "markdown",
   "metadata": {},
   "source": [
    "### Part A\n",
    "Using simulations, confirm that\n",
    "\n",
    "$$\n",
    "var(U_i) = \\frac{L^2}{3}\n",
    "$$\n",
    "\n",
    "In particular, make a plot of $var(U_i)$ as a function of $L$.\n",
    "\n",
    "### Solution"
   ]
  },
  {
   "cell_type": "code",
   "execution_count": 57,
   "metadata": {},
   "outputs": [
    {
     "data": {
      "image/png": "[encoded data removed]",
      "text/plain": [
       "<Figure size 1000x600 with 1 Axes>"
      ]
     },
     "metadata": {},
     "output_type": "display_data"
    }
   ],
   "source": [
    "import matplotlib.pyplot as plt\n",
    "\n",
    "# Define u_0\n",
    "u_0 = 0\n",
    "\n",
    "# Define a range of L values\n",
    "L_values = np.linspace(0, 10, 100)\n",
    "\n",
    "# Store the variances\n",
    "variances = []\n",
    "\n",
    "# Simulate Ui for each L and compute the variance\n",
    "for L in L_values:\n",
    "    U_i = np.random.uniform(u_0 - L, u_0 + L, size=10000)\n",
    "    variances.append(np.var(U_i))\n",
    "\n",
    "# Theoretical variances\n",
    "theoretical_variances = L_values**2 / 3\n",
    "\n",
    "# Plotting\n",
    "plt.figure(figsize=(10,6))\n",
    "plt.plot(L_values, variances, label='Simulated Variances', color='blue')\n",
    "plt.plot(L_values, theoretical_variances, label='Theoretical Variances', linestyle='--', color='red')\n",
    "plt.xlabel('L')\n",
    "plt.ylabel('Variance')\n",
    "plt.title('Variance of $U_i$ vs. L')\n",
    "plt.legend()\n",
    "plt.grid(True)\n",
    "plt.show()"
   ]
  },
  {
   "cell_type": "markdown",
   "metadata": {},
   "source": [
    "### Part B\n",
    "Now consider the sum\n",
    "\n",
    "$$\n",
    "S_N = \\sum_{i=1}^N U_i\n",
    "$$\n",
    "\n",
    "Use CLT to approximate $\\mathbb{P}(S_N > u_0 + \\frac{L}{4})$ in terms of the cumulative distribution of a Normal random variable.\n",
    "\n",
    "### Solution\n",
    "From $U_i$'s uniform distribution, we can see it has a mean of $u_0$, therefore $\\mu = u_0$. We just confirmed that $U_i$ has a variance of $\\frac{L^2}{3}$, therefore $\\sigma^2 = \\frac{L^2}{3}$.\n",
    "\n",
    "The central limit theorem states that:\n",
    "\n",
    "$$\n",
    "S_N \\sim \\mathcal{N}(N\\mu, N\\sigma^2) \\Rightarrow S_N \\sim \\mathcal{N}(Nu_0, N\\frac{L^2}{3})\n",
    "$$\n",
    "\n",
    "Lets $Z \\sim \\mathcal{N}(0, 1)$ be a standard normal random variable. We may now standardize $S_N$:\n",
    "\n",
    "$$\n",
    "Z = \\frac{S_N - N \\mu}{\\sqrt{N \\sigma^2}} = \\frac{S_N - N u_0}{\\sqrt{N}\\frac{L}{\\sqrt{3}}}\n",
    "$$\n",
    "\n",
    "We want to find $\\mathbb{P}(S_N > u_0 + \\frac{L}{4})$.\n",
    "\n",
    "We can standardize both sides:\n",
    "\n",
    "$$\n",
    "\\mathbb{P}(S_N > u_0 + \\frac{L}{4}) = \\mathbb{P}(\\frac{S_N - N u_0}{\\sqrt{N}\\frac{L}{\\sqrt{3}}} > \\frac{u_0 - N u_0 + \n",
    "\\frac{L}{4}}{\\sqrt{N}\\frac{L}{\\sqrt{3}}})\n",
    "$$\n",
    "$$\n",
    "= \\mathbb{P}(Z > \\frac{u_0(1 - N) + \\frac{L}{4}}{\\sqrt{N}\\frac{L}{\\sqrt{3}}}) = 1 - \\Phi(\\frac{u_0(1 - N) + \\frac{L}{4}}{\\sqrt{N}\\frac{L}{\\sqrt{3}}})\n",
    "$$\n"
   ]
  },
  {
   "cell_type": "markdown",
   "metadata": {},
   "source": [
    "## Exercise 4.\n",
    "(Model with conditional variance): Consider the model:\n",
    "\n",
    "$$\n",
    "X \\sim Bernoulli(q)\n",
    "$$\n",
    "\n",
    "$$\n",
    "Y \\mid X \\sim N(a, X + 2(1 - X))\n",
    "$$"
   ]
  },
  {
   "cell_type": "markdown",
   "metadata": {},
   "source": [
    "### Part A\n",
    "Is this a linear regression model (for the variable $Y$) as defined in class? Are $X$ and $Y$ independent?\n",
    "\n",
    "### Solution\n",
    "We can see that $E[Y \\mid X] = a$, so the mean of $Y$ is not a linear function of $X$. Therefore, this is not a linear regression model. Only the variance of $Y$ is a linear function of $X$, so this is not a linear model as we discussed in class. \n",
    "\n",
    "Even though this may not be a linear regression model, the distribution of $Y$ changes given different values of $X$, so $X$ and $Y$ are not independent."
   ]
  },
  {
   "cell_type": "markdown",
   "metadata": {},
   "source": [
    "### Part B\n",
    "Compute $cov(X, Y)$\n",
    "\n",
    "### Solution\n",
    "Remember that $cov(X, Y) = E[XY] - E[X]E[Y]$. W\n",
    "\n",
    "We can see that $E[X] = q$ because it is bernoulli distributed with parameter $q$. \n",
    "\n",
    "We can also see that $E[Y] = a$ because $Y$ is normally distributed with mean $a$.\n",
    "\n",
    "By tower property: $E[XY] = E[X \\times E[Y \\mid X]]$\n",
    "\n",
    "$$\n",
    "E[Y \\mid X] = a \\Rightarrow E[XY] = E[X \\times a] = aE[X] = aq\n",
    "$$\n",
    "\n",
    "Therefore, $cov(X, Y) = aq - aq = 0$\n"
   ]
  },
  {
   "cell_type": "markdown",
   "metadata": {},
   "source": [
    "### Part C\n",
    "Confirm your answers by making a plot of the covariance as a function of $q$ from a sample of $10000$ $(x, y)$ points.\n",
    "\n",
    "### Solution"
   ]
  },
  {
   "cell_type": "code",
   "execution_count": 58,
   "metadata": {},
   "outputs": [
    {
     "data": {
      "image/png": "[encoded data removed]",
      "text/plain": [
       "<Figure size 640x480 with 1 Axes>"
      ]
     },
     "metadata": {},
     "output_type": "display_data"
    }
   ],
   "source": [
    "# Constants\n",
    "a = 1.0\n",
    "num_samples = 10000\n",
    "q_values = np.linspace(0, 1, 100)\n",
    "\n",
    "covariances = []\n",
    "\n",
    "for q in q_values:\n",
    "    # Generate samples for X from Bernoulli distribution\n",
    "    x_samples = np.random.binomial(1, q, num_samples)\n",
    "    \n",
    "    # Generate samples for Y given X\n",
    "    y_samples = [np.random.normal(a, x + 2*(1 - x)) for x in x_samples]\n",
    "    \n",
    "    # Compute the covariance for the samples\n",
    "    cov = np.cov(x_samples, y_samples)[0][1]\n",
    "    covariances.append(cov)\n",
    "\n",
    "# Plot\n",
    "plt.plot(q_values, covariances)\n",
    "plt.xlabel('q')\n",
    "plt.ylabel('Covariance')\n",
    "plt.title('Covariance of X and Y as a function of q')\n",
    "plt.grid(True)\n",
    "plt.ylim(-0.25, .25)\n",
    "plt.show()"
   ]
  },
  {
   "cell_type": "markdown",
   "metadata": {},
   "source": [
    "## Exercise 5.\n",
    "(Swapping response and predictor variables): Consider the conditionally normal model introduced in class:\n",
    "\n",
    "$$\n",
    "X \\sim N(\\mu_X, \\sigma_X^2)\n",
    "$$\n",
    "\n",
    "$$\n",
    "Y \\mid X \\sim N(\\beta_1 X + \\beta_0, \\sigma_{Y \\mid X}^2)\n",
    "$$\n",
    "\n",
    "This is a regression model for $Y$. The goal of this problem is to understand the distribution of $X$ conditioned on $Y$. That is, we would like to understand the corresponding regression model for $X$. This is important, because in some applications we have to make a choice about which variable to take as our response and which as our predictor. This exercise will help us understand how the regression parameters we infer depend on this choice. It will also sharpen our understanding of what the covariance really means.\n",
    "\n",
    "For some additional motivation, suppose that there is no noise in $Y \\mid X$ (meaning $\\sigma_{Y \\mid X}^2 = 0$). Then\n",
    "\n",
    "$$\n",
    "Y = \\beta_1 X + \\beta_0 \\Rightarrow X = \\frac{1}{\\beta_1}Y - \\frac{\\beta_0}{\\beta_1}\n",
    "$$\n",
    "\n",
    "So the slope of X vs Y is $\\frac{1}{\\beta_1}$. We could try adding a normal random variable $Z \\sim N(0, \\sigma_{Y \\mid X}^2)$ to represent the noise in $Y \\mid X$ and then solve this again. This would lead us to \n",
    "\n",
    "$$\n",
    "Y = \\beta_1 X + \\beta_0 + Z \\Rightarrow X = \\frac{1}{\\beta_1}Y - \\frac{\\beta_0}{\\beta_1} + \\frac{Z}{\\beta_1}\n",
    "$$\n",
    "\n",
    "It is tempting to conclude that $Y \\mid X$ follows a normal distribution with mean $\\frac{Y}{\\beta_1} - \\frac{\\beta_0}{\\beta_1}$ and variance $\\frac{\\sigma_{Y \\mid X}^2}{\\beta_1^2}$. This is however false - see part (c). In this problem, you will derive the correct formula.\n"
   ]
  },
  {
   "cell_type": "markdown",
   "metadata": {},
   "source": [
    "### Part A\n",
    "Based on the formula for covariance derived in class, we know\n",
    "\n",
    "$$\n",
    "cov(X, Y) = \\beta_1' \\sigma_Y^2\n",
    "$$\n",
    "\n",
    "where $\\beta_1'$ is the regression slope on $X$ vs. $Y$ and $\\sigma_Y^2$ is the variance of $Y$. Using (1) $cov(X, Y) = cov(Y, X)$, and (2) the marginal variance of $Y$ is $\\sigma_Y^2 = \\beta_1^2 \\sigma_X^2 + \\sigma_{Y \\mid X}^2$, derive a formula for $\\beta_1'$.\n",
    "\n",
    "### Solution\n",
    "Using (1) we know that $cov(X, Y) = \\beta_1' \\sigma_Y^2 = cov(Y, X) = \\beta_1 \\sigma_X^2 \\Rightarrow \\beta_1' \\sigma_Y^2 = \\beta_1 \\sigma_X^2$\n",
    "\n",
    "Substituting in $\\sigma_Y^2 = \\beta_1^2 \\sigma_X^2 + \\sigma_{Y \\mid X}^2$ we get:\n",
    "\n",
    "$$\n",
    "\\beta_1' (\\beta_1^2 \\sigma_X^2 + \\sigma_{Y \\mid X}^2) = \\beta_1 \\sigma_X^2 \\Rightarrow \\beta_1' = \\frac{\\beta_1 \\sigma_X^2}{\\beta_1^2 \\sigma_X^2 + \\sigma_{Y \\mid X}^2}\n",
    "$$"
   ]
  },
  {
   "cell_type": "markdown",
   "metadata": {},
   "source": [
    "### Part B\n",
    "Using the result of part (a), show that when $\\sigma_{Y \\mid X}^2 \\to 0$, we retrieve the \"naive\" formula $\\beta_1' = \\frac{1}{\\beta_1}$.\n",
    "\n",
    "### Solution\n",
    "Plugging in $\\sigma_{Y \\mid X}^2 = 0$ into our formula from part (a) we get:\n",
    "\n",
    "$$\n",
    "\\beta_1' = \\frac{\\beta_1 \\sigma_X^2}{\\beta_1^2 \\sigma_X^2 + 0} = \\frac{\\beta_1 \\sigma_X^2}{\\beta_1^2 \\sigma_X^2} = \\frac{1}{\\beta_1}\n",
    "$$"
   ]
  },
  {
   "cell_type": "markdown",
   "metadata": {},
   "source": [
    "### Part C\n",
    "Why is the naive formula $\\beta_1' = \\frac{1}{\\beta_1}$ incorrect when $\\sigma_{Y \\mid X}^2 > 0$? In particular, why can't we simply solve for $X$ in terms of $Y$ to obtain the regression equation? Hint: does $Y \\mid X$ have the same distribution as $Y$?\n",
    "\n",
    "### Solution\n",
    "Let $\\alpha > 0$ and let $\\sigma_{Y \\mid X}^2 = \\alpha$, then we can easily see from our formula in part (a) that \n",
    "$$\n",
    "\\beta_1' = \\frac{\\beta_1 \\sigma_X^2}{\\beta_1^2 \\sigma_X^2 + \\alpha} < \\frac{1}{\\beta_1}\n",
    "$$ \n",
    "\n",
    "From a higher level, when $\\sigma_{Y \\mid X}^2 > 0$, there is noise in the regression of $Y$ on $X$. This affects the covariance between $X$ and $Y$, impacting the regression slope of $X$ on $Y$. Since the naive formula is directly derived from this covariance, the presence of noise means the formula no longer holds true. The more the noise, the greater the deviation from the naive formula.\n",
    "\n",
    "Also, the added noise means that $Y \\mid X$ does not have the same distribution as $Y$, however the naive formula assumes that they do. This assumption comes from the fact that if $\\sigma_{Y \\mid X}^2 = 0$, then all of the variance in $Y$ can be explained by $X$. Therefore, the conditional distribution of $Y$ given any specific $X$ aligns with the marginal distribution of $Y$. However, when $\\sigma_{Y \\mid X}^2 > 0$, the distribution of $Y$ given a specific value of $X$ includes added noise, making it different than the distribution of $Y$ as a whole.\n",
    "\n",
    "Finally, this added noise also means that we can't simply solve for $X$ in terms of $Y$ to obtain the regression equation. When $\\sigma_{Y \\mid X}^2 = 0$, the relationship between $X$ and $Y$ is linear and deterministic, however when $\\sigma_{Y \\mid X}^2 > 0$, $X \\mid Y$ is non-linear due to the added noise, and so we can't simply solve for $X$ in terms of $Y$."
   ]
  },
  {
   "cell_type": "markdown",
   "metadata": {},
   "source": [
    "## Exercise 6.\n",
    "(Election model and prediction): In this exercise you will work with some data on election outcomes and GDP growth. The data can be loaded with\n",
    "\n",
    "```\n",
    "df = pd.read_table(\"https://raw.githubusercontent.com/avehtari/ROS-Examples/master/ElectionsEconomy/data/hibbs.dat\",sep=\"s+\")\n",
    "```\n",
    "\n",
    "The columns are as follows:\n",
    "\n",
    "**year**: Tear of the election.\n",
    "\n",
    "**growth**: A measure of economic growth during the previous four years.\n",
    "\n",
    "**vote share**: The vote share in percent for the incumbent."
   ]
  },
  {
   "cell_type": "markdown",
   "metadata": {},
   "source": [
    "### Part A\n",
    "Fit the data to a linear regression model with economic growth as the predictor and the vote share as the response variable.\n",
    "\n",
    "### Solution\n",
    "To find the linear regression model, we need to find the slope and intercept of the least squares regression. Let $X$ denote `growth` and let $Y$ denote `vote share`. We can find the slope and intercept with the following formulas:\n",
    "\n",
    "$$\n",
    "\\text{slope} = \\hat{\\beta}_1 = \\frac{\\sum_{i=1}^n (x_i - \\bar{x})(y_i - \\bar{y})}{\\sum_{i=1}^n (x_i - \\bar{x})^2}\n",
    "$$\n",
    "\n",
    "$$\n",
    "\\text{intercept} = \\hat{\\beta}_0 = \\bar{y} - \\hat{\\beta}_1 \\bar{x}\n",
    "$$"
   ]
  },
  {
   "cell_type": "code",
   "execution_count": 59,
   "metadata": {},
   "outputs": [
    {
     "name": "stdout",
     "output_type": "stream",
     "text": [
      "beta_1 (slope) = 3.0605280543869307\n",
      "beta_0 (intercept) = 46.247648016800795\n"
     ]
    },
    {
     "data": {
      "image/png": "[encoded data removed]",
      "text/plain": [
       "<Figure size 640x480 with 1 Axes>"
      ]
     },
     "metadata": {},
     "output_type": "display_data"
    }
   ],
   "source": [
    "# Load the data\n",
    "df = pd.read_table(\"https://raw.githubusercontent.com/avehtari/ROS-Examples/master/ElectionsEconomy/data/hibbs.dat\",sep=\"\\s+\")\n",
    "\n",
    "# Extract the predictor and response variables\n",
    "X = df['growth']\n",
    "Y = df['vote']\n",
    "\n",
    "# Calculate the means of X and Y\n",
    "x_bar = X.mean()\n",
    "y_bar = Y.mean()\n",
    "\n",
    "# Calculate beta_1\n",
    "numerator = sum((X - x_bar) * (Y - y_bar))\n",
    "denominator = sum((X - x_bar) ** 2)\n",
    "beta_1 = numerator / denominator\n",
    "\n",
    "# Calculate beta_0\n",
    "beta_0 = y_bar - beta_1 * x_bar\n",
    "\n",
    "print(f\"beta_1 (slope) = {beta_1}\")\n",
    "print(f\"beta_0 (intercept) = {beta_0}\")\n",
    "\n",
    "# Plotting\n",
    "plt.scatter(X, Y, color='blue', label='Data Points')\n",
    "plt.plot(X, beta_0 + beta_1 * X, color='red', label='Least Squares Regression')\n",
    "plt.title('Vote Share vs. Economic Growth')\n",
    "plt.xlabel('Economic Growth')\n",
    "plt.ylabel('Vote Share')\n",
    "plt.legend()\n",
    "plt.show()"
   ]
  },
  {
   "cell_type": "markdown",
   "metadata": {},
   "source": [
    "### Part B\n",
    "Based on your fitted model and neglecting any uncertainty in your estimate, what is your best estimate of the chance that the incumbent will win the election after a period when the economic growth (as measured by the growth variable) is 1.\n",
    "\n",
    "### Solution\n",
    "We are essentially looking for $E[Y | X = 1]$. We can use our linear regression model to find this:\n",
    "\n",
    "$$\n",
    "E[Y | X = 1] = \\hat{\\beta}_0 + \\hat{\\beta}_1 X = 46.2 + 3.1(1) = 49.3\n",
    "$$"
   ]
  },
  {
   "cell_type": "markdown",
   "metadata": {},
   "source": [
    "### Part C\n",
    "What is the chance that after a period of economic `growth = 2` either incumbent will win by a margin of 2%\n",
    "\n",
    "### Solution\n",
    "Let's start by defining out distribution for $Y \\mid X$. We already know $E[Y \\mid X] = \\hat{\\beta}_0 + \\hat{\\beta}_1 X$. We also know that $\\sigma_Y^2 = \\beta_1^2 \\sigma_X^2 + \\sigma_{Y \\mid X}^2 \\Rightarrow \\sigma_{Y \\mid X}^2 = \\sigma_Y^2 - \\beta_1^2 \\sigma_X^2$.\n",
    "\n",
    "The least squared regression of $Y \\mid X$ is normally distributed with mean $\\hat{\\beta}_0 + \\hat{\\beta}_1 X$ and variance $\\sigma_{Y \\mid X}^2 = \\sigma_Y^2 - \\beta_1^2 \\sigma_X^2$. Therefore, we can say that: \n",
    "\n",
    "$$\n",
    "Y \\mid X \\sim \\mathcal{N}(\\hat{\\beta}_0 + \\hat{\\beta}_1 X, \\sigma_Y^2 - \\beta_1^2 \\sigma_X^2)\n",
    "$$\n",
    "\n",
    "The incumbent winning by a margin of 2% implies the vote goes at least 49% to 51%, therefore we want to find $\\mathbb{P}(Y \\mid X = 2) > 51$. We can standardize both sides:\n",
    "\n",
    "$$\n",
    "\\mathbb{P}(Y \\mid X = 2 > 51) = \\mathbb{P}(\\frac{Y - (\\hat{\\beta}_0 + \\hat{\\beta}_1 (2))}{\\sqrt{\\sigma_Y^2 - \\beta_1^2 \\sigma_X^2}} > \\frac{51 - (\\hat{\\beta}_0 + \\hat{\\beta}_1 X)}{\\sqrt{\\sigma_Y^2 - \\beta_1^2 \\sigma_X^2}}) = \\mathbb{P}(Z > \\frac{51 - (\\hat{\\beta}_0 + \\hat{\\beta}_1 (2))}{\\sqrt{\\sigma_Y^2 - \\beta_1^2 \\sigma_X^2}}): Z \\sim \\mathcal{N}(0, 1) \n",
    "$$\n",
    "$$\n",
    "= 1 - \\Phi(\\frac{51 - (\\hat{\\beta}_0 + \\hat{\\beta}_1 (2))}{\\sqrt{\\sigma_Y^2 - \\beta_1^2 \\sigma_X^2}})\n",
    "$$\n",
    "\n",
    "Let's solve this in python:"
   ]
  },
  {
   "cell_type": "code",
   "execution_count": 63,
   "metadata": {},
   "outputs": [
    {
     "name": "stdout",
     "output_type": "stream",
     "text": [
      "Probability of incumbent winning by margin of at least 2% after economic growth of 2 = 79.49%\n"
     ]
    }
   ],
   "source": [
    "var_Y = np.var(Y)\n",
    "var_X = np.var(X)\n",
    "\n",
    "numerator = 51 - (beta_0 + beta_1 * 2.5)\n",
    "denominator = np.sqrt(var_Y - beta_1**2 * var_X)\n",
    "\n",
    "probability = 1 - stats.norm.cdf(numerator / denominator)\n",
    "\n",
    "print(f\"Probability of incumbent winning by margin of at least 2% after economic growth of 2 = {probability * 100:.2f}%\")"
   ]
  }
 ],
 "metadata": {
  "kernelspec": {
   "display_name": "Python 3",
   "language": "python",
   "name": "python3"
  },
  "language_info": {
   "codemirror_mode": {
    "name": "ipython",
    "version": 3
   },
   "file_extension": ".py",
   "mimetype": "text/x-python",
   "name": "python",
   "nbconvert_exporter": "python",
   "pygments_lexer": "ipython3",
   "version": "3.11.5"
  },
  "orig_nbformat": 4
 },
 "nbformat": 4,
 "nbformat_minor": 2
}
