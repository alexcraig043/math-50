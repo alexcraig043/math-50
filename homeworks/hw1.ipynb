{
 "cells": [
  {
   "cell_type": "markdown",
   "metadata": {},
   "source": [
    "# M50 Homework 1\n",
    "\n",
    "## Alex Craig"
   ]
  },
  {
   "cell_type": "markdown",
   "metadata": {},
   "source": [
    "## Exercise 1"
   ]
  },
  {
   "cell_type": "markdown",
   "metadata": {},
   "source": [
    "### Part A.\n",
    "Suppose that $Y ~ Bernoulli(q)$ and let $Z = \\frac{1}{1 + Y} + Y$. What is the probability function of $Z$?\n",
    "\n",
    "### Solution\n",
    "We can start with the probability mass function of $Y$, defined at the probability mass function of any Bernoulli random variable with parameter $q$:\n",
    "\n",
    "$$\n",
    "f_Y(y) = Pr(Y = y) =  \\begin{cases}\n",
    "q & \\text{if } y = 1 \\\\\n",
    "1 - q & \\text{if } y = 0 \\\\\n",
    "0 & \\text{o.w.}\n",
    "\\end{cases}\n",
    "$$\n",
    "\n",
    "We can then use this to find the probability mass function of $Z$ by defining the two cases of when $Y = 1$ and $Y = 0$. When $Y = 1$, we now that $Z = \\frac{1}{1 + 1} + 1 = \\frac{3}{2}$. When $Y = 0$, we know that $Z = \\frac{1}{1 + 0} + 0 = 1$. Thus, we can define the probability mass function of $Z$ as:\n",
    "\n",
    "$$\n",
    "f_Z(z) = P(Z = z) = \\begin{cases}\n",
    "q & \\text{if } z = \\frac{3}{2} \\\\\n",
    "1 - q & \\text{if } z = 1 \\\\\n",
    "0 & \\text{o.w.}\n",
    "\\end{cases}\n",
    "$$"
   ]
  },
  {
   "cell_type": "markdown",
   "metadata": {},
   "source": [
    "### Part B.\n",
    "Suppose a coin is flipped. If the coin is heads, we write down $0$. If the coin is tails, we roll a dice and write down the number. Write down the probability distribution for $Y$, the number that we write down.\n",
    "\n",
    "### Solution\n",
    "Let us start by defining random variables $X$ and $Z$. Let $X$ be the random variable that represents the result of the coin flip (let $0$ denote heads, and $1$ denote tails), and let $Z$ be the random variable that represents the dice roll. We know that $X \\sim bernoulli(\\frac{1}{2})$, and we know that $Z$ is a discrete uniform random variable that can take on values in the set $\\{1, 2, 3, 4, 5, 6\\}$, each with probability $\\frac{1}{6}$ given that we flip tails on the initial coin flip. We can therefore define the probability mass function of $X$ amd $Z$ as:\n",
    "\n",
    "$$\n",
    "f_X(x) = Pr(X = x) = \\begin{cases}\n",
    "\\frac{1}{2} & \\text{if } x = 0 \\\\\n",
    "\\frac{1}{2} & \\text{if } x = 1 \\\\\n",
    "0 & \\text{o.w.}\n",
    "\\end{cases}\n",
    "$$\n",
    "$$\n",
    "f_Z(z) = Pr(Z = z) = \\begin{cases}\n",
    "\\frac{1}{6} & \\text{if } z \\in \\{1, 2, 3, 4, 5, 6\\} \\land X = 1 \\\\\n",
    "0 & \\text{o.w.}\n",
    "\\end{cases}\n",
    "$$\n",
    "\n",
    "Let us now define our sample space $S$ for the outcomes of $Y$:\n",
    "\n",
    "$$\n",
    "S = \\{0, 1, 2, 3, 4, 5, 6\\}\n",
    "$$\n",
    "\n",
    "$Y = 0$ in the case where we flip heads on the initial coin flip. Therefore: \n",
    "\n",
    "$$\n",
    "f_Y(0) = Pr(Y = 0) = Pr(X = 0) = \\frac{1}{2}\n",
    "$$\n",
    "\n",
    "For all other values of $Y$ in the sample space, we know that we must have flipped tails on the initial coin flip, and then rolled that value on the dice. We can therefore define the probability of $Y$ being these values as the probability of the intersection of flipping tails on the initial coin flip and flipping that value on the dice roll:\n",
    "\n",
    "$$\n",
    "f_Y(z) = Pr(Y = z \\cap X = 1) = Pr(Z = z \\cap X = 1) = Pr(Z = z \\mid X = 1) \\times Pr(X = 1)\n",
    "$$\n",
    "$$\n",
    "= \\frac{1}{6} \\times \\frac{1}{2} = \\frac{1}{12} : z \\in \\{1, 2, 3, 4, 5, 6\\}\n",
    "$$\n",
    "\n",
    "We can therefore define the probability mass function of $Y$ as:\n",
    "\n",
    "$$\n",
    "f_Y(y) = Pr(Y = y) = \\begin{cases}\n",
    "\\frac{1}{2} & \\text{if } y = 0 \\\\\n",
    "\\frac{1}{12} & \\text{if } y \\in \\{1, 2, 3, 4, 5, 6\\} \\\\\n",
    "0 & \\text{o.w.}\n",
    "\\end{cases}\n",
    "$$"
   ]
  },
  {
   "cell_type": "markdown",
   "metadata": {},
   "source": [
    "### Part C.\n",
    "For the previous problem, conditioned on the dice rolling a $4$, what is the probability we write down $0$? Conditioned on the coin being tails, what is the probability the dice rolls a $3$?\n",
    "\n",
    "### Solution\n",
    "Given that the dice rolled a $4$, we know that $Y = 4$ because in all the cases where we roll a dice, we write down the value that we roll. Therefore, the probability that we write down $0$ is $0$.\n",
    "\n",
    "Given that the coin is tails, we know that $X = 1$. We may still define the probability that the dice rolls a $3$ as the probability of the intersection of the dice rolling a $3$ and the coin being tails, but in this case $Pr(X = 1) = 1$:\n",
    "\n",
    "$$\n",
    "Pr(Z = 3 \\cap X = 1) = Pr(Z = 3 \\mid X = 1) \\times Pr(X = 1) = Pr(Z = 3) \\times Pr(X = 1) = \\frac{1}{6} \\times 1 = \\frac{1}{6}\n",
    "$$"
   ]
  },
  {
   "cell_type": "markdown",
   "metadata": {},
   "source": [
    "### Part D.\n",
    "Consider the geometric distribution discussed in lecture. What are 3 examples of variables in the real world for which this might be a good model and what are some limitations of these models.\n",
    "\n",
    "### Solution\n",
    "**Examples:**\n",
    "1. Shooting basketball free throws until you make one.\n",
    "2. Playing lottery scratch tickets until you win.\n",
    "3. Flying on an airplane until you get into a fatal crash.\n",
    "\n",
    "**Limitations:**\n",
    "1. The probability of success must be constant for each trial, so changes in the probability of success over time are not accounted for.\n",
    "2. The trials must be independent, so the outcome of one trial cannot affect the outcome of another trial."
   ]
  }
 ],
 "metadata": {
  "kernelspec": {
   "display_name": "Python 3",
   "language": "python",
   "name": "python3"
  },
  "language_info": {
   "name": "python",
   "version": "3.11.3"
  },
  "orig_nbformat": 4
 },
 "nbformat": 4,
 "nbformat_minor": 2
}
